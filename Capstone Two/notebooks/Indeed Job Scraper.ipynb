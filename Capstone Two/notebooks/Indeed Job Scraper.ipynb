{
 "cells": [
  {
   "cell_type": "markdown",
   "metadata": {},
   "source": [
    "## Create a general purpose job scraper for www.indeed.com"
   ]
  },
  {
   "cell_type": "code",
   "execution_count": 10,
   "metadata": {},
   "outputs": [],
   "source": [
    "import requests\n",
    "from bs4 import BeautifulSoup\n",
    "import csv\n",
    "from datetime import datetime\n",
    "import time \n",
    "import numpy as np\n",
    "from random import randint"
   ]
  },
  {
   "cell_type": "code",
   "execution_count": 11,
   "metadata": {},
   "outputs": [],
   "source": [
    "def get_job_search_url(position, postedDays):\n",
    "    \"\"\"Generate a url from position and posted days ago\"\"\"\n",
    "\n",
    "    template = 'https://www.indeed.com/jobs?q={}&fromage={}&limit=50&filter=0'\n",
    "    url=template.format(position, postedDays)\n",
    "    \n",
    "    return url"
   ]
  },
  {
   "cell_type": "code",
   "execution_count": 12,
   "metadata": {},
   "outputs": [],
   "source": [
    "url = get_job_search_url('machine learning', 1)\n"
   ]
  },
  {
   "cell_type": "markdown",
   "metadata": {},
   "source": [
    "##  Extract raw html\n"
   ]
  },
  {
   "cell_type": "code",
   "execution_count": 13,
   "metadata": {},
   "outputs": [],
   "source": [
    "response = requests.get(url)"
   ]
  },
  {
   "cell_type": "code",
   "execution_count": 14,
   "metadata": {},
   "outputs": [
    {
     "data": {
      "text/plain": [
       "<Response [200]>"
      ]
     },
     "execution_count": 14,
     "metadata": {},
     "output_type": "execute_result"
    }
   ],
   "source": [
    "response"
   ]
  },
  {
   "cell_type": "code",
   "execution_count": 15,
   "metadata": {},
   "outputs": [
    {
     "data": {
      "text/plain": [
       "requests.models.Response"
      ]
     },
     "execution_count": 15,
     "metadata": {},
     "output_type": "execute_result"
    }
   ],
   "source": [
    "type(response)"
   ]
  },
  {
   "cell_type": "code",
   "execution_count": 16,
   "metadata": {},
   "outputs": [],
   "source": [
    "#response.text"
   ]
  },
  {
   "cell_type": "code",
   "execution_count": 17,
   "metadata": {},
   "outputs": [],
   "source": [
    "soup = BeautifulSoup(response.text, 'html.parser')"
   ]
  },
  {
   "cell_type": "code",
   "execution_count": 18,
   "metadata": {},
   "outputs": [
    {
     "data": {
      "text/plain": [
       "'Page 1 of 2,340 jobs'"
      ]
     },
     "execution_count": 18,
     "metadata": {},
     "output_type": "execute_result"
    }
   ],
   "source": [
    "total_jobs = soup.find('div',{'id':'searchCountPages'}).text.strip()\n",
    "total_jobs"
   ]
  },
  {
   "cell_type": "code",
   "execution_count": 20,
   "metadata": {},
   "outputs": [],
   "source": [
    "cards = soup.find_all('div', 'jobsearch-SerpJobCard')"
   ]
  },
  {
   "cell_type": "code",
   "execution_count": 21,
   "metadata": {},
   "outputs": [
    {
     "data": {
      "text/plain": [
       "54"
      ]
     },
     "execution_count": 21,
     "metadata": {},
     "output_type": "execute_result"
    }
   ],
   "source": [
    "len(cards)"
   ]
  },
  {
   "cell_type": "markdown",
   "metadata": {},
   "source": [
    "## Prototype the model with a single record"
   ]
  },
  {
   "cell_type": "code",
   "execution_count": 192,
   "metadata": {},
   "outputs": [],
   "source": [
    "card = cards[13]"
   ]
  },
  {
   "cell_type": "code",
   "execution_count": 139,
   "metadata": {},
   "outputs": [],
   "source": [
    "aTag = card.h2.a"
   ]
  },
  {
   "cell_type": "code",
   "execution_count": 140,
   "metadata": {},
   "outputs": [
    {
     "data": {
      "text/plain": [
       "'Machine Learning Engineer (Remote Contract)'"
      ]
     },
     "execution_count": 140,
     "metadata": {},
     "output_type": "execute_result"
    }
   ],
   "source": [
    "job_title = aTag.get('title')\n",
    "job_title"
   ]
  },
  {
   "cell_type": "code",
   "execution_count": 141,
   "metadata": {},
   "outputs": [
    {
     "data": {
      "text/plain": [
       "'4c3a3bfe738fd667'"
      ]
     },
     "execution_count": 141,
     "metadata": {},
     "output_type": "execute_result"
    }
   ],
   "source": [
    "job_id = card.get('data-jk')\n",
    "job_id"
   ]
  },
  {
   "cell_type": "code",
   "execution_count": 142,
   "metadata": {},
   "outputs": [
    {
     "ename": "NameError",
     "evalue": "name 'records' is not defined",
     "output_type": "error",
     "traceback": [
      "\u001b[1;31m---------------------------------------------------------------------------\u001b[0m",
      "\u001b[1;31mNameError\u001b[0m                                 Traceback (most recent call last)",
      "\u001b[1;32m<ipython-input-142-65df1bc37c88>\u001b[0m in \u001b[0;36m<module>\u001b[1;34m\u001b[0m\n\u001b[0;32m      1\u001b[0m \u001b[1;31m# To check if the card already stored in the records  # 517da30c1f7ab5f0\u001b[0m\u001b[1;33m\u001b[0m\u001b[1;33m\u001b[0m\u001b[1;33m\u001b[0m\u001b[0m\n\u001b[1;32m----> 2\u001b[1;33m \u001b[0mtype\u001b[0m\u001b[1;33m(\u001b[0m\u001b[0mrecords\u001b[0m\u001b[1;33m)\u001b[0m\u001b[1;33m\u001b[0m\u001b[1;33m\u001b[0m\u001b[0m\n\u001b[0m\u001b[0;32m      3\u001b[0m \u001b[0mrecords_ar\u001b[0m \u001b[1;33m=\u001b[0m \u001b[0mnp\u001b[0m\u001b[1;33m.\u001b[0m\u001b[0marray\u001b[0m\u001b[1;33m(\u001b[0m\u001b[0mrecords\u001b[0m\u001b[1;33m)\u001b[0m\u001b[1;33m\u001b[0m\u001b[1;33m\u001b[0m\u001b[0m\n\u001b[0;32m      4\u001b[0m \u001b[1;31m#'517da30c1f7ab5f0' in np.array(records)\u001b[0m\u001b[1;33m\u001b[0m\u001b[1;33m\u001b[0m\u001b[1;33m\u001b[0m\u001b[0m\n\u001b[0;32m      5\u001b[0m \u001b[1;34m'517da30c1f7ab5f0'\u001b[0m \u001b[1;32min\u001b[0m \u001b[0mnp\u001b[0m\u001b[1;33m.\u001b[0m\u001b[0marray\u001b[0m\u001b[1;33m(\u001b[0m\u001b[0mrecords\u001b[0m\u001b[1;33m)\u001b[0m\u001b[1;33m[\u001b[0m\u001b[1;33m:\u001b[0m\u001b[1;33m,\u001b[0m\u001b[1;36m0\u001b[0m\u001b[1;33m]\u001b[0m\u001b[1;33m\u001b[0m\u001b[1;33m\u001b[0m\u001b[0m\n",
      "\u001b[1;31mNameError\u001b[0m: name 'records' is not defined"
     ]
    }
   ],
   "source": [
    "# To check if the card already stored in the records  # 517da30c1f7ab5f0\n",
    "type(records)\n",
    "records_ar = np.array(records)\n",
    "#'517da30c1f7ab5f0' in np.array(records)\n",
    "'517da30c1f7ab5f0' in np.array(records)[:,0]"
   ]
  },
  {
   "cell_type": "code",
   "execution_count": 143,
   "metadata": {},
   "outputs": [
    {
     "name": "stdout",
     "output_type": "stream",
     "text": [
      "SalaryFrom $90,000 a year;Job TypeFull-time;SalaryFrom $90,000 a year;Job TypeFull-time;Number of hires for this role1;Job TypeContract;\n"
     ]
    },
    {
     "data": {
      "text/plain": [
       "\"Bachelor's (Preferred);Salesforce: 1 year (Preferred);Bachelor's (Preferred);Salesforce: 1 year (Preferred);\""
      ]
     },
     "execution_count": 143,
     "metadata": {},
     "output_type": "execute_result"
    }
   ],
   "source": [
    "#time.sleep(60)\n",
    "#job_url = 'https://www.indeed.com' + aTag.get('href')\n",
    "job_url = 'https://www.indeed.com/viewjob?jk=' + job_id\n",
    "job_url\n",
    "\n",
    "post_response = requests.get(job_url)\n",
    "post_soup = BeautifulSoup(post_response.text, 'html.parser')\n",
    "job_description = post_soup.find('div','jobsearch-jobDescriptionText').text.strip()\n",
    "job_description\n",
    "\n",
    "try:\n",
    "    job_detail = post_soup.find('div','jobsearch-JobDescriptionSection-section').text.strip()\n",
    "except:\n",
    "    job_detail = ''\n",
    "\n",
    "'''items = post_soup.find_all('div','jobsearch-JobDescriptionSection-sectionItem')\n",
    "for i in items:\n",
    "    job_detail += '{};'.format(i.text.strip())'''\n",
    "    \n",
    "\n",
    "print(job_detail)\n",
    "\n",
    "req_quals=post_soup.find_all('li','jobsearch-ReqAndQualSection-item')\n",
    "for r in req_quals:\n",
    "    job_skills +='{};'.format(r.text.strip())\n",
    "job_skills"
   ]
  },
  {
   "cell_type": "code",
   "execution_count": 144,
   "metadata": {},
   "outputs": [],
   "source": [
    "job_detail =''\n",
    "\n",
    "items = post_soup.find_all('div','jobsearch-JobDescriptionSection-sectionItem')\n"
   ]
  },
  {
   "cell_type": "code",
   "execution_count": 145,
   "metadata": {},
   "outputs": [
    {
     "data": {
      "text/plain": [
       "'Job TypeContract;'"
      ]
     },
     "execution_count": 145,
     "metadata": {},
     "output_type": "execute_result"
    }
   ],
   "source": [
    "for i in items:\n",
    "   \n",
    "    job_detail += '{};'.format(i.text.strip())\n",
    "job_detail"
   ]
  },
  {
   "cell_type": "code",
   "execution_count": 146,
   "metadata": {},
   "outputs": [
    {
     "data": {
      "text/plain": [
       "''"
      ]
     },
     "execution_count": 146,
     "metadata": {},
     "output_type": "execute_result"
    }
   ],
   "source": [
    "job_skills = ''\n",
    "req_quals=post_soup.find_all('li','jobsearch-ReqAndQualSection-item')\n",
    "for r in req_quals:\n",
    "    job_skills +='{};'.format(r.text.strip())\n",
    "job_skills"
   ]
  },
  {
   "cell_type": "code",
   "execution_count": 147,
   "metadata": {},
   "outputs": [
    {
     "data": {
      "text/plain": [
       "[]"
      ]
     },
     "execution_count": 147,
     "metadata": {},
     "output_type": "execute_result"
    }
   ],
   "source": [
    "req_quals"
   ]
  },
  {
   "cell_type": "code",
   "execution_count": 148,
   "metadata": {},
   "outputs": [
    {
     "data": {
      "text/plain": [
       "'https://www.indeed.com/viewjob?jk=4c3a3bfe738fd667'"
      ]
     },
     "execution_count": 148,
     "metadata": {},
     "output_type": "execute_result"
    }
   ],
   "source": [
    "job_url"
   ]
  },
  {
   "cell_type": "code",
   "execution_count": 149,
   "metadata": {},
   "outputs": [
    {
     "data": {
      "text/plain": [
       "'Position: ML Engineer\\nLocation: California or Remote\\nDuration: 9 months (with possibility of extension)\\nScheduling Interviews this week\\n\\nExperience Required: Hiring manager needs someone who has Data Science, ML modeling experience AND engineering / operations experience with model lifecycle management including operationalization of models. In short, ML model development with Python AND MLOps. (This is ML Engineer position instead of pure Data Scientist).\\n\\nProject Overview:\\nThe Machine Learning (ML) Engineer will be a member of Platform Engineering team within Data Science Program helping with ML model development and operationalization.\\nRole Scope / Deliverables:\\nProvide support to projects including analysis, querying, coding, visualization, modeling, and deploymentBe involved with many aspects of model design and evaluation tasks and prove the efficacy of models built using business driven measurements and sound statistical principlesProvide deep statistical leadership and guidance to ensure the effectiveness of models that are delivered to the businessProvide feedback on model development approaches and perform peer evaluation with other data scientistsAutomate predictive processes with monitoring tools, recommendation engines, retention models, revenue attribution, operational and logistic demand predictions, and other potential algorithmic solutions that drive customer engagement, improve our commercial processes, and other activities that leverage data science technology to drive incremental impact to the businessOperationalize ML models following MLOps practicesProve the effectiveness of models with rigorous scientific observation and evaluation of data science products\\nKey Skills:\\nBachelor’s in Data Science, Statistics, Computer science (emphasis in machine learning), predictive analytics, or related field. Master’s degree preferredMinimum 4 years’ experience performing dedicated data science and machine learning workGeneral business acumen and demonstrated focus on business impactExperience in manipulating / managing complex large and unstructured databases data setDemonstrated understanding of data analysis via “standard methods”4+ years of experience in Python or RExperience with Databricks, AWS SageMaker, AWS Comprehend, and/or other cloud based machine learning platforms / toolsExperience with MLOps, operationalization of ML models including model lifecycle management, Continuous Integration, Continuous Delivery and Continuous TestingFamiliarity with Git, GitHub, Jenkins, MLflowFamiliarity with a data visualization tool such as Tableau or PowerBI4+ years of experience in SQL and other query languagesSolid understanding of database principles, such as relational and non-relational databases, data architecture'"
      ]
     },
     "execution_count": 149,
     "metadata": {},
     "output_type": "execute_result"
    }
   ],
   "source": [
    "job_description"
   ]
  },
  {
   "cell_type": "code",
   "execution_count": 210,
   "metadata": {},
   "outputs": [
    {
     "data": {
      "text/plain": [
       "'Specright Inc.'"
      ]
     },
     "execution_count": 210,
     "metadata": {},
     "output_type": "execute_result"
    }
   ],
   "source": [
    "job_company = card.find('span','company').text.strip()\n",
    "job_company"
   ]
  },
  {
   "cell_type": "code",
   "execution_count": 211,
   "metadata": {},
   "outputs": [
    {
     "name": "stdout",
     "output_type": "stream",
     "text": [
      "https://www.indeed.com/cmp/Twitter\n"
     ]
    }
   ],
   "source": [
    "#card = cards[28]\n",
    "try: \n",
    "    company_url = 'https://www.indeed.com{}'.format(card.find('span','company').a.get('href'))\n",
    "except AttributeError:\n",
    "    company_url=''\n",
    "print(company_url)"
   ]
  },
  {
   "cell_type": "code",
   "execution_count": 277,
   "metadata": {},
   "outputs": [
    {
     "name": "stdout",
     "output_type": "stream",
     "text": [
      "Information Technology 51 to 200\n"
     ]
    }
   ],
   "source": [
    "company_url = 'https://www.indeed.com/cmp/Divihn-Integration'#\n",
    "if len(company_url)>0:\n",
    "    \n",
    "    company_response = requests.get(company_url)\n",
    "    company_soup = BeautifulSoup(company_response.text, 'html.parser')\n",
    "    try:\n",
    "        company_industry = company_soup.find('div',text='Industry').find_next_sibling('div').text.strip()\n",
    "    except AttributeError:\n",
    "        company_industry = ''\n",
    "    try:\n",
    "        company_size =company_soup.find('div',text='Company size').find_next_sibling('div').text.strip()\n",
    "    except AttributeError:\n",
    "        company_size = ''\n",
    "else:\n",
    "    company_industry = ''\n",
    "    company_size = ''\n",
    "\n",
    "print(company_industry, company_size)"
   ]
  },
  {
   "cell_type": "code",
   "execution_count": 272,
   "metadata": {},
   "outputs": [
    {
     "data": {
      "text/plain": [
       "'Retail & Wholesale'"
      ]
     },
     "execution_count": 272,
     "metadata": {},
     "output_type": "execute_result"
    }
   ],
   "source": [
    "company_soup.find('div',text='Industry').find_next_sibling('div').text.strip()"
   ]
  },
  {
   "cell_type": "code",
   "execution_count": 269,
   "metadata": {},
   "outputs": [
    {
     "data": {
      "text/plain": [
       "'51 to 200'"
      ]
     },
     "execution_count": 269,
     "metadata": {},
     "output_type": "execute_result"
    }
   ],
   "source": [
    "company_soup.find('div',text='Company size').find_next_sibling('div').text.strip()\n"
   ]
  },
  {
   "cell_type": "code",
   "execution_count": 196,
   "metadata": {},
   "outputs": [
    {
     "data": {
      "text/plain": [
       "'3.9'"
      ]
     },
     "execution_count": 196,
     "metadata": {},
     "output_type": "execute_result"
    }
   ],
   "source": [
    "try:\n",
    "    company_rating = card.find('span','ratingsContent').text.strip()\n",
    "except AttributeError:\n",
    "    company_rating = ''\n",
    "company_rating"
   ]
  },
  {
   "cell_type": "code",
   "execution_count": 113,
   "metadata": {},
   "outputs": [
    {
     "data": {
      "text/plain": [
       "'Remote'"
      ]
     },
     "execution_count": 113,
     "metadata": {},
     "output_type": "execute_result"
    }
   ],
   "source": [
    "job_location = card.find('div', 'recJobLoc').get('data-rc-loc')\n",
    "job_location"
   ]
  },
  {
   "cell_type": "code",
   "execution_count": 114,
   "metadata": {},
   "outputs": [
    {
     "data": {
      "text/plain": [
       "'Scientists will participate in data model development and petabyte-level data process optimization.\\nSome experience in big data processing.'"
      ]
     },
     "execution_count": 114,
     "metadata": {},
     "output_type": "execute_result"
    }
   ],
   "source": [
    "job_summary = card.find('div', 'summary').text.strip()\n",
    "job_summary"
   ]
  },
  {
   "cell_type": "code",
   "execution_count": 115,
   "metadata": {},
   "outputs": [],
   "source": [
    "job_post_date = card.find('span','date').text.strip()"
   ]
  },
  {
   "cell_type": "code",
   "execution_count": 116,
   "metadata": {},
   "outputs": [],
   "source": [
    "today = datetime.today().strftime('%Y-%m-%d') # To do: need to add time "
   ]
  },
  {
   "cell_type": "code",
   "execution_count": 117,
   "metadata": {},
   "outputs": [
    {
     "data": {
      "text/plain": [
       "'2021_02_14_20_13_19'"
      ]
     },
     "execution_count": 117,
     "metadata": {},
     "output_type": "execute_result"
    }
   ],
   "source": [
    "datetime.today().strftime('%Y_%m_%d_%H_%M_%S')"
   ]
  },
  {
   "cell_type": "code",
   "execution_count": 118,
   "metadata": {},
   "outputs": [
    {
     "data": {
      "text/plain": [
       "datetime.datetime(2021, 2, 14, 20, 13, 19, 452396)"
      ]
     },
     "execution_count": 118,
     "metadata": {},
     "output_type": "execute_result"
    }
   ],
   "source": [
    "datetime.today()"
   ]
  },
  {
   "cell_type": "code",
   "execution_count": 119,
   "metadata": {},
   "outputs": [],
   "source": [
    "try:\n",
    "    job_salary = card.find('span','salaryText').text.strip()\n",
    "except AttributeError:\n",
    "    job_salary = ''\n"
   ]
  },
  {
   "cell_type": "code",
   "execution_count": 120,
   "metadata": {},
   "outputs": [],
   "source": [
    "try:\n",
    "    job_remote = card.find('span','remote').text.strip()\n",
    "except AttributeError:\n",
    "    job_remote = ''"
   ]
  },
  {
   "cell_type": "markdown",
   "metadata": {},
   "source": [
    "## Generalize the model with a function"
   ]
  },
  {
   "cell_type": "code",
   "execution_count": 278,
   "metadata": {},
   "outputs": [],
   "source": [
    "from random import randint\n",
    "def get_record(card):\n",
    "    \"\"\"Extract individual job post data from a single record \"\"\"\n",
    "    # required variables\n",
    "    job_id = card.get('data-jk')\n",
    "    aTag = card.h2.a\n",
    "    job_title = aTag.get('title')\n",
    "    \n",
    "    #job_url = 'https://www.indeed.com' + aTag.get('href')\n",
    "    job_url = 'https://www.indeed.com/viewjob?jk=' + job_id\n",
    "       \n",
    "    job_company = card.find('span','company').text.strip()\n",
    "    job_location = card.find('div', 'recJobLoc').get('data-rc-loc')\n",
    "    job_summary = card.find('div', 'summary').text.strip()\n",
    "    job_post_date = card.find('span','date').text.strip()\n",
    "    \n",
    "    # optional variables\n",
    "    try: \n",
    "        company_url = 'https://www.indeed.com{}'.format(card.find('span','company').a.get('href'))\n",
    "    except AttributeError:\n",
    "        company_url=''\n",
    "    if len(company_url)>0:    \n",
    "        company_response = requests.get(company_url)\n",
    "        company_soup = BeautifulSoup(company_response.text, 'html.parser')\n",
    "        try:\n",
    "            company_industry = company_soup.find('div',text='Industry').find_next_sibling('div').text.strip()\n",
    "        except AttributeError:\n",
    "            company_industry = ''\n",
    "        try:\n",
    "            company_size = company_soup.find('div',text='Company size').find_next_sibling('div').text.strip()\n",
    "        except AttributeError:\n",
    "            company_size = ''\n",
    "        time.sleep(randint(0,3))\n",
    "    else:\n",
    "        company_industry = ''\n",
    "        company_size = ''\n",
    "        \n",
    "    try:\n",
    "        company_rating = card.find('span','ratingsContent').text.strip()\n",
    "    except AttributeError:\n",
    "        company_rating = ''\n",
    "    \n",
    "    try:\n",
    "        job_salary = card.find('span','salaryText').text.strip()\n",
    "    except AttributeError:\n",
    "        job_salary = ''\n",
    "    \n",
    "    try:\n",
    "        job_remote = card.find('span','remote').text.strip()\n",
    "    except AttributeError:\n",
    "        job_remote = ''\n",
    "        \n",
    "    # To determine if include detailed job decription: only include job description for remote job\n",
    "    detailInclued = (job_remote =='Remote') | (job_location == 'Remote')\n",
    "    \n",
    "    if detailInclued:\n",
    "        post_response = requests.get(job_url)\n",
    "        post_soup = BeautifulSoup(post_response.text, 'html.parser')\n",
    "        \n",
    "        try:\n",
    "            job_description = post_soup.find('div','jobsearch-jobDescriptionText').text.strip()\n",
    "        except AttributeError:\n",
    "            job_description = ''\n",
    "                 \n",
    "        try:\n",
    "            job_detail = post_soup.find('div','jobsearch-JobDescriptionSection-section').text.strip()\n",
    "        except:\n",
    "            job_detail = '' \n",
    "         \n",
    "        time.sleep(randint(1,3))\n",
    "    else:\n",
    "        job_description = ''  \n",
    "        job_detail = ''\n",
    "        \n",
    "    today = datetime.today().strftime('%Y-%m-%d')\n",
    "    \n",
    "    record = (job_id, job_title,job_company,job_location,company_rating, company_url, company_industry, company_size, job_post_date,today,job_summary,job_salary, job_remote, job_url, job_detail, job_description)\n",
    "   \n",
    "   \n",
    "    return record\n"
   ]
  },
  {
   "cell_type": "code",
   "execution_count": 279,
   "metadata": {},
   "outputs": [
    {
     "data": {
      "text/plain": [
       "54"
      ]
     },
     "execution_count": 279,
     "metadata": {},
     "output_type": "execute_result"
    }
   ],
   "source": [
    "len(cards)"
   ]
  },
  {
   "cell_type": "code",
   "execution_count": 280,
   "metadata": {},
   "outputs": [
    {
     "name": "stdout",
     "output_type": "stream",
     "text": [
      "Wall time: 0 ns\n"
     ]
    }
   ],
   "source": [
    "%time\n",
    "records = []\n",
    "\n",
    "for card in cards:\n",
    "    if records == []:\n",
    "        record = get_record(card)\n",
    "        records.append(record)\n",
    "    else:\n",
    "        #To check if the card is already stored in the records\n",
    "        id_array = np.array([r[0] for r in records])\n",
    "        if not card.get('data-jk') in id_array:   \n",
    "            record = get_record(card)\n",
    "            records.append(record)"
   ]
  },
  {
   "cell_type": "code",
   "execution_count": 281,
   "metadata": {},
   "outputs": [
    {
     "data": {
      "text/plain": [
       "[('273e760b11964cb2',\n",
       "  'Machine Learning Engineer (Remote)',\n",
       "  'DivIHN Integration, Inc',\n",
       "  'Deerfield, IL',\n",
       "  '5.0',\n",
       "  'https://www.indeed.com/cmp/Divihn-Integration',\n",
       "  'Information Technology',\n",
       "  '51 to 200',\n",
       "  'Just posted',\n",
       "  '2021-02-27',\n",
       "  '*This Contract Position is with one of our Direct Clients. Please reach out to Remya - mremya(at)divihn(dot)com for more details about this position. You can…',\n",
       "  '',\n",
       "  'Temporarily remote',\n",
       "  'https://www.indeed.com/viewjob?jk=273e760b11964cb2',\n",
       "  '',\n",
       "  ''),\n",
       " ('8d52d4557802b691',\n",
       "  'Data Scientist',\n",
       "  'CyberCoders',\n",
       "  'Salt Lake City, UT',\n",
       "  '3.2',\n",
       "  'https://www.indeed.com/cmp/Cybercoders',\n",
       "  'Human Resources & Staffing',\n",
       "  '201 to 500',\n",
       "  'Just posted',\n",
       "  '2021-02-27',\n",
       "  'Data Scientist -THIS POSITION IS 100% REMOTE- If you are a Data Scientist looking to work on the next big thing in DevOps, please read on! Founded in 2016,…',\n",
       "  '',\n",
       "  'Remote',\n",
       "  'https://www.indeed.com/viewjob?jk=8d52d4557802b691',\n",
       "  'Job detailsJob TypeFull-time',\n",
       "  \"Data Scientist\\n-THIS POSITION IS 100% REMOTE-\\n\\nIf you are a Data Scientist looking to work on the next big thing in DevOps, please read on!\\n\\nFounded in 2016, large enterprises utilize our proprietary solutions platform to drive transformational value from their Machine Learning and AI investments by accelerating the deployment of models into business in a well-governed, consistent manner, at scale. Our founders have deep expertise in Data Science and large scale enterprise IT operations so they know the challenges presented when it comes to production delivery. We are the industry's only technology agnostic enterprise software company focused on this solution. We work with some of the world's largest financial institutions and are backed by some of the industry's leading VC firms!\\nTop Reasons to Work with UsCompetitive compensationWork from homeEvery other Friday offEquityUnlimited PTO401k matchingHome office upgrade packageMedicalDentalVision\\n...and more!\\nWhat You Will Be DoingCollaborate with the sales team during the pre-sales processDevelop sample AI/ML models and associated monitoringHelp to troubleshoot model-related issues during a Proof of Concept.Support the training and enablement of of existing customer data science teams in using our softwareServe as the voice of the data science customer, helping to identify gaps in product capabilities, and prioritize accordingly with the Product Engineering teamDevelop a library of sample AI/ML models and associated monitoring metrics for the ProductAssist Product and Marketing in creating relevant product documentation and other marketing content\\nWhat You Need for this Position\\nAt least 1 year experience in Data Science:\\n\\nPythonStatistics/Mathematics backgroundArtificial IntelligenceMachine Learning\\nBONUS:\\nRSPARK\\nSo, if you are a Data Scientist looking to work on the next big thing in DevOps, please apply today!Applicants must be authorized to work in the U.S.\\nCyberCoders, Inc is proud to be an Equal Opportunity Employer\\n\\n\\nAll qualified applicants will receive consideration for employment without regard to race, color, religion, sex, national origin, disability, protected veteran status, or any other characteristic protected by law.\\n\\n\\nYour Right to Work – In compliance with federal law, all persons hired will be required to verify identity and eligibility to work in the United States and to complete the required employment eligibility verification document form upon hire.\"),\n",
       " ('9965a41c7b4946e2',\n",
       "  'Risk Analyst',\n",
       "  'Aerotek',\n",
       "  'Seattle, WA',\n",
       "  '3.7',\n",
       "  'https://www.indeed.com/cmp/Aerotek',\n",
       "  'Human Resources & Staffing',\n",
       "  '5,001 to 10,000',\n",
       "  'Today',\n",
       "  '2021-02-27',\n",
       "  'Equivalent Experience Aerotek is actively seeking a Risk Investigator to support a well known eCommerce company located in Seattle, WA. Must be local to the…',\n",
       "  '$22 an hour',\n",
       "  '',\n",
       "  'https://www.indeed.com/viewjob?jk=9965a41c7b4946e2',\n",
       "  '',\n",
       "  ''),\n",
       " ('24b38aeacf167fb2',\n",
       "  'Machine Learning Engineer',\n",
       "  'PainQx',\n",
       "  'Remote',\n",
       "  '',\n",
       "  '',\n",
       "  '',\n",
       "  '',\n",
       "  'Just posted',\n",
       "  '2021-02-27',\n",
       "  'EEG Algorithm Software Engineer Reports to VP, R&D Company Overview PainQx is an AI-powered digital device company that is developing a transformative…',\n",
       "  '$80,000 - $100,000 a year',\n",
       "  '',\n",
       "  'https://www.indeed.com/viewjob?jk=24b38aeacf167fb2',\n",
       "  'Job detailsSalary$80,000 - $100,000 a yearJob TypeFull-timeNumber of hires for this role1',\n",
       "  \"EEG Algorithm Software EngineerReports to VP, R&DCompany OverviewPainQx is an AI-powered digital device company that is developing a transformative method to objectively measure pain. The PainQx platform achieves this by assessing neural activity using EEG from a patient’s brain and processing and decoding the data through proprietary algorithms. The output is a pain biomarker that correlates to a patient’s pain state.LocationPosition is virtual, with preference for East Coast USA (New York, Boston, Philadelphia, Cincinnati)Requirements: MUST have strong experience with PythonMUST have experience in Machine LearningMUST have experience with Medical Device FieldKey TasksDevelops specific data processing modules such as EEG feature extraction software (EEG feature extraction is the mathematical processing of EEG waveform data to determine signal power, coherence, etc.)Develops algorithms for pain classification using statistical analysis of clinical data and the application of machine learning methodologiesDrive software architecture and software development tool selection decisions.May be assigned software development tasks related to data transfer between signal processing components, database interactions, and interactions with the user (Graphical User Interface components)Works in close cooperation with the PainQx Signal Processing & Algorithm Development Engineers, and other members of the technical teamWorks in compliance with PainQx Design Control and Quality Management procedures. May be asked to help develop specific proceduresProvides clear, frequent written and oral communication with other members of the PainQx TeamOther tasks and responsibilities as assignedPosition RequirementsMinimum of a Master’s in Computer Science, Biomedical Engineering, Electrical/Computer Engineering or related field.High aptitude in computer science techniques with a focus on modern programming tasks (scripting, ML tools, cloud integration) and a strong foundation in algorithm development, data structures, and data security.Experience with medical device, signal processing, and statistical analysis.Knowledge Software as a Service (SaaS) product deployment strongly desired.Experience with applications of quantitative electrophysiology is desired, with exposure to specific neurological conditions being a plus.Experience in database integration and graphical user interface integration is desired.Demonstrated ability to work remotely with minimal day to day technical direction.Operate effectively in a multi-disciplinary, team-oriented culture.Willingness to continually embrace personal and professional development.Comfortable working in a fast-paced start-up environment.Demonstrated written and oral communication skills.Job Type: Full-timePay: $80,000.00 - $100,000.00 per yearBenefits:Paid time offSchedule:Monday to FridayEducation:Master's (Preferred)Experience:Machine Learning: 3 years (Preferred)Python: 3 years (Preferred)Work Location:Fully RemoteThis Company Describes Its Culture as:Innovative -- innovative and risk-takingTeam-oriented -- cooperative and collaborativeCompany's website:www.painqx.comCOVID-19 Precaution(s):Remote interview processVirtual meetings\"),\n",
       " ('d33397d60f7d5a1b',\n",
       "  'Machine Learning Engineer',\n",
       "  'IBM',\n",
       "  'United States',\n",
       "  '3.9',\n",
       "  'https://www.indeed.com/cmp/IBM',\n",
       "  'Information Technology',\n",
       "  'more than 10,000',\n",
       "  'Today',\n",
       "  '2021-02-27',\n",
       "  'Introduction Our mission is to revolutionize customer service by developing and deploying the latest intelligence () and natural () technology in IBM’s…',\n",
       "  '',\n",
       "  'Temporarily remote',\n",
       "  'https://www.indeed.com/viewjob?jk=d33397d60f7d5a1b',\n",
       "  '',\n",
       "  ''),\n",
       " ('efcbd872612b8b39',\n",
       "  'Software Developer - NLP, AI and Machine Learning',\n",
       "  'IBM',\n",
       "  'United States',\n",
       "  '3.9',\n",
       "  'https://www.indeed.com/cmp/IBM',\n",
       "  'Information Technology',\n",
       "  'more than 10,000',\n",
       "  'Today',\n",
       "  '2021-02-27',\n",
       "  'Introduction Our mission is to revolutionize customer service by developing and deploying the latest conversational artificial intelligence (AI), natural…',\n",
       "  '',\n",
       "  '',\n",
       "  'https://www.indeed.com/viewjob?jk=efcbd872612b8b39',\n",
       "  '',\n",
       "  ''),\n",
       " ('f6b0dbd544e5b795',\n",
       "  'Machine Learning Scientist - III',\n",
       "  'Haptik',\n",
       "  'Remote',\n",
       "  '',\n",
       "  '',\n",
       "  '',\n",
       "  '',\n",
       "  'Today',\n",
       "  '2021-02-27',\n",
       "  'Location: Remote, Vacancy - 2, Full-time What we want to accomplish and why we need you? Haptik is a company that specializes in Conversational AI. At Haptik…',\n",
       "  '',\n",
       "  '',\n",
       "  'https://www.indeed.com/viewjob?jk=f6b0dbd544e5b795',\n",
       "  '',\n",
       "  \"Location: Remote, Vacancy - 2, Full-time\\n\\nWhat we want to accomplish and why we need you?\\n\\nHaptik is a company that specializes in Conversational AI. At Haptik, we believe that conversational computing represents the next evolution of how people will get things done. We have been at the forefront of this paradigm shift having processed close to 2 billion interactions over the past five years. We are currently looking to grow our Machine Learning team to strengthen and expand multiple research projects in the domain of information retrieval, intent and entity extraction from complex multi-turn dialogues, personalising chatbots with emotions and personality, monitoring conversations to measure business impact. As a Machine Learning Engineer, you should be willing to prototype cutting edge Natural Language Processing algorithms and look forward to using the best engineering practices which are necessary to productionise machine learning models.\\n\\nWhat will you do every day?\\nYou will be a part of a highly self-motivated and independent team which finds pleasure in dealing with ambiguity underlying Natural Language Understanding.\\nMake sense out of deep-rooted ambiguity in conversations and define the precise machine learning problem statement\\nCome up with the list of experiments to solve the problem.\\nFail and come up with more experiments to eventually succeed with insights from experimental results\\nOk, you're sold, but what are we looking for in the perfect candidate?\\nDrive the research and innovation at Haptik in a result-oriented direction\\nStay up to date with the latest research trends, have a high level of curiosity and keep exploring advancements in NLU and their applications in conversational AI\\nMentor other team members during the experimentation phase and help them narrow down the inconclusive direction\\nCome up with ideas to improve NLU capabilities using transfer learning from Haptik’s historical conversational data.\\nBenchmark the prototype on Haptik’s Data to gain the required precision\\nPerform in-depth analysis of failure points of the algorithm on different environments\\nForesee data requirements for future research projects and come up with innovative approaches for data generation\\nScale models for multiple domains with help of devops, backend and frontend teams\\nPublish and present successful research in relevant journals and conferences\\nRequirements*\\nExperience with training and fine-tuning machine learning models on large text datasets\\nStrong computer science fundamentals and 3+ years of software development experience\\nTrack record of thinking big and finding simple solutions while dealing with ambiguity\\nProven and successful experience on at-least one of the projects amongst information retrieval, machine comprehension, entity recognition, text classification, semantic frame parsing or machine translation\\nRelevant publications, patents or talks delivered in reputed conferences is a bonus\\nStrong oral and written communication skills\\n\\nRequirements is such a strong word. We don’t necessarily expect to find a candidate that has done everything listed, but you should be able to make a credible case that you’ve done most of it and are ready for the challenge of adding some new things to your resume.\\n\\nTell me more about Haptik\\nOn a roll: Announced major strategic partnership in April 2019 with Jio in a $100 million deal.\\nGreat team: You will be working with great leaders who have been listed in Business World 40 Under 40, Forbes 30 Under 30 and MIT 35 Under 35 Innovators.\\nGreat culture: The freedom to think and innovate is something that defines the culture of Haptik. Every person is approachable. While we are working hard, it is also important to take breaks to not get too worked up.\\nHuge market: Disrupting a massive, growing AI market. The global market is projected to attain a valuation of $9 billion by the end of 2024.\\nEmerging technology: We are moving to an AI first world, and Haptik is one of the largest AI first companies globally, based out of India.\\nGreat customers: Some of the most notable brands in the world - Oyo Rooms, Samsung, Tata Teleservices, Club Mahindra, KFC, Coca-Cola, to count a few.\\nImpact: A fun and exciting start-up culture that empowers its people to make a huge impact.\\n\\n\\nWorking hard for things that we don't care about is stress, but working hard for something we love is called passion! At Haptik we passionately solve problems in order to be able to move faster and each Haptikan imbibes our key values of honesty, ownership, perseverance, communication, impact, curiosity, courage, agility and selflessness.\"),\n",
       " ('6595c841592a3be1',\n",
       "  'Machine Learning Engineer',\n",
       "  'Affinaquest',\n",
       "  'Remote',\n",
       "  '',\n",
       "  '',\n",
       "  '',\n",
       "  '',\n",
       "  '1 day ago',\n",
       "  '2021-02-27',\n",
       "  'Machine Learning Engineer Affinaquest provides advancement software and services to education and healthcare institutions. Our fundraising software is…',\n",
       "  'From $90,000 a year',\n",
       "  '',\n",
       "  'https://www.indeed.com/viewjob?jk=6595c841592a3be1',\n",
       "  'Job detailsSalaryFrom $90,000 a yearJob TypeFull-time',\n",
       "  \"Machine Learning EngineerAffinaquest provides advancement software and services to education and healthcare institutions. Our fundraising software is built on Salesforce exclusively. Please see our website at www.affinaquest.com for additional information on our company.We are looking for a Machine Learning (ML) Engineer to help us create artificial intelligence products for use in fundraising at educational and healthcare institutions.Machine Learning Engineer responsibilities include creating machine learning models and retraining systems to refine communications, to improve fundraising results, and to better serve constituents. To do this job successfully, you need exceptional skills in statistics and programming. If you also have knowledge of data science and software engineering, we’d like to meet you.Your ultimate goal will be to shape and build efficient self-learning applications.This is a remote position.ResponsibilitiesStudy and transform data science prototypesResearch and implement appropriate ML algorithms and toolsDesign machine learning systemsDevelop machine learning applications according to requirementsRun machine learning tests and experimentsPerform statistical analysis and fine-tuning using test resultsTrain and retrain systems when necessaryRequirementsUnderstanding of data structures, data modeling and software architectureDeep knowledge of math, probability, statistics and algorithmsFamiliarity with SalesforceProficiency with Python and basic libraries for machine learning such as scikit-learn and pandasAbility to work in an Agile environmentExcellent communication skillsAbility to work in a teamOutstanding analytical and problem-solving skillsBSc in Computer Science, Mathematics or similar field; advanced degree is a plusJob Type: Full-timePay: From $90,000.00 per yearBenefits:401(k)401(k) matchingDental insuranceDisability insuranceFlexible scheduleFlexible spending accountHealth insuranceLife insurancePaid time offParental leaveVision insuranceSchedule:Monday to FridayCOVID-19 considerations:This is a remote position.Education:Bachelor's (Preferred)Experience:Salesforce: 1 year (Preferred)university advancement: 1 year (Preferred)Work Location:Fully RemoteThis Company Describes Its Culture as:Detail-oriented -- quality and precision-focusedInnovative -- innovative and risk-takingTeam-oriented -- cooperative and collaborativeCompany's website:www.affinaquest.comCompany's Facebook page:https://www.facebook.com/AffinaquestBenefit Conditions:Only full-time employees eligibleCOVID-19 Precaution(s):Remote interview processVirtual meetings\"),\n",
       " ('4c3a3bfe738fd667',\n",
       "  'Machine Learning Engineer (Remote Contract)',\n",
       "  'Glow Networks',\n",
       "  'Budd Lake, NJ',\n",
       "  '3.5',\n",
       "  'https://www.indeed.com/cmp/Glow-Networks',\n",
       "  '',\n",
       "  '',\n",
       "  'Today',\n",
       "  '2021-02-27',\n",
       "  'Position: ML Engineer Location: California or Remote Duration: 9 months (with possibility of extension) Scheduling Interviews this week Experience Required…',\n",
       "  '',\n",
       "  'Remote',\n",
       "  'https://www.indeed.com/viewjob?jk=4c3a3bfe738fd667',\n",
       "  'Job detailsJob TypeContract',\n",
       "  'Position: ML Engineer\\nLocation: California or Remote\\nDuration: 9 months (with possibility of extension)\\nScheduling Interviews this week\\n\\nExperience Required: Hiring manager needs someone who has Data Science, ML modeling experience AND engineering / operations experience with model lifecycle management including operationalization of models. In short, ML model development with Python AND MLOps. (This is ML Engineer position instead of pure Data Scientist).\\n\\nProject Overview:\\nThe Machine Learning (ML) Engineer will be a member of Platform Engineering team within Data Science Program helping with ML model development and operationalization.\\nRole Scope / Deliverables:\\nProvide support to projects including analysis, querying, coding, visualization, modeling, and deploymentBe involved with many aspects of model design and evaluation tasks and prove the efficacy of models built using business driven measurements and sound statistical principlesProvide deep statistical leadership and guidance to ensure the effectiveness of models that are delivered to the businessProvide feedback on model development approaches and perform peer evaluation with other data scientistsAutomate predictive processes with monitoring tools, recommendation engines, retention models, revenue attribution, operational and logistic demand predictions, and other potential algorithmic solutions that drive customer engagement, improve our commercial processes, and other activities that leverage data science technology to drive incremental impact to the businessOperationalize ML models following MLOps practicesProve the effectiveness of models with rigorous scientific observation and evaluation of data science products\\nKey Skills:\\nBachelor’s in Data Science, Statistics, Computer science (emphasis in machine learning), predictive analytics, or related field. Master’s degree preferredMinimum 4 years’ experience performing dedicated data science and machine learning workGeneral business acumen and demonstrated focus on business impactExperience in manipulating / managing complex large and unstructured databases data setDemonstrated understanding of data analysis via “standard methods”4+ years of experience in Python or RExperience with Databricks, AWS SageMaker, AWS Comprehend, and/or other cloud based machine learning platforms / toolsExperience with MLOps, operationalization of ML models including model lifecycle management, Continuous Integration, Continuous Delivery and Continuous TestingFamiliarity with Git, GitHub, Jenkins, MLflowFamiliarity with a data visualization tool such as Tableau or PowerBI4+ years of experience in SQL and other query languagesSolid understanding of database principles, such as relational and non-relational databases, data architecture'),\n",
       " ('33d29a3c32ef3b15',\n",
       "  'Senior Machine Learning Engineer (Entity Resolution)',\n",
       "  'SteepRock, Inc.',\n",
       "  'Remote',\n",
       "  '',\n",
       "  '',\n",
       "  '',\n",
       "  '',\n",
       "  '1 day ago',\n",
       "  '2021-02-27',\n",
       "  'Senior Machine Learning Engineer (Entity Resolution) SteepRock is a 20-year old software and services firm specializing in the application of specialized…',\n",
       "  '$95,000 - $130,000 a year',\n",
       "  '',\n",
       "  'https://www.indeed.com/viewjob?jk=33d29a3c32ef3b15',\n",
       "  'Job detailsSalary$95,000 - $130,000 a yearJob TypeFull-timeNumber of hires for this role1',\n",
       "  \"Senior Machine Learning Engineer (Entity Resolution)SteepRock is a 20-year old software and services firm specializing in the application of specialized data and database systems to help our healthcare clients manage their pharmaceutical, biotechnology and medical device products to address serious illness and medical needs worldwide.SteepRock is seeking a Senior Machine Learning Engineer to join our engineering team performing entity resolution on structured and unstructured data. In this position, you will leverage machine learning algorithms to implement highly scalable and accurate classification systems. The ideal candidate will have industry experience working on entity resolution/record linkage/deduplication systems across multiple noisy data sets.The successful candidate will:Provide leadership to help the team develop and implement exceptional entity resolution/record linkage/deduplication and entity extraction systems, from prototyping to production levelDevelop highly scalable classifiers and tools leveraging machine learning, data regression and lexicon-based/rules-based modelsSuggest, collect and synthesize requirements and create effective feature and technology roadmaps; estimate timelines for implementation; implement on time and on budgetCode deliverables in tandem with the engineering team; estimate model accuracy and troubleshoot problemsApply machine learning tools to best exploit modern computing environments (e.g. distributed clusters, multicore SMP, and GPU)Build reliable and resilient infrastructure with modern implementation and management frameworks such as MLOpsRequirements:4+ years direct experience with entity resolution/record linkage/deduplication systems operating over multiple, large noisy data setsAdditional experience in one or more of the following areas: text classification, recommendation systems, data mining or applied machine learningBachelor’s degree required in Computer Science, Mathematics, Physics or related fields (M.S. or Ph.D. a plus)Experience with relevant technologies including SQL, scikit-learn, pandas, NLTK and relevant machine learning libraries or techniques.Experience with Python requiredExperience with MLOps and other production level implementation frameworks and pipelines a plusExcellent written and verbal communication skillsComfortable working in a fast-paced environmentJob Type: Full-timePay: $95,000.00 - $130,000.00 per yearBenefits:Health insurancePaid time offRetirement planVision insuranceSchedule:Monday to FridaySupplemental Pay:Commission payEducation:Bachelor's (Preferred)Work Location:Fully RemoteCompany's website:www.steeprockinc.comBenefit Conditions:Waiting period may applyOnly full-time employees eligible\"),\n",
       " ('f729979bef16cbc6',\n",
       "  'Machine Learning Infrastructure Engineer',\n",
       "  'IBM',\n",
       "  'United States',\n",
       "  '3.9',\n",
       "  'https://www.indeed.com/cmp/IBM',\n",
       "  'Information Technology',\n",
       "  'more than 10,000',\n",
       "  'Today',\n",
       "  '2021-02-27',\n",
       "  'Introduction Our mission is to revolutionize customer service by developing and deploying the latest conversational artificial intelligence (AI), natural…',\n",
       "  '',\n",
       "  '',\n",
       "  'https://www.indeed.com/viewjob?jk=f729979bef16cbc6',\n",
       "  '',\n",
       "  ''),\n",
       " ('58dd770d3bd7eb75',\n",
       "  'Machine Learning Engineer',\n",
       "  'Alldus',\n",
       "  'New York, NY',\n",
       "  '',\n",
       "  '',\n",
       "  '',\n",
       "  '',\n",
       "  'Today',\n",
       "  '2021-02-27',\n",
       "  \"About the job We are a hyper-growth tech start-up with a mission to bring a smile to people's faces by connecting them to products that bring nourishment, love…\",\n",
       "  '',\n",
       "  '',\n",
       "  'https://www.indeed.com/viewjob?jk=58dd770d3bd7eb75',\n",
       "  '',\n",
       "  ''),\n",
       " ('3540bfec4ae28526',\n",
       "  'Machine Learning Research Intern - Summer 2021',\n",
       "  'IQVIA',\n",
       "  'Cambridge, MA',\n",
       "  '3.8',\n",
       "  'https://www.indeed.com/cmp/Iqvia',\n",
       "  'Pharmaceutical & Biotechnology',\n",
       "  'more than 10,000',\n",
       "  '1 day ago',\n",
       "  '2021-02-27',\n",
       "  \"We're looking for those students who are active in machine learning/deep learning areas and are passionate about developing next generation machine learning…\",\n",
       "  '',\n",
       "  '',\n",
       "  'https://www.indeed.com/viewjob?jk=3540bfec4ae28526',\n",
       "  '',\n",
       "  ''),\n",
       " ('cf7ff47b512b1a55',\n",
       "  'Data Scientist Apprentice',\n",
       "  'IBM',\n",
       "  'United States',\n",
       "  '3.9',\n",
       "  'https://www.indeed.com/cmp/IBM',\n",
       "  'Information Technology',\n",
       "  'more than 10,000',\n",
       "  'Today',\n",
       "  '2021-02-27',\n",
       "  'Introduction As a Data Scientist at IBM, you will help transform our clients’ data into tangible business value by analyzing information, communicating…',\n",
       "  '',\n",
       "  '',\n",
       "  'https://www.indeed.com/viewjob?jk=cf7ff47b512b1a55',\n",
       "  '',\n",
       "  ''),\n",
       " ('3cbe668d6533cb2f',\n",
       "  'Applied Scientist, Machine Learning (BK or SF)',\n",
       "  'Etsy',\n",
       "  'Brooklyn, NY',\n",
       "  '4.3',\n",
       "  'https://www.indeed.com/cmp/Etsy',\n",
       "  'Retail & Wholesale',\n",
       "  '',\n",
       "  'Today',\n",
       "  '2021-02-27',\n",
       "  'Company Description Etsy is the global marketplace for unique and creative goods. We build, power, and evolve the tools and technologies that connect…',\n",
       "  '',\n",
       "  'Remote',\n",
       "  'https://www.indeed.com/viewjob?jk=3cbe668d6533cb2f',\n",
       "  '',\n",
       "  \"Company Description\\nEtsy is the global marketplace for unique and creative goods. We build, power, and evolve the tools and technologies that connect entrepreneurs with buyers around the world. As an Etsy employee, you’ll tackle unique problems alongside talented coworkers committed to Keeping Commerce Human. We're large enough that you'll focus on meaningful, complex challenges, but small enough that you can make a rewarding impact.\\n\\nJob Description\\nEtsy is an international marketplace with 65M+ handmade and vintage items from passionate artists, designers and vintage collectors. Our Data Science & Machine Learning (DSML) powers machine learning driven systems and solutions to help our 45M+ buyers navigate Etsy’s diverse and unique inventory of over 65M items.\\nIn the DSML org, Applied Scientists work closely with product teams to develop custom machine-learning models that can drive product vision and customer impact. We are looking for individuals who are product and delivery-driven, and are passionate about making ML innovations in the areas of Ranking, Recommendations, Computer Vision, Natural Language Processing, Information Retrieval, and Computational Advertising to help improve the Etsy buyer/seller experience.\\nExample Projects:\\nDevelop state-of-the-art embeddings to capture salient signals of our users and listings, including aspects like content, function, budget, and preferences.\\nExtract image features from our 300M+ listing images that capture semantic content, aesthetic style, material, and more\\nImplement and compare supervised learning models (LR, GBDT, and DNNs), or ensembles of models, to improve key metrics, often with multiple competing objectives\\nDevelop models with custom architecture or objective functions that target Etsy-specific problems, such as revenue optimization, ads bidding strategies, ads budget pacing, seller fairness, seasonality, multi-objective optimization, etc.\\nWhat You'll Do:\\nPush the state of the art and apply the latest advances in deep learning and machine learning to improve buyer and seller experiences on Etsy\\nPrototype, optimize, and productionize large-scale ML models that help deliver key results\\nConduct A/B experiments to validate the effectiveness of ML models and pipelines\\nWork closely with product managers, ML engineers, full-stack engineers, and designers on product teams to deliver content to tens of millions of users\\nShare impactful and innovative work in the wider ML research community, including presenting at top-tier ML/DS conferences such as: KDD, WSDM, WWW, Recsys, etc.\\nBasic requirements:\\nYou have a track record of applying machine learning techniques in addressing real-world problems\\nYou have focused expertise in one of the following fields: natural language processing, reinforcement learning, deep learning, or computer vision.\\nYou have solid software development skills. You are comfortable with using git, Linux environments, dockers, and other tools for writing robust, production-ready code.\\nPreferred requirements:\\nYou have a Ph.D. degree in Computer Science or related engineering fields, or 5+ years of practical machine learning experience.\\nYou have published at peer-reviewed conferences, such as ICML, KDD, SIGIR, WSDM, etc. or you have given talks/tutorials in the industrial conferences like Spark Summit.\\nYou have experience using Google Cloud Platform.\\nYou have experience in building production search, recommendations, advertising, or general e-commerce systems.\\nFor candidates who will work remotely from Colorado, visit this link for information related to Colorado's Equal Pay for Equal Work Act.\\n\\nAdditional Information\\nWhat's Next\\nIf you're interested in joining the team at Etsy, please send a cover letter and resume telling us why you'd be right for the position. As you’ve hopefully seen already, Etsy is a place that values individuality and variety. We don’t want you to be like everyone else — we want you to be like you! So write to us and tell us what you’re all about.\\nOur Promise\\nAt Etsy, we believe that a diverse, equitable and inclusive workplace makes us a more relevant, more competitive, and more resilient company. We encourage people from all backgrounds, ages, abilities, and experiences to apply. Etsy is an equal opportunity employer. We do not discriminate on the basis of race, color, ancestry, religion, national origin, sexual orientation, age, citizenship, marital or family status, disability, gender, gender identity or expression, pregnancy or caregiver status, veteran status, or any other legally protected status. We will ensure that individuals with disabilities are provided reasonable accommodations to participate in the job application and interview process, to perform essential job functions, and to receive other benefits and privileges of employment. While Etsy supports visa sponsorship, sponsorship opportunities may be limited to certain roles and skillsets.\"),\n",
       " ('0f23b07c0aa5f3ec',\n",
       "  'Machine Learning Engineer - Office of the CTO (xLabs) - Opportunity for Working Remotely Atlanta, GA',\n",
       "  'VMware',\n",
       "  'Atlanta, GA',\n",
       "  '4.0',\n",
       "  'https://www.indeed.com/cmp/Vmware',\n",
       "  'Information Technology',\n",
       "  'more than 10,000',\n",
       "  '1 day ago',\n",
       "  '2021-02-27',\n",
       "  'Machine Learning Engineer - Office of the CTO (xLabs) VMware’s xLabs program offers a unique new technology incubation program where small teams work closely…',\n",
       "  '',\n",
       "  'Remote',\n",
       "  'https://www.indeed.com/viewjob?jk=0f23b07c0aa5f3ec',\n",
       "  'Job detailsJob TypeFull-time',\n",
       "  'Machine Learning Engineer - Office of the CTO (xLabs)\\nVMware’s xLabs program offers a unique new technology incubation program where small teams work closely to create exciting and disruptive new technologies with broad impact to the company and often moving the state of the art forward in various areas. This position will be a key role for a new project in which the successful candidate will have the opportunity to work with other world class innovators and understand the dynamics of building new technology in a ‘startup like’ context within a large and mature company. The xLabs experience is the perfect place for developers looking to blaze new trails, work on a high impact project and to see it through to a real product.\\nAs an ML engineer in xLabs, you will be working on conceptualizing, building and applying ML models to develop insight driven decision making in VMware’s hybrid cloud infrastructure. You will be working with bleeding edge research and researches in the CTO Office.\\nRequired QualificationsA BS, MS, or PhD in Computer ScienceMasters + 2 years of relevant work experience (PhD candidate with no experience with relevant background acceptable)Experience in using machine learning techniques for classification, regression, or ranking problemsExperience in statistics, mathematical modeling and algorithmsKnowledge in python and packages for data analysis (scipy, numpy, pandas, matplotlib)Proficient in one high level programming languages Java, C++ or GoStrong knowledge of extracting and processing data with RDBMS/NoSQLGood communication skills and team player attitude\\nPreferred QualificationsExperience with container orchestration framework (Kubernetes) is a plusExperience in virtualized infrastructure and VMware ecosystem is a plusExperience developing cloud native services is a plus\\nVMware Company Overview: At VMware, we believe that software has the power to unlock new opportunities for people and our planet. We look beyond the barriers of compromise to engineer new ways to make technologies work together seamlessly. Our cloud, mobility, and security software form a flexible, consistent digital foundation for securely delivering the apps, services and experiences that are transforming business innovation around the globe. At the core of what we do are our people who deeply value execution, passion, integrity, customers, and community. Shape what’s possible today at http://careers.vmware.com.\\nJoinOCTO referral campaign\\nCategory : Engineering and Technology\\nSubcategory: Software Engineering\\nExperience: Manager and Professional\\nFull Time/ Part Time: Full Time\\nPosted Date: 2021-02-23\\nVMware Company Overview: At VMware, we believe that software has the power to unlock new opportunities for people and our planet. We look beyond the barriers of compromise to engineer new ways to make technologies work together seamlessly. Our cloud, mobility, and security software form a flexible, consistent digital foundation for securely delivering the apps, services and experiences that are transforming business innovation around the globe. At the core of what we do are our people who deeply value execution, passion, integrity, customers, and community. Shape what’s possible today at http://careers.vmware.com.\\n\\nEqual Employment Opportunity Statement: VMware is an Equal Opportunity Employer and Prohibits Discrimination and Harassment of Any Kind: VMware is committed to the principle of equal employment opportunity for all employees and to providing employees with a work environment free of discrimination and harassment. All employment decisions at VMware are based on business needs, job requirements and individual qualifications, without regard to race, color, religion or belief, national, social or ethnic origin, sex (including pregnancy), age, physical, mental or sensory disability, HIV Status, sexual orientation, gender identity and/or expression, marital, civil union or domestic partnership status, past or present military service, family medical history or genetic information, family or parental status, or any other status protected by the laws or regulations in the locations where we operate. VMware will not tolerate discrimination or harassment based on any of these characteristics. VMware encourages applicants of all ages. Vmware will provide reasonable accommodation to employees who have protected disabilities consistent with local law.'),\n",
       " ('fc554d030c2451c5',\n",
       "  'Machine Learning Engineer - Office of the CTO (xLabs) - Opportunity for Working Remotely Palo Alto, CA',\n",
       "  'VMware',\n",
       "  'Palo Alto, CA',\n",
       "  '4.0',\n",
       "  'https://www.indeed.com/cmp/Vmware',\n",
       "  'Information Technology',\n",
       "  'more than 10,000',\n",
       "  '1 day ago',\n",
       "  '2021-02-27',\n",
       "  'Machine Learning Engineer - Office of the CTO (xLabs) VMware’s xLabs program offers a unique new technology incubation program where small teams work closely…',\n",
       "  '',\n",
       "  'Remote',\n",
       "  'https://www.indeed.com/viewjob?jk=fc554d030c2451c5',\n",
       "  '',\n",
       "  'Machine Learning Engineer - Office of the CTO (xLabs)\\nVMware’s xLabs program offers a unique new technology incubation program where small teams work closely to create exciting and disruptive new technologies with broad impact to the company and often moving the state of the art forward in various areas. This position will be a key role for a new project in which the successful candidate will have the opportunity to work with other world class innovators and understand the dynamics of building new technology in a ‘startup like’ context within a large and mature company. The xLabs experience is the perfect place for developers looking to blaze new trails, work on a high impact project and to see it through to a real product.\\nAs an ML engineer in xLabs, you will be working on conceptualizing, building and applying ML models to develop insight driven decision making in VMware’s hybrid cloud infrastructure. You will be working with bleeding edge research and researches in the CTO Office.\\nRequired QualificationsA BS, MS, or PhD in Computer ScienceMasters + 2 years of relevant work experience (PhD candidate with no experience with relevant background acceptable)Experience in using machine learning techniques for classification, regression, or ranking problemsExperience in statistics, mathematical modeling and algorithmsKnowledge in python and packages for data analysis (scipy, numpy, pandas, matplotlib)Proficient in one high level programming languages Java, C++ or GoStrong knowledge of extracting and processing data with RDBMS/NoSQLGood communication skills and team player attitude\\nPreferred QualificationsExperience with container orchestration framework (Kubernetes) is a plusExperience in virtualized infrastructure and VMware ecosystem is a plusExperience developing cloud native services is a plus\\nVMware Company Overview: At VMware, we believe that software has the power to unlock new opportunities for people and our planet. We look beyond the barriers of compromise to engineer new ways to make technologies work together seamlessly. Our cloud, mobility, and security software form a flexible, consistent digital foundation for securely delivering the apps, services and experiences that are transforming business innovation around the globe. At the core of what we do are our people who deeply value execution, passion, integrity, customers, and community. Shape what’s possible today at http://careers.vmware.com.\\nJoinOCTO referral campaign\\nCategory : Engineering and Technology\\nSubcategory: Software Engineering\\nExperience: Manager and Professional\\nFull Time/ Part Time: Full Time\\nPosted Date: 2021-02-23\\nVMware Company Overview: At VMware, we believe that software has the power to unlock new opportunities for people and our planet. We look beyond the barriers of compromise to engineer new ways to make technologies work together seamlessly. Our cloud, mobility, and security software form a flexible, consistent digital foundation for securely delivering the apps, services and experiences that are transforming business innovation around the globe. At the core of what we do are our people who deeply value execution, passion, integrity, customers, and community. Shape what’s possible today at http://careers.vmware.com.\\n\\nEqual Employment Opportunity Statement: VMware is an Equal Opportunity Employer and Prohibits Discrimination and Harassment of Any Kind: VMware is committed to the principle of equal employment opportunity for all employees and to providing employees with a work environment free of discrimination and harassment. All employment decisions at VMware are based on business needs, job requirements and individual qualifications, without regard to race, color, religion or belief, national, social or ethnic origin, sex (including pregnancy), age, physical, mental or sensory disability, HIV Status, sexual orientation, gender identity and/or expression, marital, civil union or domestic partnership status, past or present military service, family medical history or genetic information, family or parental status, or any other status protected by the laws or regulations in the locations where we operate. VMware will not tolerate discrimination or harassment based on any of these characteristics. VMware encourages applicants of all ages. Vmware will provide reasonable accommodation to employees who have protected disabilities consistent with local law.'),\n",
       " ('cfe424c3ca6cd69f',\n",
       "  'Software Engineer, Machine Learning Platform',\n",
       "  'Etsy',\n",
       "  'Brooklyn, NY',\n",
       "  '4.3',\n",
       "  'https://www.indeed.com/cmp/Etsy',\n",
       "  'Retail & Wholesale',\n",
       "  '',\n",
       "  'Today',\n",
       "  '2021-02-27',\n",
       "  'Company Description Etsy is the global marketplace for unique and creative goods. We build, power, and evolve the tools and technologies that connect…',\n",
       "  '',\n",
       "  'Remote',\n",
       "  'https://www.indeed.com/viewjob?jk=cfe424c3ca6cd69f',\n",
       "  '',\n",
       "  \"Company Description\\nEtsy is the global marketplace for unique and creative goods. We build, power, and evolve the tools and technologies that connect entrepreneurs with buyers around the world. As an Etsy employee, you’ll tackle unique problems alongside talented coworkers committed to Keeping Commerce Human. We're large enough that you'll focus on meaningful, complex challenges, but small enough that you can make a rewarding impact.\\n\\nJob Description\\nAt Etsy we are looking for an experienced software engineer to help build the next generation Machine Learning Platform and help us connect buyers and sellers in meaningful ways.\\nAs a machine learning infrastructure engineer you will be responsible for designing, building and evolving the core ML Platform components and services, and working cross-functionally to support various product engineering, data engineering and data science teams as they use our platform. Do you find joy in improving the lives of data scientists using a platform and building new capabilities to support state-of-the-art machine learning? If so, this could be the perfect match.\\nThis is a full-time position located (eventually) in Brooklyn NY, San Francisco CA or Toronto Canada, reporting to the ML Platform engineering manager. We offer flexible workplace policies that can accommodate work from home candidates who are comfortable traveling to an office location 2-3 times per week and we are open to fully remote candidates within North America.\\nIn this role you will:\\nDesign, build and evolve the core ML Platform components and services\\nWork closely with data scientists to understand their needs and optimize the platform to help them achieve their goals\\nWork cross-functionally and support various product engineering, data engineering and data science teams as they use our platform\\nOf course, this is just a sample of the kinds of work this role will require! You should assume that your role will encompass other tasks, too, and that your job duties and responsibilities may change from time to time at Etsy's discretion, or otherwise applicable with local law.\\nFor candidates who will work remotely from Colorado, visit this link for information related to Colorado's Equal Pay for Equal Work Act.\\n\\nQualifications\\nIdeally you'll bring:\\n2+ years of experience as an engineer in machine learning and/or infrastructure engineering and a focus on writing high quality, maintainable code\\nFluency in Python or another similar programming language\\nExperience with Docker or a similar container framework and container orchestration tools such as Kubernetes\\nA foundational understanding of machine learning\\nA growth mindset and commitment to learning\\nStrong listening skills and an ability to be mindful and transparent in your communication with others\\nA trust in and commitment to Etsy’s vision, mission and values.\\nAdditional Information\\nWhat's Next\\nIf you're interested in joining the team at Etsy, please send a cover letter and resume telling us why you'd be right for the position. As you’ve hopefully seen already, Etsy is a place that values individuality and variety. We don’t want you to be like everyone else — we want you to be like you! So write to us and tell us what you’re all about.\\nOur Promise\\nAt Etsy, we believe that a diverse, equitable and inclusive workplace makes us a more relevant, more competitive, and more resilient company. We encourage people from all backgrounds, ages, abilities, and experiences to apply. Etsy is an equal opportunity employer. We do not discriminate on the basis of race, color, ancestry, religion, national origin, sexual orientation, age, citizenship, marital or family status, disability, gender, gender identity or expression, pregnancy or caregiver status, veteran status, or any other legally protected status. We will ensure that individuals with disabilities are provided reasonable accommodations to participate in the job application and interview process, to perform essential job functions, and to receive other benefits and privileges of employment. While Etsy supports visa sponsorship, sponsorship opportunities may be limited to certain roles and skillsets.\"),\n",
       " ('f666565b81b21e6e',\n",
       "  'Machine Learning Infrastructure Engineer',\n",
       "  'IBM',\n",
       "  'Littleton, MA',\n",
       "  '3.9',\n",
       "  'https://www.indeed.com/cmp/IBM',\n",
       "  'Information Technology',\n",
       "  'more than 10,000',\n",
       "  'Today',\n",
       "  '2021-02-27',\n",
       "  'Introduction Our mission is to revolutionize customer service by developing and deploying the latest conversational artificial intelligence (AI), natural…',\n",
       "  '',\n",
       "  '',\n",
       "  'https://www.indeed.com/viewjob?jk=f666565b81b21e6e',\n",
       "  '',\n",
       "  ''),\n",
       " ('0d51312b4df8fbb7',\n",
       "  'Machine Learning Engineer - Office of the CTO (xLabs) - Opportunity for Working Remotely Boston, MA',\n",
       "  'VMware',\n",
       "  'Boston, MA',\n",
       "  '4.0',\n",
       "  'https://www.indeed.com/cmp/Vmware',\n",
       "  'Information Technology',\n",
       "  'more than 10,000',\n",
       "  '1 day ago',\n",
       "  '2021-02-27',\n",
       "  'Machine Learning Engineer - Office of the CTO (xLabs) VMware’s xLabs program offers a unique new technology incubation program where small teams work closely…',\n",
       "  '',\n",
       "  'Remote',\n",
       "  'https://www.indeed.com/viewjob?jk=0d51312b4df8fbb7',\n",
       "  '',\n",
       "  'Machine Learning Engineer - Office of the CTO (xLabs)\\nVMware’s xLabs program offers a unique new technology incubation program where small teams work closely to create exciting and disruptive new technologies with broad impact to the company and often moving the state of the art forward in various areas. This position will be a key role for a new project in which the successful candidate will have the opportunity to work with other world class innovators and understand the dynamics of building new technology in a ‘startup like’ context within a large and mature company. The xLabs experience is the perfect place for developers looking to blaze new trails, work on a high impact project and to see it through to a real product.\\nAs an ML engineer in xLabs, you will be working on conceptualizing, building and applying ML models to develop insight driven decision making in VMware’s hybrid cloud infrastructure. You will be working with bleeding edge research and researches in the CTO Office.\\nRequired QualificationsA BS, MS, or PhD in Computer ScienceMasters + 2 years of relevant work experience (PhD candidate with no experience with relevant background acceptable)Experience in using machine learning techniques for classification, regression, or ranking problemsExperience in statistics, mathematical modeling and algorithmsKnowledge in python and packages for data analysis (scipy, numpy, pandas, matplotlib)Proficient in one high level programming languages Java, C++ or GoStrong knowledge of extracting and processing data with RDBMS/NoSQLGood communication skills and team player attitude\\nPreferred QualificationsExperience with container orchestration framework (Kubernetes) is a plusExperience in virtualized infrastructure and VMware ecosystem is a plusExperience developing cloud native services is a plus\\nVMware Company Overview: At VMware, we believe that software has the power to unlock new opportunities for people and our planet. We look beyond the barriers of compromise to engineer new ways to make technologies work together seamlessly. Our cloud, mobility, and security software form a flexible, consistent digital foundation for securely delivering the apps, services and experiences that are transforming business innovation around the globe. At the core of what we do are our people who deeply value execution, passion, integrity, customers, and community. Shape what’s possible today at http://careers.vmware.com.\\nJoinOCTO referral campaign\\nCategory : Engineering and Technology\\nSubcategory: Software Engineering\\nExperience: Manager and Professional\\nFull Time/ Part Time: Full Time\\nPosted Date: 2021-02-23\\nVMware Company Overview: At VMware, we believe that software has the power to unlock new opportunities for people and our planet. We look beyond the barriers of compromise to engineer new ways to make technologies work together seamlessly. Our cloud, mobility, and security software form a flexible, consistent digital foundation for securely delivering the apps, services and experiences that are transforming business innovation around the globe. At the core of what we do are our people who deeply value execution, passion, integrity, customers, and community. Shape what’s possible today at http://careers.vmware.com.\\n\\nEqual Employment Opportunity Statement: VMware is an Equal Opportunity Employer and Prohibits Discrimination and Harassment of Any Kind: VMware is committed to the principle of equal employment opportunity for all employees and to providing employees with a work environment free of discrimination and harassment. All employment decisions at VMware are based on business needs, job requirements and individual qualifications, without regard to race, color, religion or belief, national, social or ethnic origin, sex (including pregnancy), age, physical, mental or sensory disability, HIV Status, sexual orientation, gender identity and/or expression, marital, civil union or domestic partnership status, past or present military service, family medical history or genetic information, family or parental status, or any other status protected by the laws or regulations in the locations where we operate. VMware will not tolerate discrimination or harassment based on any of these characteristics. VMware encourages applicants of all ages. Vmware will provide reasonable accommodation to employees who have protected disabilities consistent with local law.'),\n",
       " ('a24f35c03cf40c12',\n",
       "  'Speech Technologies Machine Learning Engineer',\n",
       "  'IBM',\n",
       "  'United States',\n",
       "  '3.9',\n",
       "  'https://www.indeed.com/cmp/IBM',\n",
       "  'Information Technology',\n",
       "  'more than 10,000',\n",
       "  'Today',\n",
       "  '2021-02-27',\n",
       "  'Introduction Our mission is to revolutionize customer service by developing and deploying the latest conversational artificial intelligence (AI), natural…',\n",
       "  '',\n",
       "  '',\n",
       "  'https://www.indeed.com/viewjob?jk=a24f35c03cf40c12',\n",
       "  '',\n",
       "  ''),\n",
       " ('1a700ba51a7bb3ef',\n",
       "  'Machine Learning Engineer - Office of the CTO (xLabs) - Opportunity for Working Remotely Austin, TX',\n",
       "  'VMware',\n",
       "  'Austin, TX',\n",
       "  '4.0',\n",
       "  'https://www.indeed.com/cmp/Vmware',\n",
       "  'Information Technology',\n",
       "  'more than 10,000',\n",
       "  '1 day ago',\n",
       "  '2021-02-27',\n",
       "  'Machine Learning Engineer - Office of the CTO (xLabs) VMware’s xLabs program offers a unique new technology incubation program where small teams work closely…',\n",
       "  '',\n",
       "  'Remote',\n",
       "  'https://www.indeed.com/viewjob?jk=1a700ba51a7bb3ef',\n",
       "  '',\n",
       "  'Machine Learning Engineer - Office of the CTO (xLabs)\\nVMware’s xLabs program offers a unique new technology incubation program where small teams work closely to create exciting and disruptive new technologies with broad impact to the company and often moving the state of the art forward in various areas. This position will be a key role for a new project in which the successful candidate will have the opportunity to work with other world class innovators and understand the dynamics of building new technology in a ‘startup like’ context within a large and mature company. The xLabs experience is the perfect place for developers looking to blaze new trails, work on a high impact project and to see it through to a real product.\\nAs an ML engineer in xLabs, you will be working on conceptualizing, building and applying ML models to develop insight driven decision making in VMware’s hybrid cloud infrastructure. You will be working with bleeding edge research and researches in the CTO Office.\\nRequired QualificationsA BS, MS, or PhD in Computer ScienceMasters + 2 years of relevant work experience (PhD candidate with no experience with relevant background acceptable)Experience in using machine learning techniques for classification, regression, or ranking problemsExperience in statistics, mathematical modeling and algorithmsKnowledge in python and packages for data analysis (scipy, numpy, pandas, matplotlib)Proficient in one high level programming languages Java, C++ or GoStrong knowledge of extracting and processing data with RDBMS/NoSQLGood communication skills and team player attitude\\nPreferred QualificationsExperience with container orchestration framework (Kubernetes) is a plusExperience in virtualized infrastructure and VMware ecosystem is a plusExperience developing cloud native services is a plus\\nVMware Company Overview: At VMware, we believe that software has the power to unlock new opportunities for people and our planet. We look beyond the barriers of compromise to engineer new ways to make technologies work together seamlessly. Our cloud, mobility, and security software form a flexible, consistent digital foundation for securely delivering the apps, services and experiences that are transforming business innovation around the globe. At the core of what we do are our people who deeply value execution, passion, integrity, customers, and community. Shape what’s possible today at http://careers.vmware.com.\\nJoinOCTO referral campaign\\nCategory : Engineering and Technology\\nSubcategory: Software Engineering\\nExperience: Manager and Professional\\nFull Time/ Part Time: Full Time\\nPosted Date: 2021-02-23\\nVMware Company Overview: At VMware, we believe that software has the power to unlock new opportunities for people and our planet. We look beyond the barriers of compromise to engineer new ways to make technologies work together seamlessly. Our cloud, mobility, and security software form a flexible, consistent digital foundation for securely delivering the apps, services and experiences that are transforming business innovation around the globe. At the core of what we do are our people who deeply value execution, passion, integrity, customers, and community. Shape what’s possible today at http://careers.vmware.com.\\n\\nEqual Employment Opportunity Statement: VMware is an Equal Opportunity Employer and Prohibits Discrimination and Harassment of Any Kind: VMware is committed to the principle of equal employment opportunity for all employees and to providing employees with a work environment free of discrimination and harassment. All employment decisions at VMware are based on business needs, job requirements and individual qualifications, without regard to race, color, religion or belief, national, social or ethnic origin, sex (including pregnancy), age, physical, mental or sensory disability, HIV Status, sexual orientation, gender identity and/or expression, marital, civil union or domestic partnership status, past or present military service, family medical history or genetic information, family or parental status, or any other status protected by the laws or regulations in the locations where we operate. VMware will not tolerate discrimination or harassment based on any of these characteristics. VMware encourages applicants of all ages. Vmware will provide reasonable accommodation to employees who have protected disabilities consistent with local law.'),\n",
       " ('0dd764568a087868',\n",
       "  'Machine Learning Engineer - Office of the CTO (xLabs) - Opportunity for Working Remotely Bellevue, WA',\n",
       "  'VMware',\n",
       "  'Bellevue, WA',\n",
       "  '4.0',\n",
       "  'https://www.indeed.com/cmp/Vmware',\n",
       "  'Information Technology',\n",
       "  'more than 10,000',\n",
       "  '1 day ago',\n",
       "  '2021-02-27',\n",
       "  'Machine Learning Engineer - Office of the CTO (xLabs) VMware’s xLabs program offers a unique new technology incubation program where small teams work closely…',\n",
       "  '',\n",
       "  'Remote',\n",
       "  'https://www.indeed.com/viewjob?jk=0dd764568a087868',\n",
       "  '',\n",
       "  'Machine Learning Engineer - Office of the CTO (xLabs)\\nVMware’s xLabs program offers a unique new technology incubation program where small teams work closely to create exciting and disruptive new technologies with broad impact to the company and often moving the state of the art forward in various areas. This position will be a key role for a new project in which the successful candidate will have the opportunity to work with other world class innovators and understand the dynamics of building new technology in a ‘startup like’ context within a large and mature company. The xLabs experience is the perfect place for developers looking to blaze new trails, work on a high impact project and to see it through to a real product.\\nAs an ML engineer in xLabs, you will be working on conceptualizing, building and applying ML models to develop insight driven decision making in VMware’s hybrid cloud infrastructure. You will be working with bleeding edge research and researches in the CTO Office.\\nRequired QualificationsA BS, MS, or PhD in Computer ScienceMasters + 2 years of relevant work experience (PhD candidate with no experience with relevant background acceptable)Experience in using machine learning techniques for classification, regression, or ranking problemsExperience in statistics, mathematical modeling and algorithmsKnowledge in python and packages for data analysis (scipy, numpy, pandas, matplotlib)Proficient in one high level programming languages Java, C++ or GoStrong knowledge of extracting and processing data with RDBMS/NoSQLGood communication skills and team player attitude\\nPreferred QualificationsExperience with container orchestration framework (Kubernetes) is a plusExperience in virtualized infrastructure and VMware ecosystem is a plusExperience developing cloud native services is a plus\\nVMware Company Overview: At VMware, we believe that software has the power to unlock new opportunities for people and our planet. We look beyond the barriers of compromise to engineer new ways to make technologies work together seamlessly. Our cloud, mobility, and security software form a flexible, consistent digital foundation for securely delivering the apps, services and experiences that are transforming business innovation around the globe. At the core of what we do are our people who deeply value execution, passion, integrity, customers, and community. Shape what’s possible today at http://careers.vmware.com.\\nJoinOCTO referral campaign\\nCategory : Engineering and Technology\\nSubcategory: Software Engineering\\nExperience: Manager and Professional\\nFull Time/ Part Time: Full Time\\nPosted Date: 2021-02-23\\nVMware Company Overview: At VMware, we believe that software has the power to unlock new opportunities for people and our planet. We look beyond the barriers of compromise to engineer new ways to make technologies work together seamlessly. Our cloud, mobility, and security software form a flexible, consistent digital foundation for securely delivering the apps, services and experiences that are transforming business innovation around the globe. At the core of what we do are our people who deeply value execution, passion, integrity, customers, and community. Shape what’s possible today at http://careers.vmware.com.\\n\\nEqual Employment Opportunity Statement: VMware is an Equal Opportunity Employer and Prohibits Discrimination and Harassment of Any Kind: VMware is committed to the principle of equal employment opportunity for all employees and to providing employees with a work environment free of discrimination and harassment. All employment decisions at VMware are based on business needs, job requirements and individual qualifications, without regard to race, color, religion or belief, national, social or ethnic origin, sex (including pregnancy), age, physical, mental or sensory disability, HIV Status, sexual orientation, gender identity and/or expression, marital, civil union or domestic partnership status, past or present military service, family medical history or genetic information, family or parental status, or any other status protected by the laws or regulations in the locations where we operate. VMware will not tolerate discrimination or harassment based on any of these characteristics. VMware encourages applicants of all ages. Vmware will provide reasonable accommodation to employees who have protected disabilities consistent with local law.'),\n",
       " ('85c9d546e6c89006',\n",
       "  'Photo Product Expediter',\n",
       "  'The RealReal',\n",
       "  'Perth Amboy, NJ',\n",
       "  '2.8',\n",
       "  'https://www.indeed.com/cmp/The-Realreal',\n",
       "  'Retail & Wholesale',\n",
       "  '501 to 1,000',\n",
       "  'Just posted',\n",
       "  '2021-02-27',\n",
       "  'The Photo Product Expediter is an integral part of the inbound product pipeline. You are a self starter who can work independently and complete all daily…',\n",
       "  '',\n",
       "  '',\n",
       "  'https://www.indeed.com/viewjob?jk=85c9d546e6c89006',\n",
       "  '',\n",
       "  ''),\n",
       " ('5924a258541f8f09',\n",
       "  'Applied AI & Machine Learning - Senior Associate',\n",
       "  'JPMorgan Chase Bank, N.A.',\n",
       "  'New York, NY',\n",
       "  '3.9',\n",
       "  'https://www.indeed.com/cmp/Chase-2',\n",
       "  'Financial Services',\n",
       "  'more than 10,000',\n",
       "  '1 day ago',\n",
       "  '2021-02-27',\n",
       "  \"CIB Applied AI & Machine Learning - Finance & Business Management About J.P. Morgan Corporate & Investment Bank J.P. Morgan's Corporate & Investment Bank is…\",\n",
       "  '',\n",
       "  '',\n",
       "  'https://www.indeed.com/viewjob?jk=5924a258541f8f09',\n",
       "  '',\n",
       "  ''),\n",
       " ('0da036ecfd39e821',\n",
       "  'PDI - Machine Learning Engineer',\n",
       "  'Pacific Data Integrators',\n",
       "  'Rocklin, CA',\n",
       "  '',\n",
       "  '',\n",
       "  '',\n",
       "  '',\n",
       "  '1 day ago',\n",
       "  '2021-02-27',\n",
       "  '*Position Responsibilities: Collaborating with data scientists to bridge the gap between the data science lifecycle and software delivery lifecycle *…',\n",
       "  '',\n",
       "  'Remote',\n",
       "  'https://www.indeed.com/viewjob?jk=0da036ecfd39e821',\n",
       "  'Job detailsJob TypeContractNumber of hires for this role1',\n",
       "  \"We are seeking a Machine Learning Engineer who will join an existing engineering team to support operationalizing all data science models. Currently, the team supports a suite of deep learning computer vision models for remote inspection automation, with a view to expanding this to structured data models. Day-to-day, the candidate will work with a team of data scientists and software engineers to understand models under development and build out capabilities to deploy these models as microservices, enabling other product teams to consume these models.Position Responsibilities: Collaborating with data scientists to bridge the gap between the data science lifecycle and software delivery lifecycleWorking on an agile software delivery team to deliver machine learning models as best-in-class microservicesAdhere and contribute to delivery standards to maintain quality and consistencyEffectively communicate the solution to non-technical stakeholders\\u202fMaintain a productive working environment while fostering an open and honest culture of trust, accountability, and humbleness\\u202fBe a strong advocate for a culture of quality\\u202fFollow an agile development methodology\\u202fMinimum Education/Skills: Bachelor’s Degree in Econometrics, Economics, Engineering, Mathematics, Applied Sciences, Statistics or other related fieldMinimum 5 years' job experienceExperience deploying machine learning models as microservices in a cloud environment.Experience using and building docker containers.Experience with configuring and deploying containerized services to Kubernetes.Experience with building and deploying to CI/CD pipelinesIntermediate / advanced gitJob Type: ContractSchedule:8 hour shiftEducation:Bachelor's (Preferred)Experience:CI/CD: 5 years (Preferred)Cloud infrastructure: 5 years (Preferred)Work Remotely:Yes\"),\n",
       " ('0c3468f898d77676',\n",
       "  'Applied Machine Learning Scientist',\n",
       "  'Teladoc Health',\n",
       "  'Mountain View, CA',\n",
       "  '3.0',\n",
       "  'https://www.indeed.com/cmp/Teladoc-Health',\n",
       "  'Healthcare',\n",
       "  '1001 to 5,000',\n",
       "  '1 day ago',\n",
       "  '2021-02-27',\n",
       "  \"The Opportunity At Teladoc Health, we're transforming the lives of people with chronic conditions. You'll have the benefit of joining in a period of…\",\n",
       "  '',\n",
       "  '',\n",
       "  'https://www.indeed.com/viewjob?jk=0c3468f898d77676',\n",
       "  '',\n",
       "  ''),\n",
       " ('b4930323018bde9f',\n",
       "  'Machine Learning Ops Engineer',\n",
       "  'Specright Inc.',\n",
       "  'Irvine, CA',\n",
       "  '',\n",
       "  '',\n",
       "  '',\n",
       "  '',\n",
       "  'Just posted',\n",
       "  '2021-02-27',\n",
       "  'About Specright Specright is on a mission to become the go-to software tool for packaging, procurement, and supply chain professionals. We are the first…',\n",
       "  '',\n",
       "  '',\n",
       "  'https://www.indeed.com/viewjob?jk=b4930323018bde9f',\n",
       "  '',\n",
       "  ''),\n",
       " ('83d99b2ad44088b8',\n",
       "  'Sr. Machine Learning Engineer - Discovery',\n",
       "  'Twitter',\n",
       "  'New York, NY',\n",
       "  '4.1',\n",
       "  'https://www.indeed.com/cmp/Twitter',\n",
       "  'Information Technology',\n",
       "  '1001 to 5,000',\n",
       "  'Today',\n",
       "  '2021-02-27',\n",
       "  \"Company Description Twitter is what’s happening and what people are talking about right now. For us, life's not about a job, it's about purpose. We believe…\",\n",
       "  '',\n",
       "  '',\n",
       "  'https://www.indeed.com/viewjob?jk=83d99b2ad44088b8',\n",
       "  '',\n",
       "  ''),\n",
       " ('d02c03d148865ae1',\n",
       "  \"'OCR' Machine Learning Engineer\",\n",
       "  'Fetch Rewards',\n",
       "  'Illinois',\n",
       "  '2.7',\n",
       "  'https://www.indeed.com/cmp/Fetch-Rewards',\n",
       "  'Information Technology',\n",
       "  '11 to 50',\n",
       "  'Just posted',\n",
       "  '2021-02-27',\n",
       "  'In order to work at Fetch Rewards candidates must be located in the United States. Thank you! Who We Are: We reward shoppers for digitizing their shopping…',\n",
       "  '',\n",
       "  'Remote',\n",
       "  'https://www.indeed.com/viewjob?jk=d02c03d148865ae1',\n",
       "  '',\n",
       "  \"In order to work at Fetch Rewards candidates must be located in the United States. Thank you!\\n\\n\\nWho We Are:\\n\\nWe reward shoppers for digitizing their shopping experience.\\n\\nOur mission is to delight the world's shoppers with a free smartphone app that is easy, smart and fun.\\n\\nWhy Join the Fetch Family?\\n\\nWe make it better for users even when that's difficult for us\\n\\nWe empower people with information and trust\\n\\nWe challenge ideas, not people\\n\\nWe think bigger and keep building\\n\\nWe find ways to bring the fun to Fetch!\\n\\n\\nWe're committed to building an empowered and inclusive community of innovative and passionate people. As a growing organization, we need team players who can go above and beyond their individual responsibilities to help our company build towards its vision. If you are a creative, hard-working, and fun-seeking person interested in working with a close-knit group of highly talented people, this is the right place for you.\\n\\nFetch Rewards is an equal employment opportunity employer.\\n\\nAt Fetch Rewards, our vision is to help people digitize their shopping in a way that is fun and rewarding. Millions of people use our app every month and we are growing rapidly. Headquartered in Madison, WI with offices in Chicago, San Francisco, and New York, we pride ourselves on two things – speed and excellence.\\n\\nThe MLOps team embodies these values and works with a laser focused objective to enable intelligent systems for end users, internal stakeholders, and external partners. We are looking for a OCR Machine Learning Engineer to contribute to this vision and reap the rewards of joining an exciting company in the high growth phase.\\n\\nYour focus will be on developing pipeline frameworks, micro-services, and infrastructure solutions that can scale to match the company's growth trajectory. We don't lock ourselves into particular technologies, but some we are currently using include AWS, Snowflake, Python, Spark, Lambda, CloudFormation, Docker, Kinesis, MongoDB, and SageMaker. You'll also get to join a team of talented individuals who will provide you with hands-on mentorship on topics ranging from software development to DevOps to analytics. Success in this role requires the ability to analyze challenging problems, propose solutions under the guidance of experienced teammates, and implement designs within timeframes that keep up with business needs.\\n\\nYou possess:\\nExcellent programming skills (we use a lot of Python in this problem space but proficiency in other languages are equally welcome)\\nSolid SQL skills\\nExperience productionalizing and working with computer vision models\\nKnowledge of deployment architectures (on device, off device, etc…)\\nFamiliarity with Unix systems, shell scripting, and Git\\nExperience developing solutions on cloud services or infrastructure (we're 100% AWS)\\nExperience with relational (SQL), non-relational (NoSQL), and/or object data stores (some technologies we use include Snowflake, MongoDB, S3, HDFS, Postgres, Redis, DynamoDB)\\nInterest in building and experimenting with different tools and tech, and sharing your learnings with the broader organization\\nThe desire to work with other teams in the organization (e.g., Data Science, Software Development, DevOps) to build tools and solutions that enable the training and deployment of machine learning enabled services within the Fetch ecosystem\\nBachelor's degree in Computer Science (or equivalent)\\nAt least 10 years of relevant full-time work experience\\nBonus points for:\\nExcellent written and verbal communication skills\\nFamiliarity with open source software and dependency management\\nMachine learning development and/or data science experience\\nCloud engineering and DevOps skills (e.g., AWS, CloudFormation, Docker)\\nETL process, data pipeline, and/or microservice development experience\\nFamiliarity with messaging and asynchronous technologies (e.g., SQS, Kinesis, RabbitMQ, Kafka)\\nBig data development skills (e.g., Spark, Hadoop, MPP DW)\\nLove of Dogs! . . . Or just tolerance. We're a very canine-friendly workplace\"),\n",
       " ('ed0c64582a752fcc',\n",
       "  'Computer Vision and Machine Learning Intern',\n",
       "  'Iron Ox, Inc.',\n",
       "  'San Carlos, CA',\n",
       "  '',\n",
       "  '',\n",
       "  '',\n",
       "  '',\n",
       "  'Today',\n",
       "  '2021-02-27',\n",
       "  'About Us Iron Ox is reimagining the modern farm, utilizing robotics and AI to grow fresh, consistent, and responsibly farmed produce for everyone. Our…',\n",
       "  '',\n",
       "  '',\n",
       "  'https://www.indeed.com/viewjob?jk=ed0c64582a752fcc',\n",
       "  '',\n",
       "  ''),\n",
       " ('fbfb232fe0b17140',\n",
       "  'Compiler Software Engineer - Machine Learning',\n",
       "  'Xilinx',\n",
       "  'San Jose, CA',\n",
       "  '4.0',\n",
       "  'https://www.indeed.com/cmp/Xilinx',\n",
       "  'Manufacturing',\n",
       "  '1001 to 5,000',\n",
       "  'Today',\n",
       "  '2021-02-27',\n",
       "  'Description At Xilinx, we are leading the industry transformation to build an adaptable, intelligent world. ARE YOU bold, collaborative, and creative? We…',\n",
       "  '',\n",
       "  '',\n",
       "  'https://www.indeed.com/viewjob?jk=fbfb232fe0b17140',\n",
       "  '',\n",
       "  ''),\n",
       " ('72095013e5b46bb0',\n",
       "  'Data Science Intern',\n",
       "  'Sulzer US, LLC',\n",
       "  'New Jersey',\n",
       "  '3.8',\n",
       "  'https://www.indeed.com/cmp/Sulzer-5',\n",
       "  'Information Technology',\n",
       "  '11 to 50',\n",
       "  '1 day ago',\n",
       "  '2021-02-27',\n",
       "  'Seeking Summer Data Science Interns This is a remote, summer internship (due to COVID) working collaboratively with colleagues across the US and Europe.…',\n",
       "  '',\n",
       "  'Remote',\n",
       "  'https://www.indeed.com/viewjob?jk=72095013e5b46bb0',\n",
       "  '',\n",
       "  \"Seeking Summer Data Science Interns\\n\\nThis is a remote, summer internship (due to COVID) working collaboratively with colleagues across the US and Europe.\\n\\n\\nAbout Us: Sulzer US, LLC is a dynamic and innovative start-up delivering cloud, big data, and immersive user experience custom software solutions to industry-leading clients. We offer talent a place to refine their skills, apply their personal passions, and work on meaningful projects for the world's leading brands. Our solutions range from software supporting electrical charging networks to complex product configurators. We also believe in giving back to the world community and are dedicated to pro-bono initiatives for organizations such as the Jane Goodall Institute.\\n\\n\\nWho You Are: We're looking for a few thoughtful data science and data engineering interns to work collaboratively with our team and grow our product development efforts. You are a quick learner and confident in acquiring the knowledge to guide modeling decisions. With curiosity at your core, you are open to learning new things and asking great questions along the way.\\n\\n\\nWhat you bring to the team:\\n\\nProficiency in R or Python\\nPrior experience with quantitative work or research\\nGeneral understanding of machine learning and modeling\\nExcellent quantitative, communication, teamwork, and interpersonal skills\\nAbility to use critical thinking and sound judgment\\nEffective analytical, technical, and problem-solving skills\\nWorking knowledge of industry trends and technologies\\n\\n\\nOur internship program is typically 12 weeks long. While at Sulzer, you will:\\n\\nDirectly shape data-driven products and services at the forefront of the industry.\\nRamp up on our technology stack through peer-led training sessions.\\nCollaborate with developers and product managers to define priorities and set delivery goals.\\nContribute ideas, ask questions, and raise concerns when encountering challenges.\\nTake part in Sulzer US' continuous improvement initiative by bringing fresh ideas and the energy to bring our team to the next level.\\n\\n\\nWhat are the benefits of interning at Sulzer US?\\n\\nAt Sulzer US, enjoy an entrepreneurial workplace with continuous learning and training opportunities. Interns at Sulzer US are given challenging responsibilities and work on exciting projects. Our internship program also has the potential to flip into a full-time role!\\n\\n\\nWhat to Expect from Our Selection Process: We seek passionate technologists who possess technical and soft skills to excel on our team. Our selection process is designed to assess the whole candidate and foster a mutual match for you and us. The process includes:\\n\\nApply by submitting your resume; cover letters are optional.\\nThe Sulzer US Hiring Team reviews your application.\\nIf your skills meet the position requirements, you will receive a link to complete a Codility Test. Here we will assess your technical and problem-solving skills. Once submitted, a technical team member will grade and rank your test.\\nIntroductory Video Interview with a member of the Sulzer US Hiring Team to discuss what you are looking for in a role, as well as answer any high-level questions about us.\\nVirtual Technical Interview using Codility to dive deep into your technical and problem-solving skills.\\nFinal Interview, either video or in-person, to enable our leaders to get to know you and give you the opportunity to share all your burning questions about Sulzer US, our culture, and your desired role.\"),\n",
       " ('a816a5ffea313bfd',\n",
       "  'Speech Technologies Machine Learning Engineer',\n",
       "  'IBM',\n",
       "  'Littleton, MA',\n",
       "  '3.9',\n",
       "  'https://www.indeed.com/cmp/IBM',\n",
       "  'Information Technology',\n",
       "  'more than 10,000',\n",
       "  'Today',\n",
       "  '2021-02-27',\n",
       "  'Introduction Our mission is to revolutionize customer service by developing and deploying the latest conversational artificial intelligence (AI), natural…',\n",
       "  '',\n",
       "  '',\n",
       "  'https://www.indeed.com/viewjob?jk=a816a5ffea313bfd',\n",
       "  '',\n",
       "  ''),\n",
       " ('a61abbb4679ccbdd',\n",
       "  'Data Engineer (machine learning ops)',\n",
       "  'Principal Financial Group',\n",
       "  'Des Moines, IA',\n",
       "  '3.9',\n",
       "  'https://www.indeed.com/cmp/Principal-Financial-Group',\n",
       "  'Financial Services',\n",
       "  'more than 10,000',\n",
       "  'Just posted',\n",
       "  '2021-02-27',\n",
       "  'Responsibilities: What you’ll do Principal Global Investors is looking for an experienced Data Engineer focused on machine learning operations (MLOps) to…',\n",
       "  '',\n",
       "  'Remote',\n",
       "  'https://www.indeed.com/viewjob?jk=a61abbb4679ccbdd',\n",
       "  '',\n",
       "  \"Responsibilities:\\n\\nWhat you’ll do\\nPrincipal Global Investors is looking for an experienced Data Engineer focused on machine learning operations (MLOps) to work in our Investment Data & Research team! This person will help build out our digital intelligence platform and bring these capabilities to scale to align with enterprise efforts!\\nHere are some examples of the kinds of things you'll do:\\nWork with teammates to build technical solutions that are reusable, scalable, fast, and maintainable for deploying and managing machine learning models.\\nIncrease automation and improve the quality of production ML while also focusing on business and regulatory requirements.\\nExpanding and optimizing data and data pipeline architecture\\nAssist to design, implement and maintain investment product datasets in alignment with data and analytics vision and strategy.\\nSupport critical, ongoing operations while also driving new strategic solutions.\\nDevelopment and deployment of robust and scalable data platforms for sophisticated data processing and downstream consumption.\\nQualifications:\\n\\nWe’re looking for someone with:\\nBachelor's degree plus 2+years related work experience or a Master's in related field\\nStrong Software Engineering fundamentals\\nExperience deploying machine learning models into production environment\\nExperience building/operating systems for data extraction, ingestion and processing of large data sets\\nAdditional preferred technical experience/skills:\\nStrong DevOps, Data Engineering and ML background with Cloud platforms (we use AWS)\\nExperience with machine learning platforms (such as SageMaker, DataBricks)\\nExperience with machine learning frameworks/libraries (such as TensorFlow, PyTorch, Keras, scikit-learn)\\nExperience in containerization and orchestration (such as Docker, Kubernetes)\\nExperience or familiarity with MLOps tools such as MLFlow and Kubeflow\\nDistributed Computing Frameworks (such as Spark)\\nModel performance monitoring\\nNetwork Security\\nAdditional Information:\\nHours\\nThis role could have on-call responsibilities.\\nLocation\\nThis role can either site remotely within the US, or at our headquarters in Des Moines, IA.\\nJob level\\nWe’ll consider talent at the next level with the right experiences and skills.\\nWork Authorization/Sponsorship\\nAt this time, we're not considering candidates that need any type of immigration sponsorship now or in the future or those needing work authorization for this role. (This includes, but is not limited to students on F1-OPT, F1-CPT, J-1, etc.)\\nInvestment Code of Ethics\\nFor Principal Global Investors positions, you’ll need to follow an Investment Code of Ethics related to personal and business conduct as well as personal trading activities for you and members of your household. These same requirements may also apply to other positions across the organization.\\nExperience Principal\\nWhile our expertise spans the globe, we're bound by one common purpose: to foster a world where financial security is accessible to all. And our success depends on the unique experiences, backgrounds, and talents of our employees – individually and all of us together. Explore our core values, benefits and why we’re an exceptional place to grow your career.\\nPrincipal is an Equal Opportunity Employer\\nAll qualified applicants will receive consideration for employment without regard to race, color, religion, sex, sexual orientation, gender identity, national origin, disability, or veteran status.\\n(PFGRB)\"),\n",
       " ('b63ea49edb160545',\n",
       "  'Data Scientist - 35836-1',\n",
       "  'TechData Service Company, LLC',\n",
       "  'Lawrenceville, NJ',\n",
       "  '3.0',\n",
       "  'https://www.indeed.com/cmp/Techdata-Service-Company-Llc.',\n",
       "  'Human Resources & Staffing',\n",
       "  '51 to 200',\n",
       "  'Today',\n",
       "  '2021-02-27',\n",
       "  'Data Scientist needed in Lawrenceville – 35836-1 BB35836-1 Lawrenceville, NJ 08648 12+ Months Client is looking for a Data Scientist with a translational…',\n",
       "  '$60 - $85 an hour',\n",
       "  '',\n",
       "  'https://www.indeed.com/viewjob?jk=b63ea49edb160545',\n",
       "  '',\n",
       "  ''),\n",
       " ('7c158de371eae0e6',\n",
       "  'Software Design/Development – Linux for Machine Learning Accelerator',\n",
       "  'Qualcomm Technologies, Inc.',\n",
       "  'Boulder, CO',\n",
       "  '4.1',\n",
       "  'https://www.indeed.com/cmp/Qualcomm',\n",
       "  'Information Technology',\n",
       "  'more than 10,000',\n",
       "  'Just posted',\n",
       "  '2021-02-27',\n",
       "  'Company: Qualcomm Technologies, Inc. Job Area: Engineering Group, Engineering Group > Software Engineering Job Overview: Qualcomm is a company of inventors…',\n",
       "  '',\n",
       "  '',\n",
       "  'https://www.indeed.com/viewjob?jk=7c158de371eae0e6',\n",
       "  '',\n",
       "  ''),\n",
       " ('ae36fc69949975b6',\n",
       "  'Senior Machine Learning Engineer, ML Experimentation Science',\n",
       "  'Etsy',\n",
       "  'Brooklyn, NY',\n",
       "  '4.3',\n",
       "  'https://www.indeed.com/cmp/Etsy',\n",
       "  'Retail & Wholesale',\n",
       "  '',\n",
       "  'Today',\n",
       "  '2021-02-27',\n",
       "  'Company Description Etsy is the global marketplace for unique and creative goods. We build, power, and evolve the tools and technologies that connect…',\n",
       "  '',\n",
       "  'Remote',\n",
       "  'https://www.indeed.com/viewjob?jk=ae36fc69949975b6',\n",
       "  'Job detailsJob TypeFull-time',\n",
       "  \"Company Description\\nEtsy is the global marketplace for unique and creative goods. We build, power, and evolve the tools and technologies that connect entrepreneurs with buyers around the world. As an Etsy employee, you’ll tackle unique problems alongside talented coworkers committed to Keeping Commerce Human. We're large enough that you'll focus on meaningful, complex challenges, but small enough that you can make a rewarding impact.\\n\\nJob Description\\nEtsy is an international marketplace with 65M+ handmade and vintage items from passionate artists, designers and vintage collectors.\\nWithin the central Data organization, the Experimentation Science team works to make experimentation faster and more robust for Etsy by focusing both on online experimentation and advanced experimentation techniques for machine learning (ML experimentation). We develop self service tools that are being consumed by our Machine Learning, Analytics, Engineering and Product partners.\\nWe are looking for an experienced machine learning engineer who can help build Etsy’s next generation tools for machine learning experimentation.\\nFor candidates who will work remotely from Colorado, visit this link for information related to Colorado's Equal Pay for Equal Work Act.\\n Full-time employees are also eligible for Etsy's bonus program, equity program, and amazing benefits package. See our Careers Page for more details.\\nWhat You'll Do:\\nPrototype, optimize, and productionize code for ML experimentation using a variety of existing data sources.\\nWork closely with engineers to scale ML experimentation solutions across Etsy products, e.g. interleaving, multi-armed bandits, human annotated data, off-policy evaluation etc.\\nWork closely with partners to understand their needs for ML experimentation and translate them into practical solutions.\\nCollaborate with applied scientists to evaluate the quality and fit of new methodologies in ML experimentation.\\n\\nQualifications\\n\\nYou understand that being an effective engineer is about communicating with people as much as it is about writing code.\\nYou are willing to work with and improve code you did not originally write.\\nYou can tackle unconstrained problems and know when to seek help.\\nYou are flexible with languages and tools and are willing to learn whatever is necessary to get the job done.\\nYou have experience with object-oriented programming languages: Python, Scala, etc.\\nYou have experience with machine learning frameworks (like PySpark, Scalding, etc.).\\nYou have familiarity with machine learning and deep learning solutions across the entire machine learning stack, from data collection to evaluation.\\nYou have familiarity with a few of the following: writing and scheduling ETL pipelines, writing SQL queries for exploration and analysis, tuning mapreduce jobs and cluster resources, building and monitoring cloud services, stream processing systems like Kafka Streams, Spark, or Dataflow.\\nYou have strong verbal and written communication skills.\\nAdditional Information\\nWhat's Next\\nIf you're interested in joining the team at Etsy, please send a cover letter and resume telling us why you'd be right for the position. As you’ve hopefully seen already, Etsy is a place that values individuality and variety. We don’t want you to be like everyone else — we want you to be like you! So write to us and tell us what you’re all about.\\nOur Promise\\nAt Etsy, we believe that a diverse, equitable and inclusive workplace makes us a more relevant, more competitive, and more resilient company. We encourage people from all backgrounds, ages, abilities, and experiences to apply. Etsy is an equal opportunity employer. We do not discriminate on the basis of race, color, ancestry, religion, national origin, sexual orientation, age, citizenship, marital or family status, disability, gender, gender identity or expression, pregnancy or caregiver status, veteran status, or any other legally protected status. We will ensure that individuals with disabilities are provided reasonable accommodations to participate in the job application and interview process, to perform essential job functions, and to receive other benefits and privileges of employment. While Etsy supports visa sponsorship, sponsorship opportunities may be limited to certain roles and skillsets.\"),\n",
       " ('2074f3f9e1598ff9',\n",
       "  'Data Engineer (machine learning ops)',\n",
       "  'Principal Financial Group',\n",
       "  'Des Moines, IA',\n",
       "  '3.9',\n",
       "  'https://www.indeed.com/cmp/Principal-Financial-Group',\n",
       "  'Financial Services',\n",
       "  'more than 10,000',\n",
       "  'Just posted',\n",
       "  '2021-02-27',\n",
       "  'Responsibilities What you’ll do Principal Global Investors is looking for an experienced Data Engineer focused on machine learning operations (MLOps) to…',\n",
       "  '',\n",
       "  'Remote',\n",
       "  'https://www.indeed.com/viewjob?jk=2074f3f9e1598ff9',\n",
       "  '',\n",
       "  \"Responsibilities\\nWhat you’ll do\\nPrincipal Global Investors is looking for an experienced Data Engineer focused on machine learning operations (MLOps) to work in our Investment Data & Research team! This person will help build out our digital intelligence platform and bring these capabilities to scale to align with enterprise efforts!\\nHere are some examples of the kinds of things you'll do:\\nWork with teammates to build technical solutions that are reusable, scalable, fast, and maintainable for deploying and managing machine learning models.\\nIncrease automation and improve the quality of production ML while also focusing on business and regulatory requirements.\\nExpanding and optimizing data and data pipeline architecture\\nAssist to design, implement and maintain investment product datasets in alignment with data and analytics vision and strategy.\\nSupport critical, ongoing operations while also driving new strategic solutions.\\nDevelopment and deployment of robust and scalable data platforms for sophisticated data processing and downstream consumption.\\nQualifications\\nWe’re looking for someone with:\\nBachelor's degree plus 2+years related work experience or a Master's in related field\\nStrong Software Engineering fundamentals\\nExperience deploying machine learning models into production environment\\nExperience building/operating systems for data extraction, ingestion and processing of large data sets\\nAdditional preferred technical experience/skills:\\nStrong DevOps, Data Engineering and ML background with Cloud platforms (we use AWS)\\nExperience with machine learning platforms (such as SageMaker, DataBricks)\\nExperience with machine learning frameworks/libraries (such as TensorFlow, PyTorch, Keras, scikit-learn)\\nExperience in containerization and orchestration (such as Docker, Kubernetes)\\nExperience or familiarity with MLOps tools such as MLFlow and Kubeflow\\nDistributed Computing Frameworks (such as Spark)\\nModel performance monitoring\\nNetwork Security\\nAdditional Information\\nHours\\nThis role could have on-call responsibilities.\\nLocation\\nThis role can either site remotely within the US, or at our headquarters in Des Moines, IA.\\nJob level\\nWe’ll consider talent at the next level with the right experiences and skills.\\nWork Authorization/Sponsorship\\nAt this time, we're not considering candidates that need any type of immigration sponsorship now or in the future or those needing work authorization for this role. (This includes, but is not limited to students on F1-OPT, F1-CPT, J-1, etc.)\\nInvestment Code of Ethics\\nFor Principal Global Investors positions, you’ll need to follow an Investment Code of Ethics related to personal and business conduct as well as personal trading activities for you and members of your household. These same requirements may also apply to other positions across the organization.\\nExperience Principal\\nWhile our expertise spans the globe, we're bound by one common purpose: to foster a world where financial security is accessible to all. And our success depends on the unique experiences, backgrounds, and talents of our employees – individually and all of us together. Explore our core values, benefits and why we’re an exceptional place to grow your career.\\nPrincipal is an Equal Opportunity Employer\\nAll qualified applicants will receive consideration for employment without regard to race, color, religion, sex, sexual orientation, gender identity, national origin, disability, or veteran status.\\n(PFGRB)\"),\n",
       " ('916be0ad6e5fd1a7',\n",
       "  'Software Developer Java/Microservices/BigData/Machine Learning',\n",
       "  'General Motors',\n",
       "  'Warren, MI',\n",
       "  '4.1',\n",
       "  'https://www.indeed.com/cmp/General-Motors',\n",
       "  'Automotive',\n",
       "  'more than 10,000',\n",
       "  'Just posted',\n",
       "  '2021-02-27',\n",
       "  'About GM There’s never been a more exciting time to work for General Motors. To achieve our vision of a world with Zero Crashes, Zero Emissions and Zero…',\n",
       "  '',\n",
       "  '',\n",
       "  'https://www.indeed.com/viewjob?jk=916be0ad6e5fd1a7',\n",
       "  '',\n",
       "  ''),\n",
       " ('6a10066079627b14',\n",
       "  'Sr. Machine Learning Engineer',\n",
       "  'Cars.com',\n",
       "  'Illinois',\n",
       "  '3.8',\n",
       "  'https://www.indeed.com/cmp/Cars.com',\n",
       "  '',\n",
       "  '501 to 1,000',\n",
       "  'Today',\n",
       "  '2021-02-27',\n",
       "  \"Data Engineer, Machine Learning (multiple levels) - Remote Job Description Cars.com is one of Chicago's original tech companies. Our online platform makes…\",\n",
       "  '',\n",
       "  'Remote',\n",
       "  'https://www.indeed.com/viewjob?jk=6a10066079627b14',\n",
       "  '',\n",
       "  \"Data Engineer, Machine Learning (multiple levels) - Remote\\n\\nJob Description\\n\\nCars.com is one of Chicago's original tech companies. Our online platform makes it easier for consumers to shop for, sell and service their cars. With our expert content, mobile app features, millions of new and used vehicle listings, a comprehensive set of research tools and the largest database of consumer reviews in the industry, Cars.com offers innovative products to connect consumers with dealers across the country.\\n\\nData is the driver for our future at Cars. We're searching for a collaborative, analytical, and innovative engineer to build scalable and highly performant platforms, systems and tools to enable innovations with data. If you are passionate about building large scale systems and data driven products, we want to hear from you.\\n\\nAbout the Team:\\n\\nThe Big Data and Machine Learning Engineering team at Cars.com is responsible for building Big Data pipelines and deriving insights out of the data using advanced analytic techniques, streaming and machine learning at scale.\\n\\nAbout the Role:\\n\\nWorking within a dynamic, forward thinking team environment, you will design, develop, and maintain mission-critical, highly visible Big Data and Machine Learning applications, in direct support of our business objectives. You will deploy ML models into production and integrate them into production applications for use. Furthermore, you will have the opportunity to mentor others on the team & to hone your leadership skills. You will also work in close partnership with other Engineering teams, including Data Science, & cross-functional teams, such as Product Management & Product Design.\\n\\nQualifications:\\n\\nSoftware Engineering | 3 - 5 years of designing & developing complex applications at enterprise scale; specifically Java & Scala.\\nBig Data Ecosystem | 2+ years of hands-on, professional experience with Apache Spark / Spark Streaming; Hadoop / EMR; & Kafka.\\nAWS Cloud | 2+ years of professional experience in developing Big Data applications in the cloud, specifically AWS.\\n\\nRequired Skills & Experience:\\n\\nAbility to develop Spark jobs to cleanse/enrich/process large amounts of data.\\nAbility to develop Spark streaming jobs to read data from Kafka.\\nExperience with tuning Spark jobs for efficient performance including execution time of the job, execution memory, etc.\\nSound understanding of various file formats and compression techniques.\\nAbility to understand deeply the entire architecture for a major part of the business and be able to articulate the scaling and reliability limits of that area; design, develop and debug at an enterprise level and design and estimate at a cross-project level.\\nAbility to mentor developers and lead projects of medium to high complexity.\\nExcellent communication and collaboration skills.\\n\\nBonus Skills & Experience:\\n\\nExperience in deploying ML models into production and integrating them into production applications for use.\\nExperience with Spark ML.\\nExperience with machine learning / deep learning using R, Python, Jupyter, Zeppelin, TensorFlow, etc.\\nExperience with developing REST APIs.\\n\\nPreferred:\\n\\nExperience with developing REST APIs.\\nExperience in deploying ML models into production and integrating them into production applications for use.\\nExperience with machine learning / deep learning using R, Python, Jupyter, Zeppelin, TensorFlow, etc.\\n\\n#LI-JL #LI-Remote\"),\n",
       " ('f10454881238e445',\n",
       "  'Artificial Intelligence/Machine Learning Analyst',\n",
       "  'Abtsus LLC',\n",
       "  'Fort Belvoir, VA',\n",
       "  '',\n",
       "  '',\n",
       "  '',\n",
       "  '',\n",
       "  '1 day ago',\n",
       "  '2021-02-27',\n",
       "  '* Experience with target tracking across multiple sensor modalities * Knowledge of data fusion techniques, including common and particle filters * Ability to…',\n",
       "  '$98,000 - $130,000 a year',\n",
       "  'Temporarily remote',\n",
       "  'https://www.indeed.com/viewjob?jk=f10454881238e445',\n",
       "  '',\n",
       "  ''),\n",
       " ('0c5fe551dea7a131',\n",
       "  '2021 Data Science Summer Internship',\n",
       "  'Lazard Ltd.',\n",
       "  'New York, NY',\n",
       "  '3.9',\n",
       "  'https://www.indeed.com/cmp/Lazard',\n",
       "  'Financial Services',\n",
       "  '1001 to 5,000',\n",
       "  '1 day ago',\n",
       "  '2021-02-27',\n",
       "  'The Data Science Summer Intern at Lazard will work within the Data Analytics Group. The primary responsibility is to help analyze large-scale data sets in…',\n",
       "  '',\n",
       "  '',\n",
       "  'https://www.indeed.com/viewjob?jk=0c5fe551dea7a131',\n",
       "  '',\n",
       "  ''),\n",
       " ('3e85bfe6248f9efa',\n",
       "  'AI/ML- Machine Learning Engineer - Siri Data',\n",
       "  'Apple',\n",
       "  'Seattle, WA',\n",
       "  '4.2',\n",
       "  'https://www.indeed.com/cmp/Apple',\n",
       "  'Manufacturing',\n",
       "  'more than 10,000',\n",
       "  '1 day ago',\n",
       "  '2021-02-27',\n",
       "  'Summary Posted: Feb 22, 2021 Role Number:200224763 Would you like to play a part in the next revolution in human-computer interaction? Contribute to a product…',\n",
       "  '',\n",
       "  '',\n",
       "  'https://www.indeed.com/viewjob?jk=3e85bfe6248f9efa',\n",
       "  '',\n",
       "  ''),\n",
       " ('f2405eb4fca6a541',\n",
       "  'Senior AI Implementer (Remote Option)',\n",
       "  'Humana',\n",
       "  'Boston, MA',\n",
       "  '3.7',\n",
       "  'https://www.indeed.com/cmp/Humana',\n",
       "  'Healthcare',\n",
       "  'more than 10,000',\n",
       "  'Today',\n",
       "  '2021-02-27',\n",
       "  'You have an opportunity to join Humana’s Digital Health & Analytics (DH&A) organization to build a world-class Data Science and Insights enterprise capability…',\n",
       "  '',\n",
       "  'Remote',\n",
       "  'https://www.indeed.com/viewjob?jk=f2405eb4fca6a541',\n",
       "  '',\n",
       "  \"You have an opportunity to join Humana’s Digital Health & Analytics (DH&A) organization to build a world-class Data Science and Insights enterprise capability, leveraging digital-first platforms, advanced analytics, and agile development methodologies. The AI Implementer identifies and translates business use cases, applying business domain knowledge to ensure developed solutions fully meet business needs and are successfully adopted and integrated into core business processes and systems.\\n\\n\\n\\n\\n\\n\\nThis role works on problems of diverse scope and complexity ranging from moderate to substantial. The AI Implementer monitors performance and recommends scope and schedule changes, cost adjustments or resource additions. Provides timely and accurate information and status updates to key stakeholders. May be responsible for feasibility studies, field trials management, identifying product gaps, defining business needs and understanding market and customer trends.\\nResponsibilities\\nDescription\\nYou have an opportunity to join Humana’s Digital Health & Analytics (DH&A) organization to build a world-class Data Science and Insights enterprise capability, leveraging digital-first platforms, advanced analytics, and agile development methodologies. The AI Implementer identifies and translates business use cases, applying business domain knowledge to ensure developed solutions fully meet business needs and are successfully adopted and integrated into core business processes and systems.\\nThis role works on problems of diverse scope and complexity ranging from moderate to substantial. The AI Implementer monitors performance and recommends scope and schedule changes, cost adjustments or resource additions. Provides timely and accurate information and status updates to key stakeholders. May be responsible for feasibility studies, field trials management, identifying product gaps, defining business needs and understanding market and customer trends.\\nKey Responsibilities\\nAI Implementers must be able to do the following:\\nUnderstand, clearly define, and translate business needs into data and analytics solutions\\nLeverage capabilities of DH&A data and platforms, and their roadmaps\\nIdentify and help prioritize high value use cases for machine learning and do what it takes to make them successful\\nCommunicate detailed business goals to Data Scientists in order to create analytic solutions\\nEffectively identify and communicate the value of AI and ML in the business context\\nManage stakeholder expectations from development to deployment\\nMonitor and ensure continued adoption and expected business value\\nApply an entrepreneurial mind set: demonstrate bias for action, commitment and business-savvy to navigate the many technical, political and organizational roadblocks that may emerge\\nProvide input to solution architect to formulate and refine solution to meet customer needs\\nWork with DH&A and IT prioritization processes to secure resources\\nEstablish and report on epics, objectives, and key results.\\nRequired Skills & Qualifications\\nBachelor's degree in a quantitative field (e.g., Statistics, Business Analytics, Mathematics, Engineering, Data Science) and 5 years of relevant experience\\nOr equivalent and 2+ years of project leadership experience or management / population health with minor or experience in data and analytics.\\nAbility to build trusting and collaborative relationships with stakeholders and diverse, cross-functional teams\\nStrong analytical thinker with the ability to deliver high-quality work in a structured, disciplined and time-conscious manner\\nExcellent interpersonal, verbal and written communication skills\\nAbility to operate in both strategic and tactical environments, accommodating for global-level needs\\nPreferred Qualifications\\nMBA or technical Master's degree (e.g., Information Management, Engineering, Statistics, Data Science)\\nHealthcare experience a plus\\nExperience analyzing, designing and implementing large scale business and performance management solutionsStrong intuitive understanding of Humana’s data and how it can be used to solve customer problems\\nExperience with cloud based technologies, platforms, data, analytics, and machine learning\\nScheduled Weekly Hours\\n40\"),\n",
       " ('3f373f1a1e8a0df2',\n",
       "  'Data Engineer with Machine Learning',\n",
       "  'Digital Dhara',\n",
       "  'San Francisco Bay Area, CA',\n",
       "  '',\n",
       "  '',\n",
       "  '',\n",
       "  '',\n",
       "  'Today',\n",
       "  '2021-02-27',\n",
       "  '*Data Engineers; 3 roles Location- Bay area or New Jersey ( ok with remote as of now) 12 Months * Expectation is resources should be working from…',\n",
       "  'From $60 an hour',\n",
       "  'Temporarily remote',\n",
       "  'https://www.indeed.com/viewjob?jk=3f373f1a1e8a0df2',\n",
       "  '',\n",
       "  ''),\n",
       " ('81b5c0b3f564668a',\n",
       "  'Senior Machine Learning Scientist - Protein Design',\n",
       "  'Novo Nordisk',\n",
       "  'Seattle, WA',\n",
       "  '4.1',\n",
       "  'https://www.indeed.com/cmp/Novo-Nordisk,-Inc.',\n",
       "  'Pharmaceutical & Biotechnology',\n",
       "  'more than 10,000',\n",
       "  '1 day ago',\n",
       "  '2021-02-27',\n",
       "  'About the Department At Novo Nordisk Research Center Seattle, Inc. (NNRCSI) our scientists apply cutting-edge technologies to early R&D projects with the…',\n",
       "  '',\n",
       "  '',\n",
       "  'https://www.indeed.com/viewjob?jk=81b5c0b3f564668a',\n",
       "  '',\n",
       "  ''),\n",
       " ('2b735cd17a32bf88',\n",
       "  'Machine Learning Engineer-Deployment on Cloud -REMOTE',\n",
       "  'Kloud9',\n",
       "  'Remote',\n",
       "  '',\n",
       "  '',\n",
       "  '',\n",
       "  '',\n",
       "  'Just posted',\n",
       "  '2021-02-27',\n",
       "  'Machine Learning Engineer-Deployment-REMOTE Job Description *As the Machine Learning Engineer, you will work along side the Data Science team to…',\n",
       "  '$185,000 - $210,000 a year',\n",
       "  '',\n",
       "  'https://www.indeed.com/viewjob?jk=2b735cd17a32bf88',\n",
       "  'Job detailsSalary$185,000 - $210,000 a yearJob TypeFull-timeContractNumber of hires for this role2 to 4',\n",
       "  \"Machine Learning Engineer-Deployment-REMOTEJob DescriptionAs the Machine Learning Engineer, you will work along side the Data Science team to operationalize the Machine Learning Models in Production on a broad set of domains that power a data-driven transformation of our standard business procedures across channels and organizations. You will develop and deploy novel approaches to optimizie existing machine learning systems to maximize their value and increase consumer satisfaction at every brand touchpoint.Identify new opportunities to improve business processes and improve consumer experiences, and prototype solutions to demonstrate value with a crawl, walk, and run mind set.· Implement end-to-end solutions for batch and real-time algorithms along with requisite tooling around monitoring, logging, automated testing, performance testing and A/B testing· Work with data scientists and analysts to create and deploy new product features on the ecommerce website, in-store portals and the mobile app· Establish scalable, efficient, automated processes for data analyses, model development, validation and implementation· Write efficient software to ship products in an iterative, continual -release environment· Contribute to and promote good software engineering practices across the team· Contribute to and re-use community best practicesBesides Driving The Transformation to a Data-driven Enterprise In General, Here Are Some Specific Projects You Will Work On And Contribute To· Personalized in-session product recommendation engine· Customer Segmentation· Automated text summarization and clustering· Next-Best offer prediction· Design Micro assortments for Next-Gen stores· Anomaly detection and Root Cause Analysis· Unified consumer profile with probabilistic record linkage· Visual search for similar and complementary productsJob Specification· University or advanced degree in engineering, computer science, mathematics, or a related field· 5-7 years’ experience developing and deploying machine learning systems into production· Experience working with a variety of relational SQL and NoSQL databases· Experience working with big data tools: Hadoop, Spark, Kafka , etc .· Experience with at least one cloud provider solution (AWS, GCP, Azure)· Experience with object-oriented/object function scripting languages: Python, Java, C++, Scala , etc .· Experience working in a Linux environment· Knowledge of data pipeline and workflow management tools· Expertise in standard software engineering methodology, e.g. unit testing, test automation, continuous integration, code reviews, design documentationJob Types: Full-time, ContractPay: $185,000.00 - $210,000.00 per yearBenefits:Health insuranceSchedule:8 hour shiftEducation:Bachelor's (Preferred)Experience:Machine Learning: 5 years (Preferred)MLOps: 2 years (Preferred)Contract Renewal:LikelyWork Location:Fully RemoteCompany's website:www.kloud9.nycCOVID-19 Precaution(s):Remote interview process\"),\n",
       " ('3bb739b41d865716',\n",
       "  'Sr Software Engineer, Machine Learning - Recommendations',\n",
       "  'Etsy',\n",
       "  'Brooklyn, NY',\n",
       "  '4.3',\n",
       "  'https://www.indeed.com/cmp/Etsy',\n",
       "  'Retail & Wholesale',\n",
       "  '',\n",
       "  'Today',\n",
       "  '2021-02-27',\n",
       "  'Company Description Etsy is the global marketplace for unique and creative goods. We build, power, and evolve the tools and technologies that connect…',\n",
       "  '',\n",
       "  'Remote',\n",
       "  'https://www.indeed.com/viewjob?jk=3bb739b41d865716',\n",
       "  '',\n",
       "  \"Company Description\\nEtsy is the global marketplace for unique and creative goods. We build, power, and evolve the tools and technologies that connect entrepreneurs with buyers around the world. As an Etsy employee, you’ll tackle unique problems alongside talented coworkers committed to Keeping Commerce Human. We're large enough that you'll focus on meaningful, complex challenges, but small enough that you can make a rewarding impact.\\n\\nJob Description\\nAbout the team\\nOur teams are responsible for recommendations. Our aim is to present the best of Etsy’s inventory. As an engineer on our team, you will play a major role in improving the shopping experience for millions of Etsy buyers. We’re a cross-functional group of engineers, data scientists, product managers, designers, and researchers.\\nWith your help, we are giving our buyers better tools to find what they are looking for and to help them form a connection with our sellers. In this role, you will put your skills to use by helping us improve the ranking and suggestions of localized results through machine learning algorithms. You will also build workflows and pipelines to optimally transform data into appropriate results for our buyers. You will join a hardworking team of engineers to collaborate on all of these projects.\\nIn this role, you will have the opportunity to work with our Data Science and ML team, Data Platform team and many more product squads. We’re a growing team with a huge impact that builds tools and platform capabilities for data scientists and ML engineers to access feature data, build machine learning models, test hypotheses and productionize them on our ML platform hosted in Google Cloud. We value empathy, communication and technical skills equally. Here’s a taste of the problems we’re solving:How can we help someone find that flawless item, even when they don’t know what they’re looking for?How can the recommendations experience make Etsy come to life and feel as vibrant as the community of makers that’s behind it?How can we understand buyer’s motives and interests to personalize their experience?How can we help buyers to explore the breadth of Etsy's inventory?\\nOur production systems rely on PHP, JavaScript, Java, Python and Scala; we are proud to have an engineering culture that encourages career growth and learning. You can learn more about our philosophies, tools, and some of the challenges we’ve been solving on our Engineering blog: http://codeascraft.com/ (http://codeascraft.com/)\\nWe are language-agnostic in our approach to interviewing.\\nThis role is located (eventually) in either our SF office or our Brooklyn HQ. We are also able to hire remotely within the US & Canada.\\nFor candidates who will work remotely from Colorado, visit this link for information related to Colorado's Equal Pay for Equal Work Act.\\n\\nQualifications\\nExperience with objective-oriented programming languages: Python, Java, Scala, etc.Familiarity with machine learning and deep learning solutions across the entire machine learning stack, from data collection to evaluationExperience with machine learning frameworks (like PySpark, Scalding, etc.)Strong verbal and written communication skills.\\nAbout the role\\nIn this role you will:\\nContribute at all levels of Etsy’s recommendations stack, ranging from application back-end technologies (PHP, Java, Python, MySQL, Scala, Vertica) as well as machine learning stack (PySpark, Scalding, Airflow).\\nWork multi-functionally with various engineering teams (e.g. machine learning infrastructure, data science, search experience), participating in design, prioritization and implementation.\\nDevelop and train machine learning data sources and models, both to iterate on existing features and develop new features.\\nUse feature engineering tools and principles to clean and transform data into signals driving listing quality\\nDeploy models to production, sometimes including application development for your feature.\\nProvide detailed and constructive design and code reviews.\\nEmpathy, communication, and technical skill are valued equally.\\nAbout you\\nYou will do well in this role if you:\\nEnjoy thinking about the implications of your work on end users.\\nYou are comfortable collaborating with Product Managers, Data Analysts, and Designers to ensure that you’re delivering impactful product features.\\nHave experience operating within a large codebase and working to build simplicity from sophisticated systems, including using experiments and data to drive decision making.\\nAre an analytical problem solver and understand how to wield data to make informed decisions about your work.\\nWrite understandable, testable code with an eye towards maintainability.\\nYou turn ideas into deeply reliable and well-tested code that other people – or you, six months into the future – will find easy to comprehend and modify.\\nYou have worked with machine learning and understand the needs of data scientists and ML engineers.\\nYou have proven engineering and coding skills, data structure knowledge and ability to write high performance production quality code.\\nAdditional Information\\nWhat's Next\\nIf you're interested in joining the team at Etsy, please send a cover letter and resume telling us why you'd be right for the position. As you’ve hopefully seen already, Etsy is a place that values individuality and variety. We don’t want you to be like everyone else — we want you to be like you! So write to us and tell us what you’re all about.\\nOur Promise\\nAt Etsy, we believe that a diverse, equitable and inclusive workplace makes us a more relevant, more competitive, and more resilient company. We encourage people from all backgrounds, ages, abilities, and experiences to apply. Etsy is an equal opportunity employer. We do not discriminate on the basis of race, color, ancestry, religion, national origin, sexual orientation, age, citizenship, marital or family status, disability, gender, gender identity or expression, pregnancy or caregiver status, veteran status, or any other legally protected status. We will ensure that individuals with disabilities are provided reasonable accommodations to participate in the job application and interview process, to perform essential job functions, and to receive other benefits and privileges of employment. While Etsy supports visa sponsorship, sponsorship opportunities may be limited to certain roles and skillsets.\"),\n",
       " ('c980d7099c9e7321',\n",
       "  'Product Manager, New Frontiers - Machine Learning - Location Flexible',\n",
       "  'Dropbox',\n",
       "  'California',\n",
       "  '3.9',\n",
       "  'https://www.indeed.com/cmp/Dropbox',\n",
       "  'Information Technology',\n",
       "  '1001 to 5,000',\n",
       "  '1 day ago',\n",
       "  '2021-02-27',\n",
       "  'Role Description This role offers an exciting opportunity to work across our customer segments to identify which use cases and opportunities are best tackled…',\n",
       "  '',\n",
       "  'Remote',\n",
       "  'https://www.indeed.com/viewjob?jk=c980d7099c9e7321',\n",
       "  '',\n",
       "  \"Role Description\\nThis role offers an exciting opportunity to work across our customer segments to identify which use cases and opportunities are best tackled with machine learning. Dropbox cannot fulfill our mission of enabling an enlightened way of work without investing in technologies that deliver an exceptional experience to our users at scale — machine learning is a critical part of that investment.\\n\\nAs a Product Manager on the Machine Learning (ML) team in New Frontiers, you will help execute the vision and strategy for how we maximize the value of our ML platform across our portfolio of products to deliver the greatest value for our users. You will be a subject matter expert on applying ML to Dropbox products, informing which problems are best tackled with ML and partner closely with product managers, researchers and designers to prioritize, design and deploy applied ML experiments that drive business impact. You will ideate, design and partner to deploy experimental ML-forward products that aim to empower Dropbox consumer and professional users alike.\\n\\nIn this role, you will partner with a world class team of Machine Learning Engineers, Designers, Researchers, and Analysts to understand users' needs and build ML solutions that help users do more with Dropbox.\\nResponsibilities\\nYou will be a key player in turning Dropbox's intelligence strategy into a prioritized roadmap of initiatives and executing in a fast changing technical and market landscape\\nYou will inform and expand Dropbox's understanding of data assets (user, activity, content) through your work\\nYou will identify new opportunities to improve products for users and drive outsized impact through AI/ML\\nYou will maintain a solid understanding of in-flight projects and features across Dropbox and be an internal champion for adoption of smart capabilities\\nYou will improve Dropbox's intelligence platform across segment and surface by deploying new and compelling building blocks\\nYou will evaluate products across Dropbox and hold the standard for how smart a solution should be\\nRequirements\\n5+ years of product management experience, ideally with productivity and collaboration products or AI/ML technologies and platforms\\nUser-driven approach embodied in past work that meaningfully translate customer problems into solutions that leverage intelligence\\nDemonstrated ability to successfully design and deploy 0-to-1 features and functionality, and package them for reuse\\nDemonstrated technical proficiency and effectiveness working closely with senior engineers\\nStrong influence and cross-functional collaboration skills; able to create clarity and drive focus in complex and dynamic contexts\\nNice to Have: BS or MS in computer science, data science, machine learning or similar or experience as an Engineer, Designer, Researcher\"),\n",
       " ('2f052cb9dd3bfd94',\n",
       "  'Data Analyst, Applied ML',\n",
       "  'LockerDome, Inc.',\n",
       "  'Remote',\n",
       "  '',\n",
       "  '',\n",
       "  '',\n",
       "  '',\n",
       "  'Today',\n",
       "  '2021-02-27',\n",
       "  'LockerDome is an ad platform with a brain, designed specifically for performance-based advertising. The brain behind the platform is Neo, an in-house AI,…',\n",
       "  '',\n",
       "  '',\n",
       "  'https://www.indeed.com/viewjob?jk=2f052cb9dd3bfd94',\n",
       "  '',\n",
       "  'LockerDome is an ad platform with a brain, designed specifically for performance-based advertising. The brain behind the platform is Neo, an in-house AI, which uses machine learning to process billions of data points and make intelligent decisions at lightning speed. Learn more at lockerdome.com.\\nAs a Data Analyst on the Applied ML team, you will help design data models that enable decision making at scale.\\nYour skills should include:\\nDegree in a scientific or quantitative field, or proven proficiency in these areasStrong business intuitionStrong command of machine learning concepts and toolingStrong command of a data-focused programming language, such as Python or RAbility to learn new skills and information sets quickly\\nResponsibilities:\\nExplore massive data sets and identify trendsBuild predictive models that improve prediction accuracyBuild decision models that automate decision making at scale\\nWork from anywhere:\\nWe know world-class talent lives all over the country, so we’re proud to offer employees the flexibility to work remotely from anywhere in the U.S. Whether it’s your living room, an Airbnb, or one of LockerDome’s hubs in St. Louis or Austin, every employee can choose a work environment that best suits their lifestyle or mood.\\nPowered by JazzHR\\ntCTxB3xWkI'),\n",
       " ('6a533877750d8807',\n",
       "  'Machine Learning Engineering, Platform - Equinox Plus',\n",
       "  'EQUINOX',\n",
       "  'New York, NY',\n",
       "  '3.6',\n",
       "  'https://www.indeed.com/cmp/Equinox-1',\n",
       "  'Consumer Goods and Services',\n",
       "  'more than 10,000',\n",
       "  '1 day ago',\n",
       "  '2021-02-27',\n",
       "  'Machine Learning Engineering, Platform - Equinox Plus Overview Equinox Media was formed with the aim of developing transformative technologies, media, and…',\n",
       "  '',\n",
       "  '',\n",
       "  'https://www.indeed.com/viewjob?jk=6a533877750d8807',\n",
       "  '',\n",
       "  ''),\n",
       " ('8ebd5331c9582df9',\n",
       "  'Staff Artificial Intelligence/Machine Learning (AI/ML) Engineer',\n",
       "  'Sikorsky Aircraft Corporation',\n",
       "  'United States',\n",
       "  '4.0',\n",
       "  'https://www.indeed.com/cmp/Sikorsky-Aircraft-Corporation',\n",
       "  'Manufacturing',\n",
       "  '',\n",
       "  'Just posted',\n",
       "  '2021-02-27',\n",
       "  'Save Job About Us Success Profile Meet Our Employees Benefits Job Responsibilities Related Content Share Location About At Lockheed Martin, we apply our…',\n",
       "  '',\n",
       "  'Remote',\n",
       "  'https://www.indeed.com/viewjob?jk=8ebd5331c9582df9',\n",
       "  '',\n",
       "  \"Save Job\\nAbout Us\\nSuccess Profile\\nMeet Our Employees\\nBenefits\\nJob Responsibilities\\nRelated Content\\nShare\\nLocation\\nAbout\\nAt Lockheed Martin, we apply our passion for purposeful innovation to keep people safe and solve the world's most complex challenges.\\nMission-Focused Innovation: From aerospace to outer space to cyber space, you can solve the world's most complex challenges for our customers.\\nFoundational Values: Our culture of performance excellence, ethics, teamwork and inclusion is embedded in everything we do.\\nDiverse Career Opportunities with Meaningful Work: Grow your career and skills for life. Our technology-driven learning platforms and programs enable your development and agility.\\nYour Health, Your Wealth, Your Life: Our flexible schedules, competitive pay and comprehensive benefits enable you to live a healthy, fulfilling life at and outside of work.\\nEmpowered to Be Your Best: Use your strengths to make a difference in the lives of one another, our customers, our communities and our planet.\\nHere, the possibilities are endless because we offer:\\nFlexible Schedules, dependent on role\\nLevels: Student, Entry, Mid, Senior, Management\\nLocations: Nationwide & OCONUS Positions\\nBack to Job Navigation (About)\\nQualifications\\nSee what it takes to be a successful Lockheed Martin employee.\\nCollaborative\\nThere is no innovation without imagination. You bring new, different and exciting ideas to the table every day. You are committed to the success of your team.\\nCurious\\nThe ability to explore and drive new ideas. You think innovatively to come up with creative solutions to complex challenges.\\nGoal-oriented\\nFrom planning and organizing to decision making, goal orientation produces impactful results. You set goals and strive to make things happen quickly and efficiently.\\nProactive\\nThe ability to anticipate, plan and prepare for what lies ahead. You act rather than react to potential situations.\\nProblem Solver\\nYou work to tackle tough problems with complex solutions.\\nStrategic\\nYou observe, reflect and analyze processes to make more informed decisions.\\nBack to Job Navigation (Qualifications)\\nQuote\\n“Before I came to Lockheed Martin, I never thought I’d get these opportunities. The benefits available and the company’s value culture make it an incredibly supportive place to work, and I’m grateful to work somewhere that wants me to succeed. I hope to have a long career here making an impact, and I know I’ll be supported in doing that every step of the way.”\\nRyan J., Enterprise Operations\\nBenefits\\nHealthcare\\nMedical, Dental and Vision coverage is available for employees who opt-in.\\n401(k)/Retirement Plans\\nOur 401(k) plan features generous matching and company contributions.\\nProfessional Development\\nWe support our employees through mentoring, internal & external educational programs, networking, skills enhancement and career-building programs.\\nMaternity and Paternity Leave\\nOur generous parental leave policies support your journey into parenthood. When you return to work, our facilities offer mother's rooms to support your transition and work/life balance.\\nPaid Time Off\\nWe offer PTO, paid holidays and paid time off for jury duty and military obligations.\\nFlex-time\\nDepending on the position, we offer flexible work schedules.\\nBack to Job Navigation (Benefits)\\nJob Responsibilities\\n\\nStaff Artificial Intelligence/Machine Learning (AI/ML) Engineer\\n\\nLittleton, Colorado, Louisville, Colorado\\n\\nJob ID: 550802BR Date posted: Feb. 24, 2021 Locations: Littleton, Colorado, Louisville, Colorado Description:At the dawn of a new space age, Lockheed Martin is a pioneer, partner, innovator and builder. Our amazing people are on a mission to make a difference in the world and every single day we use our unique skills, talents and experiences to design and build solutions to some of the world's hardest engineering problems. Do you want to be part of a culture that inspires employees to envision the impossible, perform with excellence and build incredible products? We provide the resources, inspiration and focus. If you have the passion and courage to dream big, then we want to build a better tomorrow with you.\\n\\nWe are searching for a Artificial Intelligence/Machine Learning Research Scientist to join our exceptional team. This position will be working across several Lockheed Martin Business Areas (BAs) to build and deploy AI/ML models into air, land, sea, AND Space! This position will provide a unique experience mix with research, prototype development, and software to hardware toolchain development all within the domain of AI/ML software and targeted hardware platforms.\\n\\nAs an AI/ML Research Scientist, you will work with guidance from project leaders and technical leads to:\\n\\nDevelop, integrate, and implement products to assist adding perception, motion/mission planning, controls, etc. functionality in LM products and platformsTranslate requirements and apply requirements to development code, integrating autonomy, AI or machine learning algorithms to LM products and platformsDetermine software methods to best acquire and execute knowledgeImplement algorithms into software to aide in development of systems which can recognize patterns and perform specific functionsBe responsible for various phases of developing and maintaining AI-based software from requirements generation, software design and development to integration, testing, troubleshooting and debugging, and implementationReview test outcomes, conducts troubleshooting, and works to debug issuesInterface with other teams involved the development lifecycle for perception, mission and motion planning, simulation and modeling, testing, etc.\\nWe are looking for someone with a strong problem solving mindset: ability to develop create solutions to difficult problems often requiring integration of conflicting and, at times, ambiguous or incomplete data on a fast-paced schedule. You should have the demonstrated ability to effectively communicate complex design information, technical decision and issues to both highly technical and non-technical peers. We are also looking for the ability to build and maintain relationships, collaborate with others, engage in constructive conflict, and manage interpersonal dynamics. You should also be comfortable working in a fast paced and dynamic multi-disciplinary environment.\\n\\n\\nYou would typically have a Bachelors degree and 9-15 years of professional experience or a Masters and 7-13 years, or a PhD and 4-10 years.\\n\\n\\nTo promote the sharing of ideas, Lockheed Martin fosters an inclusive work environment that encourages differences and big-picture thinking.\\n\\nOur employees play an active role in strengthening the quality of life where we live and work by volunteering more than 850,000 hours annually. Here are some of the benefits you can enjoy:\\nMedicalDental401kPaid time offWork/life balanceCareer developmentMentorship opportunitiesRewards & recognition\\nBasic Qualifications:\\nExperience with advanced AI/ML techniques, and integrating their outputs with applications running on various platforms (especially RF-enabled)Experience with AI/ML domain programming languages (e.g. Python, C++, Java, GO, MatLab, etc.)Expertise with communications protocols, e.g. RF and/or 5GAptitude with DevOps technologies such as Python, Docker, and/or KubernetesExperience developing applications on Linux or similarExperience interfacing with databases (SQL, MongoDB, etc.)Familiarity with high-performance computingCurrent TS/SCI clearance\\nDesired Skills:\\nDesired skills :\\nDemonstrated proficiency in designing efficient algorithms and performing analysis with a numerical scripting language such as Python, R or MATLAB (preferably in Python) Other Important Information You Should Know Expression of Interest: By applying to this job, you are expressing interest in this position and could be considered for other career opportunities where similar skills and requirements have been identified as a match. Should this match be identified you may be contacted for this and future openings.Ability to Work Remotely: Onsite Full-time: The work associated with this position will be performed onsite at a designated Lockheed Martin facility.Work Schedules: Lockheed Martin supports a variety of alternate work schedules that provide additional flexibility to our employees. Schedules range from standard 40 hours over a five day work week while others may be condensed. These condensed schedules provide employees with additional time away from the office and are in addition to our Paid Time off benefits.Schedule for this Position: 4x10 hour day, 3 days off per weekSecurity Clearance Statement: This position requires a government security clearance, you must be a US Citizen for consideration.Clearance Level: TS/SCI Lockheed Martin is an Equal Opportunity/Affirmative Action Employer. All qualified applicants will receive consideration for employment without regard to race, color, religion, sex, pregnancy, sexual orientation, gender identity, national origin, age, protected veteran status, or disability status. Join us at Lockheed Martin, where your mission is ours. Our customers tackle the hardest missions. Those that demand extraordinary amounts of courage, resilience and precision. They’re dangerous. Critical. Sometimes they even provide an opportunity to change the world and save lives. Those are the missions we care about.\\nAs a leading technology innovation company, Lockheed Martin’s vast team works with partners around the world to bring proven performance to our customers’ toughest challenges. Lockheed Martin has employees based in many states throughout the U.S., and Internationally, with business locations in many nations and territories.Experience Level: Experienced ProfessionalBusiness Unit: SPACERelocation Available: PossibleCareer Area: Artificial Intelligence Type: Full-Time Shift: First\"),\n",
       " ('d6f66547c941bac1',\n",
       "  'Solutions Architect, Director Digital Services',\n",
       "  'CollabraLink Technologies',\n",
       "  'McLean, VA',\n",
       "  '3.6',\n",
       "  'https://www.indeed.com/cmp/Collabralink-Technologies',\n",
       "  'Information Technology',\n",
       "  '201 to 500',\n",
       "  '1 day ago',\n",
       "  '2021-02-27',\n",
       "  'At CollabraLink, we’re committed to providing federal clients with simple and intuitive solutions that increase efficiency and enhance citizen engagement.…',\n",
       "  '',\n",
       "  'Remote',\n",
       "  'https://www.indeed.com/viewjob?jk=d6f66547c941bac1',\n",
       "  'Job detailsJob TypeFull-timeNumber of hires for this role1',\n",
       "  \"At CollabraLink, we’re committed to providing federal clients with simple and intuitive solutions that increase efficiency and enhance citizen engagement. Using advanced technology, rigorous processes and trusted guidance, we’re making government more interactive, productive and secure. Our employees are our greatest asset. Our goal is to create an environment where employees can do important, purposeful work and be rewarded for individual and team success.CollabraLink is seeking a Director, Solutions Architect to join our Digital Services Growth team. This position can be remote, with travel to HQ as needed. Experience with federal government IT solutioning is required.Responsibilities: As Director Solutions Architect – Digital Services, you will provide technical thought leadership throughout all phases of our pre-award business development cycles, supporting our business development team as CollabraLink expands its federal government Digital Services practice. You will be responsible for guiding future customers to long-term value and successfully solve their most complex technical challenges.This position requires a technical leader who can work comfortably and simultaneously in a business, engineering, information technology, design, and operations environment. A successful candidate will understand customers' needs and translate them into a well-articulated solution and capture strategy. If you are the type of technical leader who can’t wait to grab the (virtual) marker and hit the whiteboard to brainstorm ideas with federal IT leaders, you are the ideal candidate!As Director Solutions Architect – Digital Services, you will:Work closely with Business Development, Capture, Proposal, and Operations to recommend forward-thinking yet implementable technology solutionsProvide exceptional Technical Design, and thought leadershipProvide insightful understanding of customer business challenges and priorities and align technical solutions to solve themFollow and understand technology trends to recommend future solutions and service offeringsEnsure proposed solutions properly align with customer cost objectives and price to win objectivesEnsure proposed solutions are compliant with CollabraLink’s Pillars of Quality (Usability, Technical Feasibility, and Business Value delivery)Lead strategic technical proposal development and reviewsProvide transition support and guidance from pre- to post-award by assisting in technical staffing and participating in project launchAbout You: You are a sales-minded problem-solver with strong technical skillsYou can communicate fluently with senior business executives, salespeople, product managers, researchers, and developersYou love digging into code as much as polishing sales presentationsYou are creative and skilled at coming up with technical solutions to help tackle business problemsYou are familiar with enterprise platforms and software tools including data, analytics, cloud, and automationYou are skilled at scoping, prioritizing and leading projects from start to finishYou thrive with autonomy and enjoy taking ownership of your work and its resultsYou are comfortable using diverse platforms and toolsYou have energy for learning new things, and for sharing what is learned with your colleagues to help them level upYou love to stay on top of technology trends and envision ways to make them usefulYou live by the following: Ownership, Empathy, Openness, and Better Every DayRequired Experience: 10+ years of experience in a technical pre-sale, sales engineering, solution architect, or similar roleStrong communication, presentation skills and ability to lead a conversation with diverse audiencesExperience communicating technical concepts to non-technical audiencesCoding proficiency in one or more languagesExtensive experience working with cloud platforms such as AWS, Azure, and Google Cloud PlatformExperience integrating Data Science, Artificial Intelligence, and Machine Learning into cloud-based solutionsKnowledge of Human Centered Design, Product Management, and Agile deliveryExperience leading multiple teams through a open source, full-stack solution implementations of medium or large scale using DevOps and CI/CD methodsBachelor’s or Master’s degree in Computer Science, Information Systems or a related disciplineAbility to obtain a security clearance with the federal governmentUS CitizenPreferred Experience: AWS Certified Solutions Architect - ProfessionalBig Data certificationsGSA experienceWe actively practice the philosophy that empowered employees make successful teams. That’s why we strive to put employees in positions where they can grow, both personally and professionally. CollabraLink offers a full suite of benefits including comprehensive medical, dental and vision plans, Flexible Spending Accounts, matching 401K, paid time off, tuition reimbursement plans and much more.CollabraLink is a fast-growing CMMI-DEV Maturity Level 3, Small Business professional services firm. Founded in 2003, CollabraLink has long established ourselves as a value-add partner assisting our customers in solving their most difficult problems. We bring expertise across a wide variety of IT and Mission Support services driving significant results for our customers.CollabraLink is an Affirmative Action and Equal Opportunity Employer. All qualified applicants will receive consideration for employment without regard to race, color, religion, sex, sexual orientation, gender identity, national origin, or protected veteran status and will not be discriminated against on the basis of disability. NOTE: After passing an initial resume screen, down-selected candidates will be instructed to send a write-up with a few of the hardest problems they have solved & exactly how they solved them.Benefits:Flexible working hoursJob Type: Full-timeExperience:aws: 10 years (Required)Education:Bachelor's (Required)Work authorization:United States (Required)COVID-19 Precaution(s):Remote interview processVirtual meetings\")]"
      ]
     },
     "execution_count": 281,
     "metadata": {},
     "output_type": "execute_result"
    }
   ],
   "source": [
    "records"
   ]
  },
  {
   "cell_type": "code",
   "execution_count": 401,
   "metadata": {},
   "outputs": [
    {
     "data": {
      "text/plain": [
       "array([], dtype=float64)"
      ]
     },
     "execution_count": 401,
     "metadata": {},
     "output_type": "execute_result"
    }
   ],
   "source": [
    "np.array([])"
   ]
  },
  {
   "cell_type": "code",
   "execution_count": 383,
   "metadata": {},
   "outputs": [
    {
     "data": {
      "text/plain": [
       "(array(['51d2ea04d15fbf1f', '571e360548a8d0c1', '2f143848e64c0573',\n",
       "        '32e4ffa91d91f8ed', '517da30c1f7ab5f0', 'eb71688408d695be',\n",
       "        'd2a2d1dba9456a6d', 'd080318aa423d790', '558379216e05a524',\n",
       "        'd9c74d0d57cd11f2', '9bfea2a8b8774194', 'e874bf89e3161b17',\n",
       "        'a078eabd7f5b3f38', '1145d029b0d268ae'], dtype='<U10786'),\n",
       " 15)"
      ]
     },
     "execution_count": 383,
     "metadata": {},
     "output_type": "execute_result"
    }
   ],
   "source": [
    "id_array, len(records)"
   ]
  },
  {
   "cell_type": "code",
   "execution_count": 402,
   "metadata": {},
   "outputs": [
    {
     "data": {
      "text/plain": [
       "tuple"
      ]
     },
     "execution_count": 402,
     "metadata": {},
     "output_type": "execute_result"
    }
   ],
   "source": [
    "type(records[11])"
   ]
  },
  {
   "cell_type": "markdown",
   "metadata": {},
   "source": [
    "## Getting the next page\n"
   ]
  },
  {
   "cell_type": "code",
   "execution_count": 233,
   "metadata": {},
   "outputs": [
    {
     "data": {
      "text/plain": [
       "<html>\n",
       "<head>\n",
       "<title>hCaptcha solve page</title>\n",
       "<script async=\"\" defer=\"\" src=\"https://www.hcaptcha.com/1/api.js\"></script>\n",
       "</head>\n",
       "<body>\n",
       "<form action=\"/jobs?q=machine+learning&amp;fromage=1&amp;start=120\" method=\"POST\">\n",
       "<div class=\"h-captcha\" data-sitekey=\"eb27f525-f936-43b4-91e2-95a426d4a8bd\"></div>\n",
       "<br/>\n",
       "<input type=\"submit\" value=\"Submit\"/>\n",
       "</form>\n",
       "</body>\n",
       "</html>"
      ]
     },
     "execution_count": 233,
     "metadata": {},
     "output_type": "execute_result"
    }
   ],
   "source": [
    "soup"
   ]
  },
  {
   "cell_type": "code",
   "execution_count": 406,
   "metadata": {},
   "outputs": [
    {
     "name": "stdout",
     "output_type": "stream",
     "text": [
      "https://www.indeed.com/jobs?q=machine learning&fromage=1&limit=50&filter=0\n",
      "https://www.indeed.com/jobs?q=machine learning&fromage=1&limit=50&filter=0\n",
      "55\n",
      "55\n",
      "https://www.indeed.com/jobs?q=machine+learning&limit=50&fromage=1&filter=0&start=50\n",
      "55\n",
      "110\n",
      "https://www.indeed.com/jobs?q=machine+learning&limit=50&fromage=1&filter=0&start=100\n",
      "55\n",
      "165\n",
      "https://www.indeed.com/jobs?q=machine+learning&limit=50&fromage=1&filter=0&start=150\n",
      "55\n",
      "220\n",
      "https://www.indeed.com/jobs?q=machine+learning&limit=50&fromage=1&filter=0&start=200\n",
      "55\n",
      "275\n",
      "https://www.indeed.com/jobs?q=machine+learning&limit=50&fromage=1&filter=0&start=250\n",
      "55\n",
      "330\n",
      "https://www.indeed.com/jobs?q=machine+learning&limit=50&fromage=1&filter=0&start=300\n",
      "54\n",
      "384\n",
      "https://www.indeed.com/jobs?q=machine+learning&limit=50&fromage=1&filter=0&start=350\n",
      "55\n",
      "439\n",
      "https://www.indeed.com/jobs?q=machine+learning&limit=50&fromage=1&filter=0&start=400\n",
      "55\n",
      "494\n",
      "https://www.indeed.com/jobs?q=machine+learning&limit=50&fromage=1&filter=0&start=450\n",
      "54\n",
      "548\n",
      "https://www.indeed.com/jobs?q=machine+learning&limit=50&fromage=1&filter=0&start=500\n",
      "55\n",
      "603\n",
      "https://www.indeed.com/jobs?q=machine+learning&limit=50&fromage=1&filter=0&start=550\n",
      "55\n",
      "658\n",
      "https://www.indeed.com/jobs?q=machine+learning&limit=50&fromage=1&filter=0&start=600\n",
      "54\n",
      "712\n",
      "https://www.indeed.com/jobs?q=machine+learning&limit=50&fromage=1&filter=0&start=650\n",
      "55\n",
      "767\n",
      "https://www.indeed.com/jobs?q=machine+learning&limit=50&fromage=1&filter=0&start=700\n",
      "54\n",
      "821\n",
      "https://www.indeed.com/jobs?q=machine+learning&limit=50&fromage=1&filter=0&start=750\n",
      "55\n",
      "876\n",
      "https://www.indeed.com/jobs?q=machine+learning&limit=50&fromage=1&filter=0&start=800\n",
      "55\n",
      "931\n",
      "https://www.indeed.com/jobs?q=machine+learning&limit=50&fromage=1&filter=0&start=850\n",
      "29\n",
      "960\n",
      "https://www.indeed.com/jobs?q=machine+learning&limit=50&fromage=1&filter=0&start=850\n",
      "Page 18 of 875 jobs\n",
      "960\n"
     ]
    }
   ],
   "source": [
    "records =[]\n",
    "url = get_job_search_url('machine learning', 1)\n",
    "print( url )\n",
    "while True:\n",
    "    print(url)\n",
    "    response = requests.get(url)\n",
    "    soup = BeautifulSoup(response.text, 'html.parser')   \n",
    "    cards = soup.find_all('div', 'jobsearch-SerpJobCard')\n",
    "    print(len(cards))\n",
    " \n",
    "       \n",
    "    for card in cards:\n",
    "        if records == []:\n",
    "            record = get_record(card)\n",
    "            records.append(record)\n",
    "        else:\n",
    "            #To check if the card is already stored in the records\n",
    "            id_array = np.array([r[0] for r in records])\n",
    "            if not card.get('data-jk') in id_array:   \n",
    "                record = get_record(card)\n",
    "                records.append(record)\n",
    "\n",
    "    print(len(records))\n",
    "    if len(cards)> 0:\n",
    "        try:\n",
    "            url = 'https://www.indeed.com' + soup.find('a', {'aria-label': 'Next'}).get('href')\n",
    "        except AttributeError:\n",
    "            total_jobs = soup.find('div',{'id':'searchCountPages'}).text.strip()\n",
    "            print(url)\n",
    "            print(total_jobs)\n",
    "            break\n",
    "        time.sleep(1)\n",
    "    else: break\n",
    "        \n",
    "print(len(records))"
   ]
  },
  {
   "cell_type": "code",
   "execution_count": 399,
   "metadata": {},
   "outputs": [
    {
     "data": {
      "text/plain": [
       "array(['589dfaeb201f6431', '8e330e086b957051'], dtype='<U16')"
      ]
     },
     "execution_count": 399,
     "metadata": {},
     "output_type": "execute_result"
    }
   ],
   "source": [
    "np.array([r[0] for r in records])\n"
   ]
  },
  {
   "cell_type": "code",
   "execution_count": 237,
   "metadata": {},
   "outputs": [
    {
     "ename": "AttributeError",
     "evalue": "'NoneType' object has no attribute 'get'",
     "output_type": "error",
     "traceback": [
      "\u001b[1;31m---------------------------------------------------------------------------\u001b[0m",
      "\u001b[1;31mAttributeError\u001b[0m                            Traceback (most recent call last)",
      "\u001b[1;32m<ipython-input-237-cb4ebf620f7a>\u001b[0m in \u001b[0;36m<module>\u001b[1;34m\u001b[0m\n\u001b[1;32m----> 1\u001b[1;33m \u001b[0msoup\u001b[0m\u001b[1;33m.\u001b[0m\u001b[0mfind\u001b[0m\u001b[1;33m(\u001b[0m\u001b[1;34m'a'\u001b[0m\u001b[1;33m,\u001b[0m \u001b[1;33m{\u001b[0m\u001b[1;34m'aria-label'\u001b[0m\u001b[1;33m:\u001b[0m \u001b[1;34m'Next'\u001b[0m\u001b[1;33m}\u001b[0m\u001b[1;33m)\u001b[0m\u001b[1;33m.\u001b[0m\u001b[0mget\u001b[0m\u001b[1;33m(\u001b[0m\u001b[1;34m'href'\u001b[0m\u001b[1;33m)\u001b[0m\u001b[1;33m\u001b[0m\u001b[1;33m\u001b[0m\u001b[0m\n\u001b[0m",
      "\u001b[1;31mAttributeError\u001b[0m: 'NoneType' object has no attribute 'get'"
     ]
    }
   ],
   "source": [
    "soup.find('a', {'aria-label': 'Next'}).get('href')"
   ]
  },
  {
   "cell_type": "code",
   "execution_count": 56,
   "metadata": {},
   "outputs": [
    {
     "data": {
      "text/plain": [
       "1027"
      ]
     },
     "execution_count": 56,
     "metadata": {},
     "output_type": "execute_result"
    }
   ],
   "source": [
    "len(records)"
   ]
  },
  {
   "cell_type": "markdown",
   "metadata": {},
   "source": [
    "## Putting it all together"
   ]
  },
  {
   "cell_type": "code",
   "execution_count": 1,
   "metadata": {},
   "outputs": [],
   "source": [
    "import requests\n",
    "from bs4 import BeautifulSoup\n",
    "import csv\n",
    "from datetime import datetime\n",
    "import time \n",
    "import numpy as np\n",
    "from random import randint\n",
    "\n",
    "def get_job_search_url(position, postedDays):\n",
    "    \"\"\"Generate a url from position and posted days ago\n",
    "    with 50 job posts per page and no filter\"\"\"\n",
    "\n",
    "    template = 'https://www.indeed.com/jobs?q={}&fromage={}&limit=50&filter=0'\n",
    "    url=template.format(position, postedDays)\n",
    "    \n",
    "    return url\n",
    "\n",
    "def get_record(card):\n",
    "    \"\"\"Extract individual job post data from a single record \"\"\"\n",
    "    # required variables\n",
    "    job_id = card.get('data-jk')\n",
    "    aTag = card.h2.a\n",
    "    job_title = aTag.get('title')\n",
    "    \n",
    "    #job_url = 'https://www.indeed.com' + aTag.get('href')\n",
    "    job_url = 'https://www.indeed.com/viewjob?jk=' + job_id\n",
    "       \n",
    "    job_company = card.find('span','company').text.strip()\n",
    "    job_location = card.find('div', 'recJobLoc').get('data-rc-loc')\n",
    "    job_summary = card.find('div', 'summary').text.strip()\n",
    "    job_post_date = card.find('span','date').text.strip()\n",
    "    \n",
    "    # optional variables\n",
    "    try: \n",
    "        company_url = 'https://www.indeed.com{}'.format(card.find('span','company').a.get('href'))\n",
    "    except AttributeError:\n",
    "        company_url=''\n",
    "    if len(company_url)>0:    \n",
    "        company_response = requests.get(company_url)\n",
    "        company_soup = BeautifulSoup(company_response.text, 'html.parser')\n",
    "        try:\n",
    "            company_industry = company_soup.find('div',text='Industry').find_next_sibling('div').text.strip()\n",
    "        except AttributeError:\n",
    "            company_industry = ''\n",
    "        try:\n",
    "            company_size = company_soup.find('div',text='Company size').find_next_sibling('div').text.strip()\n",
    "        except AttributeError:\n",
    "            company_size = ''\n",
    "        time.sleep(randint(0,1))\n",
    "    else:\n",
    "        company_industry = ''\n",
    "        company_size = ''\n",
    "        \n",
    "    try:\n",
    "        company_rating = card.find('span','ratingsContent').text.strip()\n",
    "    except AttributeError:\n",
    "        company_rating = ''\n",
    "    \n",
    "    try:\n",
    "        job_salary = card.find('span','salaryText').text.strip()\n",
    "    except AttributeError:\n",
    "        job_salary =''\n",
    "    \n",
    "    try:\n",
    "        job_remote = card.find('span','remote').text.strip()\n",
    "    except AttributeError:\n",
    "        job_remote = ''\n",
    "        \n",
    "    # To determine if include detailed job decription \n",
    "    detailInclued = (job_remote =='Remote') | (job_location == 'Remote')\n",
    "    \n",
    "    if detailInclued:\n",
    "        post_response = requests.get(job_url)\n",
    "        post_soup = BeautifulSoup(post_response.text, 'html.parser')\n",
    "        \n",
    "        try:\n",
    "            job_description = post_soup.find('div','jobsearch-jobDescriptionText').text.strip()\n",
    "        except AttributeError:\n",
    "            job_description = ''\n",
    "        try:\n",
    "            job_detail = post_soup.find('div','jobsearch-JobDescriptionSection').text.strip()    \n",
    "        except AttributeError:\n",
    "            job_detail = ''\n",
    "               \n",
    "        time.sleep(randint(1,3))\n",
    "    else:\n",
    "        job_description = ''   \n",
    "        job_detail = ''\n",
    "        \n",
    "    today = datetime.today().strftime('%Y-%m-%d')\n",
    "    \n",
    "    record = (job_id, job_title,job_company,job_location,company_rating, company_url, company_industry, company_size, job_post_date,today,job_summary,job_salary, job_remote, job_url, job_detail, job_description)\n",
    "   \n",
    "    return record\n",
    "\n",
    "def main(position, postedDay, fileName):\n",
    "    \"\"\"Run the main program routine\"\"\"\n",
    "    records = []\n",
    "    url = get_job_search_url(position, postedDay)\n",
    "\n",
    "    # extract the job data\n",
    "    while True:        \n",
    "        print(url)\n",
    "       \n",
    "        response = requests.get(url)\n",
    "        soup = BeautifulSoup(response.text, 'html.parser')\n",
    "        if soup.title.text.find('Captcha') != -1: \n",
    "            print('blocked by Captcha!')\n",
    "            break\n",
    "            \n",
    "        cards = soup.find_all('div', 'jobsearch-SerpJobCard')        \n",
    "        total_jobs = soup.find('div',{'id':'searchCountPages'}).text.strip()\n",
    "        print(len(cards), total_jobs)\n",
    "        \n",
    "           \n",
    "        for card in cards:\n",
    "            if records == []:\n",
    "                record = get_record(card)\n",
    "                records.append(record)\n",
    "            else:\n",
    "                #To check if the card is already stored in the records to reduce the duplicate records\n",
    "                id_array = np.array([r[0] for r in records])\n",
    "                if not card.get('data-jk') in id_array:   \n",
    "                    record = get_record(card)\n",
    "                    records.append(record)\n",
    "   \n",
    "        try:\n",
    "            url = 'https://www.indeed.com' + soup.find('a', {'aria-label': 'Next'}).get('href') \n",
    "        except AttributeError:     \n",
    "            print('done!')\n",
    "            break\n",
    "   \n",
    "    firstRow ='{0}: {1} {2}'.format(position, str(len(records)),total_jobs[total_jobs.index('of'):])\n",
    "    print(firstRow)\n",
    "    # save the job data\n",
    "    if (len(records) > 0):\n",
    "        fn = '../data/raw/{0}{1}.csv'.format(fileName,datetime.today().strftime('%Y_%m_%d'))\n",
    "            \n",
    "        with open(fn, 'w', newline ='', encoding ='utf-8') as f:\n",
    "            writer = csv.writer(f)\n",
    "            writer.writerow(firstRow)\n",
    "            writer.writerow(['JobID', 'JobTitle', 'Company','Location', 'CompanyRating', 'CompanyUrl', 'CompanyIndustry','CompanySize', 'PostDate', 'ExtractDate','Summary', 'Salary', 'Remote','JobUrl','JobDetail', 'JobDescription'])\n",
    "            writer.writerows(records)"
   ]
  },
  {
   "cell_type": "markdown",
   "metadata": {},
   "source": [
    "Notes:\n",
    "\n",
    "1: Indeed will not return exactly amount of jobs shown on the pagination based on some internal filtering they run, unless you add query string &filter = 0 in the url.  With the filter, it will still only can get to 20*50 =1000 records \n",
    "https://www.indeed.com/jobs?q=machine+learning&fromage=1&filter=0&start=200\n",
    "\"We have removed 2,463 job postings very similar to those already shown. To see these additional results, you may repeat your search with the omitted job postings included.\" \n",
    "\n",
    "2: Every midnight, run program for 3 search criterion without job detailed description for 1 day posting without filter\n",
    "Observesd: the maximum number of records Indeed allow to get is 50 * 20 = 1000\n",
    "\n",
    "3: With job detailed description, need to added some sleep time to avoid being blocked by CAPTCHA\n",
    "Also, need to come up some algorithm to random sample the detailed job description, considering only scrape it of remote jobs\n",
    "\n",
    "\n",
    "4: sometimes may encounter connection broken from Request\n",
    "\n",
    "5: Modified the search string by removing the ',' in order to narrow the result according to the Law of Diminishing Marginal Utility.    2/19/21\n",
    "\n"
   ]
  },
  {
   "cell_type": "code",
   "execution_count": 2,
   "metadata": {},
   "outputs": [],
   "source": [
    "# To do list:\n",
    "# 1: Add a scheduler \n",
    "# 2: Add algorithm for random sampling for detailed job description : \n",
    "# option1: include detailed description only for remote job:             done!\n",
    "# option2: include detailed description only for several companies\n",
    "# 3: Add a log writer\n",
    "# 4: Add company industry info\n",
    "\n",
    "# LOG:\n",
    "#2/23/2021(T):'data science','data analytics data analyst','machine learning','artificial intelligence'. \n",
    "# 4 files with description on remote jobs.  Run at 8AM \n",
    "#2/24/2021(W):'\"data science\"','\"data analyst\"','\"machine learning\"','\"artificial intelligence\"'.\n",
    "# 4 files with description on remote jobs.  Run at 8AM \n",
    "#2/25/2021(TH):same as before, run at 8Am, 2863 records\n",
    "#2/27/2021(Sat.): same as before, run at 9am. Add companyUrl, companyIndustry, companySize\n",
    "\n"
   ]
  },
  {
   "cell_type": "code",
   "execution_count": 3,
   "metadata": {},
   "outputs": [
    {
     "name": "stdout",
     "output_type": "stream",
     "text": [
      "https://www.indeed.com/jobs?q=\"data science\"&fromage=1&limit=50&filter=0\n",
      "53 Page 1 of 989 jobs\n",
      "https://www.indeed.com/jobs?q=%22data+science%22&limit=50&fromage=1&filter=0&start=50\n",
      "56 Page 2 of 989 jobs\n",
      "https://www.indeed.com/jobs?q=%22data+science%22&limit=50&fromage=1&filter=0&start=100\n",
      "55 Page 3 of 990 jobs\n",
      "https://www.indeed.com/jobs?q=%22data+science%22&limit=50&fromage=1&filter=0&start=150\n",
      "55 Page 4 of 990 jobs\n",
      "https://www.indeed.com/jobs?q=%22data+science%22&limit=50&fromage=1&filter=0&start=200\n",
      "55 Page 5 of 990 jobs\n",
      "https://www.indeed.com/jobs?q=%22data+science%22&limit=50&fromage=1&filter=0&start=250\n",
      "56 Page 6 of 990 jobs\n",
      "https://www.indeed.com/jobs?q=%22data+science%22&limit=50&fromage=1&filter=0&start=300\n",
      "54 Page 7 of 990 jobs\n",
      "https://www.indeed.com/jobs?q=%22data+science%22&limit=50&fromage=1&filter=0&start=350\n",
      "55 Page 8 of 990 jobs\n",
      "https://www.indeed.com/jobs?q=%22data+science%22&limit=50&fromage=1&filter=0&start=400\n",
      "55 Page 9 of 990 jobs\n",
      "https://www.indeed.com/jobs?q=%22data+science%22&limit=50&fromage=1&filter=0&start=450\n",
      "55 Page 10 of 988 jobs\n",
      "https://www.indeed.com/jobs?q=%22data+science%22&limit=50&fromage=1&filter=0&start=500\n",
      "55 Page 11 of 991 jobs\n",
      "https://www.indeed.com/jobs?q=%22data+science%22&limit=50&fromage=1&filter=0&start=550\n",
      "55 Page 12 of 991 jobs\n",
      "https://www.indeed.com/jobs?q=%22data+science%22&limit=50&fromage=1&filter=0&start=600\n",
      "55 Page 13 of 990 jobs\n",
      "https://www.indeed.com/jobs?q=%22data+science%22&limit=50&fromage=1&filter=0&start=650\n",
      "55 Page 14 of 991 jobs\n",
      "https://www.indeed.com/jobs?q=%22data+science%22&limit=50&fromage=1&filter=0&start=700\n",
      "54 Page 15 of 991 jobs\n",
      "https://www.indeed.com/jobs?q=%22data+science%22&limit=50&fromage=1&filter=0&start=750\n",
      "54 Page 16 of 991 jobs\n",
      "https://www.indeed.com/jobs?q=%22data+science%22&limit=50&fromage=1&filter=0&start=800\n",
      "55 Page 17 of 985 jobs\n",
      "https://www.indeed.com/jobs?q=%22data+science%22&limit=50&fromage=1&filter=0&start=850\n",
      "54 Page 18 of 991 jobs\n",
      "https://www.indeed.com/jobs?q=%22data+science%22&limit=50&fromage=1&filter=0&start=900\n",
      "55 Page 19 of 990 jobs\n",
      "https://www.indeed.com/jobs?q=%22data+science%22&limit=50&fromage=1&filter=0&start=950\n",
      "44 Page 20 of 990 jobs\n",
      "done!\n",
      "\"data science\": 963 of 990 jobs\n",
      "https://www.indeed.com/jobs?q=\"data analyst\"&fromage=1&limit=50&filter=0\n",
      "55 Page 1 of 315 jobs\n",
      "https://www.indeed.com/jobs?q=%22data+analyst%22&limit=50&fromage=1&filter=0&start=50\n",
      "55 Page 2 of 312 jobs\n",
      "https://www.indeed.com/jobs?q=%22data+analyst%22&limit=50&fromage=1&filter=0&start=100\n",
      "52 Page 3 of 315 jobs\n",
      "https://www.indeed.com/jobs?q=%22data+analyst%22&limit=50&fromage=1&filter=0&start=150\n",
      "55 Page 4 of 315 jobs\n",
      "https://www.indeed.com/jobs?q=%22data+analyst%22&limit=50&fromage=1&filter=0&start=200\n",
      "55 Page 5 of 314 jobs\n",
      "https://www.indeed.com/jobs?q=%22data+analyst%22&limit=50&fromage=1&filter=0&start=250\n",
      "55 Page 6 of 315 jobs\n",
      "https://www.indeed.com/jobs?q=%22data+analyst%22&limit=50&fromage=1&filter=0&start=300\n",
      "19 Page 7 of 315 jobs\n",
      "done!\n",
      "\"data analyst\": 318 of 315 jobs\n",
      "https://www.indeed.com/jobs?q=\"machine learning\"&fromage=1&limit=50&filter=0\n",
      "53 Page 1 of 1,318 jobs\n",
      "https://www.indeed.com/jobs?q=%22machine+learning%22&limit=50&fromage=1&filter=0&start=50\n",
      "53 Page 2 of 1,345 jobs\n",
      "https://www.indeed.com/jobs?q=%22machine+learning%22&limit=50&fromage=1&filter=0&start=100\n",
      "53 Page 3 of 1,345 jobs\n",
      "https://www.indeed.com/jobs?q=%22machine+learning%22&limit=50&fromage=1&filter=0&start=150\n",
      "55 Page 4 of 1,345 jobs\n",
      "https://www.indeed.com/jobs?q=%22machine+learning%22&limit=50&fromage=1&filter=0&start=200\n",
      "54 Page 5 of 1,345 jobs\n",
      "https://www.indeed.com/jobs?q=%22machine+learning%22&limit=50&fromage=1&filter=0&start=250\n",
      "54 Page 6 of 1,345 jobs\n",
      "https://www.indeed.com/jobs?q=%22machine+learning%22&limit=50&fromage=1&filter=0&start=300\n",
      "55 Page 7 of 1,345 jobs\n",
      "https://www.indeed.com/jobs?q=%22machine+learning%22&limit=50&fromage=1&filter=0&start=350\n",
      "54 Page 8 of 1,345 jobs\n",
      "https://www.indeed.com/jobs?q=%22machine+learning%22&limit=50&fromage=1&filter=0&start=400\n",
      "54 Page 9 of 1,345 jobs\n",
      "https://www.indeed.com/jobs?q=%22machine+learning%22&limit=50&fromage=1&filter=0&start=450\n",
      "53 Page 10 of 1,345 jobs\n",
      "https://www.indeed.com/jobs?q=%22machine+learning%22&limit=50&fromage=1&filter=0&start=500\n",
      "53 Page 11 of 1,345 jobs\n",
      "https://www.indeed.com/jobs?q=%22machine+learning%22&limit=50&fromage=1&filter=0&start=550\n",
      "53 Page 12 of 1,345 jobs\n",
      "https://www.indeed.com/jobs?q=%22machine+learning%22&limit=50&fromage=1&filter=0&start=600\n",
      "54 Page 13 of 1,345 jobs\n",
      "https://www.indeed.com/jobs?q=%22machine+learning%22&limit=50&fromage=1&filter=0&start=650\n",
      "54 Page 14 of 1,345 jobs\n",
      "https://www.indeed.com/jobs?q=%22machine+learning%22&limit=50&fromage=1&filter=0&start=700\n",
      "54 Page 15 of 1,345 jobs\n",
      "https://www.indeed.com/jobs?q=%22machine+learning%22&limit=50&fromage=1&filter=0&start=750\n",
      "54 Page 16 of 1,346 jobs\n",
      "https://www.indeed.com/jobs?q=%22machine+learning%22&limit=50&fromage=1&filter=0&start=800\n",
      "54 Page 17 of 1,346 jobs\n",
      "https://www.indeed.com/jobs?q=%22machine+learning%22&limit=50&fromage=1&filter=0&start=850\n",
      "54 Page 18 of 1,346 jobs\n",
      "https://www.indeed.com/jobs?q=%22machine+learning%22&limit=50&fromage=1&filter=0&start=900\n",
      "55 Page 19 of 1,345 jobs\n",
      "https://www.indeed.com/jobs?q=%22machine+learning%22&limit=50&fromage=1&filter=0&start=950\n",
      "52 Page 20 of 1,346 jobs\n",
      "done!\n",
      "\"machine learning\": 989 of 1,346 jobs\n",
      "https://www.indeed.com/jobs?q=\"artificial intelligence\"&fromage=1&limit=50&filter=0\n",
      "52 Page 1 of 462 jobs\n",
      "https://www.indeed.com/jobs?q=%22artificial+intelligence%22&limit=50&fromage=1&filter=0&start=50\n",
      "53 Page 2 of 461 jobs\n",
      "https://www.indeed.com/jobs?q=%22artificial+intelligence%22&limit=50&fromage=1&filter=0&start=100\n",
      "55 Page 3 of 461 jobs\n",
      "https://www.indeed.com/jobs?q=%22artificial+intelligence%22&limit=50&fromage=1&filter=0&start=150\n",
      "53 Page 4 of 462 jobs\n",
      "https://www.indeed.com/jobs?q=%22artificial+intelligence%22&limit=50&fromage=1&filter=0&start=200\n",
      "53 Page 5 of 462 jobs\n",
      "https://www.indeed.com/jobs?q=%22artificial+intelligence%22&limit=50&fromage=1&filter=0&start=250\n",
      "54 Page 6 of 462 jobs\n",
      "https://www.indeed.com/jobs?q=%22artificial+intelligence%22&limit=50&fromage=1&filter=0&start=300\n",
      "54 Page 7 of 459 jobs\n",
      "https://www.indeed.com/jobs?q=%22artificial+intelligence%22&limit=50&fromage=1&filter=0&start=350\n",
      "55 Page 8 of 461 jobs\n",
      "https://www.indeed.com/jobs?q=%22artificial+intelligence%22&limit=50&fromage=1&filter=0&start=400\n",
      "54 Page 9 of 462 jobs\n",
      "https://www.indeed.com/jobs?q=%22artificial+intelligence%22&limit=50&fromage=1&filter=0&start=450\n",
      "16 Page 10 of 462 jobs\n",
      "done!\n",
      "\"artificial intelligence\": 433 of 462 jobs\n"
     ]
    }
   ],
   "source": [
    "# run the main program\n",
    "\n",
    "#time.sleep(10000)\n",
    "main('\"data science\"',1 ,'ds_last1d_RC') \n",
    "\n",
    "main('\"data analyst\"',1 ,'da_last1d_RC_')     \n",
    "\n",
    "main('\"machine learning\"', 1 ,'ml_last1d_RC_')   \n",
    "\n",
    "main('\"artificial intelligence\"', 1, 'ai_last1d_RC_') \n",
    "\n",
    " \n",
    "\n",
    "\n",
    "# add discription \n"
   ]
  },
  {
   "cell_type": "code",
   "execution_count": null,
   "metadata": {},
   "outputs": [],
   "source": []
  }
 ],
 "metadata": {
  "kernelspec": {
   "display_name": "Python 3",
   "language": "python",
   "name": "python3"
  },
  "language_info": {
   "codemirror_mode": {
    "name": "ipython",
    "version": 3
   },
   "file_extension": ".py",
   "mimetype": "text/x-python",
   "name": "python",
   "nbconvert_exporter": "python",
   "pygments_lexer": "ipython3",
   "version": "3.8.3"
  }
 },
 "nbformat": 4,
 "nbformat_minor": 4
}
