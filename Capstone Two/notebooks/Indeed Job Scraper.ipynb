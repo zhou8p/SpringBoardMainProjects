{
 "cells": [
  {
   "cell_type": "markdown",
   "metadata": {},
   "source": [
    "## Create a general purpose job scraper for www.indeed.com"
   ]
  },
  {
   "cell_type": "code",
   "execution_count": 370,
   "metadata": {},
   "outputs": [],
   "source": [
    "import requests\n",
    "from bs4 import BeautifulSoup\n",
    "import csv\n",
    "from datetime import datetime\n",
    "import time \n",
    "import numpy as np"
   ]
  },
  {
   "cell_type": "code",
   "execution_count": 404,
   "metadata": {},
   "outputs": [],
   "source": [
    "def get_job_search_url(position, postedDays):\n",
    "    \"\"\"Generate a url from position and posted days ago\"\"\"\n",
    "\n",
    "    template = 'https://www.indeed.com/jobs?q={}&fromage={}&limit=50&filter=0'\n",
    "    url=template.format(position, postedDays)\n",
    "    \n",
    "    return url"
   ]
  },
  {
   "cell_type": "code",
   "execution_count": 386,
   "metadata": {},
   "outputs": [],
   "source": [
    "url = get_job_search_url('machine learning', 1)\n"
   ]
  },
  {
   "cell_type": "markdown",
   "metadata": {},
   "source": [
    "##  Extract raw html\n"
   ]
  },
  {
   "cell_type": "code",
   "execution_count": 292,
   "metadata": {},
   "outputs": [],
   "source": [
    "response = requests.get(url)"
   ]
  },
  {
   "cell_type": "code",
   "execution_count": 293,
   "metadata": {},
   "outputs": [
    {
     "data": {
      "text/plain": [
       "<Response [200]>"
      ]
     },
     "execution_count": 293,
     "metadata": {},
     "output_type": "execute_result"
    }
   ],
   "source": [
    "response"
   ]
  },
  {
   "cell_type": "code",
   "execution_count": 294,
   "metadata": {},
   "outputs": [
    {
     "data": {
      "text/plain": [
       "requests.models.Response"
      ]
     },
     "execution_count": 294,
     "metadata": {},
     "output_type": "execute_result"
    }
   ],
   "source": [
    "type(response)"
   ]
  },
  {
   "cell_type": "code",
   "execution_count": 295,
   "metadata": {},
   "outputs": [],
   "source": [
    "#response.text"
   ]
  },
  {
   "cell_type": "code",
   "execution_count": 296,
   "metadata": {},
   "outputs": [],
   "source": [
    "soup = BeautifulSoup(response.text, 'html.parser')"
   ]
  },
  {
   "cell_type": "code",
   "execution_count": 297,
   "metadata": {},
   "outputs": [
    {
     "data": {
      "text/plain": [
       "'Page 1 of 546 jobs'"
      ]
     },
     "execution_count": 297,
     "metadata": {},
     "output_type": "execute_result"
    }
   ],
   "source": [
    "total_jobs = soup.find('div',{'id':'searchCountPages'}).text.strip()\n",
    "total_jobs"
   ]
  },
  {
   "cell_type": "code",
   "execution_count": 298,
   "metadata": {},
   "outputs": [],
   "source": [
    "cards = soup.find_all('div', 'jobsearch-SerpJobCard')"
   ]
  },
  {
   "cell_type": "code",
   "execution_count": 299,
   "metadata": {},
   "outputs": [
    {
     "data": {
      "text/plain": [
       "15"
      ]
     },
     "execution_count": 299,
     "metadata": {},
     "output_type": "execute_result"
    }
   ],
   "source": [
    "len(cards)"
   ]
  },
  {
   "cell_type": "markdown",
   "metadata": {},
   "source": [
    "## Prototype the model with a single record"
   ]
  },
  {
   "cell_type": "code",
   "execution_count": 194,
   "metadata": {},
   "outputs": [],
   "source": [
    "card = cards[0]"
   ]
  },
  {
   "cell_type": "code",
   "execution_count": 195,
   "metadata": {},
   "outputs": [],
   "source": [
    "aTag = card.h2.a"
   ]
  },
  {
   "cell_type": "code",
   "execution_count": 196,
   "metadata": {},
   "outputs": [
    {
     "data": {
      "text/plain": [
       "'Data Scientist'"
      ]
     },
     "execution_count": 196,
     "metadata": {},
     "output_type": "execute_result"
    }
   ],
   "source": [
    "job_title = aTag.get('title')\n",
    "job_title"
   ]
  },
  {
   "cell_type": "code",
   "execution_count": 197,
   "metadata": {},
   "outputs": [
    {
     "data": {
      "text/plain": [
       "'2a073aaa41c0c83f'"
      ]
     },
     "execution_count": 197,
     "metadata": {},
     "output_type": "execute_result"
    }
   ],
   "source": [
    "job_id = card.get('data-jk')\n",
    "job_id"
   ]
  },
  {
   "cell_type": "code",
   "execution_count": 375,
   "metadata": {},
   "outputs": [
    {
     "data": {
      "text/plain": [
       "True"
      ]
     },
     "execution_count": 375,
     "metadata": {},
     "output_type": "execute_result"
    }
   ],
   "source": [
    "# To check if the card already stored in the records  # 517da30c1f7ab5f0\n",
    "type(records)\n",
    "records_ar = np.array(records)\n",
    "#'517da30c1f7ab5f0' in np.array(records)\n",
    "'517da30c1f7ab5f0' in np.array(records)[:,0]"
   ]
  },
  {
   "cell_type": "code",
   "execution_count": 200,
   "metadata": {},
   "outputs": [
    {
     "data": {
      "text/plain": [
       "''"
      ]
     },
     "execution_count": 200,
     "metadata": {},
     "output_type": "execute_result"
    }
   ],
   "source": [
    "time.sleep(60)\n",
    "job_url = 'https://www.indeed.com' + aTag.get('href')\n",
    "job_url\n",
    "\n",
    "post_response = requests.get(job_url)\n",
    "post_soup = BeautifulSoup(post_response.text, 'html.parser')\n",
    "job_description = post_soup.find('div','jobsearch-jobDescriptionText').text.strip()\n",
    "job_description\n",
    "\n",
    "try:\n",
    "    job_detail = post_soup.find('div','jobsearch-JobDescriptionSection-section').text.strip()\n",
    "except:\n",
    "    job_detail = ''\n",
    "job_detail"
   ]
  },
  {
   "cell_type": "code",
   "execution_count": 201,
   "metadata": {
    "collapsed": true
   },
   "outputs": [
    {
     "data": {
      "text/plain": [
       "'Tradeweb is looking to add a Data Scientist to its Data & Analytics team. Our Data Science team is responsible for managing the development and optimization of advanced analytics on a global scale across the company.\\nIn this role, you will enjoy working with one of the richest financial data sets in the world, cutting edge technology, and the ability to see your insights turned into real products on a regular basis. The ideal candidate will have experience doing advanced data analysis, will have worked with large data stores, and will have experience building machine learning models. Candidates should be curious, focused on results, a self-starter, and have demonstrated success in using analytics to drive value in an organization.\\nDesign, build, test and deliver new data science services and advanced analytics to Tradeweb globally\\nDevelop scalable tools leveraging machine learning and/or deep learning models to solve real-world problems in areas such as time series predictions\\nSuggest, collect and synthesize requirements to create an effective roadmap towards the deployment of production-level machine learning applications\\nMaintain, improve and deliver innovations to the existing data products used\\nInvestigate ad hoc issues and debugging regressions\\nContribute to testing plans and validate statistically accurate results\\nAnalyze data trends to identify opportunities for growth\\nPartner with Data Engineering to ensure the right metrics are created and validate accuracy\\nValidate metric accuracy for internal and external reporting\\nMinimum Qualifications:\\nMaster’s Degree or PhD in a quantitative field (Computer Science, Data Science, Statistics, Operations Research, Machine Learning or Economics) or equivalent work experience\\n3+ years of experience working in data science at a financial, technology or media firm\\nSignificant experience and expertise with probability and statistics, inclusive of machine learning, experimental design, and optimization\\nHighly skilled in scripting languages and have rapid prototyping skills, like SQL, Python, Perl, Java, among others\\nTeam builder, results oriented, and proactive\\nAbout Tradeweb:\\nTradeweb Markets Inc. (NASDAQ: TW) is a leading, global operator of electronic marketplaces for rates, credit, equities and money markets. Founded in 1996, Tradeweb provides access to markets, data and analytics, electronic trading, straight-through-processing and reporting for clients in the institutional, wholesale and retail markets. Advanced technologies developed by Tradeweb enhance price discovery, order execution and trade workflows while allowing for greater scale and helping to reduce risks in client trading operations. For more information, please go to www.tradeweb.com .\\nTradeweb Markets LLC (\"Tradeweb\") is proud to be an EEO Minorities/Females/Protected Veterans/Disabled/Affirmative Action Employer.\\nhttps://www.dol.gov/ofccp/regs/compliance/posters/pdf/eeopost.pdf'"
      ]
     },
     "execution_count": 201,
     "metadata": {},
     "output_type": "execute_result"
    }
   ],
   "source": [
    "job_description"
   ]
  },
  {
   "cell_type": "code",
   "execution_count": 111,
   "metadata": {},
   "outputs": [
    {
     "data": {
      "text/plain": [
       "'Oxford Global Resources'"
      ]
     },
     "execution_count": 111,
     "metadata": {},
     "output_type": "execute_result"
    }
   ],
   "source": [
    "job_company = card.find('span','company').text.strip()\n",
    "job_company"
   ]
  },
  {
   "cell_type": "code",
   "execution_count": 112,
   "metadata": {},
   "outputs": [
    {
     "data": {
      "text/plain": [
       "'3.7'"
      ]
     },
     "execution_count": 112,
     "metadata": {},
     "output_type": "execute_result"
    }
   ],
   "source": [
    "try:\n",
    "    company_rating = card.find('span','ratingsContent').text.strip()\n",
    "except AttributeError:\n",
    "    company_rating = ''\n",
    "company_rating"
   ]
  },
  {
   "cell_type": "code",
   "execution_count": 113,
   "metadata": {},
   "outputs": [
    {
     "data": {
      "text/plain": [
       "'Remote'"
      ]
     },
     "execution_count": 113,
     "metadata": {},
     "output_type": "execute_result"
    }
   ],
   "source": [
    "job_location = card.find('div', 'recJobLoc').get('data-rc-loc')\n",
    "job_location"
   ]
  },
  {
   "cell_type": "code",
   "execution_count": 114,
   "metadata": {},
   "outputs": [
    {
     "data": {
      "text/plain": [
       "'Scientists will participate in data model development and petabyte-level data process optimization.\\nSome experience in big data processing.'"
      ]
     },
     "execution_count": 114,
     "metadata": {},
     "output_type": "execute_result"
    }
   ],
   "source": [
    "job_summary = card.find('div', 'summary').text.strip()\n",
    "job_summary"
   ]
  },
  {
   "cell_type": "code",
   "execution_count": 115,
   "metadata": {},
   "outputs": [],
   "source": [
    "job_post_date = card.find('span','date').text.strip()"
   ]
  },
  {
   "cell_type": "code",
   "execution_count": 116,
   "metadata": {},
   "outputs": [],
   "source": [
    "today = datetime.today().strftime('%Y-%m-%d') # To do: need to add time "
   ]
  },
  {
   "cell_type": "code",
   "execution_count": 117,
   "metadata": {},
   "outputs": [
    {
     "data": {
      "text/plain": [
       "'2021_02_14_20_13_19'"
      ]
     },
     "execution_count": 117,
     "metadata": {},
     "output_type": "execute_result"
    }
   ],
   "source": [
    "datetime.today().strftime('%Y_%m_%d_%H_%M_%S')"
   ]
  },
  {
   "cell_type": "code",
   "execution_count": 118,
   "metadata": {},
   "outputs": [
    {
     "data": {
      "text/plain": [
       "datetime.datetime(2021, 2, 14, 20, 13, 19, 452396)"
      ]
     },
     "execution_count": 118,
     "metadata": {},
     "output_type": "execute_result"
    }
   ],
   "source": [
    "datetime.today()"
   ]
  },
  {
   "cell_type": "code",
   "execution_count": 119,
   "metadata": {},
   "outputs": [],
   "source": [
    "try:\n",
    "    job_salary = card.find('span','salaryText').text.strip()\n",
    "except AttributeError:\n",
    "    job_salary = ''\n"
   ]
  },
  {
   "cell_type": "code",
   "execution_count": 120,
   "metadata": {},
   "outputs": [],
   "source": [
    "try:\n",
    "    job_remote = card.find('span','remote').text.strip()\n",
    "except AttributeError:\n",
    "    job_remote = ''"
   ]
  },
  {
   "cell_type": "markdown",
   "metadata": {},
   "source": [
    "## Generalize the model with a function"
   ]
  },
  {
   "cell_type": "code",
   "execution_count": 436,
   "metadata": {},
   "outputs": [],
   "source": [
    "def get_record(card, withDetail):\n",
    "    \"\"\"Extract individual job post data from a single record \"\"\"\n",
    "    # required variables\n",
    "    job_id = card.get('data-jk')\n",
    "    aTag = card.h2.a\n",
    "    job_title = aTag.get('title')\n",
    "    \n",
    "    #job_url = 'https://www.indeed.com' + aTag.get('href')\n",
    "    job_url = 'https://www.indeed.com/viewjob?jk=' + job_id\n",
    "       \n",
    "    job_company = card.find('span','company').text.strip()\n",
    "    job_location = card.find('div', 'recJobLoc').get('data-rc-loc')\n",
    "    job_summary = card.find('div', 'summary').text.strip()\n",
    "    job_post_date = card.find('span','date').text.strip()\n",
    "    \n",
    "    # optional variables\n",
    "    try:\n",
    "        company_rating = card.find('span','ratingsContent').text.strip()\n",
    "    except AttributeError:\n",
    "        company_rating = ''\n",
    "    \n",
    "    try:\n",
    "        job_salary = card.find('span','salaryText').text.strip()\n",
    "    except AttributeError:\n",
    "        job_salary = ''\n",
    "    \n",
    "    try:\n",
    "        job_remote = card.find('span','remote').text.strip()\n",
    "    except AttributeError:\n",
    "        job_remote = ''\n",
    "        \n",
    "    # To determine if include detailed job decription \n",
    "    detailInclued = (job_remote =='Remote') | (job_location == 'Remote')\n",
    "    \n",
    "    if detailInclued:\n",
    "        post_response = requests.get(job_url)\n",
    "        post_soup = BeautifulSoup(post_response.text, 'html.parser')\n",
    "        \n",
    "        job_description = post_soup.find('div','jobsearch-jobDescriptionText').text.strip()\n",
    "        try:\n",
    "            job_detail = post_soup.find('div','jobsearch-JobDescriptionSection').text.strip()    \n",
    "        except AttributeError:\n",
    "            job_detail = ''\n",
    "        time.sleep(1)\n",
    "    else:\n",
    "        job_description = ''  \n",
    "        job_detail = ''\n",
    "        \n",
    "    today = datetime.today().strftime('%Y-%m-%d')\n",
    "    \n",
    "    record = (job_id, job_title,job_company,job_location,company_rating, job_post_date,today,job_summary,job_salary, job_remote, job_url, job_detail, job_description)\n",
    "   \n",
    "   \n",
    "    return record\n"
   ]
  },
  {
   "cell_type": "code",
   "execution_count": 422,
   "metadata": {},
   "outputs": [
    {
     "data": {
      "text/plain": [
       "29"
      ]
     },
     "execution_count": 422,
     "metadata": {},
     "output_type": "execute_result"
    }
   ],
   "source": [
    "len(cards)"
   ]
  },
  {
   "cell_type": "code",
   "execution_count": 437,
   "metadata": {},
   "outputs": [
    {
     "name": "stdout",
     "output_type": "stream",
     "text": [
      "Wall time: 0 ns\n"
     ]
    }
   ],
   "source": [
    "%time\n",
    "records = []\n",
    "\n",
    "for card in cards:\n",
    "    if records == []:\n",
    "        record = get_record(card, withDetail = True)\n",
    "        records.append(record)\n",
    "    else:\n",
    "        #To check if the card is already stored in the records\n",
    "        id_array = np.array([r[0] for r in records])\n",
    "        if not card.get('data-jk') in id_array:   \n",
    "            record = get_record(card, withDetail = True)\n",
    "            records.append(record)"
   ]
  },
  {
   "cell_type": "code",
   "execution_count": 438,
   "metadata": {},
   "outputs": [
    {
     "data": {
      "text/plain": [
       "[('589dfaeb201f6431',\n",
       "  'Machine Learning Scientist, Computational Chemistry',\n",
       "  'New Equilibrium Biosciences, Inc.',\n",
       "  'Cambridge, MA',\n",
       "  nan,\n",
       "  'Today',\n",
       "  '2021-02-19',\n",
       "  'Experience developing machine-learned potentials.\\nYou should have experience in molecular dynamics simulations and algorithm development, and you should be…',\n",
       "  nan,\n",
       "  'Temporarily remote',\n",
       "  'https://www.indeed.com/viewjob?jk=589dfaeb201f6431',\n",
       "  nan,\n",
       "  nan),\n",
       " ('b4eaf7b4e0b748ab',\n",
       "  'Analog Design Engineer',\n",
       "  'Mentium Technologies Inc.',\n",
       "  'Remote',\n",
       "  nan,\n",
       "  'Today',\n",
       "  '2021-02-19',\n",
       "  'Background or knowledge in deep neural networks, and machine learning hardware.\\nCollaborate with the digital and deep learning team to understand possible trade…',\n",
       "  'From $94,000 a year',\n",
       "  nan,\n",
       "  'https://www.indeed.com/viewjob?jk=b4eaf7b4e0b748ab',\n",
       "  \"Job detailsSalaryFrom $94,000 a yearJob TypeFull-timeTemporaryContractNumber of hires for this role1QualificationsMaster's (Required)US work authorization (Required)\",\n",
       "  \"Mentium Technologies Inc. is an early-stage company working in the exciting field of next generation AI processors. We are searching for someone willing to work in an uncharted territory and pushing the envelope of Artificial Intelligence SOCs. The ideal candidate will be highly motivated, thinking outside the box, flexible in his role, happy to work in a small and agile team, interacting with digital designers and deep learning scientists to deliver competitive and unique mixed-signal accelerators that are 100x more efficient that conventional digital systems.As an analog design engineer at Mentium you will be responsible for designing, simulating, and implementing analog computing systems in advanced nodes (55nm and below) consisting thousands of high-precision operational amplifiers, data converters, charge pumps, etc. with extremely tight power and area budgets. In this role, you will work closely with the rest of the AMS team, digital designers, and deep learning teams to meet performance and efficiency targets of the system.Our ideal candidate will be someone ready to face the technical challenges of new technologies and will possess the open mindset required to operate in small teams.Responsibilities: · Help our analog design team to design, model, simulate and implement (drawing layout) analog and mixed-signal circuits.· Design, simulate, and build multiple designs of operational amplifiers, ADCs, and DACs to compare their area, power, bandwidth, noise, etc.· Design and optimization of analog peripheral circuitries to assure proper programming and operation of high-voltage flash memory cells.· Write verification plans and create automated testbenches.· Collaborate with the digital and deep learning team to understand possible trade-offs in optimizing chip performance.Requirements: Be a self-starter, and a team player with an ability to work across teams.MS/PhD in EE/CS/CSE with 3+ years of experience on designing varieties of analog circuits in an industrial environment.Experience in designing operational amplifiers, ADCs, and DACs with various architectures.Deep understanding of analog design metrics like noise, bandwidth, area, nonlinearities, etc. and the trade-offs between themWilling to work on the whole levels ranging from design to layout.Have experience designing and debugging analog circuits in 55nm and below.…and these are pluses and useful skills to have: Has been involved in the entire production process, including post-silicon debug and post-product release related activities in one or several products.· Background or knowledge in deep neural networks, and machine learning hardware.· Experience in mixed-signal circuit design, and Co-simulating analog and digital systems.· Experience or knowledge in non-volatile memory devices like flash, resistive RAMs, etc.Benefits: · To support your well-being we provide full health, dental and vision insurances.· Provide an opportunity for you to work on some of the hottest topics like DNN, edge computing, mixed-signal accelerators and in-memory computing.· You will be working in a happy, productive and respectful work environment.This position requires a full-time commitment and a VISA status to live and work in the Santa Barbara, California, area. Given the pandemic times we are living in these days, remote working is a viable solution until we can get back to normality.Job Types: Full-time, Contract, TemporaryPay: From $94,000.00 per yearBenefits:Dental insuranceHealth insuranceVision insuranceSchedule:Monday to FridayEducation:Master's (Required)Work Location:Fully RemoteEmployment Length:4 - 6 monthsCompany's website:www.mentium.techBenefit Conditions:Only full-time employees eligibleCOVID-19 Precaution(s):Remote interview processVirtual meetings\"),\n",
       " ('fd955a94b51a481d',\n",
       "  'Computational Chemistry, Machine Learning Scientist (REMOTE)',\n",
       "  'Harnham',\n",
       "  'San Francisco, CA',\n",
       "  '4.6',\n",
       "  'Today',\n",
       "  '2021-02-19',\n",
       "  'As a member of the machine learning team, you will utilize your experience in applying CNNs, GNNs, and the newest techniques in deep learning and Python to…',\n",
       "  '$160,000 - $190,000 a year',\n",
       "  'Remote',\n",
       "  'https://www.indeed.com/viewjob?jk=fd955a94b51a481d',\n",
       "  'Job detailsSalary$160,000 - $190,000 a year',\n",
       "  'THE COMPANY\\nThis pharmaceutical startup is redefining drug discovery using cutting edge tools. As a member of the machine learning team, you will utilize your experience in applying CNNs, GNNs, and the newest techniques in deep learning and Python to drive research and development in chemistry.\\nTHE ROLE\\nResponsibilities will include:\\nUsing deep learning approaches like convolutional neural networks (CNNs) and graph neural networks (GNNs) applied to small molecule data, protein data, and chemistry data\\nCollaborating with scientists and engineers to advance the drug discovery pipeline\\nUsing graph neural nets and graph-based approaches in deep learning\\nYOUR SKILLS AND EXPERIENCE\\nYour skills include:\\nAcademic or industry understanding of chemistry\\nDegree in Computational Chemistry, Computer Science, Cheminformatics, or related\\nExperience developing structure-based or target-based drug design methods\\nExperience using Python, Pytorch, Tensorflow, Keras, and related tools\\nStart-up experience is a plus\\nTHE BENEFITS\\nBase salary range of $160,000 - $190,000\\nComprehensive healthcare, vision, and dental\\nFully remote, internal growth opportunities, and more!\\nHOW TO APPLY\\nPlease email your CV to Alyssa Liew at the address .'),\n",
       " ('7964fc4cb87329f0',\n",
       "  'People Analytics Manager',\n",
       "  'DoorDash',\n",
       "  'New York, NY',\n",
       "  '3.3',\n",
       "  'Today',\n",
       "  '2021-02-19',\n",
       "  'Training users and managers to improve adoption Advance our internal employee surveys and feedback programs, extracting insights, designing interventions and…',\n",
       "  nan,\n",
       "  nan,\n",
       "  'https://www.indeed.com/viewjob?jk=7964fc4cb87329f0',\n",
       "  nan,\n",
       "  nan),\n",
       " ('c0a2ce4bbdf75cfb',\n",
       "  'Psychiatric Mental Health Nurse Practitioner - Telehealth (MD)',\n",
       "  'Brightside Health',\n",
       "  'Remote',\n",
       "  nan,\n",
       "  'Today',\n",
       "  '2021-02-19',\n",
       "  'Using machine learning and real-time data from patient monitoring, we are building a highly effective clinical decision support for antidepressant prescribing.',\n",
       "  nan,\n",
       "  nan,\n",
       "  'https://www.indeed.com/viewjob?jk=c0a2ce4bbdf75cfb',\n",
       "  'Job detailsJob TypeFull-timePart-time',\n",
       "  \"Psychiatric Mental Health Nurse Practitioner (PMHNP) - Telehealth\\nThe majority of people with depression aren’t getting the care they need. Fewer than half seek care and a small fraction of those who do seek care receive treatment in line with best practices.\\nBrightside (www.brightside.com) is a better approach to depression care, combining a consumer experience with evidence-based approaches, artificial intelligence, and a team of experienced providers to deliver personalized treatment, right from your phone. We’re redefining depression care for the telemedicine age and are on a mission to be the largest and best provider of depression care in the US.\\nWe’re using innovative, evidence-based approaches to expand access and improve outcomes, including:\\nTelemedicine: Direct-to-consumer access via telemedicine, including asynchronous case review, video consultation, and e-prescribing, lowers the barriers to accessing high-quality and affordable care.\\nMeasurement-Based Care (MBC): In line with best practice, we measure symptoms, adherence, and side effects weekly through the active treatment phase and automatically trigger treatment reviews if patients are not improving. We are redefining the provider: patient relationship, replacing encounter-based care with remote and proactive oversight enabled by technology.\\nMachine learning-powered Clinical Decision Support: Contrary to conventional practice, data can help match patients to medications for better outcomes. Using machine learning and real-time data from patient monitoring, we are building a highly effective clinical decision support for antidepressant prescribing.\\nWe’re seeking-forward thinking and experienced PMHNPs who understand the magnitude of the need and want to be part of the solution. Working with Brightside means the ability to practice with clinical autonomy with Psychiatrist support and receive competitive compensation while working flexible hours from anywhere. You’ll use the latest tools, including custom-built practice management, EMR, and clinical decision support, all truly designed to be easy to use.\\nBrightside offers the opportunity to shape the future of depression care and have a major impact in a high-need area.\\nRequirements:\\nLicensed Nurse Practitioner, Certified in Psychiatric & Mental Health (multiple state licenses is a huge plus)\\nAt least 2 years of Autonomous Psychiatric Outpatient Experience\\nTelehealth Experience\\nSchedule and Location:\\n100% Remote, telehealth position\\nCompletely flexible schedule\\nMust be ok with ramping up to at least part-time and can go full-time if interested\\nResponsibilities:\\nMaintain all appropriate licensure to prescribe and dispense medications under applicable state and federal laws\\nHave excellent grammar, attention to detail, and be efficient at writing medical information at a patient level\\nTechnology savvy and excited about how technology can improve medical care\\nBe pleasant, responsive, and willing to collaborate with our team\\nProvide direct patient care via telemedicine (remote)\\nEvaluate patient records, make prescribing decisions, and provide medication-related counseling as needed in a timely manner\\nBe patient-centered in your care\\nSupport a 72-hour response window to patients\\nStrictly follow security and HIPAA regulations to protect our patients' medical information\\nBrightside is an equal opportunity employer. We believe that diversity improves our working environment and our ability to offer a high-value service to our customers\\nPowered by JazzHR\\nhxYbpXTcnR\"),\n",
       " ('834658f4e06bea8e',\n",
       "  'Psychiatric Mental Health Nurse Practitioner - Telehealth (UT)',\n",
       "  'Brightside Health',\n",
       "  'Remote',\n",
       "  nan,\n",
       "  'Today',\n",
       "  '2021-02-19',\n",
       "  'Using machine learning and real-time data from patient monitoring, we are building a highly effective clinical decision support for antidepressant prescribing.',\n",
       "  nan,\n",
       "  nan,\n",
       "  'https://www.indeed.com/viewjob?jk=834658f4e06bea8e',\n",
       "  'Job detailsJob TypeFull-timePart-time',\n",
       "  \"Psychiatric Mental Health Nurse Practitioner (PMHNP) - Telehealth\\nThe majority of people with depression aren’t getting the care they need. Fewer than half seek care and a small fraction of those who do seek care receive treatment in line with best practices.\\nBrightside (www.brightside.com) is a better approach to depression care, combining a consumer experience with evidence-based approaches, artificial intelligence, and a team of experienced providers to deliver personalized treatment, right from your phone. We’re redefining depression care for the telemedicine age and are on a mission to be the largest and best provider of depression care in the US.\\nWe’re using innovative, evidence-based approaches to expand access and improve outcomes, including:\\nTelemedicine: Direct-to-consumer access via telemedicine, including asynchronous case review, video consultation, and e-prescribing, lowers the barriers to accessing high-quality and affordable care.\\nMeasurement-Based Care (MBC): In line with best practice, we measure symptoms, adherence, and side effects weekly through the active treatment phase and automatically trigger treatment reviews if patients are not improving. We are redefining the provider: patient relationship, replacing encounter-based care with remote and proactive oversight enabled by technology.\\nMachine learning-powered Clinical Decision Support: Contrary to conventional practice, data can help match patients to medications for better outcomes. Using machine learning and real-time data from patient monitoring, we are building a highly effective clinical decision support for antidepressant prescribing.\\nWe’re seeking-forward thinking and experienced PMHNPs who understand the magnitude of the need and want to be part of the solution. Working with Brightside means the ability to practice with clinical autonomy with Psychiatrist support and receive competitive compensation while working flexible hours from anywhere. You’ll use the latest tools, including custom-built practice management, EMR, and clinical decision support, all truly designed to be easy to use.\\nBrightside offers the opportunity to shape the future of depression care and have a major impact in a high-need area.\\nRequirements:\\nLicensed Nurse Practitioner, Certified in Psychiatric & Mental Health (multiple state licenses is a huge plus)\\nAt least 2 years of Autonomous Psychiatric Outpatient Experience\\nTelehealth Experience\\nSchedule and Location:\\n100% Remote, telehealth position\\nCompletely flexible schedule\\nMust be ok with ramping up to at least part-time and can go full-time if interested\\nResponsibilities:\\nMaintain all appropriate licensure to prescribe and dispense medications under applicable state and federal laws\\nHave excellent grammar, attention to detail, and be efficient at writing medical information at a patient level\\nTechnology savvy and excited about how technology can improve medical care\\nBe pleasant, responsive, and willing to collaborate with our team\\nProvide direct patient care via telemedicine (remote)\\nEvaluate patient records, make prescribing decisions, and provide medication-related counseling as needed in a timely manner\\nBe patient-centered in your care\\nSupport a 72-hour response window to patients\\nStrictly follow security and HIPAA regulations to protect our patients' medical information\\nBrightside is an equal opportunity employer. We believe that diversity improves our working environment and our ability to offer a high-value service to our customers\\nPowered by JazzHR\\nbZGoQYfjsj\"),\n",
       " ('17a0cae9710b3e8c',\n",
       "  'USWM Software Engineer - Client/Advisor Collaboration Tools',\n",
       "  'JPMorgan Chase Bank, N.A.',\n",
       "  'Jersey City, NJ',\n",
       "  '3.9',\n",
       "  'Just posted',\n",
       "  '2021-02-19',\n",
       "  'US Wealth Management (USWM) provides investment solutions to Chase customers.\\nUSWM is committed to becoming the most recommended financial partner to help…',\n",
       "  nan,\n",
       "  nan,\n",
       "  'https://www.indeed.com/viewjob?jk=17a0cae9710b3e8c',\n",
       "  nan,\n",
       "  nan),\n",
       " ('b0f5a29fa2d66c0f',\n",
       "  'Psychiatric Mental Health Nurse Practitioner - Telehealth (IN)',\n",
       "  'Brightside Health',\n",
       "  'Remote',\n",
       "  nan,\n",
       "  'Today',\n",
       "  '2021-02-19',\n",
       "  'Using machine learning and real-time data from patient monitoring, we are building a highly effective clinical decision support for antidepressant prescribing.',\n",
       "  nan,\n",
       "  nan,\n",
       "  'https://www.indeed.com/viewjob?jk=b0f5a29fa2d66c0f',\n",
       "  'Job detailsJob TypeFull-timePart-time',\n",
       "  \"Psychiatric Mental Health Nurse Practitioner (PMHNP) - Telehealth\\nThe majority of people with depression aren’t getting the care they need. Fewer than half seek care and a small fraction of those who do seek care receive treatment in line with best practices.\\nBrightside (www.brightside.com) is a better approach to depression care, combining a consumer experience with evidence-based approaches, artificial intelligence, and a team of experienced providers to deliver personalized treatment, right from your phone. We’re redefining depression care for the telemedicine age and are on a mission to be the largest and best provider of depression care in the US.\\nWe’re using innovative, evidence-based approaches to expand access and improve outcomes, including:\\nTelemedicine: Direct-to-consumer access via telemedicine, including asynchronous case review, video consultation, and e-prescribing, lowers the barriers to accessing high-quality and affordable care.\\nMeasurement-Based Care (MBC): In line with best practice, we measure symptoms, adherence, and side effects weekly through the active treatment phase and automatically trigger treatment reviews if patients are not improving. We are redefining the provider: patient relationship, replacing encounter-based care with remote and proactive oversight enabled by technology.\\nMachine learning-powered Clinical Decision Support: Contrary to conventional practice, data can help match patients to medications for better outcomes. Using machine learning and real-time data from patient monitoring, we are building a highly effective clinical decision support for antidepressant prescribing.\\nWe’re seeking-forward thinking and experienced PMHNPs who understand the magnitude of the need and want to be part of the solution. Working with Brightside means the ability to practice with clinical autonomy with Psychiatrist support and receive competitive compensation while working flexible hours from anywhere. You’ll use the latest tools, including custom-built practice management, EMR, and clinical decision support, all truly designed to be easy to use.\\nBrightside offers the opportunity to shape the future of depression care and have a major impact in a high-need area.\\nRequirements:\\nLicensed Nurse Practitioner, Certified in Psychiatric & Mental Health\\nAt least 2 years of Autonomous Psychiatric Outpatient Experience\\nTelehealth Experience\\nSchedule and Location:\\n100% Remote, telehealth position\\nCompletely flexible schedule\\nMust be ok with ramping up to at least part-time and can go full-time if interested\\nResponsibilities:\\nMaintain all appropriate licensure to prescribe and dispense medications under applicable state and federal laws\\nHave excellent grammar, attention to detail, and be efficient at writing medical information at a patient level\\nTechnology savvy and excited about how technology can improve medical care\\nBe pleasant, responsive, and willing to collaborate with our team\\nProvide direct patient care via telemedicine (remote)\\nEvaluate patient records, make prescribing decisions, and provide medication-related counseling as needed in a timely manner\\nBe patient-centered in your care\\nSupport a 72-hour response window to patients\\nStrictly follow security and HIPAA regulations to protect our patients' medical information\\nBrightside is an equal opportunity employer. We believe that diversity improves our working environment and our ability to offer a high-value service to our customers\\nPowered by JazzHR\\ntQ4jN4cgj4\"),\n",
       " ('d0c51e56d606d04b',\n",
       "  'Senior Software Engineer (Java Backend)',\n",
       "  'Viome',\n",
       "  'Bellevue, WA',\n",
       "  '2.5',\n",
       "  'Today',\n",
       "  '2021-02-19',\n",
       "  'BELLEVUE, WA / ENGINEERING / FULL-TIME.\\nThis is a full-time onsite position at Viome’s office in Bellevue, WA.\\nOwn key features or sub-systems of Viome.',\n",
       "  '$124,155 - $197,518 a year',\n",
       "  'Temporarily remote',\n",
       "  'https://www.indeed.com/viewjob?jk=d0c51e56d606d04b',\n",
       "  nan,\n",
       "  nan),\n",
       " ('b20e37501990ab0d',\n",
       "  'Psychiatric Mental Health Nurse Practitioner - Telehealth (TX)',\n",
       "  'Brightside Health',\n",
       "  'Remote',\n",
       "  nan,\n",
       "  'Today',\n",
       "  '2021-02-19',\n",
       "  'Using machine learning and real-time data from patient monitoring, we are building a highly effective clinical decision support for antidepressant prescribing.',\n",
       "  nan,\n",
       "  nan,\n",
       "  'https://www.indeed.com/viewjob?jk=b20e37501990ab0d',\n",
       "  'Job detailsJob TypeFull-timePart-time',\n",
       "  \"Psychiatric Mental Health Nurse Practitioner (PMHNP) - Telehealth\\nThe majority of people with depression aren’t getting the care they need. Fewer than half seek care and a small fraction of those who do seek care receive treatment in line with best practices.\\nBrightside (www.brightside.com) is a better approach to depression care, combining a consumer experience with evidence-based approaches, artificial intelligence, and a team of experienced providers to deliver personalized treatment, right from your phone. We’re redefining depression care for the telemedicine age and are on a mission to be the largest and best provider of depression care in the US.\\nWe’re using innovative, evidence-based approaches to expand access and improve outcomes, including:\\nTelemedicine: Direct-to-consumer access via telemedicine, including asynchronous case review, video consultation, and e-prescribing, lowers the barriers to accessing high-quality and affordable care.\\nMeasurement-Based Care (MBC): In line with best practice, we measure symptoms, adherence, and side effects weekly through the active treatment phase and automatically trigger treatment reviews if patients are not improving. We are redefining the provider: patient relationship, replacing encounter-based care with remote and proactive oversight enabled by technology.\\nMachine learning-powered Clinical Decision Support: Contrary to conventional practice, data can help match patients to medications for better outcomes. Using machine learning and real-time data from patient monitoring, we are building a highly effective clinical decision support for antidepressant prescribing.\\nWe’re seeking-forward thinking and experienced PMHNPs who understand the magnitude of the need and want to be part of the solution. Working with Brightside means the ability to practice with clinical autonomy with Psychiatrist support and receive competitive compensation while working flexible hours from anywhere. You’ll use the latest tools, including custom-built practice management, EMR, and clinical decision support, all truly designed to be easy to use.\\nBrightside offers the opportunity to shape the future of depression care and have a major impact in a high-need area.\\nRequirements:\\nLicensed Nurse Practitioner, Certified in Psychiatric & Mental Health (multiple state licenses is a huge plus)\\nAt least 2 years of Autonomous Psychiatric Outpatient Experience\\nTelehealth Experience\\nSchedule and Location:\\n100% Remote, telehealth position\\nCompletely flexible schedule\\nMust be ok with ramping up to at least part-time and can go full-time if interested\\nResponsibilities:\\nMaintain all appropriate licensure to prescribe and dispense medications under applicable state and federal laws\\nHave excellent grammar, attention to detail, and be efficient at writing medical information at a patient level\\nTechnology savvy and excited about how technology can improve medical care\\nBe pleasant, responsive, and willing to collaborate with our team\\nProvide direct patient care via telemedicine (remote)\\nEvaluate patient records, make prescribing decisions, and provide medication-related counseling as needed in a timely manner\\nBe patient-centered in your care\\nSupport a 72-hour response window to patients\\nStrictly follow security and HIPAA regulations to protect our patients' medical information\\nBrightside is an equal opportunity employer. We believe that diversity improves our working environment and our ability to offer a high-value service to our customers\\nPowered by JazzHR\\nnO7F5yv1SY\"),\n",
       " ('22c40c0aa9010d43',\n",
       "  'People Analytics Manager',\n",
       "  'DoorDash',\n",
       "  'Los Angeles, CA',\n",
       "  '3.3',\n",
       "  'Today',\n",
       "  '2021-02-19',\n",
       "  'Training users and managers to improve adoption Advance our internal employee surveys and feedback programs, extracting insights, designing interventions and…',\n",
       "  nan,\n",
       "  nan,\n",
       "  'https://www.indeed.com/viewjob?jk=22c40c0aa9010d43',\n",
       "  nan,\n",
       "  nan),\n",
       " ('722be230cdd79c2e',\n",
       "  'Engineer/Scientist 5 for 5G Networks in Support of Expeditionary Advanced Base Operations (Applications)',\n",
       "  'KBR',\n",
       "  'San Diego, CA',\n",
       "  '4.1',\n",
       "  'Today',\n",
       "  '2021-02-19',\n",
       "  'Experience in artificial intelligence/machine learning rapid prototype projects and next generation software.\\nEngineer/Scientist 5 for 5G Networks in Support of…',\n",
       "  nan,\n",
       "  nan,\n",
       "  'https://www.indeed.com/viewjob?jk=722be230cdd79c2e',\n",
       "  nan,\n",
       "  nan),\n",
       " ('c32448ade0a68886',\n",
       "  'People Analytics Manager',\n",
       "  'DoorDash',\n",
       "  'Phoenix, AZ',\n",
       "  '3.3',\n",
       "  'Today',\n",
       "  '2021-02-19',\n",
       "  'Training users and managers to improve adoption Advance our internal employee surveys and feedback programs, extracting insights, designing interventions and…',\n",
       "  nan,\n",
       "  nan,\n",
       "  'https://www.indeed.com/viewjob?jk=c32448ade0a68886',\n",
       "  nan,\n",
       "  nan),\n",
       " ('4f47dbeeca4944b4',\n",
       "  'Software Engineering',\n",
       "  'JPMorgan Chase Bank, N.A.',\n",
       "  'Plano, TX',\n",
       "  '3.9',\n",
       "  'Just posted',\n",
       "  '2021-02-19',\n",
       "  'Certifications and experience with Big Data technologies, Hadoop, Python, machine learning packages, algorithms and visualization tools (Tableau, Qlik) a plus.',\n",
       "  nan,\n",
       "  nan,\n",
       "  'https://www.indeed.com/viewjob?jk=4f47dbeeca4944b4',\n",
       "  nan,\n",
       "  nan),\n",
       " ('b0d9536da8389283',\n",
       "  'People Analytics Manager',\n",
       "  'DoorDash',\n",
       "  'Seattle, WA',\n",
       "  '3.3',\n",
       "  'Today',\n",
       "  '2021-02-19',\n",
       "  'Training users and managers to improve adoption Advance our internal employee surveys and feedback programs, extracting insights, designing interventions and…',\n",
       "  nan,\n",
       "  nan,\n",
       "  'https://www.indeed.com/viewjob?jk=b0d9536da8389283',\n",
       "  nan,\n",
       "  nan),\n",
       " ('f74419ccd198d791',\n",
       "  'People Analytics Manager',\n",
       "  'DoorDash',\n",
       "  'San Francisco, CA',\n",
       "  '3.3',\n",
       "  'Today',\n",
       "  '2021-02-19',\n",
       "  'Training users and managers to improve adoption Advance our internal employee surveys and feedback programs, extracting insights, designing interventions and…',\n",
       "  nan,\n",
       "  nan,\n",
       "  'https://www.indeed.com/viewjob?jk=f74419ccd198d791',\n",
       "  nan,\n",
       "  nan),\n",
       " ('7c60171d0f0e8d13',\n",
       "  'Executive Director - Senior Product Manager - AI/ML & Data',\n",
       "  'JPMorgan Chase Bank, N.A.',\n",
       "  'Jersey City, NJ',\n",
       "  '3.9',\n",
       "  '1 day ago',\n",
       "  '2021-02-19',\n",
       "  'You should be familiar with core areas in applied machine learning such as NLP, computer vision, and personalization.',\n",
       "  nan,\n",
       "  nan,\n",
       "  'https://www.indeed.com/viewjob?jk=7c60171d0f0e8d13',\n",
       "  nan,\n",
       "  nan),\n",
       " ('f068ad2b4079afbe',\n",
       "  'Data Engineering - Java/SpringBoot',\n",
       "  'JPMorgan Chase Bank, N.A.',\n",
       "  'Plano, TX',\n",
       "  '3.9',\n",
       "  '1 day ago',\n",
       "  '2021-02-19',\n",
       "  'Comfortable learning cutting edge technologies and applications to greenfield project.\\nBusiness problems through innovation & engineering practices.',\n",
       "  nan,\n",
       "  nan,\n",
       "  'https://www.indeed.com/viewjob?jk=f068ad2b4079afbe',\n",
       "  nan,\n",
       "  nan),\n",
       " ('dc5f247bec34c0ed',\n",
       "  'Commercial Banking - Global Services Insights & Analytics - Data Scientist - Senior Associate',\n",
       "  'JPMorgan Chase Bank, N.A.',\n",
       "  'Chicago, IL',\n",
       "  '3.9',\n",
       "  '1 day ago',\n",
       "  '2021-02-19',\n",
       "  'Exposure and experience with designing and building machine learning algorithms.\\nDefine the comprehensive analytics approach leveraging a combination of…',\n",
       "  nan,\n",
       "  nan,\n",
       "  'https://www.indeed.com/viewjob?jk=dc5f247bec34c0ed',\n",
       "  nan,\n",
       "  nan),\n",
       " ('a6081e9463c1e0fb',\n",
       "  'Senior Software Engineer',\n",
       "  'JPMorgan Chase Bank, N.A.',\n",
       "  'Plano, TX',\n",
       "  '3.9',\n",
       "  'Just posted',\n",
       "  '2021-02-19',\n",
       "  'Data science/analytics experience with Python, common machine learning packages, algorithms and visualization tools a plus.',\n",
       "  nan,\n",
       "  nan,\n",
       "  'https://www.indeed.com/viewjob?jk=a6081e9463c1e0fb',\n",
       "  nan,\n",
       "  nan),\n",
       " ('004601498e85edfb',\n",
       "  'Experienced Staff - Financial Accounting Advisory Services - Digital',\n",
       "  'Ernst & Young',\n",
       "  'United States',\n",
       "  '4.0',\n",
       "  'Today',\n",
       "  '2021-02-19',\n",
       "  'Building quantitative and statistical models, including machine learning.\\nOur clients look to us to identify and diagnose core problems and implement financial…',\n",
       "  nan,\n",
       "  nan,\n",
       "  'https://www.indeed.com/viewjob?jk=004601498e85edfb',\n",
       "  nan,\n",
       "  nan),\n",
       " ('affd6b3d8c015dda',\n",
       "  'Linux IT Systems Engineer / HPC / Active Secret Clearance / FL',\n",
       "  'LOCKHEED MARTIN CORPORATION',\n",
       "  'Orlando, FL',\n",
       "  '4.0',\n",
       "  '1 day ago',\n",
       "  '2021-02-19',\n",
       "  'A systems engineering position that combines multiple roles of system administration, networking, storage, virtualization, and more to deliver new systems and…',\n",
       "  nan,\n",
       "  nan,\n",
       "  'https://www.indeed.com/viewjob?jk=affd6b3d8c015dda',\n",
       "  nan,\n",
       "  nan),\n",
       " ('13feb5ea91a29ca3',\n",
       "  'Support and Tools - Dev Ops Engineering - Lead Associate-102697-TEMPLATE',\n",
       "  'Fannie Mae',\n",
       "  'Plano, TX',\n",
       "  '4.0',\n",
       "  'Today',\n",
       "  '2021-02-19',\n",
       "  'Focused experience in artificial intelligence (AI), including machine learning and natural language processing (NLP).\\nTHE IMPACT YOU WILL MAKE.',\n",
       "  nan,\n",
       "  nan,\n",
       "  'https://www.indeed.com/viewjob?jk=13feb5ea91a29ca3',\n",
       "  nan,\n",
       "  nan),\n",
       " ('0d40c479a48070be',\n",
       "  'MLOps Systems Architect Sr. Staff',\n",
       "  'LOCKHEED MARTIN CORPORATION',\n",
       "  'Shelton, CT',\n",
       "  '4.0',\n",
       "  '1 day ago',\n",
       "  '2021-02-19',\n",
       "  'The selected candidate will focus on formation of ML/AI computing systems and services.\\nWork closely with other AI/ML Engineers, Data Scientists, and Data…',\n",
       "  nan,\n",
       "  nan,\n",
       "  'https://www.indeed.com/viewjob?jk=0d40c479a48070be',\n",
       "  nan,\n",
       "  nan),\n",
       " ('5d756fa195cc37de',\n",
       "  'People Analytics Manager',\n",
       "  'DoorDash',\n",
       "  'Chicago, IL',\n",
       "  '3.3',\n",
       "  'Today',\n",
       "  '2021-02-19',\n",
       "  'Training users and managers to improve adoption Advance our internal employee surveys and feedback programs, extracting insights, designing interventions and…',\n",
       "  nan,\n",
       "  nan,\n",
       "  'https://www.indeed.com/viewjob?jk=5d756fa195cc37de',\n",
       "  nan,\n",
       "  nan),\n",
       " ('09c87adf380bd480',\n",
       "  'Senior Full-stack Software Developer',\n",
       "  'Aduro',\n",
       "  'Redmond, WA',\n",
       "  '3.5',\n",
       "  'Today',\n",
       "  '2021-02-19',\n",
       "  'We are looking for a Senior Full-stack Software Developer to build and implement functional programs.\\nYou will work cross-functionally with other developers,…',\n",
       "  nan,\n",
       "  nan,\n",
       "  'https://www.indeed.com/viewjob?jk=09c87adf380bd480',\n",
       "  nan,\n",
       "  nan),\n",
       " ('f32ebdfce94fccd8',\n",
       "  'Principal Full-Stack Software Developer',\n",
       "  'Aduro',\n",
       "  'Redmond, WA',\n",
       "  '3.5',\n",
       "  'Today',\n",
       "  '2021-02-19',\n",
       "  'You will work cross-functionally with other developers, designers, and product team members throughout the software development life cycle including…',\n",
       "  nan,\n",
       "  nan,\n",
       "  'https://www.indeed.com/viewjob?jk=f32ebdfce94fccd8',\n",
       "  nan,\n",
       "  nan),\n",
       " ('d3bb19d438739d8f',\n",
       "  'Linux IT Systems Engineer / HPC / Active Secret Clearance / FL',\n",
       "  'LOCKHEED MARTIN CORPORATION',\n",
       "  'Orlando, FL',\n",
       "  '4.0',\n",
       "  '1 day ago',\n",
       "  '2021-02-19',\n",
       "  'A systems engineering position that combines multiple roles of system administration, networking, storage, virtualization, and more to deliver new systems and…',\n",
       "  nan,\n",
       "  nan,\n",
       "  'https://www.indeed.com/viewjob?jk=d3bb19d438739d8f',\n",
       "  nan,\n",
       "  nan),\n",
       " ('3ebd43027c0ce0ed',\n",
       "  'SecDevOps Engineer',\n",
       "  'Armament Research Company',\n",
       "  'Washington, DC',\n",
       "  nan,\n",
       "  'Just posted',\n",
       "  '2021-02-19',\n",
       "  'Our core offering is an embedded device designed in-house that pushes real time data to the cloud and back down to tactical users on a mobile android device.',\n",
       "  '$130,000 - $160,000 a year',\n",
       "  'Remote',\n",
       "  'https://www.indeed.com/viewjob?jk=3ebd43027c0ce0ed',\n",
       "  'Job detailsSalary$130,000 - $160,000 a yearJob TypeFull-timeQualificationsUS work authorization (Required)',\n",
       "  \"Job Title: SecDevOps EngineerLocation:  Washington, D.C. Region / RemoteReports To: Engineering ManagerReporting to this Position: N/AWHO WE ARE:  Armaments Research Company (ARC) is a startup dedicated to bringing real time situational awareness and battlefield logistics capabilities to both the DoD and law enforcement personnel. You will be an integral part of the ARC team, and will be creating innovative and powerful IoT devices that feed data to the ARC technology stack. Our core offering is an embedded device designed in-house that pushes real time data to the cloud and back down to tactical users on a mobile android device. Our device provides information on firearm discharge, personnel location/status, and rounds of ammunition remaining. The information our device provides enables battlefield/tactical awareness that does not exist today. ARC technologies were initially developed in support of the US Defense Advanced Research Projects Agency (DARPA) and the National Science Foundation (NSF) and leverage internet-of-things (IoT) technology and machine learning (ML) to develop actionable insights and transform security responses.ARC’s core technology gathers data related to key weapon platform outputs which requires a suite of sensors that are transparent to the end user. The ARC products enable aggregated insights over big data sets that will be used to save lives on the frontline. This novel technology will be deployed at scale on future US Military and Law Enforcement weapons to enhance safety, decision making, and transparency for ground personnel.Position Description:  ARC is looking for an enthusiastic, motivated SecDevOps engineer to join our team to automate and secure infrastructure, deployments, and manage a cutting edge architecture including MongoDB, Apache Kafka, Apache Spark, Kubernetes, AWS, ElasticSearch, and many more. You will be independently and collaboratively designing automated solutions to securely administer the ARC tech stack through the use of SALT and GitLab toolchains. As an ARC SecDevOps engineer, you will be responsible for secure administration of cloud environments and have the opportunity to learn new methodologies and best practices from senior engineers and through self-development utilizing ARC resources for training and certifications.Because you will be joining a startup, there are many opportunities to expand beyond your core skills set if desired. You will be part of a high caliber team dedicated to both mission and advancing ground breaking technology. You will have the opportunity to learn and expand your own knowledge base leveraging a highly skilled team of co-workers while working remotely from the Washington DC metro area. Although ARC is a mission-focused startup, you will have the flexibility to utilize an unlimited PTO policy and a proper work/life balance understanding from leadership.Required Experience: Experience administering AWS, Azure, GCP, or other cloud environmentsBasic familiarity with CIDR address blocks, NACLs, Networking/Routing, VPC configurationExperience in software development or DevOps related work administering microservices based architecturesExperience with one or more of the following:Experience with deployment automation using Jenkins, Travis, Github, or GitLab CI/CD processesExperience with Docker or container based infrastructures, either creating dockerized applications or deploying docker containers to ECS/EKS/Kubernetes/Docker Swarm or equivalent.Familiarity with any of the following technologies or equivalents: Apache Kafka, MongoDB, Postgres, Redis, Elastic Stack services, AWS hosted servicesDesired ExperienceBachelor’s or Master’s degree in Computer Science, Information Systems or similar fieldExpertise in configuring AWS VPC features such as network and security administration, VPC setup, CIDR notation, and firewall/security group/ACL configuration.Expertise in AWS and cloud compute best practices related to DevOpsExperience with message queue systems such as Apache Kafka at scaleExperience managing big data systems and scalability leveraging a variety of scale technologies (K8s, Docker Swarm, Serverless, etc)Physical Demands and Work Environment:  ARC is a fast paced startup, focused on people with attention to avoiding burnout. You will be able to take advantage of an unlimited PTO policy and twelve scheduled holidays in your pursuit of mission success. This position is primarily remote, with the possibility of traveling to the office approximately once a week post-COVID-19 (or more, but we will always have a liberal work from home policy!). You'll be supported by an enthusiastic and friendly team willing to go the extra mile even when you're not physically in the same (home) office space. No clearance is required for this position, but ARC is able to sponsor your own TS clearance (or hold a current one). Work is all unclassified, enabling you to leverage all available commercial tools at your disposal.General Sign-Off:  Individuals with work authorization based on non-immigrant visa status should advise type of visa when submitting resume. ARC is an equal opportunity employer.Job Type: Full-timePay: $130,000.00 - $160,000.00 per yearBenefits:401(k)Dental insuranceDisability insuranceFlexible scheduleHealth insuranceHealth savings accountLife insurancePaid time offParental leaveVision insuranceSchedule:Monday to FridayCOVID-19 considerations:To keep you and your family as safe as possible, we fully support (and embrace!) liberal work from home policies. Because most of the team is remote (but still local to DC), you won't find yourself silo'ed off either.Work Location:One locationThis Company Describes Its Culture as:Detail-oriented -- quality and precision-focusedOutcome-oriented -- results-focused with strong performance culturePeople-oriented -- supportive and fairness-focusedCompany's website:https://www.armaments.us/Benefit Conditions:Only full-time employees eligibleWork Remotely:YesCOVID-19 Precaution(s):Remote interview processVirtual meetings\")]"
      ]
     },
     "execution_count": 438,
     "metadata": {},
     "output_type": "execute_result"
    }
   ],
   "source": [
    "records"
   ]
  },
  {
   "cell_type": "code",
   "execution_count": 401,
   "metadata": {},
   "outputs": [
    {
     "data": {
      "text/plain": [
       "array([], dtype=float64)"
      ]
     },
     "execution_count": 401,
     "metadata": {},
     "output_type": "execute_result"
    }
   ],
   "source": [
    "np.array([])"
   ]
  },
  {
   "cell_type": "code",
   "execution_count": 383,
   "metadata": {},
   "outputs": [
    {
     "data": {
      "text/plain": [
       "(array(['51d2ea04d15fbf1f', '571e360548a8d0c1', '2f143848e64c0573',\n",
       "        '32e4ffa91d91f8ed', '517da30c1f7ab5f0', 'eb71688408d695be',\n",
       "        'd2a2d1dba9456a6d', 'd080318aa423d790', '558379216e05a524',\n",
       "        'd9c74d0d57cd11f2', '9bfea2a8b8774194', 'e874bf89e3161b17',\n",
       "        'a078eabd7f5b3f38', '1145d029b0d268ae'], dtype='<U10786'),\n",
       " 15)"
      ]
     },
     "execution_count": 383,
     "metadata": {},
     "output_type": "execute_result"
    }
   ],
   "source": [
    "id_array, len(records)"
   ]
  },
  {
   "cell_type": "code",
   "execution_count": 402,
   "metadata": {},
   "outputs": [
    {
     "data": {
      "text/plain": [
       "tuple"
      ]
     },
     "execution_count": 402,
     "metadata": {},
     "output_type": "execute_result"
    }
   ],
   "source": [
    "type(records[11])"
   ]
  },
  {
   "cell_type": "markdown",
   "metadata": {},
   "source": [
    "## Getting the next page\n"
   ]
  },
  {
   "cell_type": "code",
   "execution_count": 233,
   "metadata": {},
   "outputs": [
    {
     "data": {
      "text/plain": [
       "<html>\n",
       "<head>\n",
       "<title>hCaptcha solve page</title>\n",
       "<script async=\"\" defer=\"\" src=\"https://www.hcaptcha.com/1/api.js\"></script>\n",
       "</head>\n",
       "<body>\n",
       "<form action=\"/jobs?q=machine+learning&amp;fromage=1&amp;start=120\" method=\"POST\">\n",
       "<div class=\"h-captcha\" data-sitekey=\"eb27f525-f936-43b4-91e2-95a426d4a8bd\"></div>\n",
       "<br/>\n",
       "<input type=\"submit\" value=\"Submit\"/>\n",
       "</form>\n",
       "</body>\n",
       "</html>"
      ]
     },
     "execution_count": 233,
     "metadata": {},
     "output_type": "execute_result"
    }
   ],
   "source": [
    "soup"
   ]
  },
  {
   "cell_type": "code",
   "execution_count": 406,
   "metadata": {},
   "outputs": [
    {
     "name": "stdout",
     "output_type": "stream",
     "text": [
      "https://www.indeed.com/jobs?q=machine learning&fromage=1&limit=50&filter=0\n",
      "https://www.indeed.com/jobs?q=machine learning&fromage=1&limit=50&filter=0\n",
      "55\n",
      "55\n",
      "https://www.indeed.com/jobs?q=machine+learning&limit=50&fromage=1&filter=0&start=50\n",
      "55\n",
      "110\n",
      "https://www.indeed.com/jobs?q=machine+learning&limit=50&fromage=1&filter=0&start=100\n",
      "55\n",
      "165\n",
      "https://www.indeed.com/jobs?q=machine+learning&limit=50&fromage=1&filter=0&start=150\n",
      "55\n",
      "220\n",
      "https://www.indeed.com/jobs?q=machine+learning&limit=50&fromage=1&filter=0&start=200\n",
      "55\n",
      "275\n",
      "https://www.indeed.com/jobs?q=machine+learning&limit=50&fromage=1&filter=0&start=250\n",
      "55\n",
      "330\n",
      "https://www.indeed.com/jobs?q=machine+learning&limit=50&fromage=1&filter=0&start=300\n",
      "54\n",
      "384\n",
      "https://www.indeed.com/jobs?q=machine+learning&limit=50&fromage=1&filter=0&start=350\n",
      "55\n",
      "439\n",
      "https://www.indeed.com/jobs?q=machine+learning&limit=50&fromage=1&filter=0&start=400\n",
      "55\n",
      "494\n",
      "https://www.indeed.com/jobs?q=machine+learning&limit=50&fromage=1&filter=0&start=450\n",
      "54\n",
      "548\n",
      "https://www.indeed.com/jobs?q=machine+learning&limit=50&fromage=1&filter=0&start=500\n",
      "55\n",
      "603\n",
      "https://www.indeed.com/jobs?q=machine+learning&limit=50&fromage=1&filter=0&start=550\n",
      "55\n",
      "658\n",
      "https://www.indeed.com/jobs?q=machine+learning&limit=50&fromage=1&filter=0&start=600\n",
      "54\n",
      "712\n",
      "https://www.indeed.com/jobs?q=machine+learning&limit=50&fromage=1&filter=0&start=650\n",
      "55\n",
      "767\n",
      "https://www.indeed.com/jobs?q=machine+learning&limit=50&fromage=1&filter=0&start=700\n",
      "54\n",
      "821\n",
      "https://www.indeed.com/jobs?q=machine+learning&limit=50&fromage=1&filter=0&start=750\n",
      "55\n",
      "876\n",
      "https://www.indeed.com/jobs?q=machine+learning&limit=50&fromage=1&filter=0&start=800\n",
      "55\n",
      "931\n",
      "https://www.indeed.com/jobs?q=machine+learning&limit=50&fromage=1&filter=0&start=850\n",
      "29\n",
      "960\n",
      "https://www.indeed.com/jobs?q=machine+learning&limit=50&fromage=1&filter=0&start=850\n",
      "Page 18 of 875 jobs\n",
      "960\n"
     ]
    }
   ],
   "source": [
    "records =[]\n",
    "url = get_job_search_url('machine learning', 1)\n",
    "print( url )\n",
    "while True:\n",
    "    print(url)\n",
    "    response = requests.get(url)\n",
    "    soup = BeautifulSoup(response.text, 'html.parser')   \n",
    "    cards = soup.find_all('div', 'jobsearch-SerpJobCard')\n",
    "    print(len(cards))\n",
    " \n",
    "    '''for card in cards:\n",
    "        record = get_record(card, withDetail = False)\n",
    "        records.append(record)\n",
    "        #time.sleep(3)'''\n",
    "        \n",
    "    for card in cards:\n",
    "        if records == []:\n",
    "            record = get_record(card, withDetail = True)\n",
    "            records.append(record)\n",
    "        else:\n",
    "            #To check if the card is already stored in the records\n",
    "            id_array = np.array([r[0] for r in records])\n",
    "            if not card.get('data-jk') in id_array:   \n",
    "                record = get_record(card, withDetail = False)\n",
    "                records.append(record)\n",
    "\n",
    "    print(len(records))\n",
    "    if len(cards)> 0:\n",
    "        try:\n",
    "            url = 'https://www.indeed.com' + soup.find('a', {'aria-label': 'Next'}).get('href')\n",
    "        except AttributeError:\n",
    "            total_jobs = soup.find('div',{'id':'searchCountPages'}).text.strip()\n",
    "            print(url)\n",
    "            print(total_jobs)\n",
    "            break\n",
    "        time.sleep(1)\n",
    "    else: break\n",
    "        \n",
    "print(len(records))"
   ]
  },
  {
   "cell_type": "code",
   "execution_count": 399,
   "metadata": {},
   "outputs": [
    {
     "data": {
      "text/plain": [
       "array(['589dfaeb201f6431', '8e330e086b957051'], dtype='<U16')"
      ]
     },
     "execution_count": 399,
     "metadata": {},
     "output_type": "execute_result"
    }
   ],
   "source": [
    "np.array([r[0] for r in records])\n"
   ]
  },
  {
   "cell_type": "code",
   "execution_count": 237,
   "metadata": {},
   "outputs": [
    {
     "ename": "AttributeError",
     "evalue": "'NoneType' object has no attribute 'get'",
     "output_type": "error",
     "traceback": [
      "\u001b[1;31m---------------------------------------------------------------------------\u001b[0m",
      "\u001b[1;31mAttributeError\u001b[0m                            Traceback (most recent call last)",
      "\u001b[1;32m<ipython-input-237-cb4ebf620f7a>\u001b[0m in \u001b[0;36m<module>\u001b[1;34m\u001b[0m\n\u001b[1;32m----> 1\u001b[1;33m \u001b[0msoup\u001b[0m\u001b[1;33m.\u001b[0m\u001b[0mfind\u001b[0m\u001b[1;33m(\u001b[0m\u001b[1;34m'a'\u001b[0m\u001b[1;33m,\u001b[0m \u001b[1;33m{\u001b[0m\u001b[1;34m'aria-label'\u001b[0m\u001b[1;33m:\u001b[0m \u001b[1;34m'Next'\u001b[0m\u001b[1;33m}\u001b[0m\u001b[1;33m)\u001b[0m\u001b[1;33m.\u001b[0m\u001b[0mget\u001b[0m\u001b[1;33m(\u001b[0m\u001b[1;34m'href'\u001b[0m\u001b[1;33m)\u001b[0m\u001b[1;33m\u001b[0m\u001b[1;33m\u001b[0m\u001b[0m\n\u001b[0m",
      "\u001b[1;31mAttributeError\u001b[0m: 'NoneType' object has no attribute 'get'"
     ]
    }
   ],
   "source": [
    "soup.find('a', {'aria-label': 'Next'}).get('href')"
   ]
  },
  {
   "cell_type": "code",
   "execution_count": 56,
   "metadata": {},
   "outputs": [
    {
     "data": {
      "text/plain": [
       "1027"
      ]
     },
     "execution_count": 56,
     "metadata": {},
     "output_type": "execute_result"
    }
   ],
   "source": [
    "len(records)"
   ]
  },
  {
   "cell_type": "markdown",
   "metadata": {},
   "source": [
    "## Putting it all together"
   ]
  },
  {
   "cell_type": "code",
   "execution_count": 432,
   "metadata": {},
   "outputs": [],
   "source": [
    "import requests\n",
    "from bs4 import BeautifulSoup\n",
    "import csv\n",
    "from datetime import datetime\n",
    "import time \n",
    "import numpy as np\n",
    "\n",
    "def get_job_search_url(position, postedDays):\n",
    "    \"\"\"Generate a url from position and posted days ago\n",
    "    with 50 job posts per page and no filter\"\"\"\n",
    "\n",
    "    template = 'https://www.indeed.com/jobs?q={}&fromage={}&limit=50&filter=0'\n",
    "    url=template.format(position, postedDays)\n",
    "    \n",
    "    return url\n",
    "\n",
    "def get_record(card, withDetail):\n",
    "    \"\"\"Extract individual job post data from a single record \"\"\"\n",
    "    # required variables\n",
    "    job_id = card.get('data-jk')\n",
    "    aTag = card.h2.a\n",
    "    job_title = aTag.get('title')\n",
    "    \n",
    "    #job_url = 'https://www.indeed.com' + aTag.get('href')\n",
    "    job_url = 'https://www.indeed.com/viewjob?jk=' + job_id\n",
    "       \n",
    "    job_company = card.find('span','company').text.strip()\n",
    "    job_location = card.find('div', 'recJobLoc').get('data-rc-loc')\n",
    "    job_summary = card.find('div', 'summary').text.strip()\n",
    "    job_post_date = card.find('span','date').text.strip()\n",
    "    \n",
    "    # optional variables\n",
    "    try:\n",
    "        company_rating = card.find('span','ratingsContent').text.strip()\n",
    "    except AttributeError:\n",
    "        company_rating = ''\n",
    "    \n",
    "    try:\n",
    "        job_salary = card.find('span','salaryText').text.strip()\n",
    "    except AttributeError:\n",
    "        job_salary =''\n",
    "    \n",
    "    try:\n",
    "        job_remote = card.find('span','remote').text.strip()\n",
    "    except AttributeError:\n",
    "        job_remote = ''\n",
    "        \n",
    "    # To determine if include detailed job decription \n",
    "    detailInclued = (job_remote =='Remote') | (job_location == 'Remote')\n",
    "    \n",
    "    if detailInclued:\n",
    "        post_response = requests.get(job_url)\n",
    "        post_soup = BeautifulSoup(post_response.text, 'html.parser')\n",
    "        \n",
    "        job_description = post_soup.find('div','jobsearch-jobDescriptionText').text.strip()\n",
    "        try:\n",
    "            job_detail = post_soup.find('div','jobsearch-JobDescriptionSection').text.strip()    \n",
    "        except AttributeError:\n",
    "            job_detail = ''\n",
    "               \n",
    "        time.sleep(1)\n",
    "    else:\n",
    "        job_description = ''   \n",
    "        job_detail = ''\n",
    "        \n",
    "    today = datetime.today().strftime('%Y-%m-%d')\n",
    "    \n",
    "    record = (job_id, job_title,job_company,job_location,company_rating, job_post_date,today,job_summary,job_salary, job_remote, job_url, job_detail, job_description)\n",
    "  \n",
    "    return record\n",
    "\n",
    "def main(position, postedDay, fileName, withDetail):\n",
    "    \"\"\"Run the main program routine\"\"\"\n",
    "    records = []\n",
    "    url = get_job_search_url(position, postedDay)\n",
    "\n",
    "    # extract the job data\n",
    "    while True:        \n",
    "        print(url)\n",
    "       \n",
    "        response = requests.get(url)\n",
    "        soup = BeautifulSoup(response.text, 'html.parser')\n",
    "        if soup.title.text.find('Captcha') != -1: \n",
    "            print('blocked by Captcha!')\n",
    "            break\n",
    "            \n",
    "        cards = soup.find_all('div', 'jobsearch-SerpJobCard')        \n",
    "        total_jobs = soup.find('div',{'id':'searchCountPages'}).text.strip()\n",
    "        print(len(cards), total_jobs)\n",
    "        \n",
    "           \n",
    "        for card in cards:\n",
    "            if records == []:\n",
    "                record = get_record(card, withDetail)\n",
    "                records.append(record)\n",
    "            else:\n",
    "                #To check if the card is already stored in the records to reduce the duplicate records\n",
    "                id_array = np.array([r[0] for r in records])\n",
    "                if not card.get('data-jk') in id_array:   \n",
    "                    record = get_record(card, withDetail)\n",
    "                    records.append(record)\n",
    "   \n",
    "        try:\n",
    "            url = 'https://www.indeed.com' + soup.find('a', {'aria-label': 'Next'}).get('href') \n",
    "        except AttributeError:     \n",
    "            print('done!')\n",
    "            break\n",
    "   \n",
    "    firstRow ='{0}: {1} {2}'.format(position, str(len(records)),total_jobs[total_jobs.index('of'):])\n",
    "    print(firstRow)\n",
    "    # save the job data\n",
    "    if (len(records) > 0):\n",
    "        if withDetail: \n",
    "            fn = '../data/raw/{0}{1}_W.csv'.format(fileName,datetime.today().strftime('%Y_%m_%d'))\n",
    "        else: \n",
    "            fn = '../data/raw/{0}{1}.csv'.format(fileName,datetime.today().strftime('%Y_%m_%d'))\n",
    "            \n",
    "        with open(fn, 'w', newline ='', encoding ='utf-8') as f:\n",
    "            writer = csv.writer(f)\n",
    "            writer.writerow(firstRow)\n",
    "            writer.writerow(['JobID', 'JobTitle', 'Company','Location', 'CompanyRating', 'PostDate', 'ExtractDate','Summary', 'Salary', 'Remote','JobUrl','JobDetail', 'JobDescription'])\n",
    "            writer.writerows(records)"
   ]
  },
  {
   "cell_type": "markdown",
   "metadata": {},
   "source": [
    "Notes:\n",
    "\n",
    "1: Indeed will not return exactly amount of jobs shown on the pagination based on some internal filtering they run, unless you add query string &filter = 0 in the url.  With the filter, it will still only can get to 20*50 =1000 records \n",
    "https://www.indeed.com/jobs?q=machine+learning&fromage=1&filter=0&start=200\n",
    "\"We have removed 2,463 job postings very similar to those already shown. To see these additional results, you may repeat your search with the omitted job postings included.\" \n",
    "\n",
    "2: Every midnight, run program for 3 search criterion without job detailed description for 1 day posting without filter\n",
    "Observesd: the maximum number of records Indeed allow to get is 50 * 20 = 1000\n",
    "\n",
    "3: With job detailed description, need to added some sleep time to avoid being blocked by CAPTCHA\n",
    "Also, need to come up some algorithm to random sample the detailed job description, considering only scrape it of remote jobs\n",
    "\n",
    "\n",
    "4: sometimes may encounter connection broken from Request\n",
    "\n",
    "5: Modified the search string by removing the ',' in order to narrow the result according to the Law of Diminishing Marginal Utility.    2/19/21\n",
    "\n"
   ]
  },
  {
   "cell_type": "code",
   "execution_count": 433,
   "metadata": {},
   "outputs": [],
   "source": [
    "# To do list:\n",
    "# 1: Add a scheduler \n",
    "# 2: Add algorithm for random sampling for detailed job description : \n",
    "# option1: include detailed description only for remote job: before sleep test this!\n",
    "# option2: include detailed description only for several companies\n",
    "\n",
    "# tonight, test verstion with detailed description for Remote job only\n",
    "# and key search string without ',',  \n"
   ]
  },
  {
   "cell_type": "code",
   "execution_count": 435,
   "metadata": {},
   "outputs": [
    {
     "name": "stdout",
     "output_type": "stream",
     "text": [
      "https://www.indeed.com/jobs?q=data science data scientist&fromage=1&limit=50&filter=0\n",
      "51 Page 1 of 486 jobs\n",
      "https://www.indeed.com/jobs?q=data+science+data+scientist&limit=50&fromage=1&filter=0&start=50\n",
      "53 Page 2 of 495 jobs\n",
      "https://www.indeed.com/jobs?q=data+science+data+scientist&limit=50&fromage=1&filter=0&start=100\n",
      "55 Page 3 of 495 jobs\n",
      "https://www.indeed.com/jobs?q=data+science+data+scientist&limit=50&fromage=1&filter=0&start=150\n",
      "55 Page 4 of 495 jobs\n",
      "https://www.indeed.com/jobs?q=data+science+data+scientist&limit=50&fromage=1&filter=0&start=200\n",
      "55 Page 5 of 495 jobs\n",
      "https://www.indeed.com/jobs?q=data+science+data+scientist&limit=50&fromage=1&filter=0&start=250\n",
      "55 Page 6 of 495 jobs\n",
      "https://www.indeed.com/jobs?q=data+science+data+scientist&limit=50&fromage=1&filter=0&start=300\n",
      "55 Page 7 of 495 jobs\n",
      "https://www.indeed.com/jobs?q=data+science+data+scientist&limit=50&fromage=1&filter=0&start=350\n",
      "56 Page 8 of 486 jobs\n",
      "https://www.indeed.com/jobs?q=data+science+data+scientist&limit=50&fromage=1&filter=0&start=400\n",
      "55 Page 9 of 486 jobs\n",
      "https://www.indeed.com/jobs?q=data+science+data+scientist&limit=50&fromage=1&filter=0&start=450\n",
      "40 Page 10 of 486 jobs\n",
      "done!\n",
      "data science data scientist: 495 of 486 jobs\n"
     ]
    }
   ],
   "source": [
    "# run the main program\n",
    "#main('data scientist', 7 ,'ds_last7d_')\n",
    "#main('machine learning', 7, 'ml_last7d_')\n",
    "#main('data analyst', 7 , 'dat_last7d_')\n",
    "#main('data analytics', 7, 'das_last7d_')\n",
    "\n",
    "# without detailed job description  #with filter =0 # with no sleep time\n",
    "time.sleep(10000)\n",
    "main('data science data scientist',1 ,'ds_last1d_R_', withDetail= False) \n",
    "\n",
    "main('data analytics data analyst',1 ,'da_last1d_R_', withDetail= False)     \n",
    "\n",
    "main('machine learning', 1 ,'ml_last1d_R_', withDetail= False)   \n",
    "\n",
    " \n",
    "\n",
    "\n",
    "# add discription \n"
   ]
  },
  {
   "cell_type": "code",
   "execution_count": 262,
   "metadata": {},
   "outputs": [
    {
     "data": {
      "text/plain": [
       "1"
      ]
     },
     "execution_count": 262,
     "metadata": {},
     "output_type": "execute_result"
    }
   ],
   "source": [
    "soup.find('div','h-captcha')\n",
    "soup.title.text.find('Captcha')"
   ]
  },
  {
   "cell_type": "code",
   "execution_count": 270,
   "metadata": {},
   "outputs": [
    {
     "name": "stdout",
     "output_type": "stream",
     "text": [
      "blocked by Captcha!\n"
     ]
    },
    {
     "data": {
      "text/plain": [
       "0"
      ]
     },
     "execution_count": 270,
     "metadata": {},
     "output_type": "execute_result"
    }
   ],
   "source": [
    "if soup.title.text.find('Captcha') != -1: print('blocked by Captcha!')\n",
    "len(records)"
   ]
  }
 ],
 "metadata": {
  "kernelspec": {
   "display_name": "Python 3",
   "language": "python",
   "name": "python3"
  },
  "language_info": {
   "codemirror_mode": {
    "name": "ipython",
    "version": 3
   },
   "file_extension": ".py",
   "mimetype": "text/x-python",
   "name": "python",
   "nbconvert_exporter": "python",
   "pygments_lexer": "ipython3",
   "version": "3.8.3"
  }
 },
 "nbformat": 4,
 "nbformat_minor": 4
}
