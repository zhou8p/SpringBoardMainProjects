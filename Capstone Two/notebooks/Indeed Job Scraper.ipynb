{
 "cells": [
  {
   "cell_type": "markdown",
   "metadata": {},
   "source": [
    "## Create a general purpose job scraper for www.indeed.com"
   ]
  },
  {
   "cell_type": "code",
   "execution_count": 199,
   "metadata": {},
   "outputs": [],
   "source": [
    "import requests\n",
    "from bs4 import BeautifulSoup\n",
    "import csv\n",
    "from datetime import datetime\n",
    "import time "
   ]
  },
  {
   "cell_type": "code",
   "execution_count": 184,
   "metadata": {},
   "outputs": [],
   "source": [
    "def get_job_search_url(position, postedDays):\n",
    "    \"\"\"Generate a url from position and posted days ago\"\"\"\n",
    "\n",
    "    template = 'https://www.indeed.com/jobs?q={}&fromage={}'\n",
    "    url=template.format(position, postedDays)\n",
    "    \n",
    "    return url"
   ]
  },
  {
   "cell_type": "code",
   "execution_count": 217,
   "metadata": {},
   "outputs": [],
   "source": [
    "url = get_job_search_url('machine learning', 1)\n"
   ]
  },
  {
   "cell_type": "markdown",
   "metadata": {},
   "source": [
    "##  Extract raw html\n"
   ]
  },
  {
   "cell_type": "code",
   "execution_count": 218,
   "metadata": {},
   "outputs": [],
   "source": [
    "response = requests.get(url)"
   ]
  },
  {
   "cell_type": "code",
   "execution_count": 219,
   "metadata": {},
   "outputs": [
    {
     "data": {
      "text/plain": [
       "<Response [200]>"
      ]
     },
     "execution_count": 219,
     "metadata": {},
     "output_type": "execute_result"
    }
   ],
   "source": [
    "response"
   ]
  },
  {
   "cell_type": "code",
   "execution_count": 220,
   "metadata": {},
   "outputs": [
    {
     "data": {
      "text/plain": [
       "requests.models.Response"
      ]
     },
     "execution_count": 220,
     "metadata": {},
     "output_type": "execute_result"
    }
   ],
   "source": [
    "type(response)"
   ]
  },
  {
   "cell_type": "code",
   "execution_count": 221,
   "metadata": {},
   "outputs": [],
   "source": [
    "#response.text"
   ]
  },
  {
   "cell_type": "code",
   "execution_count": 222,
   "metadata": {},
   "outputs": [],
   "source": [
    "soup = BeautifulSoup(response.text, 'html.parser')"
   ]
  },
  {
   "cell_type": "code",
   "execution_count": 225,
   "metadata": {},
   "outputs": [
    {
     "data": {
      "text/plain": [
       "'Page 1 of 198 jobs'"
      ]
     },
     "execution_count": 225,
     "metadata": {},
     "output_type": "execute_result"
    }
   ],
   "source": [
    "total_jobs = soup.find('div',{'id':'searchCountPages'}).text.strip()\n",
    "total_jobs"
   ]
  },
  {
   "cell_type": "code",
   "execution_count": 226,
   "metadata": {},
   "outputs": [],
   "source": [
    "cards = soup.find_all('div', 'jobsearch-SerpJobCard')"
   ]
  },
  {
   "cell_type": "code",
   "execution_count": 227,
   "metadata": {},
   "outputs": [
    {
     "data": {
      "text/plain": [
       "15"
      ]
     },
     "execution_count": 227,
     "metadata": {},
     "output_type": "execute_result"
    }
   ],
   "source": [
    "len(cards)"
   ]
  },
  {
   "cell_type": "markdown",
   "metadata": {},
   "source": [
    "## Prototype the model with a single record"
   ]
  },
  {
   "cell_type": "code",
   "execution_count": 194,
   "metadata": {},
   "outputs": [],
   "source": [
    "card = cards[0]"
   ]
  },
  {
   "cell_type": "code",
   "execution_count": 195,
   "metadata": {},
   "outputs": [],
   "source": [
    "aTag = card.h2.a"
   ]
  },
  {
   "cell_type": "code",
   "execution_count": 196,
   "metadata": {},
   "outputs": [
    {
     "data": {
      "text/plain": [
       "'Data Scientist'"
      ]
     },
     "execution_count": 196,
     "metadata": {},
     "output_type": "execute_result"
    }
   ],
   "source": [
    "job_title = aTag.get('title')\n",
    "job_title"
   ]
  },
  {
   "cell_type": "code",
   "execution_count": 197,
   "metadata": {},
   "outputs": [
    {
     "data": {
      "text/plain": [
       "'2a073aaa41c0c83f'"
      ]
     },
     "execution_count": 197,
     "metadata": {},
     "output_type": "execute_result"
    }
   ],
   "source": [
    "job_id = card.get('data-jk')\n",
    "job_id"
   ]
  },
  {
   "cell_type": "code",
   "execution_count": 200,
   "metadata": {},
   "outputs": [
    {
     "data": {
      "text/plain": [
       "''"
      ]
     },
     "execution_count": 200,
     "metadata": {},
     "output_type": "execute_result"
    }
   ],
   "source": [
    "time.sleep(60)\n",
    "job_url = 'https://www.indeed.com' + aTag.get('href')\n",
    "job_url\n",
    "\n",
    "post_response = requests.get(job_url)\n",
    "post_soup = BeautifulSoup(post_response.text, 'html.parser')\n",
    "job_description = post_soup.find('div','jobsearch-jobDescriptionText').text.strip()\n",
    "job_description\n",
    "\n",
    "try:\n",
    "    job_detail = post_soup.find('div','jobsearch-JobDescriptionSection-section').text.strip()\n",
    "except:\n",
    "    job_detail = ''\n",
    "job_detail"
   ]
  },
  {
   "cell_type": "code",
   "execution_count": 201,
   "metadata": {
    "collapsed": true
   },
   "outputs": [
    {
     "data": {
      "text/plain": [
       "'Tradeweb is looking to add a Data Scientist to its Data & Analytics team. Our Data Science team is responsible for managing the development and optimization of advanced analytics on a global scale across the company.\\nIn this role, you will enjoy working with one of the richest financial data sets in the world, cutting edge technology, and the ability to see your insights turned into real products on a regular basis. The ideal candidate will have experience doing advanced data analysis, will have worked with large data stores, and will have experience building machine learning models. Candidates should be curious, focused on results, a self-starter, and have demonstrated success in using analytics to drive value in an organization.\\nDesign, build, test and deliver new data science services and advanced analytics to Tradeweb globally\\nDevelop scalable tools leveraging machine learning and/or deep learning models to solve real-world problems in areas such as time series predictions\\nSuggest, collect and synthesize requirements to create an effective roadmap towards the deployment of production-level machine learning applications\\nMaintain, improve and deliver innovations to the existing data products used\\nInvestigate ad hoc issues and debugging regressions\\nContribute to testing plans and validate statistically accurate results\\nAnalyze data trends to identify opportunities for growth\\nPartner with Data Engineering to ensure the right metrics are created and validate accuracy\\nValidate metric accuracy for internal and external reporting\\nMinimum Qualifications:\\nMaster’s Degree or PhD in a quantitative field (Computer Science, Data Science, Statistics, Operations Research, Machine Learning or Economics) or equivalent work experience\\n3+ years of experience working in data science at a financial, technology or media firm\\nSignificant experience and expertise with probability and statistics, inclusive of machine learning, experimental design, and optimization\\nHighly skilled in scripting languages and have rapid prototyping skills, like SQL, Python, Perl, Java, among others\\nTeam builder, results oriented, and proactive\\nAbout Tradeweb:\\nTradeweb Markets Inc. (NASDAQ: TW) is a leading, global operator of electronic marketplaces for rates, credit, equities and money markets. Founded in 1996, Tradeweb provides access to markets, data and analytics, electronic trading, straight-through-processing and reporting for clients in the institutional, wholesale and retail markets. Advanced technologies developed by Tradeweb enhance price discovery, order execution and trade workflows while allowing for greater scale and helping to reduce risks in client trading operations. For more information, please go to www.tradeweb.com .\\nTradeweb Markets LLC (\"Tradeweb\") is proud to be an EEO Minorities/Females/Protected Veterans/Disabled/Affirmative Action Employer.\\nhttps://www.dol.gov/ofccp/regs/compliance/posters/pdf/eeopost.pdf'"
      ]
     },
     "execution_count": 201,
     "metadata": {},
     "output_type": "execute_result"
    }
   ],
   "source": [
    "job_description"
   ]
  },
  {
   "cell_type": "code",
   "execution_count": 111,
   "metadata": {},
   "outputs": [
    {
     "data": {
      "text/plain": [
       "'Oxford Global Resources'"
      ]
     },
     "execution_count": 111,
     "metadata": {},
     "output_type": "execute_result"
    }
   ],
   "source": [
    "job_company = card.find('span','company').text.strip()\n",
    "job_company"
   ]
  },
  {
   "cell_type": "code",
   "execution_count": 112,
   "metadata": {},
   "outputs": [
    {
     "data": {
      "text/plain": [
       "'3.7'"
      ]
     },
     "execution_count": 112,
     "metadata": {},
     "output_type": "execute_result"
    }
   ],
   "source": [
    "try:\n",
    "    company_rating = card.find('span','ratingsContent').text.strip()\n",
    "except AttributeError:\n",
    "    company_rating = ''\n",
    "company_rating"
   ]
  },
  {
   "cell_type": "code",
   "execution_count": 113,
   "metadata": {},
   "outputs": [
    {
     "data": {
      "text/plain": [
       "'Remote'"
      ]
     },
     "execution_count": 113,
     "metadata": {},
     "output_type": "execute_result"
    }
   ],
   "source": [
    "job_location = card.find('div', 'recJobLoc').get('data-rc-loc')\n",
    "job_location"
   ]
  },
  {
   "cell_type": "code",
   "execution_count": 114,
   "metadata": {},
   "outputs": [
    {
     "data": {
      "text/plain": [
       "'Scientists will participate in data model development and petabyte-level data process optimization.\\nSome experience in big data processing.'"
      ]
     },
     "execution_count": 114,
     "metadata": {},
     "output_type": "execute_result"
    }
   ],
   "source": [
    "job_summary = card.find('div', 'summary').text.strip()\n",
    "job_summary"
   ]
  },
  {
   "cell_type": "code",
   "execution_count": 115,
   "metadata": {},
   "outputs": [],
   "source": [
    "job_post_date = card.find('span','date').text.strip()"
   ]
  },
  {
   "cell_type": "code",
   "execution_count": 116,
   "metadata": {},
   "outputs": [],
   "source": [
    "today = datetime.today().strftime('%Y-%m-%d') # To do: need to add time "
   ]
  },
  {
   "cell_type": "code",
   "execution_count": 117,
   "metadata": {},
   "outputs": [
    {
     "data": {
      "text/plain": [
       "'2021_02_14_20_13_19'"
      ]
     },
     "execution_count": 117,
     "metadata": {},
     "output_type": "execute_result"
    }
   ],
   "source": [
    "datetime.today().strftime('%Y_%m_%d_%H_%M_%S')"
   ]
  },
  {
   "cell_type": "code",
   "execution_count": 118,
   "metadata": {},
   "outputs": [
    {
     "data": {
      "text/plain": [
       "datetime.datetime(2021, 2, 14, 20, 13, 19, 452396)"
      ]
     },
     "execution_count": 118,
     "metadata": {},
     "output_type": "execute_result"
    }
   ],
   "source": [
    "datetime.today()"
   ]
  },
  {
   "cell_type": "code",
   "execution_count": 119,
   "metadata": {},
   "outputs": [],
   "source": [
    "try:\n",
    "    job_salary = card.find('span','salaryText').text.strip()\n",
    "except AttributeError:\n",
    "    job_salary = ''\n"
   ]
  },
  {
   "cell_type": "code",
   "execution_count": 120,
   "metadata": {},
   "outputs": [],
   "source": [
    "try:\n",
    "    job_remote = card.find('span','remote').text.strip()\n",
    "except AttributeError:\n",
    "    job_remote = ''"
   ]
  },
  {
   "cell_type": "markdown",
   "metadata": {},
   "source": [
    "## Generalize the model with a function"
   ]
  },
  {
   "cell_type": "code",
   "execution_count": 228,
   "metadata": {},
   "outputs": [],
   "source": [
    "def get_record(card):\n",
    "    \"\"\"Extract individual job post data from a single record \"\"\"\n",
    "    # required variables\n",
    "    job_id = card.get('data-jk')\n",
    "    aTag = card.h2.a\n",
    "    job_title = aTag.get('title')\n",
    "    \n",
    "    job_url = 'https://www.indeed.com' + aTag.get('href')\n",
    "    #job_url = 'https://www.indeed.com/viewjob?jk=' + job_id\n",
    "    post_response = requests.get(job_url)\n",
    "    post_soup = BeautifulSoup(post_response.text, 'html.parser')\n",
    "    try:\n",
    "        job_description = post_soup.find('div','jobsearch-jobDescriptionText').text.strip()\n",
    "    except AttributeError:\n",
    "        job_description = ''\n",
    "        \n",
    "    \n",
    "    try:\n",
    "        job_detail = post_soup.find('div','jobsearch-JobDescriptionSection-section').text.strip()\n",
    "    except AttributeError:\n",
    "        job_detail = ''\n",
    "    \n",
    "    job_company = card.find('span','company').text.strip()\n",
    "    job_location = card.find('div', 'recJobLoc').get('data-rc-loc')\n",
    "    job_summary = card.find('div', 'summary').text.strip()\n",
    "    job_post_date = card.find('span','date').text.strip()\n",
    "    \n",
    "    # optional variables\n",
    "    try:\n",
    "        company_rating = card.find('span','ratingsContent').text.strip()\n",
    "    except AttributeError:\n",
    "        company_rating = ''\n",
    "    \n",
    "    try:\n",
    "        job_salary = card.find('span','salaryText').text.strip()\n",
    "    except AttributeError:\n",
    "        job_salary = ''\n",
    "    \n",
    "    try:\n",
    "        job_remote = card.find('span','remote').text.strip()\n",
    "    except AttributeError:\n",
    "        job_remote = ''\n",
    "        \n",
    "    today = datetime.today().strftime('%Y-%m-%d')\n",
    "    \n",
    "    record = (job_id, job_title,job_company,job_location,company_rating, job_post_date,today,job_summary,job_salary, job_remote, job_url, job_description, job_detail)\n",
    "    \n",
    "    return record\n"
   ]
  },
  {
   "cell_type": "code",
   "execution_count": 161,
   "metadata": {},
   "outputs": [],
   "source": [
    "records = []\n",
    "\n",
    "for card in cards:\n",
    "    record = get_record(card)\n",
    "    records.append(record)"
   ]
  },
  {
   "cell_type": "code",
   "execution_count": 163,
   "metadata": {},
   "outputs": [
    {
     "data": {
      "text/plain": [
       "('1260f89ca0cbf7d8',\n",
       " 'Data Scientist',\n",
       " 'LoadSpring Solutions, Inc',\n",
       " 'Remote',\n",
       " '2.3',\n",
       " '5 days ago',\n",
       " '2021-02-14',\n",
       " 'Participate in data strategy and infrastructure discussions, help define requirements for data structures and data retention.',\n",
       " '',\n",
       " '',\n",
       " 'https://www.indeed.com/rc/clk?jk=1260f89ca0cbf7d8&fccid=a39f5e8cf0ebec8c&vjs=3',\n",
       " 'Are you a Data Scientist who prospers when they can evaluate and improve customers’ products and help them drive their business goals with data? At LoadSpring, you’ll work with large, complex data sets to solve difficult, non-routine analysis problems, and apply advanced analytical methods. You will build and deploy ML models for predictive insights and collaborate extensively with product managers, other data engineers, and UI/UX designers to bring your creations to life! If this excites you then we want to meet you!\\nThe Data Scientist Position\\nArticulate and translate business questions and using statistical techniques to arrive at answers using available data\\nAdept at executing every stage of the ML development lifecycle in a business setting; from initial requirements gathering through final model deployment, including iterative measurement and improvement\\nEnhancing data collection procedures to include information that is relevant for building analytic systems\\nWork with large volumes of structured and unstructured data from multiple data sources and can design and implement data pipelines to clean and merge these data for research and modeling\\nProcessing, cleansing, and verifying the integrity of data used for analysis\\nApplying experience with machine learning on large datasets\\nParticipate in data strategy and infrastructure discussions, help define requirements for data structures and data retention\\nQualifications\\nMinimum of a BS/BA with a concentration in quantitative discipline - Stats, Math, Comp Sci, Engineering, or similar discipline\\n3+ years’ professional data science experience\\nDemonstrated experience building and deploying AI / Machine Learning solutions, at scale\\nExperience with relevant Project software and database languages is a plus\\nWorld-Class Benefits:\\nWe are proud of our high-energy and all-around fun working environment. Our team loves to come to work, loves to learn, and loves to win.\\nWe offer the following perks to keep you happy, healthy, and engaged at work\\nInvestment in your cultural development by paying for you to take vacations abroad!\\nAn entrepreneurial culture where employees are empowered, leadership is open, and your ideas are executed\\nA spot where executives are your partners who encourage innovation and your growth\\nAn entire company passionate about our cloud, technology, and top-notch customer service\\nA place where collaboration is highly valuable and all our employees feel like they sit in the office!\\nAs well as the usual benefits: Health, Dental, Vision, Life, 401k with a match, Tuition Reimbursement, and more!\\nEEO:\\nLoadSpring Solutions Inc. is an Equal Opportunity/Affirmative Action employer. All qualified applicants will receive consideration for employment without regard to race, color, religion, sex, national origin, disability, or protected Veteran status.\\nU.S. Citizenship or Lawful Permanent Residence status may be required for certain positions. For positions requiring U.S. Citizenship or Lawful Permanent Resident status, verification of such status will be required upon accepting employment.\\nPRIVACY\\nYour privacy is very important to us, for more information on how we protect your information please visit: https://www.loadspring.com/privacy-statement/.\\nPowered by JazzHR\\nrGhdKbtR1E',\n",
       " '')"
      ]
     },
     "execution_count": 163,
     "metadata": {},
     "output_type": "execute_result"
    }
   ],
   "source": [
    "records[11]"
   ]
  },
  {
   "cell_type": "markdown",
   "metadata": {},
   "source": [
    "## Getting the next page\n"
   ]
  },
  {
   "cell_type": "code",
   "execution_count": 233,
   "metadata": {},
   "outputs": [
    {
     "data": {
      "text/plain": [
       "<html>\n",
       "<head>\n",
       "<title>hCaptcha solve page</title>\n",
       "<script async=\"\" defer=\"\" src=\"https://www.hcaptcha.com/1/api.js\"></script>\n",
       "</head>\n",
       "<body>\n",
       "<form action=\"/jobs?q=machine+learning&amp;fromage=1&amp;start=120\" method=\"POST\">\n",
       "<div class=\"h-captcha\" data-sitekey=\"eb27f525-f936-43b4-91e2-95a426d4a8bd\"></div>\n",
       "<br/>\n",
       "<input type=\"submit\" value=\"Submit\"/>\n",
       "</form>\n",
       "</body>\n",
       "</html>"
      ]
     },
     "execution_count": 233,
     "metadata": {},
     "output_type": "execute_result"
    }
   ],
   "source": [
    "soup"
   ]
  },
  {
   "cell_type": "code",
   "execution_count": 239,
   "metadata": {
    "collapsed": true
   },
   "outputs": [
    {
     "name": "stdout",
     "output_type": "stream",
     "text": [
      "https://www.indeed.com/jobs?q=machine learning&fromage=1\n",
      "https://www.indeed.com/jobs?q=machine learning&fromage=1\n",
      "15\n",
      "https://www.indeed.com/jobs?q=machine+learning&fromage=1&start=10\n",
      "15\n",
      "https://www.indeed.com/jobs?q=machine+learning&fromage=1&start=20\n",
      "15\n",
      "https://www.indeed.com/jobs?q=machine+learning&fromage=1&start=30\n",
      "15\n",
      "https://www.indeed.com/jobs?q=machine+learning&fromage=1&start=40\n",
      "15\n",
      "https://www.indeed.com/jobs?q=machine+learning&fromage=1&start=50\n",
      "15\n",
      "https://www.indeed.com/jobs?q=machine+learning&fromage=1&start=60\n",
      "15\n",
      "https://www.indeed.com/jobs?q=machine+learning&fromage=1&start=70\n",
      "15\n",
      "https://www.indeed.com/jobs?q=machine+learning&fromage=1&start=80\n",
      "15\n",
      "https://www.indeed.com/jobs?q=machine+learning&fromage=1&start=90\n",
      "15\n",
      "https://www.indeed.com/jobs?q=machine+learning&fromage=1&start=100\n",
      "0\n"
     ]
    }
   ],
   "source": [
    "records =[]\n",
    "url = get_job_search_url('machine learning', 1)\n",
    "print( url )\n",
    "while True:\n",
    "    print(url)\n",
    "    response = requests.get(url)\n",
    "    soup = BeautifulSoup(response.text, 'html.parser')   \n",
    "    cards = soup.find_all('div', 'jobsearch-SerpJobCard')\n",
    "    print(len(cards))\n",
    " \n",
    "    '''for card in cards:\n",
    "        record = get_record(card)\n",
    "        records.append(record)\n",
    "        time.sleep(3)\n",
    "\n",
    "print(len(records))'''\n",
    "    if len(cards)> 0:\n",
    "        try:\n",
    "            url = 'https://www.indeed.com' + soup.find('a', {'aria-label': 'Next'}).get('href')\n",
    "        except AttributeError:\n",
    "            total_jobs = soup.find('div',{'id':'searchCountPages'}).text.strip()\n",
    "            print(url)\n",
    "            print(total_jobs)\n",
    "            break\n",
    "        time.sleep(1)\n",
    "    else: break"
   ]
  },
  {
   "cell_type": "code",
   "execution_count": 237,
   "metadata": {
    "collapsed": true
   },
   "outputs": [
    {
     "ename": "AttributeError",
     "evalue": "'NoneType' object has no attribute 'get'",
     "output_type": "error",
     "traceback": [
      "\u001b[1;31m---------------------------------------------------------------------------\u001b[0m",
      "\u001b[1;31mAttributeError\u001b[0m                            Traceback (most recent call last)",
      "\u001b[1;32m<ipython-input-237-cb4ebf620f7a>\u001b[0m in \u001b[0;36m<module>\u001b[1;34m\u001b[0m\n\u001b[1;32m----> 1\u001b[1;33m \u001b[0msoup\u001b[0m\u001b[1;33m.\u001b[0m\u001b[0mfind\u001b[0m\u001b[1;33m(\u001b[0m\u001b[1;34m'a'\u001b[0m\u001b[1;33m,\u001b[0m \u001b[1;33m{\u001b[0m\u001b[1;34m'aria-label'\u001b[0m\u001b[1;33m:\u001b[0m \u001b[1;34m'Next'\u001b[0m\u001b[1;33m}\u001b[0m\u001b[1;33m)\u001b[0m\u001b[1;33m.\u001b[0m\u001b[0mget\u001b[0m\u001b[1;33m(\u001b[0m\u001b[1;34m'href'\u001b[0m\u001b[1;33m)\u001b[0m\u001b[1;33m\u001b[0m\u001b[1;33m\u001b[0m\u001b[0m\n\u001b[0m",
      "\u001b[1;31mAttributeError\u001b[0m: 'NoneType' object has no attribute 'get'"
     ]
    }
   ],
   "source": [
    "soup.find('a', {'aria-label': 'Next'}).get('href')"
   ]
  },
  {
   "cell_type": "code",
   "execution_count": 56,
   "metadata": {},
   "outputs": [
    {
     "data": {
      "text/plain": [
       "1027"
      ]
     },
     "execution_count": 56,
     "metadata": {},
     "output_type": "execute_result"
    }
   ],
   "source": [
    "len(records)"
   ]
  },
  {
   "cell_type": "code",
   "execution_count": 55,
   "metadata": {
    "collapsed": true
   },
   "outputs": [
    {
     "data": {
      "text/plain": [
       "[<div class=\"jobsearch-SerpJobCard unifiedRow row result\" data-ci=\"105245054\" data-empn=\"8690912762161442\" data-jk=\"e1ca911d35f33873\" data-tu=\"https://jsv3.recruitics.com/partner/a51b8de1-f7bf-11e7-9edd-d951492604d9.gif?client=521&amp;rx_c=&amp;rx_campaign=indeed16&amp;rx_group=105274&amp;rx_source=Indeed&amp;job=ET3-16186674&amp;rx_r=none&amp;rx_ts=20210213T174822Z&amp;rx_pre=1&amp;indeed=sp\" id=\"pj_e1ca911d35f33873\">\n",
       " <style>\n",
       " .jobcard_logo{margin:6px 0}.jobcard_logo img{width:auto;max-width:80px;max-height:30px}.jasxrefreshcombotst .jobcard_logo img{max-height:2rem;max-width:100%}\n",
       " </style>\n",
       " <h2 class=\"title\">\n",
       " <a class=\"jobtitle turnstileLink\" data-tn-element=\"jobTitle\" href=\"/pagead/clk?mo=r&amp;ad=-6NYlbfkN0CpFJQzrgRR8WqXWK1qKKEqALWJw739KlKqr2H-MSI4eh4ZOxqVaUrhNSyjVEAq5t6UFhwwe4_dkhWx5YkiA2P1bl_msm64C9caZLjh6fNk_zKO8S7Pwh5f00ipWjKaQpAa-uA3IKXqOmXxeQfGyxEYr2G08Ia5zpcPDcYAqaBTzAhWYNmA_4W3joTVn3Zik4KSbOrFHb8IDmcDVmBApkcinpXDdEJmpZVUKmlfVaUAnoEzniGzu7rz5rfZD7UbErhcjCl0shyAdk5h02-_cQyK1CN_jfc7T0WeLYYulEIzdDbla0a-97G2Mo_dIA9a8W4kn96D1Ho1ZTjevCytvw1-79TiQvfX0YaZgr53J5SS4fIr7ZvqMu_JVxLMT4Af2FBbvTWNSG3Vir-BY0uGanhHjNd2_kzl5VQ4owtD0w9UydT0elVprpFnoYtYc9V_QJ1HAKrStkpqrkAEdwcFhoB3YzrdCulyfO3mHBhshVJKSsJeIogeY4yifzInMCeRQIN0CasBN-sA-9qc639kOfOIwBN-80LQD28-u2a-lBIJh9_sGyg6MZ8agLorPhFSg0akHM_xRDuLnE8gPzA0CoqmsAv7i9xf-Ms0ha6GyTG0QxeboXja92gAeormizS7d4PB7eWhhZwmtaW-jLl_5-vz-sdL3Bp-8HH5kVe89xgc2F9dpO1Sa16-inOMKBtD6tIMpioN9GYRvn6LDowkctwDhGSmyrfB5yZ49Yt2GtWYysCXAwj9C96YXFZBD4BmUdGeBfXHAllFXhsHYnFeFC98yPf1rBJEQYKLd-zfhCaUOnu4vKiENSGiED9l-mYq5ZOG2tJ7xU-2syCIqgynrUUGs-WuX9G9eT1Vb09JXjgjDThwUHXJtt-2fOwtGdaHJb8YK3ABxYvmcHbtjQSla1Y4G_plgOf-lUblpWkuSr2IW30mGo1XNurMGsTqUZ8YraU=&amp;p=0&amp;fvj=0&amp;vjs=3\" id=\"sja0\" onclick=\"setRefineByCookie([]); sjoc('sja0', 1); convCtr('SJ'); rclk(this,jobmap[0],true,1);\" onmousedown=\"sjomd('sja0'); clk('sja0'); rclk(this,jobmap[0],1);\" rel=\"noopener nofollow\" target=\"_blank\" title=\"Data Scientist\">\n",
       " <b>Data</b> <b>Scientist</b></a>\n",
       " <span class=\"new\">new</span></h2>\n",
       " <div class=\"sjcl\">\n",
       " <div>\n",
       " <span class=\"company\">\n",
       " <a class=\"turnstileLink\" data-tn-element=\"companyName\" href=\"/cmp/Cybercoders\" onmousedown=\"this.href = appendParamsOnce(this.href, 'from=SERP&amp;campaignid=serp-linkcompanyname&amp;fromjk=e1ca911d35f33873&amp;jcid=1baa5ded61092dc7')\" rel=\"noopener\" target=\"_blank\">\n",
       " CyberCoders</a></span>\n",
       " <span class=\"ratingsDisplay\">\n",
       " <a aria-label=\"Company rating 3.3 out of 5 stars\" class=\"ratingNumber\" data-tn-variant=\"cmplinktst2\" href=\"/cmp/Cybercoders/reviews\" onmousedown=\"this.href = appendParamsOnce(this.href, '?campaignid=cmplinktst2&amp;from=SERP&amp;jt=Data+Scientist&amp;fromjk=e1ca911d35f33873&amp;jcid=1baa5ded61092dc7');\" rel=\"noopener\" target=\"_blank\" title=\"Cybercoders reviews\">\n",
       " <span class=\"ratingsContent\">\n",
       " 3.3<svg class=\"starIcon\" height=\"12px\" role=\"img\" width=\"12px\">\n",
       " <g>\n",
       " <path d=\"M 12.00,4.34 C 12.00,4.34 7.69,3.97 7.69,3.97 7.69,3.97 6.00,0.00 6.00,0.00 6.00,0.00 4.31,3.98 4.31,3.98 4.31,3.98 0.00,4.34 0.00,4.34 0.00,4.34 3.28,7.18 3.28,7.18 3.28,7.18 2.29,11.40 2.29,11.40 2.29,11.40 6.00,9.16 6.00,9.16 6.00,9.16 9.71,11.40 9.71,11.40 9.71,11.40 8.73,7.18 8.73,7.18 8.73,7.18 12.00,4.34 12.00,4.34 Z\" style=\"fill: #FFB103\"></path>\n",
       " </g>\n",
       " </svg>\n",
       " </span>\n",
       " </a>\n",
       " </span>\n",
       " </div>\n",
       " <div class=\"recJobLoc\" data-rc-loc=\"Louisville, KY\" id=\"recJobLoc_e1ca911d35f33873\" style=\"display: none\"></div>\n",
       " <div class=\"location accessible-contrast-color-location\">Louisville, KY 40217 <span style=\"font-size: smaller\">(Schnitzelburg area)</span></div>\n",
       " </div>\n",
       " <div class=\"salarySnippet holisticSalary\">\n",
       " <span class=\"salary no-wrap\">\n",
       " <span class=\"salaryText\">\n",
       " $90,000 - $100,000 a year</span>\n",
       " </span>\n",
       " </div>\n",
       " <table class=\"jobCardShelfContainer\" role=\"presentation\"><tr class=\"jobCardShelf\"><td class=\"jobCardShelfItem indeedApply\"><span class=\"jobCardShelfIcon\"><svg fill=\"none\" height=\"16\" viewbox=\"0 0 20 20\" width=\"16\"><rect fill=\"#FF5A1F\" height=\"20\" rx=\"10\" width=\"20\"></rect><path clip-rule=\"evenodd\" d=\"M15.3125 4.0625L10.8125 15.3125L7.99999 11.375L15.3125 4.0625ZM7.604 12.7576L6.875 15.3125L8.567 14.1054L7.604 12.7576ZM7.20463 10.5796L12.419 5.36525L4.0625 9.125L6.9875 10.7968L7.20463 10.5796Z\" fill=\"white\" fill-rule=\"evenodd\"></path></svg></span><span class=\"iaLabel iaIconActive\">Easily apply</span></td></tr></table><div class=\"summary\">\n",
       " <ul style=\"list-style-type:circle;margin-top: 0px;margin-bottom: 0px;padding-left:20px;\">\n",
       " <li style=\"margin-bottom:0px;\">Collaborate with analytics teams to create insights from <b>data</b> to be presented to clients.</li>\n",
       " <li>Translate <b>data</b> analysis to guide business decisions.</li>\n",
       " </ul></div>\n",
       " <div class=\"jobsearch-SerpJobCard-footer\">\n",
       " <div class=\"jobsearch-SerpJobCard-footerActions\">\n",
       " <div class=\"result-link-bar-container\">\n",
       " <div class=\"result-link-bar\"><span class=\"date\">3 days ago</span><div class=\"tt_set\" id=\"tt_set_0\"><div class=\"job-reaction\"><button aria-expanded=\"false\" aria-haspopup=\"true\" aria-label=\"save or dislike\" class=\"job-reaction-kebab\" data-ol-has-click-handler=\"\" onclick=\"toggleKebabMenu('e1ca911d35f33873', true, event); return false;\" tabindex=\"0\"></button><span class=\"job-reaction-kebab-menu\"><button class=\"job-reaction-kebab-item job-reaction-save\" data-ol-has-click-handler=\"\" onclick=\"changeJobState('e1ca911d35f33873', 'save', 'linkbar', true, '');return false;\"><svg focusable=\"false\" height=\"16\" viewbox=\"0 0 24 24\" width=\"16\"><g><path d=\"M16.5,3A6,6,0,0,0,12,5.09,6,6,0,0,0,7.5,3,5.45,5.45,0,0,0,2,8.5C2,12.28,5.4,15.36,10.55,20L12,21.35,13.45,20C18.6,15.36,22,12.28,22,8.5A5.45,5.45,0,0,0,16.5,3ZM12.1,18.55l-0.1.1-0.1-.1C7.14,14.24,4,11.39,4,8.5A3.42,3.42,0,0,1,7.5,5a3.91,3.91,0,0,1,3.57,2.36h1.87A3.88,3.88,0,0,1,16.5,5,3.42,3.42,0,0,1,20,8.5C20,11.39,16.86,14.24,12.1,18.55Z\" fill=\"#2d2d2d\"></path></g></svg><span class=\"job-reaction-kebab-item-text\">Save job</span></button><button class=\"job-reaction-kebab-item job-reaction-dislike\" data-ol-has-click-handler=\"\" onclick=\"dislikeJob(false, false, 'e1ca911d35f33873', 'unsave', 'linkbar', true, '');\"><span class=\"job-reaction-dislike-icon\"></span><span class=\"job-reaction-kebab-item-text\">Not interested</span></button><button class=\"job-reaction-kebab-item job-reaction-report\" onclick=\"reportJob('e1ca911d35f33873');\"><span class=\"job-reaction-report-icon\"></span><span class=\"job-reaction-kebab-item-text\">Report Job</span></button></span></div><span class=\"result-link-bar-separator\">·</span><a class=\"sl resultLink save-job-link\" href=\"#\" id=\"sj_e1ca911d35f33873\" onclick=\"changeJobState('e1ca911d35f33873', 'save', 'linkbar', true, ''); return false;\" title=\"Save this job to my.indeed\">Save job</a></div><script>if (!window['sj_result_e1ca911d35f33873']) {window['sj_result_e1ca911d35f33873'] = {};}window['sj_result_e1ca911d35f33873']['showSource'] = false; window['sj_result_e1ca911d35f33873']['source'] = \"CyberCoders\"; window['sj_result_e1ca911d35f33873']['loggedIn'] = false; window['sj_result_e1ca911d35f33873']['showMyJobsLinks'] = false;window['sj_result_e1ca911d35f33873']['baseMyJobsUrl'] = \"https://myjobs.indeed.com\";window['sj_result_e1ca911d35f33873']['undoAction'] = \"unsave\";window['sj_result_e1ca911d35f33873']['relativeJobAge'] = \"3 days ago\";window['sj_result_e1ca911d35f33873']['jobKey'] = \"e1ca911d35f33873\"; window['sj_result_e1ca911d35f33873']['myIndeedAvailable'] = true; window['sj_result_e1ca911d35f33873']['showMoreActionsLink'] = window['sj_result_e1ca911d35f33873']['showMoreActionsLink'] || false; window['sj_result_e1ca911d35f33873']['resultNumber'] = 0; window['sj_result_e1ca911d35f33873']['jobStateChangedToSaved'] = false; window['sj_result_e1ca911d35f33873']['searchState'] = \"q=data scientist&amp;fromage=7&amp;start=680\"; window['sj_result_e1ca911d35f33873']['basicPermaLink'] = \"https://www.indeed.com\"; window['sj_result_e1ca911d35f33873']['saveJobFailed'] = false; window['sj_result_e1ca911d35f33873']['removeJobFailed'] = false; window['sj_result_e1ca911d35f33873']['requestPending'] = false; window['sj_result_e1ca911d35f33873']['currentPage'] = \"serp\"; window['sj_result_e1ca911d35f33873']['sponsored'] = true;window['sj_result_e1ca911d35f33873']['reportJobButtonEnabled'] = false; window['sj_result_e1ca911d35f33873']['showMyJobsHired'] = false; window['sj_result_e1ca911d35f33873']['showSaveForSponsored'] = true; window['sj_result_e1ca911d35f33873']['showJobAge'] = true; window['sj_result_e1ca911d35f33873']['showHolisticCard'] = true; window['sj_result_e1ca911d35f33873']['showDislike'] = true; window['sj_result_e1ca911d35f33873']['showKebab'] = true; window['sj_result_e1ca911d35f33873']['showReport'] = true;</script></div></div>\n",
       " </div>\n",
       " </div>\n",
       " <div class=\"tab-container\">\n",
       " <div class=\"sign-in-container result-tab\"></div>\n",
       " <div class=\"tellafriend-container result-tab email_job_content\"></div>\n",
       " </div>\n",
       " </div>,\n",
       " <div class=\"jobsearch-SerpJobCard unifiedRow row result\" data-ci=\"364188244\" data-empn=\"1946917989978219\" data-jk=\"a50a12786b57e9df\" data-tu=\"https://www.jobelephant.com/img.php?id=2151061&amp;image=pixel&amp;indeed=sp\" id=\"pj_a50a12786b57e9df\">\n",
       " <style>\n",
       " .jobcard_logo{margin:6px 0}.jobcard_logo img{width:auto;max-width:80px;max-height:30px}.jasxrefreshcombotst .jobcard_logo img{max-height:2rem;max-width:100%}\n",
       " </style>\n",
       " <h2 class=\"title\">\n",
       " <a class=\"jobtitle turnstileLink\" data-tn-element=\"jobTitle\" href=\"/pagead/clk?mo=r&amp;ad=-6NYlbfkN0CMMrwQCTGqxDMwPsqy_tpyMCXYMRX0KWyeG_5gagirnzoGG112FoZ9EunnNPHUfLrNoliDDK4a7PfsjwP8RTFGa7DYuosRkMSh3D1v7R2mj7h_sKwLUo0ZPPhF2zhgIU22zEzMme6GWOCbQFSN3brMguQEczKbkX3_VQp6O4ZO_nZH8c4rJJvVwjw4wFN6UzpzNnkyQwL-8YrACZKk-VlXKUfbD4YxPeo925tq2EBVcUUjaR1S5i_zrWsmb_GoY3ewR99U-ievdrgNucG-8PIAhip0wapUpLB4XCE89sKbwNBanx3jFSXzYlsLFdKFqM1uRvYXEBIW6FfTof6zf_bKN0FX5SggMfb34_QBoSG4ozLc84TzEo7pFD1-q2PgtR8=&amp;p=1&amp;fvj=0&amp;vjs=3\" id=\"sja1\" onclick=\"setRefineByCookie([]); sjoc('sja1', 0); convCtr('SJ'); rclk(this,jobmap[1],true,0);\" onmousedown=\"sjomd('sja1'); clk('sja1'); rclk(this,jobmap[1],0);\" rel=\"noopener nofollow\" target=\"_blank\" title=\"Senior Data Science Platform Engineer\">\n",
       " Senior <b>Data</b> Science Platform Engineer</a>\n",
       " <span class=\"new\">new</span></h2>\n",
       " <div class=\"sjcl\">\n",
       " <div>\n",
       " <span class=\"company\">\n",
       " <a class=\"turnstileLink\" data-tn-element=\"companyName\" href=\"/cmp/Kennesaw-State-University\" onmousedown=\"this.href = appendParamsOnce(this.href, 'from=SERP&amp;campaignid=serp-linkcompanyname&amp;fromjk=a50a12786b57e9df&amp;jcid=d6c43fd95e0b1de6')\" rel=\"noopener\" target=\"_blank\">\n",
       " Kennesaw State University</a></span>\n",
       " <span class=\"ratingsDisplay\">\n",
       " <a aria-label=\"Company rating 4.1 out of 5 stars\" class=\"ratingNumber\" data-tn-variant=\"cmplinktst2\" href=\"/cmp/Kennesaw-State-University/reviews\" onmousedown=\"this.href = appendParamsOnce(this.href, '?campaignid=cmplinktst2&amp;from=SERP&amp;jt=Senior+Data+Science+Platform+Engineer&amp;fromjk=a50a12786b57e9df&amp;jcid=d6c43fd95e0b1de6');\" rel=\"noopener\" target=\"_blank\" title=\"Kennesaw State University reviews\">\n",
       " <span class=\"ratingsContent\">\n",
       " 4.1<svg class=\"starIcon\" height=\"12px\" role=\"img\" width=\"12px\">\n",
       " <g>\n",
       " <path d=\"M 12.00,4.34 C 12.00,4.34 7.69,3.97 7.69,3.97 7.69,3.97 6.00,0.00 6.00,0.00 6.00,0.00 4.31,3.98 4.31,3.98 4.31,3.98 0.00,4.34 0.00,4.34 0.00,4.34 3.28,7.18 3.28,7.18 3.28,7.18 2.29,11.40 2.29,11.40 2.29,11.40 6.00,9.16 6.00,9.16 6.00,9.16 9.71,11.40 9.71,11.40 9.71,11.40 8.73,7.18 8.73,7.18 8.73,7.18 12.00,4.34 12.00,4.34 Z\" style=\"fill: #FFB103\"></path>\n",
       " </g>\n",
       " </svg>\n",
       " </span>\n",
       " </a>\n",
       " </span>\n",
       " </div>\n",
       " <div class=\"recJobLoc\" data-rc-loc=\"Kennesaw, GA\" id=\"recJobLoc_a50a12786b57e9df\" style=\"display: none\"></div>\n",
       " <div class=\"location accessible-contrast-color-location\">Kennesaw, GA 30144</div>\n",
       " </div>\n",
       " <div class=\"summary\">\n",
       " <ul style=\"list-style-type:circle;margin-top: 0px;margin-bottom: 0px;padding-left:20px;\">\n",
       " <li>Demonstrated expertise designing computing environments that support scientific platforms, tools, and software for researchers and <b>data</b> scientists.</li>\n",
       " </ul></div>\n",
       " <div class=\"jobsearch-SerpJobCard-footer\">\n",
       " <div class=\"jobsearch-SerpJobCard-footerActions\">\n",
       " <div class=\"result-link-bar-container\">\n",
       " <div class=\"result-link-bar\"><span class=\"date\">1 day ago</span><div class=\"tt_set\" id=\"tt_set_1\"><div class=\"job-reaction\"><button aria-expanded=\"false\" aria-haspopup=\"true\" aria-label=\"save or dislike\" class=\"job-reaction-kebab\" data-ol-has-click-handler=\"\" onclick=\"toggleKebabMenu('a50a12786b57e9df', true, event); return false;\" tabindex=\"0\"></button><span class=\"job-reaction-kebab-menu\"><button class=\"job-reaction-kebab-item job-reaction-save\" data-ol-has-click-handler=\"\" onclick=\"changeJobState('a50a12786b57e9df', 'save', 'linkbar', true, '');return false;\"><svg focusable=\"false\" height=\"16\" viewbox=\"0 0 24 24\" width=\"16\"><g><path d=\"M16.5,3A6,6,0,0,0,12,5.09,6,6,0,0,0,7.5,3,5.45,5.45,0,0,0,2,8.5C2,12.28,5.4,15.36,10.55,20L12,21.35,13.45,20C18.6,15.36,22,12.28,22,8.5A5.45,5.45,0,0,0,16.5,3ZM12.1,18.55l-0.1.1-0.1-.1C7.14,14.24,4,11.39,4,8.5A3.42,3.42,0,0,1,7.5,5a3.91,3.91,0,0,1,3.57,2.36h1.87A3.88,3.88,0,0,1,16.5,5,3.42,3.42,0,0,1,20,8.5C20,11.39,16.86,14.24,12.1,18.55Z\" fill=\"#2d2d2d\"></path></g></svg><span class=\"job-reaction-kebab-item-text\">Save job</span></button><button class=\"job-reaction-kebab-item job-reaction-dislike\" data-ol-has-click-handler=\"\" onclick=\"dislikeJob(false, false, 'a50a12786b57e9df', 'unsave', 'linkbar', true, '');\"><span class=\"job-reaction-dislike-icon\"></span><span class=\"job-reaction-kebab-item-text\">Not interested</span></button><button class=\"job-reaction-kebab-item job-reaction-report\" onclick=\"reportJob('a50a12786b57e9df');\"><span class=\"job-reaction-report-icon\"></span><span class=\"job-reaction-kebab-item-text\">Report Job</span></button></span></div><span class=\"result-link-bar-separator\">·</span><a class=\"sl resultLink save-job-link\" href=\"#\" id=\"sj_a50a12786b57e9df\" onclick=\"changeJobState('a50a12786b57e9df', 'save', 'linkbar', true, ''); return false;\" title=\"Save this job to my.indeed\">Save job</a></div><script>if (!window['sj_result_a50a12786b57e9df']) {window['sj_result_a50a12786b57e9df'] = {};}window['sj_result_a50a12786b57e9df']['showSource'] = false; window['sj_result_a50a12786b57e9df']['source'] = \"Kennesaw State University\"; window['sj_result_a50a12786b57e9df']['loggedIn'] = false; window['sj_result_a50a12786b57e9df']['showMyJobsLinks'] = false;window['sj_result_a50a12786b57e9df']['baseMyJobsUrl'] = \"https://myjobs.indeed.com\";window['sj_result_a50a12786b57e9df']['undoAction'] = \"unsave\";window['sj_result_a50a12786b57e9df']['relativeJobAge'] = \"1 day ago\";window['sj_result_a50a12786b57e9df']['jobKey'] = \"a50a12786b57e9df\"; window['sj_result_a50a12786b57e9df']['myIndeedAvailable'] = true; window['sj_result_a50a12786b57e9df']['showMoreActionsLink'] = window['sj_result_a50a12786b57e9df']['showMoreActionsLink'] || false; window['sj_result_a50a12786b57e9df']['resultNumber'] = 1; window['sj_result_a50a12786b57e9df']['jobStateChangedToSaved'] = false; window['sj_result_a50a12786b57e9df']['searchState'] = \"q=data scientist&amp;fromage=7&amp;start=680\"; window['sj_result_a50a12786b57e9df']['basicPermaLink'] = \"https://www.indeed.com\"; window['sj_result_a50a12786b57e9df']['saveJobFailed'] = false; window['sj_result_a50a12786b57e9df']['removeJobFailed'] = false; window['sj_result_a50a12786b57e9df']['requestPending'] = false; window['sj_result_a50a12786b57e9df']['currentPage'] = \"serp\"; window['sj_result_a50a12786b57e9df']['sponsored'] = true;window['sj_result_a50a12786b57e9df']['reportJobButtonEnabled'] = false; window['sj_result_a50a12786b57e9df']['showMyJobsHired'] = false; window['sj_result_a50a12786b57e9df']['showSaveForSponsored'] = true; window['sj_result_a50a12786b57e9df']['showJobAge'] = true; window['sj_result_a50a12786b57e9df']['showHolisticCard'] = true; window['sj_result_a50a12786b57e9df']['showDislike'] = true; window['sj_result_a50a12786b57e9df']['showKebab'] = true; window['sj_result_a50a12786b57e9df']['showReport'] = true;</script></div></div>\n",
       " </div>\n",
       " </div>\n",
       " <div class=\"tab-container\">\n",
       " <div class=\"sign-in-container result-tab\"></div>\n",
       " <div class=\"tellafriend-container result-tab email_job_content\"></div>\n",
       " </div>\n",
       " </div>,\n",
       " <div class=\"jobsearch-SerpJobCard unifiedRow row result\" data-ci=\"363023301\" data-empn=\"4103799226283726\" data-jk=\"0eaa2350b9c260d2\" id=\"pj_0eaa2350b9c260d2\">\n",
       " <style>\n",
       " .jobcard_logo{margin:6px 0}.jobcard_logo img{width:auto;max-width:80px;max-height:30px}.jasxrefreshcombotst .jobcard_logo img{max-height:2rem;max-width:100%}\n",
       " </style>\n",
       " <h2 class=\"title\">\n",
       " <a class=\"jobtitle turnstileLink\" data-tn-element=\"jobTitle\" href=\"/pagead/clk?mo=r&amp;ad=-6NYlbfkN0DPcmXB2amxZraHSmo0hoPmuCS-O4LhIRacQ6rOWPkkcbX_TTieFwWJnT8qnFj-X-k4eMR2pwUP2PFsRYIxMfa4MY62rBs9rUR4WTI8eNDiFS4XfTglBc5CABO_SUAsq511AeGvZ7-Go2ode1iBNuLbB-7JY7oM1IxKRnrf3wN6iMGzfiu4ld_c837Ew8JqTaaq3hW96ZBhoBoUeJQG2d7ozXK1l5ZvCp8XSd-VyN6jfXavohyf5fUgUar5pn8CBR1WET_po0vfKJviv9AU6VcXYTtPJZ3LERWMiUaJJonlUUd1Q7Ht7zuaXthIIXTBH2_0QkRR7H1HHrp6ytFoswLb32ttEbXNPsEIViTcmLQ0y38qGmbfq72EKpgFKI2Ak4apk18cedvlZnzh8HZ_jadeUIltd5stu-_0CvA5SY0pScf1nk4K5I59&amp;p=2&amp;fvj=0&amp;vjs=3\" id=\"sja2\" onclick=\"setRefineByCookie([]); sjoc('sja2', 0); convCtr('SJ'); rclk(this,jobmap[2],true,0);\" onmousedown=\"sjomd('sja2'); clk('sja2'); rclk(this,jobmap[2],0);\" rel=\"noopener nofollow\" target=\"_blank\" title=\"Director - Data and Analytics\">\n",
       " Director - <b>Data</b> and Analytics</a>\n",
       " <span class=\"new\">new</span></h2>\n",
       " <div class=\"sjcl\">\n",
       " <div>\n",
       " <span class=\"company\">\n",
       " <a class=\"turnstileLink\" data-tn-element=\"companyName\" href=\"/cmp/North-Highland\" onmousedown=\"this.href = appendParamsOnce(this.href, 'from=SERP&amp;campaignid=serp-linkcompanyname&amp;fromjk=0eaa2350b9c260d2&amp;jcid=6739b4771db42138')\" rel=\"noopener\" target=\"_blank\">\n",
       " North Highland</a></span>\n",
       " <span class=\"ratingsDisplay\">\n",
       " <a aria-label=\"Company rating 3.5 out of 5 stars\" class=\"ratingNumber\" data-tn-variant=\"cmplinktst2\" href=\"/cmp/North-Highland/reviews\" onmousedown=\"this.href = appendParamsOnce(this.href, '?campaignid=cmplinktst2&amp;from=SERP&amp;jt=Director+-+Data+and+Analytics&amp;fromjk=0eaa2350b9c260d2&amp;jcid=6739b4771db42138');\" rel=\"noopener\" target=\"_blank\" title=\"North Highland reviews\">\n",
       " <span class=\"ratingsContent\">\n",
       " 3.5<svg class=\"starIcon\" height=\"12px\" role=\"img\" width=\"12px\">\n",
       " <g>\n",
       " <path d=\"M 12.00,4.34 C 12.00,4.34 7.69,3.97 7.69,3.97 7.69,3.97 6.00,0.00 6.00,0.00 6.00,0.00 4.31,3.98 4.31,3.98 4.31,3.98 0.00,4.34 0.00,4.34 0.00,4.34 3.28,7.18 3.28,7.18 3.28,7.18 2.29,11.40 2.29,11.40 2.29,11.40 6.00,9.16 6.00,9.16 6.00,9.16 9.71,11.40 9.71,11.40 9.71,11.40 8.73,7.18 8.73,7.18 8.73,7.18 12.00,4.34 12.00,4.34 Z\" style=\"fill: #FFB103\"></path>\n",
       " </g>\n",
       " </svg>\n",
       " </span>\n",
       " </a>\n",
       " </span>\n",
       " </div>\n",
       " <div class=\"recJobLoc\" data-rc-loc=\"Charlotte, NC\" id=\"recJobLoc_0eaa2350b9c260d2\" style=\"display: none\"></div>\n",
       " <div class=\"location accessible-contrast-color-location\">Charlotte, NC 28202 <span style=\"font-size: smaller\">(Downtown Charlotte area)</span></div>\n",
       " </div>\n",
       " <div class=\"summary\">\n",
       " <ul style=\"list-style-type:circle;margin-top: 0px;margin-bottom: 0px;padding-left:20px;\">\n",
       " <li>We unite technical skill and industry expertise to drive transformations that make data-driven decision making attainable through customer analytics, data…</li>\n",
       " </ul></div>\n",
       " <div class=\"jobsearch-SerpJobCard-footer\">\n",
       " <div class=\"jobsearch-SerpJobCard-footerActions\">\n",
       " <div class=\"result-link-bar-container\">\n",
       " <div class=\"result-link-bar\"><span class=\"date\">1 day ago</span><div class=\"tt_set\" id=\"tt_set_2\"><div class=\"job-reaction\"><button aria-expanded=\"false\" aria-haspopup=\"true\" aria-label=\"save or dislike\" class=\"job-reaction-kebab\" data-ol-has-click-handler=\"\" onclick=\"toggleKebabMenu('0eaa2350b9c260d2', true, event); return false;\" tabindex=\"0\"></button><span class=\"job-reaction-kebab-menu\"><button class=\"job-reaction-kebab-item job-reaction-save\" data-ol-has-click-handler=\"\" onclick=\"changeJobState('0eaa2350b9c260d2', 'save', 'linkbar', true, '');return false;\"><svg focusable=\"false\" height=\"16\" viewbox=\"0 0 24 24\" width=\"16\"><g><path d=\"M16.5,3A6,6,0,0,0,12,5.09,6,6,0,0,0,7.5,3,5.45,5.45,0,0,0,2,8.5C2,12.28,5.4,15.36,10.55,20L12,21.35,13.45,20C18.6,15.36,22,12.28,22,8.5A5.45,5.45,0,0,0,16.5,3ZM12.1,18.55l-0.1.1-0.1-.1C7.14,14.24,4,11.39,4,8.5A3.42,3.42,0,0,1,7.5,5a3.91,3.91,0,0,1,3.57,2.36h1.87A3.88,3.88,0,0,1,16.5,5,3.42,3.42,0,0,1,20,8.5C20,11.39,16.86,14.24,12.1,18.55Z\" fill=\"#2d2d2d\"></path></g></svg><span class=\"job-reaction-kebab-item-text\">Save job</span></button><button class=\"job-reaction-kebab-item job-reaction-dislike\" data-ol-has-click-handler=\"\" onclick=\"dislikeJob(false, false, '0eaa2350b9c260d2', 'unsave', 'linkbar', true, '');\"><span class=\"job-reaction-dislike-icon\"></span><span class=\"job-reaction-kebab-item-text\">Not interested</span></button><button class=\"job-reaction-kebab-item job-reaction-report\" onclick=\"reportJob('0eaa2350b9c260d2');\"><span class=\"job-reaction-report-icon\"></span><span class=\"job-reaction-kebab-item-text\">Report Job</span></button></span></div><span class=\"result-link-bar-separator\">·</span><a class=\"sl resultLink save-job-link\" href=\"#\" id=\"sj_0eaa2350b9c260d2\" onclick=\"changeJobState('0eaa2350b9c260d2', 'save', 'linkbar', true, ''); return false;\" title=\"Save this job to my.indeed\">Save job</a></div><script>if (!window['sj_result_0eaa2350b9c260d2']) {window['sj_result_0eaa2350b9c260d2'] = {};}window['sj_result_0eaa2350b9c260d2']['showSource'] = false; window['sj_result_0eaa2350b9c260d2']['source'] = \"North Highland\"; window['sj_result_0eaa2350b9c260d2']['loggedIn'] = false; window['sj_result_0eaa2350b9c260d2']['showMyJobsLinks'] = false;window['sj_result_0eaa2350b9c260d2']['baseMyJobsUrl'] = \"https://myjobs.indeed.com\";window['sj_result_0eaa2350b9c260d2']['undoAction'] = \"unsave\";window['sj_result_0eaa2350b9c260d2']['relativeJobAge'] = \"1 day ago\";window['sj_result_0eaa2350b9c260d2']['jobKey'] = \"0eaa2350b9c260d2\"; window['sj_result_0eaa2350b9c260d2']['myIndeedAvailable'] = true; window['sj_result_0eaa2350b9c260d2']['showMoreActionsLink'] = window['sj_result_0eaa2350b9c260d2']['showMoreActionsLink'] || false; window['sj_result_0eaa2350b9c260d2']['resultNumber'] = 2; window['sj_result_0eaa2350b9c260d2']['jobStateChangedToSaved'] = false; window['sj_result_0eaa2350b9c260d2']['searchState'] = \"q=data scientist&amp;fromage=7&amp;start=680\"; window['sj_result_0eaa2350b9c260d2']['basicPermaLink'] = \"https://www.indeed.com\"; window['sj_result_0eaa2350b9c260d2']['saveJobFailed'] = false; window['sj_result_0eaa2350b9c260d2']['removeJobFailed'] = false; window['sj_result_0eaa2350b9c260d2']['requestPending'] = false; window['sj_result_0eaa2350b9c260d2']['currentPage'] = \"serp\"; window['sj_result_0eaa2350b9c260d2']['sponsored'] = true;window['sj_result_0eaa2350b9c260d2']['reportJobButtonEnabled'] = false; window['sj_result_0eaa2350b9c260d2']['showMyJobsHired'] = false; window['sj_result_0eaa2350b9c260d2']['showSaveForSponsored'] = true; window['sj_result_0eaa2350b9c260d2']['showJobAge'] = true; window['sj_result_0eaa2350b9c260d2']['showHolisticCard'] = true; window['sj_result_0eaa2350b9c260d2']['showDislike'] = true; window['sj_result_0eaa2350b9c260d2']['showKebab'] = true; window['sj_result_0eaa2350b9c260d2']['showReport'] = true;</script></div></div>\n",
       " </div>\n",
       " </div>\n",
       " <div class=\"tab-container\">\n",
       " <div class=\"sign-in-container result-tab\"></div>\n",
       " <div class=\"tellafriend-container result-tab email_job_content\"></div>\n",
       " </div>\n",
       " </div>,\n",
       " <div class=\"jobsearch-SerpJobCard unifiedRow row result\" data-ci=\"311204631\" data-empn=\"8766782434770833\" data-jk=\"7f1a96b912986744\" data-tu=\"https://click.appcast.io/jview-te8/a31.png?ent=147&amp;e=7021&amp;jid=7021_R-00048972&amp;org=false&amp;src=16105&amp;bid=lUf2CslKyPxm6i440ZgUYA==&amp;jg=27h7&amp;indeed=sp\" id=\"pj_7f1a96b912986744\">\n",
       " <style>\n",
       " .jobcard_logo{margin:6px 0}.jobcard_logo img{width:auto;max-width:80px;max-height:30px}.jasxrefreshcombotst .jobcard_logo img{max-height:2rem;max-width:100%}\n",
       " </style>\n",
       " <div class=\"jobcard_logo\">\n",
       " <a href=\"/cmp/Leidos\" onmousedown=\"this.href = appendParamsOnce(this.href, 'tk=1euebktqfsa16800&amp;campaignid=femp&amp;from=femp');\" rel=\"noopener\" target=\"_blank\">\n",
       " <img alt=\"Leidos - go to company page\" src=\"https://d2q79iu7y748jz.cloudfront.net/s/_logo/f85a7f2491f64712deaa6fb92f03bbff\"/>\n",
       " </a>\n",
       " </div>\n",
       " <h2 class=\"title\">\n",
       " <a class=\"jobtitle turnstileLink\" data-tn-element=\"jobTitle\" href=\"/pagead/clk?mo=r&amp;ad=-6NYlbfkN0CZUO70VSdYKA8PR3jfrSh5ljhqJhfDt0PzQCMubt8cRnyhDD9XgeBp6fX700neD-PNc1uxJlGOcWm2urAOReGyBqw7mlXh-aMOejOL-tSu8auA7m-d-6YBUZ4xDH9F4Swg-UncbKEL2seRvd0kuh-uDMH2gXyqZuRAUSWW6O6L1QllX_b4WJ6sps_yEza_c6m9uz95iZVp4f-oVWlEXrQ3HlAvC7S0k_eX8sfj-kceI8wGLKheVFo1ggabLgSAyHaBQfmMcp_mk--qxPZDXz9wKzo3AqodRQS83M3PKK6Ku0GTQqr7fG4-iTS7qb7E0SCQXW3k-6o8LORcmyrGtufGItPnuGHWqVUtRBPRdH1U-vzd66dRwQz_hdvr1T60fnxotC10zw95A_4ExcTwqEVoX9nhKBW_PlOlqfglt8-d3htjA7NKFhl_qNWzBlzCgiPlf_se0uan7ht7fT66zQ0bkXyrBZQUPoVVphXCt-3kjA==&amp;p=3&amp;fvj=0&amp;vjs=3\" id=\"sja3\" onclick=\"setRefineByCookie([]); sjoc('sja3', 0); convCtr('SJ'); rclk(this,jobmap[3],true,0);\" onmousedown=\"sjomd('sja3'); clk('sja3'); rclk(this,jobmap[3],0);\" rel=\"noopener nofollow\" target=\"_blank\" title=\"Computer Vision / Machine Learning Engineer\">\n",
       " Computer Vision / Machine Learning Engineer</a>\n",
       " <span class=\"new\">new</span></h2>\n",
       " <div class=\"sjcl\">\n",
       " <div>\n",
       " <span class=\"company\">\n",
       " <a class=\"turnstileLink\" data-tn-element=\"companyName\" href=\"/cmp/Leidos\" onmousedown=\"this.href = appendParamsOnce(this.href, 'from=SERP&amp;campaignid=serp-linkcompanyname&amp;fromjk=7f1a96b912986744&amp;jcid=ab57fed0d6e81125')\" rel=\"noopener\" target=\"_blank\">\n",
       " Leidos</a></span>\n",
       " <span class=\"ratingsDisplay\">\n",
       " <a aria-label=\"Company rating 3.7 out of 5 stars\" class=\"ratingNumber\" data-tn-variant=\"cmplinktst2\" href=\"/cmp/Leidos/reviews\" onmousedown=\"this.href = appendParamsOnce(this.href, '?campaignid=cmplinktst2&amp;from=SERP&amp;jt=Computer+Vision+%5C%2F+Machine+Learning+Engineer&amp;fromjk=7f1a96b912986744&amp;jcid=ab57fed0d6e81125');\" rel=\"noopener\" target=\"_blank\" title=\"Leidos reviews\">\n",
       " <span class=\"ratingsContent\">\n",
       " 3.7<svg class=\"starIcon\" height=\"12px\" role=\"img\" width=\"12px\">\n",
       " <g>\n",
       " <path d=\"M 12.00,4.34 C 12.00,4.34 7.69,3.97 7.69,3.97 7.69,3.97 6.00,0.00 6.00,0.00 6.00,0.00 4.31,3.98 4.31,3.98 4.31,3.98 0.00,4.34 0.00,4.34 0.00,4.34 3.28,7.18 3.28,7.18 3.28,7.18 2.29,11.40 2.29,11.40 2.29,11.40 6.00,9.16 6.00,9.16 6.00,9.16 9.71,11.40 9.71,11.40 9.71,11.40 8.73,7.18 8.73,7.18 8.73,7.18 12.00,4.34 12.00,4.34 Z\" style=\"fill: #FFB103\"></path>\n",
       " </g>\n",
       " </svg>\n",
       " </span>\n",
       " </a>\n",
       " </span>\n",
       " </div>\n",
       " <div class=\"recJobLoc\" data-rc-loc=\"Tewksbury, MA\" id=\"recJobLoc_7f1a96b912986744\" style=\"display: none\"></div>\n",
       " <div class=\"location accessible-contrast-color-location\">Tewksbury, MA 01876</div>\n",
       " <span class=\"remote-bullet\">•</span>\n",
       " <span class=\"remote\">Remote</span>\n",
       " </div>\n",
       " <div class=\"summary\">\n",
       " <ul style=\"list-style-type:circle;margin-top: 0px;margin-bottom: 0px;padding-left:20px;\">\n",
       " <li style=\"margin-bottom:0px;\">MS/PhD in computer science/engineering in a related subject such as computer vision, machine learning or AI.</li>\n",
       " <li>Implement production quality real-time C++ software…</li>\n",
       " </ul></div>\n",
       " <div class=\"jobsearch-SerpJobCard-footer\">\n",
       " <div class=\"jobsearch-SerpJobCard-footerActions\">\n",
       " <div class=\"result-link-bar-container\">\n",
       " <div class=\"result-link-bar\"><span class=\"date\">2 days ago</span><div class=\"tt_set\" id=\"tt_set_3\"><div class=\"job-reaction\"><button aria-expanded=\"false\" aria-haspopup=\"true\" aria-label=\"save or dislike\" class=\"job-reaction-kebab\" data-ol-has-click-handler=\"\" onclick=\"toggleKebabMenu('7f1a96b912986744', true, event); return false;\" tabindex=\"0\"></button><span class=\"job-reaction-kebab-menu\"><button class=\"job-reaction-kebab-item job-reaction-save\" data-ol-has-click-handler=\"\" onclick=\"changeJobState('7f1a96b912986744', 'save', 'linkbar', true, '');return false;\"><svg focusable=\"false\" height=\"16\" viewbox=\"0 0 24 24\" width=\"16\"><g><path d=\"M16.5,3A6,6,0,0,0,12,5.09,6,6,0,0,0,7.5,3,5.45,5.45,0,0,0,2,8.5C2,12.28,5.4,15.36,10.55,20L12,21.35,13.45,20C18.6,15.36,22,12.28,22,8.5A5.45,5.45,0,0,0,16.5,3ZM12.1,18.55l-0.1.1-0.1-.1C7.14,14.24,4,11.39,4,8.5A3.42,3.42,0,0,1,7.5,5a3.91,3.91,0,0,1,3.57,2.36h1.87A3.88,3.88,0,0,1,16.5,5,3.42,3.42,0,0,1,20,8.5C20,11.39,16.86,14.24,12.1,18.55Z\" fill=\"#2d2d2d\"></path></g></svg><span class=\"job-reaction-kebab-item-text\">Save job</span></button><button class=\"job-reaction-kebab-item job-reaction-dislike\" data-ol-has-click-handler=\"\" onclick=\"dislikeJob(false, false, '7f1a96b912986744', 'unsave', 'linkbar', true, '');\"><span class=\"job-reaction-dislike-icon\"></span><span class=\"job-reaction-kebab-item-text\">Not interested</span></button><button class=\"job-reaction-kebab-item job-reaction-report\" onclick=\"reportJob('7f1a96b912986744');\"><span class=\"job-reaction-report-icon\"></span><span class=\"job-reaction-kebab-item-text\">Report Job</span></button></span></div><span class=\"result-link-bar-separator\">·</span><a class=\"sl resultLink save-job-link\" href=\"#\" id=\"sj_7f1a96b912986744\" onclick=\"changeJobState('7f1a96b912986744', 'save', 'linkbar', true, ''); return false;\" title=\"Save this job to my.indeed\">Save job</a></div><script>if (!window['sj_result_7f1a96b912986744']) {window['sj_result_7f1a96b912986744'] = {};}window['sj_result_7f1a96b912986744']['showSource'] = false; window['sj_result_7f1a96b912986744']['source'] = \"Leidos\"; window['sj_result_7f1a96b912986744']['loggedIn'] = false; window['sj_result_7f1a96b912986744']['showMyJobsLinks'] = false;window['sj_result_7f1a96b912986744']['baseMyJobsUrl'] = \"https://myjobs.indeed.com\";window['sj_result_7f1a96b912986744']['undoAction'] = \"unsave\";window['sj_result_7f1a96b912986744']['relativeJobAge'] = \"2 days ago\";window['sj_result_7f1a96b912986744']['jobKey'] = \"7f1a96b912986744\"; window['sj_result_7f1a96b912986744']['myIndeedAvailable'] = true; window['sj_result_7f1a96b912986744']['showMoreActionsLink'] = window['sj_result_7f1a96b912986744']['showMoreActionsLink'] || false; window['sj_result_7f1a96b912986744']['resultNumber'] = 3; window['sj_result_7f1a96b912986744']['jobStateChangedToSaved'] = false; window['sj_result_7f1a96b912986744']['searchState'] = \"q=data scientist&amp;fromage=7&amp;start=680\"; window['sj_result_7f1a96b912986744']['basicPermaLink'] = \"https://www.indeed.com\"; window['sj_result_7f1a96b912986744']['saveJobFailed'] = false; window['sj_result_7f1a96b912986744']['removeJobFailed'] = false; window['sj_result_7f1a96b912986744']['requestPending'] = false; window['sj_result_7f1a96b912986744']['currentPage'] = \"serp\"; window['sj_result_7f1a96b912986744']['sponsored'] = true;window['sj_result_7f1a96b912986744']['reportJobButtonEnabled'] = false; window['sj_result_7f1a96b912986744']['showMyJobsHired'] = false; window['sj_result_7f1a96b912986744']['showSaveForSponsored'] = true; window['sj_result_7f1a96b912986744']['showJobAge'] = true; window['sj_result_7f1a96b912986744']['showHolisticCard'] = true; window['sj_result_7f1a96b912986744']['showDislike'] = true; window['sj_result_7f1a96b912986744']['showKebab'] = true; window['sj_result_7f1a96b912986744']['showReport'] = true;</script></div></div>\n",
       " </div>\n",
       " </div>\n",
       " <div class=\"tab-container\">\n",
       " <div class=\"sign-in-container result-tab\"></div>\n",
       " <div class=\"tellafriend-container result-tab email_job_content\"></div>\n",
       " </div>\n",
       " </div>,\n",
       " <div class=\"jobsearch-SerpJobCard unifiedRow row result\" data-ci=\"270028171\" data-empn=\"3522562628255651\" data-jk=\"23a419a8fd651730\" id=\"pj_23a419a8fd651730\">\n",
       " <style>\n",
       " .jobcard_logo{margin:6px 0}.jobcard_logo img{width:auto;max-width:80px;max-height:30px}.jasxrefreshcombotst .jobcard_logo img{max-height:2rem;max-width:100%}\n",
       " </style>\n",
       " <h2 class=\"title\">\n",
       " <a class=\"jobtitle turnstileLink\" data-tn-element=\"jobTitle\" href=\"/pagead/clk?mo=r&amp;ad=-6NYlbfkN0ARICpNo1DhGqfodICOss3ZS6QdhS5AHh5hrs_CHOPYqyMBbpKreu8_0VPK2YpEpLadDhY7mbmT690A43H0wgkpVEJNrpuaJ9ciq-e8pJLXbrv7-WH_Gd2b9mUIICW__6tvCU1iqkxivx0NEuIZGaI3lYPQpLY2QUj9If6xlR9gRkkalm-wfbdrvzPNl7uj2lFR4Tntlv7oaUZYzYgu-0TnuYc3wE2Fw85TTx1bnOVWcukHQjYOL919CClerk4H5_mzADCbRrz0z9Qdi1xQmg2KYS0evsttJxQ0i9Q54KkqVUbYgUTC9tYE_X6EY0Y5yBwnC9S0c3eNUUd9lOe4JXopVKGIAMf-LuYfUiGJmAvhBEkAZvpr_fXGqdH7BjIr89D5KThO624dVRrqMxRd07-IaBfCS9NSPAAoAho8b5XP84wOVgk5iTUtDxTYr_vuYFqefJ1FfjL3ElrcMcMlZ-R5ongmUSJbPLYUDYeIwVNh39UoIxTc_GVjYV0IKxQmYCQdOE1PW9GQ6-hOlQ11tVakInqByLOK84tBHk-tWwNqGtoUId60R4kGnC-jiWt3ofnQpvQbwY8cozYxaV6ZBwdfwAhaRck5MJP2cTAEp1C1kfrzLhRsbnxNva4cm5JP1Rs0M4meyqJEIZYxGHqzBBhXG5KT8RZp38C_nj3k39nbnA==&amp;p=4&amp;fvj=0&amp;vjs=3\" id=\"sja4\" onclick=\"setRefineByCookie([]); sjoc('sja4', 1); convCtr('SJ'); rclk(this,jobmap[4],true,1);\" onmousedown=\"sjomd('sja4'); clk('sja4'); rclk(this,jobmap[4],1);\" rel=\"noopener nofollow\" target=\"_blank\" title=\"SENIOR DATA SCIENTIST, EPIDEMIOLOGY\">\n",
       " SENIOR <b>DATA</b> <b>SCIENTIST</b>, EPIDEMIOLOGY</a>\n",
       " <span class=\"new\">new</span></h2>\n",
       " <div class=\"sjcl\">\n",
       " <div>\n",
       " <span class=\"company\">\n",
       " <a class=\"turnstileLink\" data-tn-element=\"companyName\" href=\"/cmp/Harnham\" onmousedown=\"this.href = appendParamsOnce(this.href, 'from=SERP&amp;campaignid=serp-linkcompanyname&amp;fromjk=23a419a8fd651730&amp;jcid=d72eb0548d91249c')\" rel=\"noopener\" target=\"_blank\">\n",
       " Harnham</a></span>\n",
       " <span class=\"ratingsDisplay\">\n",
       " <a aria-label=\"Company rating 4.6 out of 5 stars\" class=\"ratingNumber\" data-tn-variant=\"cmplinktst2\" href=\"/cmp/Harnham/reviews\" onmousedown=\"this.href = appendParamsOnce(this.href, '?campaignid=cmplinktst2&amp;from=SERP&amp;jt=SENIOR+DATA+SCIENTIST%2C+EPIDEMIOLOGY&amp;fromjk=23a419a8fd651730&amp;jcid=d72eb0548d91249c');\" rel=\"noopener\" target=\"_blank\" title=\"Harnham reviews\">\n",
       " <span class=\"ratingsContent\">\n",
       " 4.6<svg class=\"starIcon\" height=\"12px\" role=\"img\" width=\"12px\">\n",
       " <g>\n",
       " <path d=\"M 12.00,4.34 C 12.00,4.34 7.69,3.97 7.69,3.97 7.69,3.97 6.00,0.00 6.00,0.00 6.00,0.00 4.31,3.98 4.31,3.98 4.31,3.98 0.00,4.34 0.00,4.34 0.00,4.34 3.28,7.18 3.28,7.18 3.28,7.18 2.29,11.40 2.29,11.40 2.29,11.40 6.00,9.16 6.00,9.16 6.00,9.16 9.71,11.40 9.71,11.40 9.71,11.40 8.73,7.18 8.73,7.18 8.73,7.18 12.00,4.34 12.00,4.34 Z\" style=\"fill: #FFB103\"></path>\n",
       " </g>\n",
       " </svg>\n",
       " </span>\n",
       " </a>\n",
       " </span>\n",
       " </div>\n",
       " <div class=\"recJobLoc\" data-rc-loc=\"New York, NY\" id=\"recJobLoc_23a419a8fd651730\" style=\"display: none\"></div>\n",
       " <div class=\"location accessible-contrast-color-location\">New York, NY</div>\n",
       " </div>\n",
       " <div class=\"salarySnippet holisticSalary\">\n",
       " <span class=\"salary no-wrap\">\n",
       " <span class=\"salaryText\">\n",
       " $140,000 - $150,000 a year</span>\n",
       " </span>\n",
       " </div>\n",
       " <table class=\"jobCardShelfContainer\" role=\"presentation\"><tr class=\"jobCardShelf\"><td class=\"jobCardShelfItem indeedApply\"><span class=\"jobCardShelfIcon\"><svg fill=\"none\" height=\"16\" viewbox=\"0 0 20 20\" width=\"16\"><rect fill=\"#FF5A1F\" height=\"20\" rx=\"10\" width=\"20\"></rect><path clip-rule=\"evenodd\" d=\"M15.3125 4.0625L10.8125 15.3125L7.99999 11.375L15.3125 4.0625ZM7.604 12.7576L6.875 15.3125L8.567 14.1054L7.604 12.7576ZM7.20463 10.5796L12.419 5.36525L4.0625 9.125L6.9875 10.7968L7.20463 10.5796Z\" fill=\"white\" fill-rule=\"evenodd\"></path></svg></span><span class=\"iaLabel iaIconActive\">Easily apply</span></td></tr></table><div class=\"summary\">\n",
       " <ul style=\"list-style-type:circle;margin-top: 0px;margin-bottom: 0px;padding-left:20px;\">\n",
       " <li>You will be partnering with the internal <b>scientists</b> and external pharmaceutical leaders to deliver analytics, machine learning, and AI solutions for prioritized…</li>\n",
       " </ul></div>\n",
       " <div class=\"jobsearch-SerpJobCard-footer\">\n",
       " <div class=\"jobsearch-SerpJobCard-footerActions\">\n",
       " <div class=\"result-link-bar-container\">\n",
       " <div class=\"result-link-bar\"><span class=\"date\">1 day ago</span><div class=\"tt_set\" id=\"tt_set_4\"><div class=\"job-reaction\"><button aria-expanded=\"false\" aria-haspopup=\"true\" aria-label=\"save or dislike\" class=\"job-reaction-kebab\" data-ol-has-click-handler=\"\" onclick=\"toggleKebabMenu('23a419a8fd651730', true, event); return false;\" tabindex=\"0\"></button><span class=\"job-reaction-kebab-menu\"><button class=\"job-reaction-kebab-item job-reaction-save\" data-ol-has-click-handler=\"\" onclick=\"changeJobState('23a419a8fd651730', 'save', 'linkbar', true, '');return false;\"><svg focusable=\"false\" height=\"16\" viewbox=\"0 0 24 24\" width=\"16\"><g><path d=\"M16.5,3A6,6,0,0,0,12,5.09,6,6,0,0,0,7.5,3,5.45,5.45,0,0,0,2,8.5C2,12.28,5.4,15.36,10.55,20L12,21.35,13.45,20C18.6,15.36,22,12.28,22,8.5A5.45,5.45,0,0,0,16.5,3ZM12.1,18.55l-0.1.1-0.1-.1C7.14,14.24,4,11.39,4,8.5A3.42,3.42,0,0,1,7.5,5a3.91,3.91,0,0,1,3.57,2.36h1.87A3.88,3.88,0,0,1,16.5,5,3.42,3.42,0,0,1,20,8.5C20,11.39,16.86,14.24,12.1,18.55Z\" fill=\"#2d2d2d\"></path></g></svg><span class=\"job-reaction-kebab-item-text\">Save job</span></button><button class=\"job-reaction-kebab-item job-reaction-dislike\" data-ol-has-click-handler=\"\" onclick=\"dislikeJob(false, false, '23a419a8fd651730', 'unsave', 'linkbar', true, '');\"><span class=\"job-reaction-dislike-icon\"></span><span class=\"job-reaction-kebab-item-text\">Not interested</span></button><button class=\"job-reaction-kebab-item job-reaction-report\" onclick=\"reportJob('23a419a8fd651730');\"><span class=\"job-reaction-report-icon\"></span><span class=\"job-reaction-kebab-item-text\">Report Job</span></button></span></div><span class=\"result-link-bar-separator\">·</span><a class=\"sl resultLink save-job-link\" href=\"#\" id=\"sj_23a419a8fd651730\" onclick=\"changeJobState('23a419a8fd651730', 'save', 'linkbar', true, ''); return false;\" title=\"Save this job to my.indeed\">Save job</a></div><script>if (!window['sj_result_23a419a8fd651730']) {window['sj_result_23a419a8fd651730'] = {};}window['sj_result_23a419a8fd651730']['showSource'] = false; window['sj_result_23a419a8fd651730']['source'] = \"Harnham\"; window['sj_result_23a419a8fd651730']['loggedIn'] = false; window['sj_result_23a419a8fd651730']['showMyJobsLinks'] = false;window['sj_result_23a419a8fd651730']['baseMyJobsUrl'] = \"https://myjobs.indeed.com\";window['sj_result_23a419a8fd651730']['undoAction'] = \"unsave\";window['sj_result_23a419a8fd651730']['relativeJobAge'] = \"1 day ago\";window['sj_result_23a419a8fd651730']['jobKey'] = \"23a419a8fd651730\"; window['sj_result_23a419a8fd651730']['myIndeedAvailable'] = true; window['sj_result_23a419a8fd651730']['showMoreActionsLink'] = window['sj_result_23a419a8fd651730']['showMoreActionsLink'] || false; window['sj_result_23a419a8fd651730']['resultNumber'] = 4; window['sj_result_23a419a8fd651730']['jobStateChangedToSaved'] = false; window['sj_result_23a419a8fd651730']['searchState'] = \"q=data scientist&amp;fromage=7&amp;start=680\"; window['sj_result_23a419a8fd651730']['basicPermaLink'] = \"https://www.indeed.com\"; window['sj_result_23a419a8fd651730']['saveJobFailed'] = false; window['sj_result_23a419a8fd651730']['removeJobFailed'] = false; window['sj_result_23a419a8fd651730']['requestPending'] = false; window['sj_result_23a419a8fd651730']['currentPage'] = \"serp\"; window['sj_result_23a419a8fd651730']['sponsored'] = true;window['sj_result_23a419a8fd651730']['reportJobButtonEnabled'] = false; window['sj_result_23a419a8fd651730']['showMyJobsHired'] = false; window['sj_result_23a419a8fd651730']['showSaveForSponsored'] = true; window['sj_result_23a419a8fd651730']['showJobAge'] = true; window['sj_result_23a419a8fd651730']['showHolisticCard'] = true; window['sj_result_23a419a8fd651730']['showDislike'] = true; window['sj_result_23a419a8fd651730']['showKebab'] = true; window['sj_result_23a419a8fd651730']['showReport'] = true;</script></div></div>\n",
       " </div>\n",
       " </div>\n",
       " <div class=\"tab-container\">\n",
       " <div class=\"sign-in-container result-tab\"></div>\n",
       " <div class=\"tellafriend-container result-tab email_job_content\"></div>\n",
       " </div>\n",
       " </div>,\n",
       " <div class=\"jobsearch-SerpJobCard unifiedRow row result\" data-ci=\"262028210\" data-empn=\"1493653984757584\" data-jk=\"3c087bce2efef13c\" id=\"pj_3c087bce2efef13c\">\n",
       " <style>\n",
       " .jobcard_logo{margin:6px 0}.jobcard_logo img{width:auto;max-width:80px;max-height:30px}.jasxrefreshcombotst .jobcard_logo img{max-height:2rem;max-width:100%}\n",
       " </style>\n",
       " <h2 class=\"title\">\n",
       " <a class=\"jobtitle turnstileLink\" data-tn-element=\"jobTitle\" href=\"/pagead/clk?mo=r&amp;ad=-6NYlbfkN0DNoILxOnWIsoHfQE7VRgrjw9NlRoJFeLDlYBIP8lxdz24IcNbY7buWHFYh-rAokNQZUIGNvSnsDSEUwJQMOtUVGKfxqhZfNZAbTYkeu1YBz8AoIxALVnrwUTkOJxsW4ETFJkMliVUuPFLzCpK8dvrGymq_FgYwRrg3dmMkYDXqymCXFa3fHIss29bwl64VRCjMOT0tcYuW4cDUjnDdfVLO1YdjeEkrUasTuPyxOIgHHGpFKYBrMMoEw3mhhvyzxjkCHMmc44bvd_w8zTTkbTZ7wMttbFjhoGwvXxi-xnQE_b7VMnzA1nKtzD59fRb2OVxndc-IPKKbFE7oyDb7HUe9_Q4Dyk5E6_buVubk1Te5LEH5Mz9kSHJkR202TPVEQO75wfjFixkMO4C8vXV4gV_S5jL4FHSoV8f1tYHdnW7C4atNvnxBf3M8a9w1yD7VfhFtRy9fUey_fQQI9ScsG2nAH3HYC6a8-Z0vL2xk198gbpDLRNtIgJ0JejpTygzSUOGPHelnUHpxe0B0sG4jw_Ns&amp;p=5&amp;fvj=0&amp;vjs=3\" id=\"sja5\" onclick=\"setRefineByCookie([]); sjoc('sja5', 0); convCtr('SJ'); rclk(this,jobmap[5],true,0);\" onmousedown=\"sjomd('sja5'); clk('sja5'); rclk(this,jobmap[5],0);\" rel=\"noopener nofollow\" target=\"_blank\" title=\"Data Scientist / Analyst (EEO / Housing laws)\">\n",
       " <b>Data</b> <b>Scientist</b> / Analyst (EEO / Housing laws)</a>\n",
       " <span class=\"new\">new</span></h2>\n",
       " <div class=\"sjcl\">\n",
       " <div>\n",
       " <span class=\"company\">\n",
       " <a class=\"turnstileLink\" data-tn-element=\"companyName\" href=\"/cmp/Trigyn-Technologies\" onmousedown=\"this.href = appendParamsOnce(this.href, 'from=SERP&amp;campaignid=serp-linkcompanyname&amp;fromjk=3c087bce2efef13c&amp;jcid=035a78e8c23ea548')\" rel=\"noopener\" target=\"_blank\">\n",
       " Trigyn</a></span>\n",
       " <span class=\"ratingsDisplay\">\n",
       " <a aria-label=\"Company rating 3.7 out of 5 stars\" class=\"ratingNumber\" data-tn-variant=\"cmplinktst2\" href=\"/cmp/Trigyn-Technologies/reviews\" onmousedown=\"this.href = appendParamsOnce(this.href, '?campaignid=cmplinktst2&amp;from=SERP&amp;jt=Data+Scientist+%5C%2F+Analyst+%28EEO+%5C%2F+Housing+laws%29&amp;fromjk=3c087bce2efef13c&amp;jcid=035a78e8c23ea548');\" rel=\"noopener\" target=\"_blank\" title=\"Trigyn reviews\">\n",
       " <span class=\"ratingsContent\">\n",
       " 3.7<svg class=\"starIcon\" height=\"12px\" role=\"img\" width=\"12px\">\n",
       " <g>\n",
       " <path d=\"M 12.00,4.34 C 12.00,4.34 7.69,3.97 7.69,3.97 7.69,3.97 6.00,0.00 6.00,0.00 6.00,0.00 4.31,3.98 4.31,3.98 4.31,3.98 0.00,4.34 0.00,4.34 0.00,4.34 3.28,7.18 3.28,7.18 3.28,7.18 2.29,11.40 2.29,11.40 2.29,11.40 6.00,9.16 6.00,9.16 6.00,9.16 9.71,11.40 9.71,11.40 9.71,11.40 8.73,7.18 8.73,7.18 8.73,7.18 12.00,4.34 12.00,4.34 Z\" style=\"fill: #FFB103\"></path>\n",
       " </g>\n",
       " </svg>\n",
       " </span>\n",
       " </a>\n",
       " </span>\n",
       " </div>\n",
       " <div class=\"recJobLoc\" data-rc-loc=\"Manhattan, NY\" id=\"recJobLoc_3c087bce2efef13c\" style=\"display: none\"></div>\n",
       " <div class=\"location accessible-contrast-color-location\">Manhattan, NY</div>\n",
       " </div>\n",
       " <div class=\"summary\">\n",
       " <ul style=\"list-style-type:circle;margin-top: 0px;margin-bottom: 0px;padding-left:20px;\">\n",
       " <li>Conduct adverse impact analyses &amp; other statistical analyses for annual EO plans; develop methodology &amp; provide <b>data</b> reports to periodically monitor personnel…</li>\n",
       " </ul></div>\n",
       " <div class=\"jobsearch-SerpJobCard-footer\">\n",
       " <div class=\"jobsearch-SerpJobCard-footerActions\">\n",
       " <div class=\"result-link-bar-container\">\n",
       " <div class=\"result-link-bar\"><span class=\"date\">Today</span><div class=\"tt_set\" id=\"tt_set_5\"><div class=\"job-reaction\"><button aria-expanded=\"false\" aria-haspopup=\"true\" aria-label=\"save or dislike\" class=\"job-reaction-kebab\" data-ol-has-click-handler=\"\" onclick=\"toggleKebabMenu('3c087bce2efef13c', true, event); return false;\" tabindex=\"0\"></button><span class=\"job-reaction-kebab-menu\"><button class=\"job-reaction-kebab-item job-reaction-save\" data-ol-has-click-handler=\"\" onclick=\"changeJobState('3c087bce2efef13c', 'save', 'linkbar', true, '');return false;\"><svg focusable=\"false\" height=\"16\" viewbox=\"0 0 24 24\" width=\"16\"><g><path d=\"M16.5,3A6,6,0,0,0,12,5.09,6,6,0,0,0,7.5,3,5.45,5.45,0,0,0,2,8.5C2,12.28,5.4,15.36,10.55,20L12,21.35,13.45,20C18.6,15.36,22,12.28,22,8.5A5.45,5.45,0,0,0,16.5,3ZM12.1,18.55l-0.1.1-0.1-.1C7.14,14.24,4,11.39,4,8.5A3.42,3.42,0,0,1,7.5,5a3.91,3.91,0,0,1,3.57,2.36h1.87A3.88,3.88,0,0,1,16.5,5,3.42,3.42,0,0,1,20,8.5C20,11.39,16.86,14.24,12.1,18.55Z\" fill=\"#2d2d2d\"></path></g></svg><span class=\"job-reaction-kebab-item-text\">Save job</span></button><button class=\"job-reaction-kebab-item job-reaction-dislike\" data-ol-has-click-handler=\"\" onclick=\"dislikeJob(false, false, '3c087bce2efef13c', 'unsave', 'linkbar', true, '');\"><span class=\"job-reaction-dislike-icon\"></span><span class=\"job-reaction-kebab-item-text\">Not interested</span></button><button class=\"job-reaction-kebab-item job-reaction-report\" onclick=\"reportJob('3c087bce2efef13c');\"><span class=\"job-reaction-report-icon\"></span><span class=\"job-reaction-kebab-item-text\">Report Job</span></button></span></div><span class=\"result-link-bar-separator\">·</span><a class=\"sl resultLink save-job-link\" href=\"#\" id=\"sj_3c087bce2efef13c\" onclick=\"changeJobState('3c087bce2efef13c', 'save', 'linkbar', true, ''); return false;\" title=\"Save this job to my.indeed\">Save job</a></div><script>if (!window['sj_result_3c087bce2efef13c']) {window['sj_result_3c087bce2efef13c'] = {};}window['sj_result_3c087bce2efef13c']['showSource'] = false; window['sj_result_3c087bce2efef13c']['source'] = \"Trigyn\"; window['sj_result_3c087bce2efef13c']['loggedIn'] = false; window['sj_result_3c087bce2efef13c']['showMyJobsLinks'] = false;window['sj_result_3c087bce2efef13c']['baseMyJobsUrl'] = \"https://myjobs.indeed.com\";window['sj_result_3c087bce2efef13c']['undoAction'] = \"unsave\";window['sj_result_3c087bce2efef13c']['relativeJobAge'] = \"Today\";window['sj_result_3c087bce2efef13c']['jobKey'] = \"3c087bce2efef13c\"; window['sj_result_3c087bce2efef13c']['myIndeedAvailable'] = true; window['sj_result_3c087bce2efef13c']['showMoreActionsLink'] = window['sj_result_3c087bce2efef13c']['showMoreActionsLink'] || false; window['sj_result_3c087bce2efef13c']['resultNumber'] = 5; window['sj_result_3c087bce2efef13c']['jobStateChangedToSaved'] = false; window['sj_result_3c087bce2efef13c']['searchState'] = \"q=data scientist&amp;fromage=7&amp;start=680\"; window['sj_result_3c087bce2efef13c']['basicPermaLink'] = \"https://www.indeed.com\"; window['sj_result_3c087bce2efef13c']['saveJobFailed'] = false; window['sj_result_3c087bce2efef13c']['removeJobFailed'] = false; window['sj_result_3c087bce2efef13c']['requestPending'] = false; window['sj_result_3c087bce2efef13c']['currentPage'] = \"serp\"; window['sj_result_3c087bce2efef13c']['sponsored'] = true;window['sj_result_3c087bce2efef13c']['reportJobButtonEnabled'] = false; window['sj_result_3c087bce2efef13c']['showMyJobsHired'] = false; window['sj_result_3c087bce2efef13c']['showSaveForSponsored'] = true; window['sj_result_3c087bce2efef13c']['showJobAge'] = true; window['sj_result_3c087bce2efef13c']['showHolisticCard'] = true; window['sj_result_3c087bce2efef13c']['showDislike'] = true; window['sj_result_3c087bce2efef13c']['showKebab'] = true; window['sj_result_3c087bce2efef13c']['showReport'] = true;</script></div></div>\n",
       " </div>\n",
       " </div>\n",
       " <div class=\"tab-container\">\n",
       " <div class=\"sign-in-container result-tab\"></div>\n",
       " <div class=\"tellafriend-container result-tab email_job_content\"></div>\n",
       " </div>\n",
       " </div>,\n",
       " <div class=\"jobsearch-SerpJobCard unifiedRow row result\" data-ci=\"327811381\" data-empn=\"3018725801175434\" data-jk=\"12c9c26ad033fe2b\" data-tu=\"https://analytics.prng.co/i?e=se&amp;aid=indeed-firstclick&amp;p=web&amp;tv=no-js-0.1.0&amp;tna=indeed-firstclick-tracker&amp;se_ca=click&amp;se_ac=first-click&amp;se_la=VpeJB4b&amp;se_va=0.00&amp;indeed=sp\" id=\"pj_12c9c26ad033fe2b\">\n",
       " <style>\n",
       " .jobcard_logo{margin:6px 0}.jobcard_logo img{width:auto;max-width:80px;max-height:30px}.jasxrefreshcombotst .jobcard_logo img{max-height:2rem;max-width:100%}\n",
       " </style>\n",
       " <h2 class=\"title\">\n",
       " <a class=\"jobtitle turnstileLink\" data-tn-element=\"jobTitle\" href=\"/pagead/clk?mo=r&amp;ad=-6NYlbfkN0ClvsRMZZYbWkncYKklQZhomgGvtzxN2NDL0Yep_oEtFRBSc398mSurUi9Mojk8piq_0ZG-xpFZdZPR2-sOQ9Ut37s4l7wM5_21Tx2UPF3Ih2lRoZNNUY1LEHB-r6-ffb4QO3yqUVsz7d52Dyh43WYR3wLaDKC08R1IAsdo5GYHCgli0ly9uOLCQPhG9w5u2SpYuCtghIXLwYfhEbqQuUxe-nTEkiVOV2UDRKBS6yDHIjuYsyb5l9Y0et-ST6dv9ixR-HzrdXS-TrNV7A6GRiHyd4b-rk8G6LeDLpiGfjDKNTjeh1QYoyNIkEQDo3ayznH6G1aM3wanRsYgsRHejcWANyIRatvQpUGHQK_1_0le3n3pAk4IQ6FneN8xvHnUMWo=&amp;p=6&amp;fvj=0&amp;vjs=3\" id=\"sja6\" onclick=\"setRefineByCookie([]); sjoc('sja6', 0); convCtr('SJ'); rclk(this,jobmap[6],true,0);\" onmousedown=\"sjomd('sja6'); clk('sja6'); rclk(this,jobmap[6],0);\" rel=\"noopener nofollow\" target=\"_blank\" title=\"Machine Learning Engineer 2\">\n",
       " Machine Learning Engineer 2</a>\n",
       " <span class=\"new\">new</span></h2>\n",
       " <div class=\"sjcl\">\n",
       " <div>\n",
       " <span class=\"company\">\n",
       " <a class=\"turnstileLink\" data-tn-element=\"companyName\" href=\"/cmp/Intuit\" onmousedown=\"this.href = appendParamsOnce(this.href, 'from=SERP&amp;campaignid=serp-linkcompanyname&amp;fromjk=12c9c26ad033fe2b&amp;jcid=9784ae78e9834539')\" rel=\"noopener\" target=\"_blank\">\n",
       " Intuit</a></span>\n",
       " <span class=\"ratingsDisplay\">\n",
       " <a aria-label=\"Company rating 4.2 out of 5 stars\" class=\"ratingNumber\" data-tn-variant=\"cmplinktst2\" href=\"/cmp/Intuit/reviews\" onmousedown=\"this.href = appendParamsOnce(this.href, '?campaignid=cmplinktst2&amp;from=SERP&amp;jt=Machine+Learning+Engineer+2&amp;fromjk=12c9c26ad033fe2b&amp;jcid=9784ae78e9834539');\" rel=\"noopener\" target=\"_blank\" title=\"Intuit reviews\">\n",
       " <span class=\"ratingsContent\">\n",
       " 4.2<svg class=\"starIcon\" height=\"12px\" role=\"img\" width=\"12px\">\n",
       " <g>\n",
       " <path d=\"M 12.00,4.34 C 12.00,4.34 7.69,3.97 7.69,3.97 7.69,3.97 6.00,0.00 6.00,0.00 6.00,0.00 4.31,3.98 4.31,3.98 4.31,3.98 0.00,4.34 0.00,4.34 0.00,4.34 3.28,7.18 3.28,7.18 3.28,7.18 2.29,11.40 2.29,11.40 2.29,11.40 6.00,9.16 6.00,9.16 6.00,9.16 9.71,11.40 9.71,11.40 9.71,11.40 8.73,7.18 8.73,7.18 8.73,7.18 12.00,4.34 12.00,4.34 Z\" style=\"fill: #FFB103\"></path>\n",
       " </g>\n",
       " </svg>\n",
       " </span>\n",
       " </a>\n",
       " </span>\n",
       " </div>\n",
       " <div class=\"recJobLoc\" data-rc-loc=\"Mountain View, CA\" id=\"recJobLoc_12c9c26ad033fe2b\" style=\"display: none\"></div>\n",
       " <div class=\"location accessible-contrast-color-location\">Mountain View, CA 94041</div>\n",
       " </div>\n",
       " <div class=\"summary\">\n",
       " <ul style=\"list-style-type:circle;margin-top: 0px;margin-bottom: 0px;padding-left:20px;\">\n",
       " <li style=\"margin-bottom:0px;\">In this role, you’ll be part of a vibrant team of <b>data</b> <b>scientists</b>, product developers, and machine learning engineers.</li>\n",
       " <li>Knowledge of agile project methodologies.</li>\n",
       " </ul></div>\n",
       " <div class=\"jobsearch-SerpJobCard-footer\">\n",
       " <div class=\"jobsearch-SerpJobCard-footerActions\">\n",
       " <div class=\"result-link-bar-container\">\n",
       " <div class=\"result-link-bar\"><span class=\"date\">Just posted</span><div class=\"tt_set\" id=\"tt_set_6\"><div class=\"job-reaction\"><button aria-expanded=\"false\" aria-haspopup=\"true\" aria-label=\"save or dislike\" class=\"job-reaction-kebab\" data-ol-has-click-handler=\"\" onclick=\"toggleKebabMenu('12c9c26ad033fe2b', true, event); return false;\" tabindex=\"0\"></button><span class=\"job-reaction-kebab-menu\"><button class=\"job-reaction-kebab-item job-reaction-save\" data-ol-has-click-handler=\"\" onclick=\"changeJobState('12c9c26ad033fe2b', 'save', 'linkbar', true, '');return false;\"><svg focusable=\"false\" height=\"16\" viewbox=\"0 0 24 24\" width=\"16\"><g><path d=\"M16.5,3A6,6,0,0,0,12,5.09,6,6,0,0,0,7.5,3,5.45,5.45,0,0,0,2,8.5C2,12.28,5.4,15.36,10.55,20L12,21.35,13.45,20C18.6,15.36,22,12.28,22,8.5A5.45,5.45,0,0,0,16.5,3ZM12.1,18.55l-0.1.1-0.1-.1C7.14,14.24,4,11.39,4,8.5A3.42,3.42,0,0,1,7.5,5a3.91,3.91,0,0,1,3.57,2.36h1.87A3.88,3.88,0,0,1,16.5,5,3.42,3.42,0,0,1,20,8.5C20,11.39,16.86,14.24,12.1,18.55Z\" fill=\"#2d2d2d\"></path></g></svg><span class=\"job-reaction-kebab-item-text\">Save job</span></button><button class=\"job-reaction-kebab-item job-reaction-dislike\" data-ol-has-click-handler=\"\" onclick=\"dislikeJob(false, false, '12c9c26ad033fe2b', 'unsave', 'linkbar', true, '');\"><span class=\"job-reaction-dislike-icon\"></span><span class=\"job-reaction-kebab-item-text\">Not interested</span></button><button class=\"job-reaction-kebab-item job-reaction-report\" onclick=\"reportJob('12c9c26ad033fe2b');\"><span class=\"job-reaction-report-icon\"></span><span class=\"job-reaction-kebab-item-text\">Report Job</span></button></span></div><span class=\"result-link-bar-separator\">·</span><a class=\"sl resultLink save-job-link\" href=\"#\" id=\"sj_12c9c26ad033fe2b\" onclick=\"changeJobState('12c9c26ad033fe2b', 'save', 'linkbar', true, ''); return false;\" title=\"Save this job to my.indeed\">Save job</a></div><script>if (!window['sj_result_12c9c26ad033fe2b']) {window['sj_result_12c9c26ad033fe2b'] = {};}window['sj_result_12c9c26ad033fe2b']['showSource'] = false; window['sj_result_12c9c26ad033fe2b']['source'] = \"Intuit\"; window['sj_result_12c9c26ad033fe2b']['loggedIn'] = false; window['sj_result_12c9c26ad033fe2b']['showMyJobsLinks'] = false;window['sj_result_12c9c26ad033fe2b']['baseMyJobsUrl'] = \"https://myjobs.indeed.com\";window['sj_result_12c9c26ad033fe2b']['undoAction'] = \"unsave\";window['sj_result_12c9c26ad033fe2b']['relativeJobAge'] = \"Just posted\";window['sj_result_12c9c26ad033fe2b']['jobKey'] = \"12c9c26ad033fe2b\"; window['sj_result_12c9c26ad033fe2b']['myIndeedAvailable'] = true; window['sj_result_12c9c26ad033fe2b']['showMoreActionsLink'] = window['sj_result_12c9c26ad033fe2b']['showMoreActionsLink'] || false; window['sj_result_12c9c26ad033fe2b']['resultNumber'] = 6; window['sj_result_12c9c26ad033fe2b']['jobStateChangedToSaved'] = false; window['sj_result_12c9c26ad033fe2b']['searchState'] = \"q=data scientist&amp;fromage=7&amp;start=680\"; window['sj_result_12c9c26ad033fe2b']['basicPermaLink'] = \"https://www.indeed.com\"; window['sj_result_12c9c26ad033fe2b']['saveJobFailed'] = false; window['sj_result_12c9c26ad033fe2b']['removeJobFailed'] = false; window['sj_result_12c9c26ad033fe2b']['requestPending'] = false; window['sj_result_12c9c26ad033fe2b']['currentPage'] = \"serp\"; window['sj_result_12c9c26ad033fe2b']['sponsored'] = true;window['sj_result_12c9c26ad033fe2b']['reportJobButtonEnabled'] = false; window['sj_result_12c9c26ad033fe2b']['showMyJobsHired'] = false; window['sj_result_12c9c26ad033fe2b']['showSaveForSponsored'] = true; window['sj_result_12c9c26ad033fe2b']['showJobAge'] = true; window['sj_result_12c9c26ad033fe2b']['showHolisticCard'] = true; window['sj_result_12c9c26ad033fe2b']['showDislike'] = true; window['sj_result_12c9c26ad033fe2b']['showKebab'] = true; window['sj_result_12c9c26ad033fe2b']['showReport'] = true;</script></div></div>\n",
       " </div>\n",
       " </div>\n",
       " <div class=\"tab-container\">\n",
       " <div class=\"sign-in-container result-tab\"></div>\n",
       " <div class=\"tellafriend-container result-tab email_job_content\"></div>\n",
       " </div>\n",
       " </div>,\n",
       " <div class=\"jobsearch-SerpJobCard unifiedRow row result\" data-ci=\"105245054\" data-empn=\"8690912762161442\" data-jk=\"5bddb58f393b1d6b\" data-tu=\"https://jsv3.recruitics.com/partner/a51b8de1-f7bf-11e7-9edd-d951492604d9.gif?client=521&amp;rx_c=&amp;rx_campaign=indeed16&amp;rx_group=100137&amp;rx_source=Indeed&amp;job=TB10-159862739&amp;rx_r=none&amp;rx_ts=20210213T174822Z&amp;rx_pre=1&amp;indeed=sp\" id=\"pj_5bddb58f393b1d6b\">\n",
       " <style>\n",
       " .jobcard_logo{margin:6px 0}.jobcard_logo img{width:auto;max-width:80px;max-height:30px}.jasxrefreshcombotst .jobcard_logo img{max-height:2rem;max-width:100%}\n",
       " </style>\n",
       " <h2 class=\"title\">\n",
       " <a class=\"jobtitle turnstileLink\" data-tn-element=\"jobTitle\" href=\"/pagead/clk?mo=r&amp;ad=-6NYlbfkN0CpFJQzrgRR8WqXWK1qKKEqALWJw739KlKqr2H-MSI4eh4ZOxqVaUrhNSyjVEAq5t46S2rlsTqejeDosZiYzkgYOkESHzVJCJBI0hpfvyX7dSRLMtJ1wNExSV_YtuRykPUpE5EYHUsZmoCEnKbn64c61m5wVORFSAuq6RCOFDFmsr8r3H8IQ05ZNwmRDZjbYUlKlJUZv1zw4KeZFN2CT1_YvHnlfoIVV8TrTXIxdqcHwmitbcsZi7FgPwJXZzSzFKTHOCbkPO5rijUETK35991kdxCelyVe2D_AgCICf4gZLOpDBXJc2chHSTBKYrOUuQoM-3WkvH4ZKCpRpir-1JB74th_arV5mkwVxRHaeQA4WMMnAGwqihZb7cE5OXBmOkqw01VrGw5LtpwbfqihP4oKEDr5VnUAKO4hzSJSsR1tuqwToeUF7wDZKFiHNlyToYIL5xFRQ3rPgVqBWJSoXquw33oi-nevIk5-IStZxrdo5axvvKlW5_jiTXTEiLB_ZiSFfAk4ZW1o8q12FFWCTD5thSxODohCQ41u7nz8yYQII_y7t8UrrkbITMaOzauJyatLX7mJPH7SuKUyT38YfwLtSCCkgEYOl70UEzgUYrw1brwPqutUFZTsZMbAHJ7P3NSI4CkPUKvBBvtDYY0PcWuD-9bsdsOuvoc5ktPzwyMxh70KlY1b40iN6rIZ7HfsGC90sQge_iTARh4MTHzzo6aYwsba2sfxI-321-MzlXGttpQ7fLEr6NXZ-GR3IMh6aVAzHcCzSD9CBPlbuhxP9TifAkldrq_dWqgzDvWhZJcCSeAq33ueje8NE0obttKHArf06P7SPpvvKyrssNJ0i5jl6PstyFLqNHGT4n1VRfVebk47CouWgdQBdMmsZIg0P1NnuzJ2Tekt7gEhjLWL_gRvnehARl9XDJ-XWgNIuyVO9sdn-cVyaDKD-B4J3wkXfhKaPYODCw0lnw==&amp;p=7&amp;fvj=0&amp;vjs=3\" id=\"sja7\" onclick=\"setRefineByCookie([]); sjoc('sja7', 1); convCtr('SJ'); rclk(this,jobmap[7],true,1);\" onmousedown=\"sjomd('sja7'); clk('sja7'); rclk(this,jobmap[7],1);\" rel=\"noopener nofollow\" target=\"_blank\" title=\"Senior Data Scientist\">\n",
       " Senior <b>Data</b> <b>Scientist</b></a>\n",
       " <span class=\"new\">new</span></h2>\n",
       " <div class=\"sjcl\">\n",
       " <div>\n",
       " <span class=\"company\">\n",
       " <a class=\"turnstileLink\" data-tn-element=\"companyName\" href=\"/cmp/Cybercoders\" onmousedown=\"this.href = appendParamsOnce(this.href, 'from=SERP&amp;campaignid=serp-linkcompanyname&amp;fromjk=5bddb58f393b1d6b&amp;jcid=1baa5ded61092dc7')\" rel=\"noopener\" target=\"_blank\">\n",
       " CyberCoders</a></span>\n",
       " <span class=\"ratingsDisplay\">\n",
       " <a aria-label=\"Company rating 3.3 out of 5 stars\" class=\"ratingNumber\" data-tn-variant=\"cmplinktst2\" href=\"/cmp/Cybercoders/reviews\" onmousedown=\"this.href = appendParamsOnce(this.href, '?campaignid=cmplinktst2&amp;from=SERP&amp;jt=Senior+Data+Scientist&amp;fromjk=5bddb58f393b1d6b&amp;jcid=1baa5ded61092dc7');\" rel=\"noopener\" target=\"_blank\" title=\"Cybercoders reviews\">\n",
       " <span class=\"ratingsContent\">\n",
       " 3.3<svg class=\"starIcon\" height=\"12px\" role=\"img\" width=\"12px\">\n",
       " <g>\n",
       " <path d=\"M 12.00,4.34 C 12.00,4.34 7.69,3.97 7.69,3.97 7.69,3.97 6.00,0.00 6.00,0.00 6.00,0.00 4.31,3.98 4.31,3.98 4.31,3.98 0.00,4.34 0.00,4.34 0.00,4.34 3.28,7.18 3.28,7.18 3.28,7.18 2.29,11.40 2.29,11.40 2.29,11.40 6.00,9.16 6.00,9.16 6.00,9.16 9.71,11.40 9.71,11.40 9.71,11.40 8.73,7.18 8.73,7.18 8.73,7.18 12.00,4.34 12.00,4.34 Z\" style=\"fill: #FFB103\"></path>\n",
       " </g>\n",
       " </svg>\n",
       " </span>\n",
       " </a>\n",
       " </span>\n",
       " </div>\n",
       " <div class=\"recJobLoc\" data-rc-loc=\"Buffalo Grove, IL\" id=\"recJobLoc_5bddb58f393b1d6b\" style=\"display: none\"></div>\n",
       " <div class=\"location accessible-contrast-color-location\">Buffalo Grove, IL 60089</div>\n",
       " <span class=\"remote-bullet\">•</span>\n",
       " <span class=\"remote\">Temporarily remote</span>\n",
       " </div>\n",
       " <div class=\"salarySnippet holisticSalary\">\n",
       " <span class=\"salary no-wrap\">\n",
       " <span class=\"salaryText\">\n",
       " $110,000 - $130,000 a year</span>\n",
       " </span>\n",
       " </div>\n",
       " <table class=\"jobCardShelfContainer\" role=\"presentation\"><tr class=\"jobCardShelf\"><td class=\"jobCardShelfItem indeedApply\"><span class=\"jobCardShelfIcon\"><svg fill=\"none\" height=\"16\" viewbox=\"0 0 20 20\" width=\"16\"><rect fill=\"#FF5A1F\" height=\"20\" rx=\"10\" width=\"20\"></rect><path clip-rule=\"evenodd\" d=\"M15.3125 4.0625L10.8125 15.3125L7.99999 11.375L15.3125 4.0625ZM7.604 12.7576L6.875 15.3125L8.567 14.1054L7.604 12.7576ZM7.20463 10.5796L12.419 5.36525L4.0625 9.125L6.9875 10.7968L7.20463 10.5796Z\" fill=\"white\" fill-rule=\"evenodd\"></path></svg></span><span class=\"iaLabel iaIconActive\">Easily apply</span></td></tr></table><div class=\"summary\">\n",
       " <ul style=\"list-style-type:circle;margin-top: 0px;margin-bottom: 0px;padding-left:20px;\">\n",
       " <li style=\"margin-bottom:0px;\">5+ years in <b>data</b> mining, database marketing, marketing analytics, or statistical modeling.</li>\n",
       " <li>Experience using analytics or <b>data</b> science at an E-commerce or…</li>\n",
       " </ul></div>\n",
       " <div class=\"jobsearch-SerpJobCard-footer\">\n",
       " <div class=\"jobsearch-SerpJobCard-footerActions\">\n",
       " <div class=\"result-link-bar-container\">\n",
       " <div class=\"result-link-bar\"><span class=\"date\">4 days ago</span><div class=\"tt_set\" id=\"tt_set_7\"><div class=\"job-reaction\"><button aria-expanded=\"false\" aria-haspopup=\"true\" aria-label=\"save or dislike\" class=\"job-reaction-kebab\" data-ol-has-click-handler=\"\" onclick=\"toggleKebabMenu('5bddb58f393b1d6b', true, event); return false;\" tabindex=\"0\"></button><span class=\"job-reaction-kebab-menu\"><button class=\"job-reaction-kebab-item job-reaction-save\" data-ol-has-click-handler=\"\" onclick=\"changeJobState('5bddb58f393b1d6b', 'save', 'linkbar', true, '');return false;\"><svg focusable=\"false\" height=\"16\" viewbox=\"0 0 24 24\" width=\"16\"><g><path d=\"M16.5,3A6,6,0,0,0,12,5.09,6,6,0,0,0,7.5,3,5.45,5.45,0,0,0,2,8.5C2,12.28,5.4,15.36,10.55,20L12,21.35,13.45,20C18.6,15.36,22,12.28,22,8.5A5.45,5.45,0,0,0,16.5,3ZM12.1,18.55l-0.1.1-0.1-.1C7.14,14.24,4,11.39,4,8.5A3.42,3.42,0,0,1,7.5,5a3.91,3.91,0,0,1,3.57,2.36h1.87A3.88,3.88,0,0,1,16.5,5,3.42,3.42,0,0,1,20,8.5C20,11.39,16.86,14.24,12.1,18.55Z\" fill=\"#2d2d2d\"></path></g></svg><span class=\"job-reaction-kebab-item-text\">Save job</span></button><button class=\"job-reaction-kebab-item job-reaction-dislike\" data-ol-has-click-handler=\"\" onclick=\"dislikeJob(false, false, '5bddb58f393b1d6b', 'unsave', 'linkbar', true, '');\"><span class=\"job-reaction-dislike-icon\"></span><span class=\"job-reaction-kebab-item-text\">Not interested</span></button><button class=\"job-reaction-kebab-item job-reaction-report\" onclick=\"reportJob('5bddb58f393b1d6b');\"><span class=\"job-reaction-report-icon\"></span><span class=\"job-reaction-kebab-item-text\">Report Job</span></button></span></div><span class=\"result-link-bar-separator\">·</span><a class=\"sl resultLink save-job-link\" href=\"#\" id=\"sj_5bddb58f393b1d6b\" onclick=\"changeJobState('5bddb58f393b1d6b', 'save', 'linkbar', true, ''); return false;\" title=\"Save this job to my.indeed\">Save job</a></div><script>if (!window['sj_result_5bddb58f393b1d6b']) {window['sj_result_5bddb58f393b1d6b'] = {};}window['sj_result_5bddb58f393b1d6b']['showSource'] = false; window['sj_result_5bddb58f393b1d6b']['source'] = \"CyberCoders\"; window['sj_result_5bddb58f393b1d6b']['loggedIn'] = false; window['sj_result_5bddb58f393b1d6b']['showMyJobsLinks'] = false;window['sj_result_5bddb58f393b1d6b']['baseMyJobsUrl'] = \"https://myjobs.indeed.com\";window['sj_result_5bddb58f393b1d6b']['undoAction'] = \"unsave\";window['sj_result_5bddb58f393b1d6b']['relativeJobAge'] = \"4 days ago\";window['sj_result_5bddb58f393b1d6b']['jobKey'] = \"5bddb58f393b1d6b\"; window['sj_result_5bddb58f393b1d6b']['myIndeedAvailable'] = true; window['sj_result_5bddb58f393b1d6b']['showMoreActionsLink'] = window['sj_result_5bddb58f393b1d6b']['showMoreActionsLink'] || false; window['sj_result_5bddb58f393b1d6b']['resultNumber'] = 7; window['sj_result_5bddb58f393b1d6b']['jobStateChangedToSaved'] = false; window['sj_result_5bddb58f393b1d6b']['searchState'] = \"q=data scientist&amp;fromage=7&amp;start=680\"; window['sj_result_5bddb58f393b1d6b']['basicPermaLink'] = \"https://www.indeed.com\"; window['sj_result_5bddb58f393b1d6b']['saveJobFailed'] = false; window['sj_result_5bddb58f393b1d6b']['removeJobFailed'] = false; window['sj_result_5bddb58f393b1d6b']['requestPending'] = false; window['sj_result_5bddb58f393b1d6b']['currentPage'] = \"serp\"; window['sj_result_5bddb58f393b1d6b']['sponsored'] = true;window['sj_result_5bddb58f393b1d6b']['reportJobButtonEnabled'] = false; window['sj_result_5bddb58f393b1d6b']['showMyJobsHired'] = false; window['sj_result_5bddb58f393b1d6b']['showSaveForSponsored'] = true; window['sj_result_5bddb58f393b1d6b']['showJobAge'] = true; window['sj_result_5bddb58f393b1d6b']['showHolisticCard'] = true; window['sj_result_5bddb58f393b1d6b']['showDislike'] = true; window['sj_result_5bddb58f393b1d6b']['showKebab'] = true; window['sj_result_5bddb58f393b1d6b']['showReport'] = true;</script></div></div>\n",
       " </div>\n",
       " </div>\n",
       " <div class=\"tab-container\">\n",
       " <div class=\"sign-in-container result-tab\"></div>\n",
       " <div class=\"tellafriend-container result-tab email_job_content\"></div>\n",
       " </div>\n",
       " </div>,\n",
       " <div class=\"jobsearch-SerpJobCard unifiedRow row result\" data-ci=\"358042954\" data-empn=\"1454506250792929\" data-jk=\"bcaf0fec2828b42c\" data-tu=\"https://themomproject.com/projects/data-engineer-fd8fc0308d/track-external?utm_campaign=data-engineer-fd8fc0308d&amp;utm_medium=posting&amp;utm_source=Indeed&amp;indeed=sp\" id=\"pj_bcaf0fec2828b42c\">\n",
       " <style>\n",
       " .jobcard_logo{margin:6px 0}.jobcard_logo img{width:auto;max-width:80px;max-height:30px}.jasxrefreshcombotst .jobcard_logo img{max-height:2rem;max-width:100%}\n",
       " </style>\n",
       " <h2 class=\"title\">\n",
       " <a class=\"jobtitle turnstileLink\" data-tn-element=\"jobTitle\" href=\"/pagead/clk?mo=r&amp;ad=-6NYlbfkN0BDp_epf89aHDQhKpPegNJQ_ldQpEFZQsM9OcONMGxWx6pU56EKHF58QjVdAUvn2gXeTsSzBEkcAQA5rjRJW_v_x3Sv6ecqHL83R8Mrt2JRjm4fIcc16M2kFwhFJPw3AYsoAYFLekLE5k97-t9PO4P6Q8ijZK0JvggUIF7Q-uMP2f_CEizaqVrUOuiAuahe3Tlg7C3j6UvNFroFW4YRq9XhvmWx6fOZGh7VH-IVVG82zKh8YKxKrgUYrk2zBtwXo_OqAT-2JMBIia4hYdz8q5BItnlNPOa8ZO4stcgoakUFKmuOrlGJuQBV9YyVhY36_ejMqagbzkeokkuqGnwFquFFYIuKO4cz_nNOm91SPvcKU7KyisucvYyqohsUv5pKqXGA9aXGxLACAk0xKxAUl6AmkyloARbXuAJUfp11NKza5IP87w3uCdZSY05dVOM2Ygz9AzgTaf3I9D3VwQxxgR-OVS-p5or-1ybBS3EY9UJXLwPDcungAhuNX58r7mXqIX-j6GI4bmTPejEnWSR7EhfBhawOgteqUrZ6fs2jfGeYBOL7onnmc1tl0CBPYxArckqmHRWVIOp9MA==&amp;p=8&amp;fvj=0&amp;vjs=3\" id=\"sja8\" onclick=\"setRefineByCookie([]); sjoc('sja8', 1); convCtr('SJ'); rclk(this,jobmap[8],true,1);\" onmousedown=\"sjomd('sja8'); clk('sja8'); rclk(this,jobmap[8],1);\" rel=\"noopener nofollow\" target=\"_blank\" title=\"Data Engineer\">\n",
       " <b>Data</b> Engineer</a>\n",
       " <span class=\"new\">new</span></h2>\n",
       " <div class=\"sjcl\">\n",
       " <div>\n",
       " <span class=\"company\">\n",
       " The Mom Project</span>\n",
       " </div>\n",
       " <div class=\"recJobLoc\" data-rc-loc=\"Santa Clara, CA\" id=\"recJobLoc_bcaf0fec2828b42c\" style=\"display: none\"></div>\n",
       " <div class=\"location accessible-contrast-color-location\">Santa Clara, CA</div>\n",
       " </div>\n",
       " <div class=\"salarySnippet holisticSalary\">\n",
       " <span class=\"salary no-wrap\">\n",
       " <span class=\"salaryText\">\n",
       " $97.94 an hour</span>\n",
       " </span>\n",
       " </div>\n",
       " <div class=\"summary\">\n",
       " <ul style=\"list-style-type:circle;margin-top: 0px;margin-bottom: 0px;padding-left:20px;\">\n",
       " <li>Develops technical tools and programming that leverage artificial intelligence, machine learning and big-data techniques to cleanse, organize and transform data…</li>\n",
       " </ul></div>\n",
       " <div class=\"jobsearch-SerpJobCard-footer\">\n",
       " <div class=\"jobsearch-SerpJobCard-footerActions\">\n",
       " <div class=\"result-link-bar-container\">\n",
       " <div class=\"result-link-bar\"><span class=\"date\">2 days ago</span><div class=\"tt_set\" id=\"tt_set_8\"><div class=\"job-reaction\"><button aria-expanded=\"false\" aria-haspopup=\"true\" aria-label=\"save or dislike\" class=\"job-reaction-kebab\" data-ol-has-click-handler=\"\" onclick=\"toggleKebabMenu('bcaf0fec2828b42c', true, event); return false;\" tabindex=\"0\"></button><span class=\"job-reaction-kebab-menu\"><button class=\"job-reaction-kebab-item job-reaction-save\" data-ol-has-click-handler=\"\" onclick=\"changeJobState('bcaf0fec2828b42c', 'save', 'linkbar', true, '');return false;\"><svg focusable=\"false\" height=\"16\" viewbox=\"0 0 24 24\" width=\"16\"><g><path d=\"M16.5,3A6,6,0,0,0,12,5.09,6,6,0,0,0,7.5,3,5.45,5.45,0,0,0,2,8.5C2,12.28,5.4,15.36,10.55,20L12,21.35,13.45,20C18.6,15.36,22,12.28,22,8.5A5.45,5.45,0,0,0,16.5,3ZM12.1,18.55l-0.1.1-0.1-.1C7.14,14.24,4,11.39,4,8.5A3.42,3.42,0,0,1,7.5,5a3.91,3.91,0,0,1,3.57,2.36h1.87A3.88,3.88,0,0,1,16.5,5,3.42,3.42,0,0,1,20,8.5C20,11.39,16.86,14.24,12.1,18.55Z\" fill=\"#2d2d2d\"></path></g></svg><span class=\"job-reaction-kebab-item-text\">Save job</span></button><button class=\"job-reaction-kebab-item job-reaction-dislike\" data-ol-has-click-handler=\"\" onclick=\"dislikeJob(false, false, 'bcaf0fec2828b42c', 'unsave', 'linkbar', true, '');\"><span class=\"job-reaction-dislike-icon\"></span><span class=\"job-reaction-kebab-item-text\">Not interested</span></button><button class=\"job-reaction-kebab-item job-reaction-report\" onclick=\"reportJob('bcaf0fec2828b42c');\"><span class=\"job-reaction-report-icon\"></span><span class=\"job-reaction-kebab-item-text\">Report Job</span></button></span></div><span class=\"result-link-bar-separator\">·</span><a class=\"sl resultLink save-job-link\" href=\"#\" id=\"sj_bcaf0fec2828b42c\" onclick=\"changeJobState('bcaf0fec2828b42c', 'save', 'linkbar', true, ''); return false;\" title=\"Save this job to my.indeed\">Save job</a></div><script>if (!window['sj_result_bcaf0fec2828b42c']) {window['sj_result_bcaf0fec2828b42c'] = {};}window['sj_result_bcaf0fec2828b42c']['showSource'] = false; window['sj_result_bcaf0fec2828b42c']['source'] = \"The Mom Project\"; window['sj_result_bcaf0fec2828b42c']['loggedIn'] = false; window['sj_result_bcaf0fec2828b42c']['showMyJobsLinks'] = false;window['sj_result_bcaf0fec2828b42c']['baseMyJobsUrl'] = \"https://myjobs.indeed.com\";window['sj_result_bcaf0fec2828b42c']['undoAction'] = \"unsave\";window['sj_result_bcaf0fec2828b42c']['relativeJobAge'] = \"2 days ago\";window['sj_result_bcaf0fec2828b42c']['jobKey'] = \"bcaf0fec2828b42c\"; window['sj_result_bcaf0fec2828b42c']['myIndeedAvailable'] = true; window['sj_result_bcaf0fec2828b42c']['showMoreActionsLink'] = window['sj_result_bcaf0fec2828b42c']['showMoreActionsLink'] || false; window['sj_result_bcaf0fec2828b42c']['resultNumber'] = 8; window['sj_result_bcaf0fec2828b42c']['jobStateChangedToSaved'] = false; window['sj_result_bcaf0fec2828b42c']['searchState'] = \"q=data scientist&amp;fromage=7&amp;start=680\"; window['sj_result_bcaf0fec2828b42c']['basicPermaLink'] = \"https://www.indeed.com\"; window['sj_result_bcaf0fec2828b42c']['saveJobFailed'] = false; window['sj_result_bcaf0fec2828b42c']['removeJobFailed'] = false; window['sj_result_bcaf0fec2828b42c']['requestPending'] = false; window['sj_result_bcaf0fec2828b42c']['currentPage'] = \"serp\"; window['sj_result_bcaf0fec2828b42c']['sponsored'] = true;window['sj_result_bcaf0fec2828b42c']['reportJobButtonEnabled'] = false; window['sj_result_bcaf0fec2828b42c']['showMyJobsHired'] = false; window['sj_result_bcaf0fec2828b42c']['showSaveForSponsored'] = true; window['sj_result_bcaf0fec2828b42c']['showJobAge'] = true; window['sj_result_bcaf0fec2828b42c']['showHolisticCard'] = true; window['sj_result_bcaf0fec2828b42c']['showDislike'] = true; window['sj_result_bcaf0fec2828b42c']['showKebab'] = true; window['sj_result_bcaf0fec2828b42c']['showReport'] = true;</script></div></div>\n",
       " </div>\n",
       " </div>\n",
       " <div class=\"tab-container\">\n",
       " <div class=\"sign-in-container result-tab\"></div>\n",
       " <div class=\"tellafriend-container result-tab email_job_content\"></div>\n",
       " </div>\n",
       " </div>,\n",
       " <div class=\"jobsearch-SerpJobCard unifiedRow row result\" data-ci=\"363664692\" data-empn=\"3221643616900566\" data-jk=\"5e92269326736ae8\" data-tu=\"https://jsv3.recruitics.com/partner/a51b8de1-f7bf-11e7-9edd-d951492604d9.gif?client=3435&amp;rx_c=infrastructure-optimization&amp;rx_campaign=indeed17&amp;rx_group=123624&amp;rx_source=Indeed&amp;job=JP-002014695&amp;rx_r=none&amp;rx_ts=20210213T174951Z&amp;rx_pre=1&amp;indeed=sp\" id=\"pj_5e92269326736ae8\">\n",
       " <style>\n",
       " .jobcard_logo{margin:6px 0}.jobcard_logo img{width:auto;max-width:80px;max-height:30px}.jasxrefreshcombotst .jobcard_logo img{max-height:2rem;max-width:100%}\n",
       " </style>\n",
       " <h2 class=\"title\">\n",
       " <a class=\"jobtitle turnstileLink\" data-tn-element=\"jobTitle\" href=\"/pagead/clk?mo=r&amp;ad=-6NYlbfkN0AuKz8EBO1xHDEL7V2YF9xF3dC_I9B9i-Zw2Jh8clPMK9BxhHDJszxSomyxvhgA2FYY3VDXtKxXiNR4HeAR18RBkTaoCkUTD9ostYiWEwkEY-HibzLgLEpPWYPFTNX-ToUTz5YF_xXzVvym6u1w5MBKNpiKXz-poWvatxzhlOE_U9ELALoN7IFiBJI00MofZ_ZWiAXsD_sq5iIb7cONlmXYqKnRe856wEu8mJmOhzlsbg4pMEO0V09ABmqe5caXizRiSEI9mHqu4743m8n3Xd4ipzP2hPmde3cklRjOPRUtJnhQW1eWRnS-g6VFDWDa7y09zmBHdACX29OlQ0NKIEYteHyanVtvpYo2VEkiYT0lW6T_GGNwYjUL9w43w7wptophDLhndlRitWxDBjk7-SFHJGFcoJq701f5Hwr55hlVqM5ZiYhwRYvHlpEMhLNl78iJ8vtuU2UVOuBjDgwknmFKRg1dMkmooHlde94YTtWbd5uX5H3gdVBb29rt_OZI8SJ34-RrumUZCgrLEVHhTzBJMG6xjNGyiNxYxdvUkskxyIZPubgY6Lsc-JpRRtsW3xbzvm6-RrVVjP8U1zd1AbbAbQySusSUceV7siQhdLOYq_e_toHGAjTvN1HjjR5ooqY6ET9Oc3jWUoLdByPCoG8jEbpEuNZ9nVZukDq3J-5Lvo8nlMxWXk9FHP2bfFaKp9oi6fOLmJyk5NrcJN_f6RY6SXG9HHieA1SsUsiRcc989rT5ddhPQviKv193G8mGOdAGM2JlWh10RPSjT-9Qt-aKnrlIUQvgykSOwEWnhXhDwEmhABPnSh3Q_LYkYHvjimey6SoB8fKp13fWYI_r67Dop4s8WA2ck8l0ClYLusGtruGTtNn87JvLhSR1333Jg7uYfTeUme47qTfy8g8VDgWa&amp;p=9&amp;fvj=0&amp;vjs=3\" id=\"sja9\" onclick=\"setRefineByCookie([]); sjoc('sja9', 0); convCtr('SJ'); rclk(this,jobmap[9],true,0);\" onmousedown=\"sjomd('sja9'); clk('sja9'); rclk(this,jobmap[9],0);\" rel=\"noopener nofollow\" target=\"_blank\" title=\"Senior Data Analyst\">\n",
       " Senior <b>Data</b> Analyst</a>\n",
       " <span class=\"new\">new</span></h2>\n",
       " <div class=\"sjcl\">\n",
       " <div>\n",
       " <span class=\"company\">\n",
       " <a class=\"turnstileLink\" data-tn-element=\"companyName\" href=\"/cmp/TEKsystems\" onmousedown=\"this.href = appendParamsOnce(this.href, 'from=SERP&amp;campaignid=serp-linkcompanyname&amp;fromjk=5e92269326736ae8&amp;jcid=2dd14c87d68d63d8')\" rel=\"noopener\" target=\"_blank\">\n",
       " TEKsystems</a></span>\n",
       " <span class=\"ratingsDisplay\">\n",
       " <a aria-label=\"Company rating 3.9 out of 5 stars\" class=\"ratingNumber\" data-tn-variant=\"cmplinktst2\" href=\"/cmp/TEKsystems/reviews\" onmousedown=\"this.href = appendParamsOnce(this.href, '?campaignid=cmplinktst2&amp;from=SERP&amp;jt=Senior+Data+Analyst&amp;fromjk=5e92269326736ae8&amp;jcid=2dd14c87d68d63d8');\" rel=\"noopener\" target=\"_blank\" title=\"TEKsystems reviews\">\n",
       " <span class=\"ratingsContent\">\n",
       " 3.9<svg class=\"starIcon\" height=\"12px\" role=\"img\" width=\"12px\">\n",
       " <g>\n",
       " <path d=\"M 12.00,4.34 C 12.00,4.34 7.69,3.97 7.69,3.97 7.69,3.97 6.00,0.00 6.00,0.00 6.00,0.00 4.31,3.98 4.31,3.98 4.31,3.98 0.00,4.34 0.00,4.34 0.00,4.34 3.28,7.18 3.28,7.18 3.28,7.18 2.29,11.40 2.29,11.40 2.29,11.40 6.00,9.16 6.00,9.16 6.00,9.16 9.71,11.40 9.71,11.40 9.71,11.40 8.73,7.18 8.73,7.18 8.73,7.18 12.00,4.34 12.00,4.34 Z\" style=\"fill: #FFB103\"></path>\n",
       " </g>\n",
       " </svg>\n",
       " </span>\n",
       " </a>\n",
       " </span>\n",
       " </div>\n",
       " <div class=\"recJobLoc\" data-rc-loc=\"Atlanta, GA\" id=\"recJobLoc_5e92269326736ae8\" style=\"display: none\"></div>\n",
       " <div class=\"location accessible-contrast-color-location\">Atlanta, GA 30301 <span style=\"font-size: smaller\">(Buckhead area)</span></div>\n",
       " </div>\n",
       " <div class=\"summary\">\n",
       " <ul style=\"list-style-type:circle;margin-top: 0px;margin-bottom: 0px;padding-left:20px;\">\n",
       " <li style=\"margin-bottom:0px;\">Data cleansing and <b>data</b> mining experience working through unorganized sets of <b>data</b> with a <b>data</b> dictionary.</li>\n",
       " <li>The analyst will gain insights into the <b>data</b> and the…</li>\n",
       " </ul></div>\n",
       " <div class=\"jobsearch-SerpJobCard-footer\">\n",
       " <div class=\"jobsearch-SerpJobCard-footerActions\">\n",
       " <div class=\"result-link-bar-container\">\n",
       " <div class=\"result-link-bar\"><span class=\"date\">2 days ago</span><div class=\"tt_set\" id=\"tt_set_9\"><div class=\"job-reaction\"><button aria-expanded=\"false\" aria-haspopup=\"true\" aria-label=\"save or dislike\" class=\"job-reaction-kebab\" data-ol-has-click-handler=\"\" onclick=\"toggleKebabMenu('5e92269326736ae8', true, event); return false;\" tabindex=\"0\"></button><span class=\"job-reaction-kebab-menu\"><button class=\"job-reaction-kebab-item job-reaction-save\" data-ol-has-click-handler=\"\" onclick=\"changeJobState('5e92269326736ae8', 'save', 'linkbar', true, '');return false;\"><svg focusable=\"false\" height=\"16\" viewbox=\"0 0 24 24\" width=\"16\"><g><path d=\"M16.5,3A6,6,0,0,0,12,5.09,6,6,0,0,0,7.5,3,5.45,5.45,0,0,0,2,8.5C2,12.28,5.4,15.36,10.55,20L12,21.35,13.45,20C18.6,15.36,22,12.28,22,8.5A5.45,5.45,0,0,0,16.5,3ZM12.1,18.55l-0.1.1-0.1-.1C7.14,14.24,4,11.39,4,8.5A3.42,3.42,0,0,1,7.5,5a3.91,3.91,0,0,1,3.57,2.36h1.87A3.88,3.88,0,0,1,16.5,5,3.42,3.42,0,0,1,20,8.5C20,11.39,16.86,14.24,12.1,18.55Z\" fill=\"#2d2d2d\"></path></g></svg><span class=\"job-reaction-kebab-item-text\">Save job</span></button><button class=\"job-reaction-kebab-item job-reaction-dislike\" data-ol-has-click-handler=\"\" onclick=\"dislikeJob(false, false, '5e92269326736ae8', 'unsave', 'linkbar', true, '');\"><span class=\"job-reaction-dislike-icon\"></span><span class=\"job-reaction-kebab-item-text\">Not interested</span></button><button class=\"job-reaction-kebab-item job-reaction-report\" onclick=\"reportJob('5e92269326736ae8');\"><span class=\"job-reaction-report-icon\"></span><span class=\"job-reaction-kebab-item-text\">Report Job</span></button></span></div><span class=\"result-link-bar-separator\">·</span><a class=\"sl resultLink save-job-link\" href=\"#\" id=\"sj_5e92269326736ae8\" onclick=\"changeJobState('5e92269326736ae8', 'save', 'linkbar', true, ''); return false;\" title=\"Save this job to my.indeed\">Save job</a></div><script>if (!window['sj_result_5e92269326736ae8']) {window['sj_result_5e92269326736ae8'] = {};}window['sj_result_5e92269326736ae8']['showSource'] = false; window['sj_result_5e92269326736ae8']['source'] = \"TEKsystems\"; window['sj_result_5e92269326736ae8']['loggedIn'] = false; window['sj_result_5e92269326736ae8']['showMyJobsLinks'] = false;window['sj_result_5e92269326736ae8']['baseMyJobsUrl'] = \"https://myjobs.indeed.com\";window['sj_result_5e92269326736ae8']['undoAction'] = \"unsave\";window['sj_result_5e92269326736ae8']['relativeJobAge'] = \"2 days ago\";window['sj_result_5e92269326736ae8']['jobKey'] = \"5e92269326736ae8\"; window['sj_result_5e92269326736ae8']['myIndeedAvailable'] = true; window['sj_result_5e92269326736ae8']['showMoreActionsLink'] = window['sj_result_5e92269326736ae8']['showMoreActionsLink'] || false; window['sj_result_5e92269326736ae8']['resultNumber'] = 9; window['sj_result_5e92269326736ae8']['jobStateChangedToSaved'] = false; window['sj_result_5e92269326736ae8']['searchState'] = \"q=data scientist&amp;fromage=7&amp;start=680\"; window['sj_result_5e92269326736ae8']['basicPermaLink'] = \"https://www.indeed.com\"; window['sj_result_5e92269326736ae8']['saveJobFailed'] = false; window['sj_result_5e92269326736ae8']['removeJobFailed'] = false; window['sj_result_5e92269326736ae8']['requestPending'] = false; window['sj_result_5e92269326736ae8']['currentPage'] = \"serp\"; window['sj_result_5e92269326736ae8']['sponsored'] = true;window['sj_result_5e92269326736ae8']['reportJobButtonEnabled'] = false; window['sj_result_5e92269326736ae8']['showMyJobsHired'] = false; window['sj_result_5e92269326736ae8']['showSaveForSponsored'] = true; window['sj_result_5e92269326736ae8']['showJobAge'] = true; window['sj_result_5e92269326736ae8']['showHolisticCard'] = true; window['sj_result_5e92269326736ae8']['showDislike'] = true; window['sj_result_5e92269326736ae8']['showKebab'] = true; window['sj_result_5e92269326736ae8']['showReport'] = true;</script></div></div>\n",
       " </div>\n",
       " </div>\n",
       " <div class=\"tab-container\">\n",
       " <div class=\"sign-in-container result-tab\"></div>\n",
       " <div class=\"tellafriend-container result-tab email_job_content\"></div>\n",
       " </div>\n",
       " </div>,\n",
       " <div class=\"jobsearch-SerpJobCard unifiedRow row result\" data-ci=\"87786678\" data-empn=\"4218035382025745\" data-jk=\"15fe81b0fc5e9c33\" id=\"pj_15fe81b0fc5e9c33\">\n",
       " <style>\n",
       " .jobcard_logo{margin:6px 0}.jobcard_logo img{width:auto;max-width:80px;max-height:30px}.jasxrefreshcombotst .jobcard_logo img{max-height:2rem;max-width:100%}\n",
       " </style>\n",
       " <h2 class=\"title\">\n",
       " <a class=\"jobtitle turnstileLink\" data-tn-element=\"jobTitle\" href=\"/pagead/clk?mo=r&amp;ad=-6NYlbfkN0As4jd5aSKiW_uIisjgg29AJq4kDcBvocvbMwgV2qt84RZnmGr_1l1iBSOC78XtD-h45kqesdgWKMjadYcGwRj4olTqDUc_QR5EcvsEggJ1KEo-apzP428fuSWgLp1nYJdw9V5dJLLzwE6tiHAKUMld5pRd425co9hUH9ck_0pHwtVeAm2y_ErG3D01HVKZkCoZQBg_23hIks-C-6xAo-SK5UjnsQFiCePfcNWqbClz7H2KsaUVZvqyKWxEbHCAuc_ZIl5gSXQ4NATfeTvNA9g4_SeOnqLsVKGgNXGxhDfPEWEIX1Z7hJDgSEzwXo9n4Ue4yNZ7q8cv0aUDxqZKsuUIrc5GsnKZmIKX9kOMKHdmYXO0PFFgettPTXNGznHNaGrd_3u5eQ0nRhE9I00d_bIBgLYzL_l1vvYgGYqoyUoXfxtN-zfbw7zI7brzg0A6LcZ4dvJezwx4OeLny0jvPWmQ&amp;p=10&amp;fvj=1&amp;vjs=3\" id=\"sja10\" onclick=\"setRefineByCookie([]); sjoc('sja10', 0); convCtr('SJ'); rclk(this,jobmap[10],true,0);\" onmousedown=\"sjomd('sja10'); clk('sja10'); rclk(this,jobmap[10],0);\" rel=\"noopener nofollow\" target=\"_blank\" title=\"Senior Machine Learning Scientist\">\n",
       " Senior Machine Learning <b>Scientist</b></a>\n",
       " <span class=\"new\">new</span></h2>\n",
       " <div class=\"sjcl\">\n",
       " <div>\n",
       " <span class=\"company\">\n",
       " Trueface</span>\n",
       " </div>\n",
       " <div class=\"recJobLoc\" data-rc-loc=\"Los Angeles, CA\" id=\"recJobLoc_15fe81b0fc5e9c33\" style=\"display: none\"></div>\n",
       " <div class=\"location accessible-contrast-color-location\">Los Angeles, CA</div>\n",
       " <span class=\"remote-bullet\">•</span>\n",
       " <span class=\"remote\">Remote</span>\n",
       " </div>\n",
       " <table class=\"jobCardShelfContainer\" role=\"presentation\"><tr class=\"jobCardShelf\"><td class=\"jobCardShelfItem indeedApply\"><span class=\"jobCardShelfIcon\"><svg fill=\"none\" height=\"16\" viewbox=\"0 0 20 20\" width=\"16\"><rect fill=\"#FF5A1F\" height=\"20\" rx=\"10\" width=\"20\"></rect><path clip-rule=\"evenodd\" d=\"M15.3125 4.0625L10.8125 15.3125L7.99999 11.375L15.3125 4.0625ZM7.604 12.7576L6.875 15.3125L8.567 14.1054L7.604 12.7576ZM7.20463 10.5796L12.419 5.36525L4.0625 9.125L6.9875 10.7968L7.20463 10.5796Z\" fill=\"white\" fill-rule=\"evenodd\"></path></svg></span><span class=\"iaLabel iaIconActive\">Easily apply</span></td><td class=\"jobCardShelfItem urgentlyHiring\"><span class=\"jobCardShelfIcon\"><svg fill=\"none\" height=\"16\" viewbox=\"0 0 16 16\" width=\"16\"><rect fill=\"#DB183F\" height=\"16\" rx=\"8\" width=\"16\"></rect><g clip-path=\"url(#clip0)\"><path clip-rule=\"evenodd\" d=\"M7.99515 3.20001C5.34555 3.20001 3.19995 5.35041 3.19995 8.00001C3.19995 10.6496 5.34555 12.8 7.99515 12.8C10.6496 12.8 12.8 10.6496 12.8 8.00001C12.8 5.35041 10.6496 3.20001 7.99515 3.20001ZM7.99995 11.84C5.87835 11.84 4.15995 10.1216 4.15995 8.00001C4.15995 5.87841 5.87835 4.16001 7.99995 4.16001C10.1216 4.16001 11.84 5.87841 11.84 8.00001C11.84 10.1216 10.1216 11.84 7.99995 11.84Z\" fill=\"white\" fill-rule=\"evenodd\"></path><path clip-rule=\"evenodd\" d=\"M8.24002 5.60001H7.52002V8.48001L10.04 9.99201L10.4 9.40161L8.24002 8.12001V5.60001Z\" fill=\"white\" fill-rule=\"evenodd\"></path></g><defs><clippath><rect fill=\"white\" height=\"9.6\" transform=\"translate(3.19995 3.20001)\" width=\"9.6\"></rect></clippath></defs></svg></span>Urgently hiring</td></tr></table><div class=\"summary\">\n",
       " <ul style=\"list-style-type:circle;margin-top: 0px;margin-bottom: 0px;padding-left:20px;\">\n",
       " <li style=\"margin-bottom:0px;\">Demonstrated experience (publications, projects) solving machine learning problems.</li>\n",
       " <li>Design and conduct deep learning experiments to improve current solutions…</li>\n",
       " </ul></div>\n",
       " <div class=\"jobsearch-SerpJobCard-footer\">\n",
       " <div class=\"jobsearch-SerpJobCard-footerActions\">\n",
       " <div class=\"result-link-bar-container\">\n",
       " <div class=\"result-link-bar\"><span class=\"date\">1 day ago</span><div class=\"tt_set\" id=\"tt_set_10\"><div class=\"job-reaction\"><button aria-expanded=\"false\" aria-haspopup=\"true\" aria-label=\"save or dislike\" class=\"job-reaction-kebab\" data-ol-has-click-handler=\"\" onclick=\"toggleKebabMenu('15fe81b0fc5e9c33', true, event); return false;\" tabindex=\"0\"></button><span class=\"job-reaction-kebab-menu\"><button class=\"job-reaction-kebab-item job-reaction-save\" data-ol-has-click-handler=\"\" onclick=\"changeJobState('15fe81b0fc5e9c33', 'save', 'linkbar', true, '');return false;\"><svg focusable=\"false\" height=\"16\" viewbox=\"0 0 24 24\" width=\"16\"><g><path d=\"M16.5,3A6,6,0,0,0,12,5.09,6,6,0,0,0,7.5,3,5.45,5.45,0,0,0,2,8.5C2,12.28,5.4,15.36,10.55,20L12,21.35,13.45,20C18.6,15.36,22,12.28,22,8.5A5.45,5.45,0,0,0,16.5,3ZM12.1,18.55l-0.1.1-0.1-.1C7.14,14.24,4,11.39,4,8.5A3.42,3.42,0,0,1,7.5,5a3.91,3.91,0,0,1,3.57,2.36h1.87A3.88,3.88,0,0,1,16.5,5,3.42,3.42,0,0,1,20,8.5C20,11.39,16.86,14.24,12.1,18.55Z\" fill=\"#2d2d2d\"></path></g></svg><span class=\"job-reaction-kebab-item-text\">Save job</span></button><button class=\"job-reaction-kebab-item job-reaction-dislike\" data-ol-has-click-handler=\"\" onclick=\"dislikeJob(false, false, '15fe81b0fc5e9c33', 'unsave', 'linkbar', true, '');\"><span class=\"job-reaction-dislike-icon\"></span><span class=\"job-reaction-kebab-item-text\">Not interested</span></button><button class=\"job-reaction-kebab-item job-reaction-report\" onclick=\"reportJob('15fe81b0fc5e9c33');\"><span class=\"job-reaction-report-icon\"></span><span class=\"job-reaction-kebab-item-text\">Report Job</span></button></span></div><span class=\"result-link-bar-separator\">·</span><a class=\"sl resultLink save-job-link\" href=\"#\" id=\"sj_15fe81b0fc5e9c33\" onclick=\"changeJobState('15fe81b0fc5e9c33', 'save', 'linkbar', true, ''); return false;\" title=\"Save this job to my.indeed\">Save job</a></div><script>if (!window['sj_result_15fe81b0fc5e9c33']) {window['sj_result_15fe81b0fc5e9c33'] = {};}window['sj_result_15fe81b0fc5e9c33']['showSource'] = false; window['sj_result_15fe81b0fc5e9c33']['source'] = \"Indeed\"; window['sj_result_15fe81b0fc5e9c33']['loggedIn'] = false; window['sj_result_15fe81b0fc5e9c33']['showMyJobsLinks'] = false;window['sj_result_15fe81b0fc5e9c33']['baseMyJobsUrl'] = \"https://myjobs.indeed.com\";window['sj_result_15fe81b0fc5e9c33']['undoAction'] = \"unsave\";window['sj_result_15fe81b0fc5e9c33']['relativeJobAge'] = \"1 day ago\";window['sj_result_15fe81b0fc5e9c33']['jobKey'] = \"15fe81b0fc5e9c33\"; window['sj_result_15fe81b0fc5e9c33']['myIndeedAvailable'] = true; window['sj_result_15fe81b0fc5e9c33']['showMoreActionsLink'] = window['sj_result_15fe81b0fc5e9c33']['showMoreActionsLink'] || false; window['sj_result_15fe81b0fc5e9c33']['resultNumber'] = 10; window['sj_result_15fe81b0fc5e9c33']['jobStateChangedToSaved'] = false; window['sj_result_15fe81b0fc5e9c33']['searchState'] = \"q=data scientist&amp;fromage=7&amp;start=680\"; window['sj_result_15fe81b0fc5e9c33']['basicPermaLink'] = \"https://www.indeed.com\"; window['sj_result_15fe81b0fc5e9c33']['saveJobFailed'] = false; window['sj_result_15fe81b0fc5e9c33']['removeJobFailed'] = false; window['sj_result_15fe81b0fc5e9c33']['requestPending'] = false; window['sj_result_15fe81b0fc5e9c33']['currentPage'] = \"serp\"; window['sj_result_15fe81b0fc5e9c33']['sponsored'] = true;window['sj_result_15fe81b0fc5e9c33']['reportJobButtonEnabled'] = false; window['sj_result_15fe81b0fc5e9c33']['showMyJobsHired'] = false; window['sj_result_15fe81b0fc5e9c33']['showSaveForSponsored'] = true; window['sj_result_15fe81b0fc5e9c33']['showJobAge'] = true; window['sj_result_15fe81b0fc5e9c33']['showHolisticCard'] = true; window['sj_result_15fe81b0fc5e9c33']['showDislike'] = true; window['sj_result_15fe81b0fc5e9c33']['showKebab'] = true; window['sj_result_15fe81b0fc5e9c33']['showReport'] = true;</script></div></div>\n",
       " </div>\n",
       " </div>\n",
       " <div class=\"tab-container\">\n",
       " <div class=\"sign-in-container result-tab\"></div>\n",
       " <div class=\"tellafriend-container result-tab email_job_content\"></div>\n",
       " </div>\n",
       " </div>,\n",
       " <div class=\"jobsearch-SerpJobCard unifiedRow row result\" data-ci=\"105245054\" data-empn=\"8690912762161442\" data-jk=\"9c6f0c3e774d026e\" data-tu=\"https://jsv3.recruitics.com/partner/a51b8de1-f7bf-11e7-9edd-d951492604d9.gif?client=521&amp;rx_c=&amp;rx_campaign=indeed16&amp;rx_group=110383&amp;rx_source=Indeed&amp;job=DH1-16178805&amp;rx_r=none&amp;rx_ts=20210213T174822Z&amp;rx_pre=1&amp;indeed=sp\" id=\"pj_9c6f0c3e774d026e\">\n",
       " <style>\n",
       " .jobcard_logo{margin:6px 0}.jobcard_logo img{width:auto;max-width:80px;max-height:30px}.jasxrefreshcombotst .jobcard_logo img{max-height:2rem;max-width:100%}\n",
       " </style>\n",
       " <h2 class=\"title\">\n",
       " <a class=\"jobtitle turnstileLink\" data-tn-element=\"jobTitle\" href=\"/pagead/clk?mo=r&amp;ad=-6NYlbfkN0CpFJQzrgRR8WqXWK1qKKEqALWJw739KlKqr2H-MSI4eh4ZOxqVaUrhNSyjVEAq5t46S2rlsTqejZKhmHmewJgGSfOD_LTHXXzIYfLukvtug2tj41gjl1ECFR3-xAMfTTZfpEp6iYb_BmoGFqI3DZ9eJ2qcGw61SkiptwSHr0kgTRJAfHiMrrFLVtTfVNtSGG5j8t5zlASRzV7WFfqA1OBfgzmEZCq9khvFmRhIzbD4Xd8NfxJSv8b6ZXmu4qD9v5_FtLYlMawzL1OdZf7YCyBssHeWBo_QndJcvg66gHA3lDQDM119pgx3HlqPahe3b40Bry8H-2W6N4jOjEbol-F7VzbAkFLVvR2SB2wj6Vg-RW0fwmsjtdKxWv-0QasVgvA9PYP6y9k9jdDkc5-HkptaPeg1CR91jCKGCAEA12fqdu8HT9AomLXae9gVRhrAsAPYo7ZGKHzsp0w57IJIiz3PYG6Q0Lm1XAw1bYDsrRf3ZlgE1XlOsxSRQaLA9YmD1k6OSJFCdspj4VcJxCYXeHuLvPNXhXpKHIq0vO0Oixuxi2xoDygK6IzvAB-UTjGmWEgtq21R0PuT-K31R_wF2tlzlA4FPDmNH895R2POsYHJUffd9IHDl96dxez0PyIN9MWki1llyDjtGyG4m-DSZ8o1fVj1ha1We9qgQ6iq_hJlZWu6x5ClcWkFV4M8CfH7p5gh0xL_BgGuaw3xe2Jr9PNq7LCR3SRygnqAjeE2zfc4emrr50PGYlDgBHhPQAzvswp7AuE13w7f3pvogPjAcSXPMv41W1zLfQ5EOvWSRufDRMuxrT_q2iyznuH7zqxt7Se3UMD_xNpBkbZU0SjMCQ0zy0aUSG1GJD5S0VvKIBL3IC68QknndYDcySyt5ErFETT7fKrMJopPy7A-KXobMMhw1kmUJErBYmSdFOyt5wDIZwvWkUd6OzQTxoy57eyPli4=&amp;p=11&amp;fvj=0&amp;vjs=3\" id=\"sja11\" onclick=\"setRefineByCookie([]); sjoc('sja11', 1); convCtr('SJ'); rclk(this,jobmap[11],true,1);\" onmousedown=\"sjomd('sja11'); clk('sja11'); rclk(this,jobmap[11],1);\" rel=\"noopener nofollow\" target=\"_blank\" title=\"(REMOTE) Lead Backend Engineer - Big Data\">\n",
       " (REMOTE) Lead Backend Engineer - Big <b>Data</b></a>\n",
       " <span class=\"new\">new</span></h2>\n",
       " <div class=\"sjcl\">\n",
       " <div>\n",
       " <span class=\"company\">\n",
       " <a class=\"turnstileLink\" data-tn-element=\"companyName\" href=\"/cmp/Cybercoders\" onmousedown=\"this.href = appendParamsOnce(this.href, 'from=SERP&amp;campaignid=serp-linkcompanyname&amp;fromjk=9c6f0c3e774d026e&amp;jcid=1baa5ded61092dc7')\" rel=\"noopener\" target=\"_blank\">\n",
       " CyberCoders</a></span>\n",
       " <span class=\"ratingsDisplay\">\n",
       " <a aria-label=\"Company rating 3.3 out of 5 stars\" class=\"ratingNumber\" data-tn-variant=\"cmplinktst2\" href=\"/cmp/Cybercoders/reviews\" onmousedown=\"this.href = appendParamsOnce(this.href, '?campaignid=cmplinktst2&amp;from=SERP&amp;jt=%28REMOTE%29+Lead+Backend+Engineer+-+Big+Data&amp;fromjk=9c6f0c3e774d026e&amp;jcid=1baa5ded61092dc7');\" rel=\"noopener\" target=\"_blank\" title=\"Cybercoders reviews\">\n",
       " <span class=\"ratingsContent\">\n",
       " 3.3<svg class=\"starIcon\" height=\"12px\" role=\"img\" width=\"12px\">\n",
       " <g>\n",
       " <path d=\"M 12.00,4.34 C 12.00,4.34 7.69,3.97 7.69,3.97 7.69,3.97 6.00,0.00 6.00,0.00 6.00,0.00 4.31,3.98 4.31,3.98 4.31,3.98 0.00,4.34 0.00,4.34 0.00,4.34 3.28,7.18 3.28,7.18 3.28,7.18 2.29,11.40 2.29,11.40 2.29,11.40 6.00,9.16 6.00,9.16 6.00,9.16 9.71,11.40 9.71,11.40 9.71,11.40 8.73,7.18 8.73,7.18 8.73,7.18 12.00,4.34 12.00,4.34 Z\" style=\"fill: #FFB103\"></path>\n",
       " </g>\n",
       " </svg>\n",
       " </span>\n",
       " </a>\n",
       " </span>\n",
       " </div>\n",
       " <div class=\"recJobLoc\" data-rc-loc=\"San Francisco, CA\" id=\"recJobLoc_9c6f0c3e774d026e\" style=\"display: none\"></div>\n",
       " <div class=\"location accessible-contrast-color-location\">San Francisco, CA</div>\n",
       " <span class=\"remote-bullet\">•</span>\n",
       " <span class=\"remote\">Remote</span>\n",
       " </div>\n",
       " <div class=\"salarySnippet holisticSalary\">\n",
       " <span class=\"salary no-wrap\">\n",
       " <span class=\"salaryText\">\n",
       " $175,000 - $225,000 a year</span>\n",
       " </span>\n",
       " </div>\n",
       " <table class=\"jobCardShelfContainer\" role=\"presentation\"><tr class=\"jobCardShelf\"><td class=\"jobCardShelfItem indeedApply\"><span class=\"jobCardShelfIcon\"><svg fill=\"none\" height=\"16\" viewbox=\"0 0 20 20\" width=\"16\"><rect fill=\"#FF5A1F\" height=\"20\" rx=\"10\" width=\"20\"></rect><path clip-rule=\"evenodd\" d=\"M15.3125 4.0625L10.8125 15.3125L7.99999 11.375L15.3125 4.0625ZM7.604 12.7576L6.875 15.3125L8.567 14.1054L7.604 12.7576ZM7.20463 10.5796L12.419 5.36525L4.0625 9.125L6.9875 10.7968L7.20463 10.5796Z\" fill=\"white\" fill-rule=\"evenodd\"></path></svg></span><span class=\"iaLabel iaIconActive\">Easily apply</span></td></tr></table><div class=\"summary\">\n",
       " <ul style=\"list-style-type:circle;margin-top: 0px;margin-bottom: 0px;padding-left:20px;\">\n",
       " <li>VC-funded and backed by 40+ Million, we are a profitable and well-funded technology company with a modern and intuitive cash management software that…</li>\n",
       " </ul></div>\n",
       " <div class=\"jobsearch-SerpJobCard-footer\">\n",
       " <div class=\"jobsearch-SerpJobCard-footerActions\">\n",
       " <div class=\"result-link-bar-container\">\n",
       " <div class=\"result-link-bar\"><span class=\"date\">4 days ago</span><div class=\"tt_set\" id=\"tt_set_11\"><div class=\"job-reaction\"><button aria-expanded=\"false\" aria-haspopup=\"true\" aria-label=\"save or dislike\" class=\"job-reaction-kebab\" data-ol-has-click-handler=\"\" onclick=\"toggleKebabMenu('9c6f0c3e774d026e', true, event); return false;\" tabindex=\"0\"></button><span class=\"job-reaction-kebab-menu\"><button class=\"job-reaction-kebab-item job-reaction-save\" data-ol-has-click-handler=\"\" onclick=\"changeJobState('9c6f0c3e774d026e', 'save', 'linkbar', true, '');return false;\"><svg focusable=\"false\" height=\"16\" viewbox=\"0 0 24 24\" width=\"16\"><g><path d=\"M16.5,3A6,6,0,0,0,12,5.09,6,6,0,0,0,7.5,3,5.45,5.45,0,0,0,2,8.5C2,12.28,5.4,15.36,10.55,20L12,21.35,13.45,20C18.6,15.36,22,12.28,22,8.5A5.45,5.45,0,0,0,16.5,3ZM12.1,18.55l-0.1.1-0.1-.1C7.14,14.24,4,11.39,4,8.5A3.42,3.42,0,0,1,7.5,5a3.91,3.91,0,0,1,3.57,2.36h1.87A3.88,3.88,0,0,1,16.5,5,3.42,3.42,0,0,1,20,8.5C20,11.39,16.86,14.24,12.1,18.55Z\" fill=\"#2d2d2d\"></path></g></svg><span class=\"job-reaction-kebab-item-text\">Save job</span></button><button class=\"job-reaction-kebab-item job-reaction-dislike\" data-ol-has-click-handler=\"\" onclick=\"dislikeJob(false, false, '9c6f0c3e774d026e', 'unsave', 'linkbar', true, '');\"><span class=\"job-reaction-dislike-icon\"></span><span class=\"job-reaction-kebab-item-text\">Not interested</span></button><button class=\"job-reaction-kebab-item job-reaction-report\" onclick=\"reportJob('9c6f0c3e774d026e');\"><span class=\"job-reaction-report-icon\"></span><span class=\"job-reaction-kebab-item-text\">Report Job</span></button></span></div><span class=\"result-link-bar-separator\">·</span><a class=\"sl resultLink save-job-link\" href=\"#\" id=\"sj_9c6f0c3e774d026e\" onclick=\"changeJobState('9c6f0c3e774d026e', 'save', 'linkbar', true, ''); return false;\" title=\"Save this job to my.indeed\">Save job</a></div><script>if (!window['sj_result_9c6f0c3e774d026e']) {window['sj_result_9c6f0c3e774d026e'] = {};}window['sj_result_9c6f0c3e774d026e']['showSource'] = false; window['sj_result_9c6f0c3e774d026e']['source'] = \"CyberCoders\"; window['sj_result_9c6f0c3e774d026e']['loggedIn'] = false; window['sj_result_9c6f0c3e774d026e']['showMyJobsLinks'] = false;window['sj_result_9c6f0c3e774d026e']['baseMyJobsUrl'] = \"https://myjobs.indeed.com\";window['sj_result_9c6f0c3e774d026e']['undoAction'] = \"unsave\";window['sj_result_9c6f0c3e774d026e']['relativeJobAge'] = \"4 days ago\";window['sj_result_9c6f0c3e774d026e']['jobKey'] = \"9c6f0c3e774d026e\"; window['sj_result_9c6f0c3e774d026e']['myIndeedAvailable'] = true; window['sj_result_9c6f0c3e774d026e']['showMoreActionsLink'] = window['sj_result_9c6f0c3e774d026e']['showMoreActionsLink'] || false; window['sj_result_9c6f0c3e774d026e']['resultNumber'] = 11; window['sj_result_9c6f0c3e774d026e']['jobStateChangedToSaved'] = false; window['sj_result_9c6f0c3e774d026e']['searchState'] = \"q=data scientist&amp;fromage=7&amp;start=680\"; window['sj_result_9c6f0c3e774d026e']['basicPermaLink'] = \"https://www.indeed.com\"; window['sj_result_9c6f0c3e774d026e']['saveJobFailed'] = false; window['sj_result_9c6f0c3e774d026e']['removeJobFailed'] = false; window['sj_result_9c6f0c3e774d026e']['requestPending'] = false; window['sj_result_9c6f0c3e774d026e']['currentPage'] = \"serp\"; window['sj_result_9c6f0c3e774d026e']['sponsored'] = true;window['sj_result_9c6f0c3e774d026e']['reportJobButtonEnabled'] = false; window['sj_result_9c6f0c3e774d026e']['showMyJobsHired'] = false; window['sj_result_9c6f0c3e774d026e']['showSaveForSponsored'] = true; window['sj_result_9c6f0c3e774d026e']['showJobAge'] = true; window['sj_result_9c6f0c3e774d026e']['showHolisticCard'] = true; window['sj_result_9c6f0c3e774d026e']['showDislike'] = true; window['sj_result_9c6f0c3e774d026e']['showKebab'] = true; window['sj_result_9c6f0c3e774d026e']['showReport'] = true;</script></div></div>\n",
       " </div>\n",
       " </div>\n",
       " <div class=\"tab-container\">\n",
       " <div class=\"sign-in-container result-tab\"></div>\n",
       " <div class=\"tellafriend-container result-tab email_job_content\"></div>\n",
       " </div>\n",
       " </div>,\n",
       " <div class=\"jobsearch-SerpJobCard unifiedRow row result\" data-ci=\"364185308\" data-empn=\"4950678326768706\" data-jk=\"263e952b540e4bc5\" id=\"pj_263e952b540e4bc5\">\n",
       " <style>\n",
       " .jobcard_logo{margin:6px 0}.jobcard_logo img{width:auto;max-width:80px;max-height:30px}.jasxrefreshcombotst .jobcard_logo img{max-height:2rem;max-width:100%}\n",
       " </style>\n",
       " <h2 class=\"title\">\n",
       " <a class=\"jobtitle turnstileLink\" data-tn-element=\"jobTitle\" href=\"/pagead/clk?mo=r&amp;ad=-6NYlbfkN0C4CBZ8c3zFCIXFetnO37t07e14KSHWt_KU7CJGiEAebYX58OBQrSaJfZaxwg-VNKKmtn3ChilrE9FSGdnq33QqUvTW5oU9oR_JEC29qMI9WQxmlq1CVOW89O30rl-6sClyOC5T_v40jQGlz8a5VWFWf51DX6fYwecDUxfiDrtMYYrfEGSJgjyZs5sdoqeqNxp6xlbpSIxw1lRgXKdUayMQ-Vi2nm_FY3JoB0zlEFudZUA_mJRIXiLr8bw1jMg07Qc_kBiAFoGaGZQj8tbrQ9tSj__mLN2L6A1dnNi06nAsYVNTkHULqeUuUpF4NuW36L3R0fJ7RD52Sd3YbJsDw91peMdV-tTI3atfeXlHqIgFzAQV-Cw_Lsj440fLfiU84FzDQFgEH9zyd6SJqFyFvLElrS1tR3SKKgR9U_NWZZtGTlsavpDj5zAHgA0F5iPsB-mlEiTjFN-i94JR1fRZAaItVnqYJBHXtL9YrMx8SYYGVgrp60DoCN3qxIIjU0ZOigzbl8H_B1Ojl6RVQcr_CSQF&amp;p=12&amp;fvj=1&amp;vjs=3\" id=\"sja12\" onclick=\"setRefineByCookie([]); sjoc('sja12', 0); convCtr('SJ'); rclk(this,jobmap[12],true,0);\" onmousedown=\"sjomd('sja12'); clk('sja12'); rclk(this,jobmap[12],0);\" rel=\"noopener nofollow\" target=\"_blank\" title=\"Data Analyst Senior\">\n",
       " <b>Data</b> Analyst Senior</a>\n",
       " <span class=\"new\">new</span></h2>\n",
       " <div class=\"sjcl\">\n",
       " <div>\n",
       " <span class=\"company\">\n",
       " <a class=\"turnstileLink\" data-tn-element=\"companyName\" href=\"/cmp/Ag-Globe-Services\" onmousedown=\"this.href = appendParamsOnce(this.href, 'from=SERP&amp;campaignid=serp-linkcompanyname&amp;fromjk=263e952b540e4bc5&amp;jcid=61030b2243879bc4')\" rel=\"noopener\" target=\"_blank\">\n",
       " AG Globe Services</a></span>\n",
       " <span class=\"ratingsDisplay\">\n",
       " <a aria-label=\"Company rating 4.3 out of 5 stars\" class=\"ratingNumber\" data-tn-variant=\"cmplinktst2\" href=\"/cmp/Ag-Globe-Services/reviews\" onmousedown=\"this.href = appendParamsOnce(this.href, '?campaignid=cmplinktst2&amp;from=SERP&amp;jt=Data+Analyst+Senior&amp;fromjk=263e952b540e4bc5&amp;jcid=61030b2243879bc4');\" rel=\"noopener\" target=\"_blank\" title=\"Ag Globe Services reviews\">\n",
       " <span class=\"ratingsContent\">\n",
       " 4.3<svg class=\"starIcon\" height=\"12px\" role=\"img\" width=\"12px\">\n",
       " <g>\n",
       " <path d=\"M 12.00,4.34 C 12.00,4.34 7.69,3.97 7.69,3.97 7.69,3.97 6.00,0.00 6.00,0.00 6.00,0.00 4.31,3.98 4.31,3.98 4.31,3.98 0.00,4.34 0.00,4.34 0.00,4.34 3.28,7.18 3.28,7.18 3.28,7.18 2.29,11.40 2.29,11.40 2.29,11.40 6.00,9.16 6.00,9.16 6.00,9.16 9.71,11.40 9.71,11.40 9.71,11.40 8.73,7.18 8.73,7.18 8.73,7.18 12.00,4.34 12.00,4.34 Z\" style=\"fill: #FFB103\"></path>\n",
       " </g>\n",
       " </svg>\n",
       " </span>\n",
       " </a>\n",
       " </span>\n",
       " </div>\n",
       " <div class=\"recJobLoc\" data-rc-loc=\"Irving, TX\" id=\"recJobLoc_263e952b540e4bc5\" style=\"display: none\"></div>\n",
       " <div class=\"location accessible-contrast-color-location\">Irving, TX 75038</div>\n",
       " </div>\n",
       " <table class=\"jobCardShelfContainer\" role=\"presentation\"><tr class=\"jobCardShelf\"><td class=\"jobCardShelfItem indeedApply\"><span class=\"jobCardShelfIcon\"><svg fill=\"none\" height=\"16\" viewbox=\"0 0 20 20\" width=\"16\"><rect fill=\"#FF5A1F\" height=\"20\" rx=\"10\" width=\"20\"></rect><path clip-rule=\"evenodd\" d=\"M15.3125 4.0625L10.8125 15.3125L7.99999 11.375L15.3125 4.0625ZM7.604 12.7576L6.875 15.3125L8.567 14.1054L7.604 12.7576ZM7.20463 10.5796L12.419 5.36525L4.0625 9.125L6.9875 10.7968L7.20463 10.5796Z\" fill=\"white\" fill-rule=\"evenodd\"></path></svg></span><span class=\"iaLabel iaIconActive\">Easily apply</span></td></tr></table><div class=\"summary\">\n",
       " <ul style=\"list-style-type:circle;margin-top: 0px;margin-bottom: 0px;padding-left:20px;\">\n",
       " <li style=\"margin-bottom:0px;\">Contract Duration: * 12-week contract with a possibility of extension or converting to permanent fulltime.</li>\n",
       " <li>They provide complete healing experience with dignity…</li>\n",
       " </ul></div>\n",
       " <div class=\"jobsearch-SerpJobCard-footer\">\n",
       " <div class=\"jobsearch-SerpJobCard-footerActions\">\n",
       " <div class=\"result-link-bar-container\">\n",
       " <div class=\"result-link-bar\"><span class=\"date\">4 days ago</span><div class=\"tt_set\" id=\"tt_set_12\"><div class=\"job-reaction\"><button aria-expanded=\"false\" aria-haspopup=\"true\" aria-label=\"save or dislike\" class=\"job-reaction-kebab\" data-ol-has-click-handler=\"\" onclick=\"toggleKebabMenu('263e952b540e4bc5', true, event); return false;\" tabindex=\"0\"></button><span class=\"job-reaction-kebab-menu\"><button class=\"job-reaction-kebab-item job-reaction-save\" data-ol-has-click-handler=\"\" onclick=\"changeJobState('263e952b540e4bc5', 'save', 'linkbar', true, '');return false;\"><svg focusable=\"false\" height=\"16\" viewbox=\"0 0 24 24\" width=\"16\"><g><path d=\"M16.5,3A6,6,0,0,0,12,5.09,6,6,0,0,0,7.5,3,5.45,5.45,0,0,0,2,8.5C2,12.28,5.4,15.36,10.55,20L12,21.35,13.45,20C18.6,15.36,22,12.28,22,8.5A5.45,5.45,0,0,0,16.5,3ZM12.1,18.55l-0.1.1-0.1-.1C7.14,14.24,4,11.39,4,8.5A3.42,3.42,0,0,1,7.5,5a3.91,3.91,0,0,1,3.57,2.36h1.87A3.88,3.88,0,0,1,16.5,5,3.42,3.42,0,0,1,20,8.5C20,11.39,16.86,14.24,12.1,18.55Z\" fill=\"#2d2d2d\"></path></g></svg><span class=\"job-reaction-kebab-item-text\">Save job</span></button><button class=\"job-reaction-kebab-item job-reaction-dislike\" data-ol-has-click-handler=\"\" onclick=\"dislikeJob(false, false, '263e952b540e4bc5', 'unsave', 'linkbar', true, '');\"><span class=\"job-reaction-dislike-icon\"></span><span class=\"job-reaction-kebab-item-text\">Not interested</span></button><button class=\"job-reaction-kebab-item job-reaction-report\" onclick=\"reportJob('263e952b540e4bc5');\"><span class=\"job-reaction-report-icon\"></span><span class=\"job-reaction-kebab-item-text\">Report Job</span></button></span></div><span class=\"result-link-bar-separator\">·</span><a class=\"sl resultLink save-job-link\" href=\"#\" id=\"sj_263e952b540e4bc5\" onclick=\"changeJobState('263e952b540e4bc5', 'save', 'linkbar', true, ''); return false;\" title=\"Save this job to my.indeed\">Save job</a></div><script>if (!window['sj_result_263e952b540e4bc5']) {window['sj_result_263e952b540e4bc5'] = {};}window['sj_result_263e952b540e4bc5']['showSource'] = false; window['sj_result_263e952b540e4bc5']['source'] = \"Indeed\"; window['sj_result_263e952b540e4bc5']['loggedIn'] = false; window['sj_result_263e952b540e4bc5']['showMyJobsLinks'] = false;window['sj_result_263e952b540e4bc5']['baseMyJobsUrl'] = \"https://myjobs.indeed.com\";window['sj_result_263e952b540e4bc5']['undoAction'] = \"unsave\";window['sj_result_263e952b540e4bc5']['relativeJobAge'] = \"4 days ago\";window['sj_result_263e952b540e4bc5']['jobKey'] = \"263e952b540e4bc5\"; window['sj_result_263e952b540e4bc5']['myIndeedAvailable'] = true; window['sj_result_263e952b540e4bc5']['showMoreActionsLink'] = window['sj_result_263e952b540e4bc5']['showMoreActionsLink'] || false; window['sj_result_263e952b540e4bc5']['resultNumber'] = 12; window['sj_result_263e952b540e4bc5']['jobStateChangedToSaved'] = false; window['sj_result_263e952b540e4bc5']['searchState'] = \"q=data scientist&amp;fromage=7&amp;start=680\"; window['sj_result_263e952b540e4bc5']['basicPermaLink'] = \"https://www.indeed.com\"; window['sj_result_263e952b540e4bc5']['saveJobFailed'] = false; window['sj_result_263e952b540e4bc5']['removeJobFailed'] = false; window['sj_result_263e952b540e4bc5']['requestPending'] = false; window['sj_result_263e952b540e4bc5']['currentPage'] = \"serp\"; window['sj_result_263e952b540e4bc5']['sponsored'] = true;window['sj_result_263e952b540e4bc5']['reportJobButtonEnabled'] = false; window['sj_result_263e952b540e4bc5']['showMyJobsHired'] = false; window['sj_result_263e952b540e4bc5']['showSaveForSponsored'] = true; window['sj_result_263e952b540e4bc5']['showJobAge'] = true; window['sj_result_263e952b540e4bc5']['showHolisticCard'] = true; window['sj_result_263e952b540e4bc5']['showDislike'] = true; window['sj_result_263e952b540e4bc5']['showKebab'] = true; window['sj_result_263e952b540e4bc5']['showReport'] = true;</script></div></div>\n",
       " </div>\n",
       " </div>\n",
       " <div class=\"tab-container\">\n",
       " <div class=\"sign-in-container result-tab\"></div>\n",
       " <div class=\"tellafriend-container result-tab email_job_content\"></div>\n",
       " </div>\n",
       " </div>,\n",
       " <div class=\"jobsearch-SerpJobCard unifiedRow row result\" data-ci=\"105245054\" data-empn=\"8690912762161442\" data-jk=\"3c1aa32b8770c18a\" data-tu=\"https://jsv3.recruitics.com/partner/a51b8de1-f7bf-11e7-9edd-d951492604d9.gif?client=521&amp;rx_c=&amp;rx_campaign=indeed16&amp;rx_group=105276&amp;rx_source=Indeed&amp;job=RM7-16207771&amp;rx_r=none&amp;rx_ts=20210213T174822Z&amp;rx_pre=1&amp;indeed=sp\" id=\"pj_3c1aa32b8770c18a\">\n",
       " <style>\n",
       " .jobcard_logo{margin:6px 0}.jobcard_logo img{width:auto;max-width:80px;max-height:30px}.jasxrefreshcombotst .jobcard_logo img{max-height:2rem;max-width:100%}\n",
       " </style>\n",
       " <h2 class=\"title\">\n",
       " <a class=\"jobtitle turnstileLink\" data-tn-element=\"jobTitle\" href=\"/pagead/clk?mo=r&amp;ad=-6NYlbfkN0CpFJQzrgRR8WqXWK1qKKEqALWJw739KlKqr2H-MSI4eh4ZOxqVaUrhNSyjVEAq5t6Hiup-zvaCi1sC17fYwFmvmZVxVOxMGayUpy6B1bqOx0i_IXn0XeEaAlwikuHZgSoZbIMeM84cv_1ULohs2g79M_Sya_IclHv8vBQCVNrYRmQ6FfZXenhgTXlw4M2U0RCiKUZIaT-oAFx0XMdKEDulZ3lQyhyUWyfXU76nqLOYFEJVEA007EHSaTFNtuhpH9DZ1zthe4UspurcGRXQVK2Jp-gnqCK4BraqicTuqxtu830NmR9oRDHcmenpfYrTS0_9h9ZHpC0hGc-FKrJHGMHKtjuqoRkMGOBlhEl5Q2erokkggbJeEjNpYCXqXt7VrwKHKNt1BvdnKHGdjI8ppf86aJSH_hUPJAKC0fg8WOkqT_uzTw7RFyHeKKYjKDN0ovslckaE1-m2PNoOSuLhpwCDSBd4oF5BXDl8o0k05WBEMe7m2e8wHEOJbCnV09BXvU6-4gI4Yti9qkoNvDL1qiF8bPhlv3ld6epeJnWZyswLQW_FQQjEESZEdibKjpb5P1Jk3cmgW5cQbXDPiaQVLOQLTusmlGmKhFHgCChlG2NgaI5O4_B1VR39wAOtMuAEEuYNxswqS9Y5ynXWVv7EAypLU5Mi3bEUKNq4VJatw8MVB-g9HZKMfeoqvPZLCMEObLvl73FpcYIhsfXkb2igr2zs0EdIXaLQFXBgEpd0egnzfG7s9kSoEjDuwsOAWAzGH_DxNMVcQbnSqb6dpc0YMDAwbvETb9wkBV-fgfcodfyWzFldIwqyu15DYwDavvIZOlL_mlY2PRbF3RYhIho_OON5Ys_NXkUMswb7m1F1df5ItVTJUHb522ACnhjxpN6N_sAXydncQTZB8l5f0Y4mhBeoQbyjxjDgmynCkePfrMVHQ5uLd4Bp5e6ubzy76FcUYeU=&amp;p=13&amp;fvj=0&amp;vjs=3\" id=\"sja13\" onclick=\"setRefineByCookie([]); sjoc('sja13', 0); convCtr('SJ'); rclk(this,jobmap[13],true,0);\" onmousedown=\"sjomd('sja13'); clk('sja13'); rclk(this,jobmap[13],0);\" rel=\"noopener nofollow\" target=\"_blank\" title=\"Data Science Engineer\">\n",
       " <b>Data</b> Science Engineer</a>\n",
       " <span class=\"new\">new</span></h2>\n",
       " <div class=\"sjcl\">\n",
       " <div>\n",
       " <span class=\"company\">\n",
       " <a class=\"turnstileLink\" data-tn-element=\"companyName\" href=\"/cmp/Cybercoders\" onmousedown=\"this.href = appendParamsOnce(this.href, 'from=SERP&amp;campaignid=serp-linkcompanyname&amp;fromjk=3c1aa32b8770c18a&amp;jcid=1baa5ded61092dc7')\" rel=\"noopener\" target=\"_blank\">\n",
       " CyberCoders</a></span>\n",
       " <span class=\"ratingsDisplay\">\n",
       " <a aria-label=\"Company rating 3.3 out of 5 stars\" class=\"ratingNumber\" data-tn-variant=\"cmplinktst2\" href=\"/cmp/Cybercoders/reviews\" onmousedown=\"this.href = appendParamsOnce(this.href, '?campaignid=cmplinktst2&amp;from=SERP&amp;jt=Data+Science+Engineer&amp;fromjk=3c1aa32b8770c18a&amp;jcid=1baa5ded61092dc7');\" rel=\"noopener\" target=\"_blank\" title=\"Cybercoders reviews\">\n",
       " <span class=\"ratingsContent\">\n",
       " 3.3<svg class=\"starIcon\" height=\"12px\" role=\"img\" width=\"12px\">\n",
       " <g>\n",
       " <path d=\"M 12.00,4.34 C 12.00,4.34 7.69,3.97 7.69,3.97 7.69,3.97 6.00,0.00 6.00,0.00 6.00,0.00 4.31,3.98 4.31,3.98 4.31,3.98 0.00,4.34 0.00,4.34 0.00,4.34 3.28,7.18 3.28,7.18 3.28,7.18 2.29,11.40 2.29,11.40 2.29,11.40 6.00,9.16 6.00,9.16 6.00,9.16 9.71,11.40 9.71,11.40 9.71,11.40 8.73,7.18 8.73,7.18 8.73,7.18 12.00,4.34 12.00,4.34 Z\" style=\"fill: #FFB103\"></path>\n",
       " </g>\n",
       " </svg>\n",
       " </span>\n",
       " </a>\n",
       " </span>\n",
       " </div>\n",
       " <div class=\"recJobLoc\" data-rc-loc=\"Milpitas, CA\" id=\"recJobLoc_3c1aa32b8770c18a\" style=\"display: none\"></div>\n",
       " <div class=\"location accessible-contrast-color-location\">Milpitas, CA 95035</div>\n",
       " </div>\n",
       " <table class=\"jobCardShelfContainer\" role=\"presentation\"><tr class=\"jobCardShelf\"><td class=\"jobCardShelfItem indeedApply\"><span class=\"jobCardShelfIcon\"><svg fill=\"none\" height=\"16\" viewbox=\"0 0 20 20\" width=\"16\"><rect fill=\"#FF5A1F\" height=\"20\" rx=\"10\" width=\"20\"></rect><path clip-rule=\"evenodd\" d=\"M15.3125 4.0625L10.8125 15.3125L7.99999 11.375L15.3125 4.0625ZM7.604 12.7576L6.875 15.3125L8.567 14.1054L7.604 12.7576ZM7.20463 10.5796L12.419 5.36525L4.0625 9.125L6.9875 10.7968L7.20463 10.5796Z\" fill=\"white\" fill-rule=\"evenodd\"></path></svg></span><span class=\"iaLabel iaIconActive\">Easily apply</span></td></tr></table><div class=\"summary\">\n",
       " <ul style=\"list-style-type:circle;margin-top: 0px;margin-bottom: 0px;padding-left:20px;\">\n",
       " <li>Perform <b>data</b> analysis on building performance and environmental sensor <b>data</b> to gather insights and learnings for future product development.</li>\n",
       " </ul></div>\n",
       " <div class=\"jobsearch-SerpJobCard-footer\">\n",
       " <div class=\"jobsearch-SerpJobCard-footerActions\">\n",
       " <div class=\"result-link-bar-container\">\n",
       " <div class=\"result-link-bar\"><span class=\"date\">1 day ago</span><div class=\"tt_set\" id=\"tt_set_13\"><div class=\"job-reaction\"><button aria-expanded=\"false\" aria-haspopup=\"true\" aria-label=\"save or dislike\" class=\"job-reaction-kebab\" data-ol-has-click-handler=\"\" onclick=\"toggleKebabMenu('3c1aa32b8770c18a', true, event); return false;\" tabindex=\"0\"></button><span class=\"job-reaction-kebab-menu\"><button class=\"job-reaction-kebab-item job-reaction-save\" data-ol-has-click-handler=\"\" onclick=\"changeJobState('3c1aa32b8770c18a', 'save', 'linkbar', true, '');return false;\"><svg focusable=\"false\" height=\"16\" viewbox=\"0 0 24 24\" width=\"16\"><g><path d=\"M16.5,3A6,6,0,0,0,12,5.09,6,6,0,0,0,7.5,3,5.45,5.45,0,0,0,2,8.5C2,12.28,5.4,15.36,10.55,20L12,21.35,13.45,20C18.6,15.36,22,12.28,22,8.5A5.45,5.45,0,0,0,16.5,3ZM12.1,18.55l-0.1.1-0.1-.1C7.14,14.24,4,11.39,4,8.5A3.42,3.42,0,0,1,7.5,5a3.91,3.91,0,0,1,3.57,2.36h1.87A3.88,3.88,0,0,1,16.5,5,3.42,3.42,0,0,1,20,8.5C20,11.39,16.86,14.24,12.1,18.55Z\" fill=\"#2d2d2d\"></path></g></svg><span class=\"job-reaction-kebab-item-text\">Save job</span></button><button class=\"job-reaction-kebab-item job-reaction-dislike\" data-ol-has-click-handler=\"\" onclick=\"dislikeJob(false, false, '3c1aa32b8770c18a', 'unsave', 'linkbar', true, '');\"><span class=\"job-reaction-dislike-icon\"></span><span class=\"job-reaction-kebab-item-text\">Not interested</span></button><button class=\"job-reaction-kebab-item job-reaction-report\" onclick=\"reportJob('3c1aa32b8770c18a');\"><span class=\"job-reaction-report-icon\"></span><span class=\"job-reaction-kebab-item-text\">Report Job</span></button></span></div><span class=\"result-link-bar-separator\">·</span><a class=\"sl resultLink save-job-link\" href=\"#\" id=\"sj_3c1aa32b8770c18a\" onclick=\"changeJobState('3c1aa32b8770c18a', 'save', 'linkbar', true, ''); return false;\" title=\"Save this job to my.indeed\">Save job</a></div><script>if (!window['sj_result_3c1aa32b8770c18a']) {window['sj_result_3c1aa32b8770c18a'] = {};}window['sj_result_3c1aa32b8770c18a']['showSource'] = false; window['sj_result_3c1aa32b8770c18a']['source'] = \"CyberCoders\"; window['sj_result_3c1aa32b8770c18a']['loggedIn'] = false; window['sj_result_3c1aa32b8770c18a']['showMyJobsLinks'] = false;window['sj_result_3c1aa32b8770c18a']['baseMyJobsUrl'] = \"https://myjobs.indeed.com\";window['sj_result_3c1aa32b8770c18a']['undoAction'] = \"unsave\";window['sj_result_3c1aa32b8770c18a']['relativeJobAge'] = \"1 day ago\";window['sj_result_3c1aa32b8770c18a']['jobKey'] = \"3c1aa32b8770c18a\"; window['sj_result_3c1aa32b8770c18a']['myIndeedAvailable'] = true; window['sj_result_3c1aa32b8770c18a']['showMoreActionsLink'] = window['sj_result_3c1aa32b8770c18a']['showMoreActionsLink'] || false; window['sj_result_3c1aa32b8770c18a']['resultNumber'] = 13; window['sj_result_3c1aa32b8770c18a']['jobStateChangedToSaved'] = false; window['sj_result_3c1aa32b8770c18a']['searchState'] = \"q=data scientist&amp;fromage=7&amp;start=680\"; window['sj_result_3c1aa32b8770c18a']['basicPermaLink'] = \"https://www.indeed.com\"; window['sj_result_3c1aa32b8770c18a']['saveJobFailed'] = false; window['sj_result_3c1aa32b8770c18a']['removeJobFailed'] = false; window['sj_result_3c1aa32b8770c18a']['requestPending'] = false; window['sj_result_3c1aa32b8770c18a']['currentPage'] = \"serp\"; window['sj_result_3c1aa32b8770c18a']['sponsored'] = true;window['sj_result_3c1aa32b8770c18a']['reportJobButtonEnabled'] = false; window['sj_result_3c1aa32b8770c18a']['showMyJobsHired'] = false; window['sj_result_3c1aa32b8770c18a']['showSaveForSponsored'] = true; window['sj_result_3c1aa32b8770c18a']['showJobAge'] = true; window['sj_result_3c1aa32b8770c18a']['showHolisticCard'] = true; window['sj_result_3c1aa32b8770c18a']['showDislike'] = true; window['sj_result_3c1aa32b8770c18a']['showKebab'] = true; window['sj_result_3c1aa32b8770c18a']['showReport'] = true;</script></div></div>\n",
       " </div>\n",
       " </div>\n",
       " <div class=\"tab-container\">\n",
       " <div class=\"sign-in-container result-tab\"></div>\n",
       " <div class=\"tellafriend-container result-tab email_job_content\"></div>\n",
       " </div>\n",
       " </div>,\n",
       " <div class=\"jobsearch-SerpJobCard unifiedRow row result\" data-ci=\"352901751\" data-empn=\"4582966067316869\" data-jk=\"8c157de8706c52a0\" id=\"pj_8c157de8706c52a0\">\n",
       " <style>\n",
       " .jobcard_logo{margin:6px 0}.jobcard_logo img{width:auto;max-width:80px;max-height:30px}.jasxrefreshcombotst .jobcard_logo img{max-height:2rem;max-width:100%}\n",
       " </style>\n",
       " <h2 class=\"title\">\n",
       " <a class=\"jobtitle turnstileLink\" data-tn-element=\"jobTitle\" href=\"/pagead/clk?mo=r&amp;ad=-6NYlbfkN0DwTFf1i8tHxx5w6n6Gg6g51G1v2moTctKTWRheSvOoBE8dbIy4LvtqjUr5M3m_Mj23vFPy-X8ixCXr3vCof347s_QmaDOo1wjcysAvXnR5FjdjCnKFAFd5b3jdte-FYmpOMbGOjxFhGANCf6j141kWEVDI8Rox3Zp8sUv6NlICwRuj71veDUNw3fpurSDJoYRkqbE-0zdlOVZH-B-KLhf32jQOLJut-ID4rxCmAXqSR3EkiHyDWVCX0IJrkyw2uat-Qfh5IOQINT4_DWQsxtIl4qbex0Zv54zLBx3XgKrLuCZvuDFxBsH27qDD7meXtz76-VKOnSFWRW5o5vw9nMEY-aWjNGjjsj4VmPyvOQ7pmcU7T66xgEBT32OTWjlYt5-WW6qUuCdyEjHHw9Lbqw6n6V-fRcoIsoQtm3W04HUJYiM_Pr31zfvCUzqoH87JoxC4KtUJi-rPVaCSqQxCv8rihIexUtbUfXoWWhVCOLUix2CS-zZb9F2KaRQEuqBHw-TqtI4ZDqq8uDEgACoRmfu9RbnNzH-AJnejYi7NRXNq6Jeuw9Abu6oFcCdVQhIiVzuS3D7zz1TVydYJLwJjXX3WX4sLs2_wGNIdZ5X58R-I_aTPsipCLsOkyAx4bNyJ8TgFFB_TDFRycQ==&amp;p=14&amp;fvj=0&amp;vjs=3\" id=\"sja14\" onclick=\"setRefineByCookie([]); sjoc('sja14', 0); convCtr('SJ'); rclk(this,jobmap[14],true,0);\" onmousedown=\"sjomd('sja14'); clk('sja14'); rclk(this,jobmap[14],0);\" rel=\"noopener nofollow\" target=\"_blank\" title=\"Senior Data Analyst\">\n",
       " Senior <b>Data</b> Analyst</a>\n",
       " <span class=\"new\">new</span></h2>\n",
       " <div class=\"sjcl\">\n",
       " <div>\n",
       " <span class=\"company\">\n",
       " <a class=\"turnstileLink\" data-tn-element=\"companyName\" href=\"/cmp/Vanderhouwen\" onmousedown=\"this.href = appendParamsOnce(this.href, 'from=SERP&amp;campaignid=serp-linkcompanyname&amp;fromjk=8c157de8706c52a0&amp;jcid=3867a8e4c049cd62')\" rel=\"noopener\" target=\"_blank\">\n",
       " VanderHouwen</a></span>\n",
       " <span class=\"ratingsDisplay\">\n",
       " <a aria-label=\"Company rating 3.7 out of 5 stars\" class=\"ratingNumber\" data-tn-variant=\"cmplinktst2\" href=\"/cmp/Vanderhouwen/reviews\" onmousedown=\"this.href = appendParamsOnce(this.href, '?campaignid=cmplinktst2&amp;from=SERP&amp;jt=Senior+Data+Analyst&amp;fromjk=8c157de8706c52a0&amp;jcid=3867a8e4c049cd62');\" rel=\"noopener\" target=\"_blank\" title=\"Vanderhouwen reviews\">\n",
       " <span class=\"ratingsContent\">\n",
       " 3.7<svg class=\"starIcon\" height=\"12px\" role=\"img\" width=\"12px\">\n",
       " <g>\n",
       " <path d=\"M 12.00,4.34 C 12.00,4.34 7.69,3.97 7.69,3.97 7.69,3.97 6.00,0.00 6.00,0.00 6.00,0.00 4.31,3.98 4.31,3.98 4.31,3.98 0.00,4.34 0.00,4.34 0.00,4.34 3.28,7.18 3.28,7.18 3.28,7.18 2.29,11.40 2.29,11.40 2.29,11.40 6.00,9.16 6.00,9.16 6.00,9.16 9.71,11.40 9.71,11.40 9.71,11.40 8.73,7.18 8.73,7.18 8.73,7.18 12.00,4.34 12.00,4.34 Z\" style=\"fill: #FFB103\"></path>\n",
       " </g>\n",
       " </svg>\n",
       " </span>\n",
       " </a>\n",
       " </span>\n",
       " </div>\n",
       " <div class=\"recJobLoc\" data-rc-loc=\"Hillsboro, OR\" id=\"recJobLoc_8c157de8706c52a0\" style=\"display: none\"></div>\n",
       " <div class=\"location accessible-contrast-color-location\">Hillsboro, OR</div>\n",
       " </div>\n",
       " <div class=\"summary\">\n",
       " <ul style=\"list-style-type:circle;margin-top: 0px;margin-bottom: 0px;padding-left:20px;\">\n",
       " <li>You will work in an agile environment, where you will translate requirements into stories with acceptance criteria, track deliverables and timelines, and manage…</li>\n",
       " </ul></div>\n",
       " <div class=\"jobsearch-SerpJobCard-footer\">\n",
       " <div class=\"jobsearch-SerpJobCard-footerActions\">\n",
       " <div class=\"result-link-bar-container\">\n",
       " <div class=\"result-link-bar\"><span class=\"date\">Today</span><div class=\"tt_set\" id=\"tt_set_14\"><div class=\"job-reaction\"><button aria-expanded=\"false\" aria-haspopup=\"true\" aria-label=\"save or dislike\" class=\"job-reaction-kebab\" data-ol-has-click-handler=\"\" onclick=\"toggleKebabMenu('8c157de8706c52a0', true, event); return false;\" tabindex=\"0\"></button><span class=\"job-reaction-kebab-menu\"><button class=\"job-reaction-kebab-item job-reaction-save\" data-ol-has-click-handler=\"\" onclick=\"changeJobState('8c157de8706c52a0', 'save', 'linkbar', true, '');return false;\"><svg focusable=\"false\" height=\"16\" viewbox=\"0 0 24 24\" width=\"16\"><g><path d=\"M16.5,3A6,6,0,0,0,12,5.09,6,6,0,0,0,7.5,3,5.45,5.45,0,0,0,2,8.5C2,12.28,5.4,15.36,10.55,20L12,21.35,13.45,20C18.6,15.36,22,12.28,22,8.5A5.45,5.45,0,0,0,16.5,3ZM12.1,18.55l-0.1.1-0.1-.1C7.14,14.24,4,11.39,4,8.5A3.42,3.42,0,0,1,7.5,5a3.91,3.91,0,0,1,3.57,2.36h1.87A3.88,3.88,0,0,1,16.5,5,3.42,3.42,0,0,1,20,8.5C20,11.39,16.86,14.24,12.1,18.55Z\" fill=\"#2d2d2d\"></path></g></svg><span class=\"job-reaction-kebab-item-text\">Save job</span></button><button class=\"job-reaction-kebab-item job-reaction-dislike\" data-ol-has-click-handler=\"\" onclick=\"dislikeJob(false, false, '8c157de8706c52a0', 'unsave', 'linkbar', true, '');\"><span class=\"job-reaction-dislike-icon\"></span><span class=\"job-reaction-kebab-item-text\">Not interested</span></button><button class=\"job-reaction-kebab-item job-reaction-report\" onclick=\"reportJob('8c157de8706c52a0');\"><span class=\"job-reaction-report-icon\"></span><span class=\"job-reaction-kebab-item-text\">Report Job</span></button></span></div><span class=\"result-link-bar-separator\">·</span><a class=\"sl resultLink save-job-link\" href=\"#\" id=\"sj_8c157de8706c52a0\" onclick=\"changeJobState('8c157de8706c52a0', 'save', 'linkbar', true, ''); return false;\" title=\"Save this job to my.indeed\">Save job</a></div><script>if (!window['sj_result_8c157de8706c52a0']) {window['sj_result_8c157de8706c52a0'] = {};}window['sj_result_8c157de8706c52a0']['showSource'] = false; window['sj_result_8c157de8706c52a0']['source'] = \"VanderHouwen\"; window['sj_result_8c157de8706c52a0']['loggedIn'] = false; window['sj_result_8c157de8706c52a0']['showMyJobsLinks'] = false;window['sj_result_8c157de8706c52a0']['baseMyJobsUrl'] = \"https://myjobs.indeed.com\";window['sj_result_8c157de8706c52a0']['undoAction'] = \"unsave\";window['sj_result_8c157de8706c52a0']['relativeJobAge'] = \"Today\";window['sj_result_8c157de8706c52a0']['jobKey'] = \"8c157de8706c52a0\"; window['sj_result_8c157de8706c52a0']['myIndeedAvailable'] = true; window['sj_result_8c157de8706c52a0']['showMoreActionsLink'] = window['sj_result_8c157de8706c52a0']['showMoreActionsLink'] || false; window['sj_result_8c157de8706c52a0']['resultNumber'] = 14; window['sj_result_8c157de8706c52a0']['jobStateChangedToSaved'] = false; window['sj_result_8c157de8706c52a0']['searchState'] = \"q=data scientist&amp;fromage=7&amp;start=680\"; window['sj_result_8c157de8706c52a0']['basicPermaLink'] = \"https://www.indeed.com\"; window['sj_result_8c157de8706c52a0']['saveJobFailed'] = false; window['sj_result_8c157de8706c52a0']['removeJobFailed'] = false; window['sj_result_8c157de8706c52a0']['requestPending'] = false; window['sj_result_8c157de8706c52a0']['currentPage'] = \"serp\"; window['sj_result_8c157de8706c52a0']['sponsored'] = true;window['sj_result_8c157de8706c52a0']['reportJobButtonEnabled'] = false; window['sj_result_8c157de8706c52a0']['showMyJobsHired'] = false; window['sj_result_8c157de8706c52a0']['showSaveForSponsored'] = true; window['sj_result_8c157de8706c52a0']['showJobAge'] = true; window['sj_result_8c157de8706c52a0']['showHolisticCard'] = true; window['sj_result_8c157de8706c52a0']['showDislike'] = true; window['sj_result_8c157de8706c52a0']['showKebab'] = true; window['sj_result_8c157de8706c52a0']['showReport'] = true;</script></div></div>\n",
       " </div>\n",
       " </div>\n",
       " <div class=\"tab-container\">\n",
       " <div class=\"sign-in-container result-tab\"></div>\n",
       " <div class=\"tellafriend-container result-tab email_job_content\"></div>\n",
       " </div>\n",
       " </div>]"
      ]
     },
     "execution_count": 55,
     "metadata": {},
     "output_type": "execute_result"
    }
   ],
   "source": [
    "url\n",
    "cards"
   ]
  },
  {
   "cell_type": "markdown",
   "metadata": {},
   "source": [
    "## Putting it all together"
   ]
  },
  {
   "cell_type": "code",
   "execution_count": 274,
   "metadata": {},
   "outputs": [],
   "source": [
    "import requests\n",
    "from bs4 import BeautifulSoup\n",
    "import csv\n",
    "from datetime import datetime\n",
    "import time\n",
    "\n",
    "def get_job_search_url(position, postedDays):\n",
    "    \"\"\"Generate a url from position and posted days ago\"\"\"\n",
    "\n",
    "    template = 'https://www.indeed.com/jobs?q={}&fromage={}&limit=50'\n",
    "    url=template.format(position, postedDays)\n",
    "    \n",
    "    return url\n",
    "\n",
    "def get_record(card):\n",
    "    \"\"\"Extract individual job post data from a single record \"\"\"\n",
    "    # required variables\n",
    "    job_id = card.get('data-jk')\n",
    "    aTag = card.h2.a\n",
    "    job_title = aTag.get('title')\n",
    "    \n",
    "    #job_url = 'https://www.indeed.com' + aTag.get('href')\n",
    "    job_url = 'https://www.indeed.com/viewjob?jk=' + job_id\n",
    "    post_response = requests.get(job_url)\n",
    "    post_soup = BeautifulSoup(post_response.text, 'html.parser')\n",
    "    try:\n",
    "        job_description = post_soup.find('div','jobsearch-jobDescriptionText').text.strip()\n",
    "    except AttributeError:\n",
    "        job_description =''\n",
    "        \n",
    "    try:\n",
    "        job_detail = post_soup.find('div','jobsearch-JobDescriptionSection-section').text.strip()\n",
    "    except AttributeError:\n",
    "        job_detail = ''\n",
    "    \n",
    "    job_company = card.find('span','company').text.strip()\n",
    "    job_location = card.find('div', 'recJobLoc').get('data-rc-loc')\n",
    "    job_summary = card.find('div', 'summary').text.strip()\n",
    "    job_post_date = card.find('span','date').text.strip()\n",
    "    \n",
    "    # optional variables\n",
    "    try:\n",
    "        company_rating = card.find('span','ratingsContent').text.strip()\n",
    "    except AttributeError:\n",
    "        company_rating = ''\n",
    "        \n",
    "    try:\n",
    "        job_salary = card.find('span','salaryText').text.strip()\n",
    "    except AttributeError:\n",
    "        job_salary = ''\n",
    "    \n",
    "    try:\n",
    "        job_remote = card.find('span','remote').text.strip()\n",
    "    except AttributeError:\n",
    "        job_remote = ''\n",
    "        \n",
    "    today = datetime.today().strftime('%Y-%m-%d')\n",
    "    \n",
    "    record = (job_id, job_title,job_company,job_location,company_rating, job_post_date,today,job_summary,job_salary, job_remote, job_url, job_description, job_detail)\n",
    "    \n",
    "    return record\n",
    "\n",
    "def main(position, postedDay, fileName):\n",
    "    \"\"\"Run the main program routine\"\"\"\n",
    "    records = []\n",
    "    url = get_job_search_url(position, postedDay)\n",
    "\n",
    "    # extract the job data\n",
    "    while True:        \n",
    "        print(url)\n",
    "       \n",
    "        response = requests.get(url)\n",
    "        soup = BeautifulSoup(response.text, 'html.parser')\n",
    "        if soup.title.text.find('Captcha') != -1: \n",
    "            print('blocked by Captcha!')\n",
    "            break\n",
    "            \n",
    "        cards = soup.find_all('div', 'jobsearch-SerpJobCard')        \n",
    "        total_jobs = soup.find('div',{'id':'searchCountPages'}).text.strip()\n",
    "        print(len(cards), total_jobs)\n",
    "        \n",
    "        for card in cards:\n",
    "            record = get_record(card)\n",
    "            records.append(record)\n",
    "            time.sleep(3)\n",
    "   \n",
    "        try:\n",
    "            url = 'https://www.indeed.com' + soup.find('a', {'aria-label': 'Next'}).get('href') \n",
    "        except AttributeError:     \n",
    "            print('done!')\n",
    "            break\n",
    "            \n",
    "        #time.sleep(60)\n",
    "        \n",
    "    print(position + ': '+ str(len(records)))\n",
    "    # save the job data\n",
    "    if (len(records) > 0):\n",
    "        with open('../data/raw/'+fileName+datetime.today().strftime('%Y_%m_%d_%H_%M_%S')+ '.csv', 'w', newline ='', encoding ='utf-8') as f:\n",
    "            writer = csv.writer(f)\n",
    "            writer.writerow(['JobID', 'JobTitle', 'Company','Location', 'CompanyRating', 'PostDate', 'ExtractDate','Summary', 'Salary', 'Remote','JobUrl','JobDescription', 'JobDetail'])\n",
    "            writer.writerows(records)"
   ]
  },
  {
   "cell_type": "markdown",
   "metadata": {},
   "source": [
    "Notes:\n",
    "\n",
    "1: Indeed will not return exactly amount of jobs shown on the pagination based on some internal filtering they run, unless you add query string &filter = 0 in the url. \n",
    "https://www.indeed.com/jobs?q=machine+learning&fromage=1&filter=0&start=200\n",
    "\n",
    "2: Added some sleep time to avoid being blocked by CAPTCHA\n",
    "\n",
    "3: blocked by Captcha after scraping around 1k , 1073/3463  with sleep time(3) (5)\n"
   ]
  },
  {
   "cell_type": "code",
   "execution_count": 277,
   "metadata": {},
   "outputs": [
    {
     "name": "stdout",
     "output_type": "stream",
     "text": [
      "https://www.indeed.com/jobs?q=data science, data scientist&fromage=1&limit=50\n",
      "blocked by Captcha!\n",
      "data science, data scientist: 0\n"
     ]
    }
   ],
   "source": [
    "# run the main program\n",
    "#main('data scientist', 7 ,'ds_last7d_')\n",
    "#main('machine learning', 7, 'ml_last7d_')\n",
    "#main('data analyst', 7 , 'dat_last7d_')\n",
    "#main('data analytics', 7, 'das_last7d_')\n",
    "\n",
    "main('data science, data scientist',1 ,'ds_last1d_')      # < 2,000 result per day\n",
    "#main('data analytics, data analyst',1 ,'ds_last1d_')     # < 2,000 result per day\n",
    "#main('machine learning', 3 ,'ml_last1d_')     # <2,000 result  per 3 days\n",
    "\n"
   ]
  },
  {
   "cell_type": "code",
   "execution_count": 262,
   "metadata": {},
   "outputs": [
    {
     "data": {
      "text/plain": [
       "1"
      ]
     },
     "execution_count": 262,
     "metadata": {},
     "output_type": "execute_result"
    }
   ],
   "source": [
    "soup.find('div','h-captcha')\n",
    "soup.title.text.find('Captcha')"
   ]
  },
  {
   "cell_type": "code",
   "execution_count": 270,
   "metadata": {},
   "outputs": [
    {
     "name": "stdout",
     "output_type": "stream",
     "text": [
      "blocked by Captcha!\n"
     ]
    },
    {
     "data": {
      "text/plain": [
       "0"
      ]
     },
     "execution_count": 270,
     "metadata": {},
     "output_type": "execute_result"
    }
   ],
   "source": [
    "if soup.title.text.find('Captcha') != -1: print('blocked by Captcha!')\n",
    "len(records)"
   ]
  }
 ],
 "metadata": {
  "kernelspec": {
   "display_name": "Python 3",
   "language": "python",
   "name": "python3"
  },
  "language_info": {
   "codemirror_mode": {
    "name": "ipython",
    "version": 3
   },
   "file_extension": ".py",
   "mimetype": "text/x-python",
   "name": "python",
   "nbconvert_exporter": "python",
   "pygments_lexer": "ipython3",
   "version": "3.8.3"
  }
 },
 "nbformat": 4,
 "nbformat_minor": 4
}
